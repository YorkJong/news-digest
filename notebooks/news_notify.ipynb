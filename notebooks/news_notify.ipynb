{
  "nbformat": 4,
  "nbformat_minor": 0,
  "metadata": {
    "colab": {
      "provenance": [],
      "collapsed_sections": [
        "WR9eFgRx3Oak",
        "l9kvYn67Zue4"
      ],
      "mount_file_id": "1bLLGT1AQE09zWeXZGsC4COsBy1ha-GdW",
      "authorship_tag": "ABX9TyP6YCWLe9gMac3xNHCeg3Fa",
      "include_colab_link": true
    },
    "kernelspec": {
      "name": "python3",
      "display_name": "Python 3"
    },
    "language_info": {
      "name": "python"
    }
  },
  "cells": [
    {
      "cell_type": "markdown",
      "metadata": {
        "id": "view-in-github",
        "colab_type": "text"
      },
      "source": [
        "<a href=\"https://colab.research.google.com/github/YorkJong/news-digest/blob/main/notebooks/news_notify.ipynb\" target=\"_parent\"><img src=\"https://colab.research.google.com/assets/colab-badge.svg\" alt=\"Open In Colab\"/></a>"
      ]
    },
    {
      "cell_type": "markdown",
      "source": [
        "### Install"
      ],
      "metadata": {
        "id": "WR9eFgRx3Oak"
      }
    },
    {
      "cell_type": "code",
      "source": [
        "import os\n",
        "\n",
        "fns = ['clip.py', 'line.py', 'op.py', 'hashtag.py']\n",
        "\n",
        "for fn in fns:\n",
        "    if os.path.exists(fn):\n",
        "        os.remove(fn)\n",
        "for fn in fns:\n",
        "    url = f'https://raw.githubusercontent.com/YorkJong/news-digest/main/src/{fn}'\n",
        "    !wget $url\n",
        "\n",
        "#-------------------------------------------------------------------------------\n",
        "# Initializing\n",
        "#-------------------------------------------------------------------------------\n",
        "\n",
        "import clip\n",
        "import line\n",
        "import hashtag\n",
        "\n",
        "from google.colab import drive\n",
        "drive.mount('/content/drive')"
      ],
      "metadata": {
        "id": "HhPa1e1tse76"
      },
      "execution_count": null,
      "outputs": []
    },
    {
      "cell_type": "markdown",
      "source": [
        "### Execute Actions Step by Step"
      ],
      "metadata": {
        "id": "I8-Wcwwq5ixa"
      }
    },
    {
      "cell_type": "code",
      "source": [
        "#@title Step 1. Pick a **period** of the news { run: \"auto\", display-mode: \"form\" }\n",
        "period = \"Today\" #@param [\"Today\", \"Yesterday\", \"Recent 2 Days\", \"Recent 7 Days\"]\n",
        "\n",
        "def news_today():\n",
        "    from datetime import datetime\n",
        "    today = datetime.today().strftime('%Y_%m_%d')\n",
        "    last = clip.get_recent_journal_filenames(1)[0][:-3]\n",
        "    if today != last:\n",
        "        print(f'last date: {last}')\n",
        "        print(f'today: {today}')\n",
        "    return clip.get_latest_journal()\n",
        "\n",
        "def news_yesterday():\n",
        "    fns = clip.get_recent_journal_filenames(2)\n",
        "    return clip.get_journal(fns[-2])\n",
        "\n",
        "def news_recent2days():\n",
        "    return clip.merge_recent_journals(days=2)\n",
        "\n",
        "def news_recent7days():\n",
        "    return clip.merge_recent_journals(days=7)\n",
        "\n",
        "period2func = {\n",
        "    'Today': news_today,\n",
        "    'Yesterday': news_yesterday,\n",
        "    'Recent 2 Days': news_recent2days,\n",
        "    'Recent 7 Days': news_recent7days,\n",
        "}\n",
        "\n",
        "content = period2func[period]()\n",
        "\n",
        "import ipywidgets as widgets\n",
        "output = widgets.Output()\n",
        "with output:\n",
        "    print(content)"
      ],
      "metadata": {
        "id": "we4a197PH1Li",
        "colab": {
          "base_uri": "https://localhost:8080/",
          "height": 52
        },
        "outputId": "6b3649e5-c0a0-490f-c2dc-6e00f06c48ed"
      },
      "execution_count": null,
      "outputs": [
        {
          "output_type": "stream",
          "name": "stdout",
          "text": [
            "last date: 2023_05_06\n",
            "today: 2023_05_07\n"
          ]
        }
      ]
    },
    {
      "cell_type": "code",
      "source": [
        "#@title Step 2. Pick a publication **frequency** { run: \"auto\", display-mode: \"form\" }\n",
        "frequency = \"Daily\" #@param [\"Daily\", \"Weekly\", \"Any\"]\n",
        "\n",
        "subscriptions = (\n",
        "    (('Tesla & SpaceX; Vehicle'), ('GroupA', 'GroupB')),\n",
        "    (('Taiwan',), ('GroupA', 'GroupC')),\n",
        "    (('Crypto',), ('GroupC',)),\n",
        "    (('IT', 'Science', '#AI', '#Robot'), ('GroupB',)),\n",
        ")\n",
        "\n",
        "def gdrive_load_YAML(filename):\n",
        "    import yaml\n",
        "    path = f\"/content/drive/My Drive/news-digest/{filename}\"\n",
        "    if os.path.exists(path):\n",
        "        with open(path, 'r') as f:\n",
        "             return yaml.safe_load(f)\n",
        "\n",
        "subscriptions = gdrive_load_YAML(f\"subscriptions_{frequency}.yml\")\n",
        "display(subscriptions)\n"
      ],
      "metadata": {
        "id": "Wqk2cZQk6KjR",
        "colab": {
          "base_uri": "https://localhost:8080/",
          "height": 121
        },
        "outputId": "943515f7-0e01-43e9-f3cb-7e593c662d71"
      },
      "execution_count": null,
      "outputs": [
        {
          "output_type": "display_data",
          "data": {
            "text/plain": [
              "[[['Tesla & SpaceX; Vehicle'], ['股之呼吸', 'MiniGroup', '55688', '經貿國是']],\n",
              " [['Tech Industry'], ['股之呼吸', 'MiniGroup', '55688', '經貿國是']],\n",
              " [['Finance'], ['股之呼吸', 'MiniGroup', '股海無涯', '經貿國是', '55688']],\n",
              " [['Taiwan'], ['股之呼吸', '股海無涯', '經貿國是']],\n",
              " [['Crypto'], ['區塊鏈']],\n",
              " [['IT'], ['區塊鏈', '股之呼吸', '反恐任務']]]"
            ]
          },
          "metadata": {}
        }
      ]
    },
    {
      "cell_type": "code",
      "source": [
        "#@title Step 3. Line Notify { display-mode: \"form\" }\n",
        "mock_mode = True #@param {type:\"boolean\"}\n",
        "show_headings = True #@param {type:\"boolean\"}\n",
        "\n",
        "import time\n",
        "import ipywidgets as widgets\n",
        "\n",
        "tok_tbl = {\n",
        "    'GroupA': 'LINE_NOTIFY_ACCESS_TOKEN_OF_GROUP_A',\n",
        "    'GroupB': 'LINE_NOTIFY_ACCESS_TOKEN_OF_GROUP_B',\n",
        "    'GroupC': 'LINE_NOTIFY_ACCESS_TOKEN_OF_GROUP_C',\n",
        "}\n",
        "tok_tbl = gdrive_load_YAML(\"access_tokens.yml\")\n",
        "\n",
        "def create_outputs():\n",
        "    topics = [str(t) for t, _ in subscriptions]\n",
        "    tab = widgets.Tab()\n",
        "    outputs = [widgets.Output() for name in topics]\n",
        "    tab.children = outputs\n",
        "    for i, t in enumerate(topics):\n",
        "        tab.set_title(i, t)\n",
        "    display(tab)\n",
        "    return outputs\n",
        "\n",
        "def notify():\n",
        "    if mock_mode:\n",
        "        outputs = create_outputs()\n",
        "    for i, subscription in enumerate(subscriptions):\n",
        "        topics, clients = subscription\n",
        "        headings = [topic for topic in topics if not topic.startswith('#')]\n",
        "        tags = [topic for topic in topics if topic.startswith('#')]\n",
        "        categories = headings \n",
        "        if not categories and tags:\n",
        "            categories = clip.get_categories(content)\n",
        "        if tags:\n",
        "            lines = clip.get_lines_of_categories(categories, content, True, True) \n",
        "            lines = hashtag.get_lines_with_any_hashtags(lines, tags)\n",
        "            with_headings = True if headings and show_headings else False\n",
        "            lines = clip.get_lines_of_categories(categories, '\\n'.join(lines), False, with_headings)\n",
        "        else:\n",
        "            lines = clip.get_lines_of_categories(categories, content, False, show_headings) \n",
        "        if not lines: \n",
        "            continue\n",
        "        text = clip.markdown_to_readable('\\n'.join(lines))\n",
        "        message = f'\\n{text}'\n",
        "\n",
        "        if mock_mode:\n",
        "            with outputs[i]:\n",
        "                print(message)\n",
        "\n",
        "        for receiver in clients:\n",
        "            token = tok_tbl[receiver]\n",
        "            if not mock_mode:\n",
        "                line.notify_message(message, token)\n",
        "            if not mock_mode:\n",
        "                time.sleep(3)\n",
        "\n",
        "def notify_with_checks():\n",
        "    if period in ('Today', 'Yesterday'):\n",
        "        if frequency not in ('Daily', 'Any'):\n",
        "            print(f'The period is \"{period}\"')\n",
        "            print('The frequency must be \"Daily\" or \"Any\"')\n",
        "            return\n",
        "    elif period in ('Recent 7 Days',):\n",
        "        if frequency not in ('Weekly', 'Any'):\n",
        "            print(f'The period is \"{period}\"')\n",
        "            print('The frequency must be \"Weekly\" or \"Any\"')\n",
        "            return\n",
        "    elif period in ('Recent 2 Days',):\n",
        "        if frequency not in ('2 Daily', 'Any'):\n",
        "            print(f'The period is \"{period}\"')\n",
        "            print('The frequency must be \"2 Daily\" or \"Any\"')\n",
        "            return\n",
        "    notify()\n",
        "\n",
        "notify_with_checks()"
      ],
      "metadata": {
        "id": "BzKyvK806hMl"
      },
      "execution_count": null,
      "outputs": []
    },
    {
      "cell_type": "markdown",
      "source": [
        "### References\n",
        "* [LINE Notify ::My page](https://notify-bot.line.me/my/)"
      ],
      "metadata": {
        "id": "l9kvYn67Zue4"
      }
    },
    {
      "cell_type": "markdown",
      "source": [
        "#### Format of Config Files\n",
        "\n",
        "subscriptions_Daily.yml:\n",
        "```yaml\n",
        "- [['Tesla & SpaceX; Vehicle'], [GroupA, GroupB]]\n",
        "- [['Tech Titans'], [GroupA, GroupB]]\n",
        "- [[Finance], [GroupA, GroupB, GroupC]]\n",
        "- [[Taiwan], [GroupA, GroupB, GroupC]]\n",
        "- [[Crypto], [GroupA]]\n",
        "- [[IT, Science, '#AI', '#Robot'], [GroupA, GroupB, GroupC]]\n",
        "```\n",
        "\n",
        "subscriptions_Weekly.yml:\n",
        "```yaml\n",
        "- [[Technology], [GroupA, GroupB, GroupC]]\n",
        "```\n",
        "\n",
        "access_tokens.yml:\n",
        "```yaml\n",
        "GroupA: LINE_NOTIFY_ACCESS_TOKEN_OF_GROUP_A\n",
        "GroupB: LINE_NOTIFY_ACCESS_TOKEN_OF_GROUP_B\n",
        "GroupC: LINE_NOTIFY_ACCESS_TOKEN_OF_GROUP_C\n",
        "```"
      ],
      "metadata": {
        "id": "R4pJP6szlHX6"
      }
    },
    {
      "cell_type": "markdown",
      "source": [
        "### Test"
      ],
      "metadata": {
        "id": "O8RHHBiSg691"
      }
    },
    {
      "cell_type": "code",
      "source": [
        "#display(subscriptions)\n",
        "#display(tok_tbl)\n",
        "#display(output) # output from Step 1"
      ],
      "metadata": {
        "id": "VKqXWbKuDE40"
      },
      "execution_count": null,
      "outputs": []
    },
    {
      "cell_type": "code",
      "source": [
        "#drive.flush_and_unmount()\n",
        "#print('All changes made in this colab session should now be visible in Drive.')"
      ],
      "metadata": {
        "id": "dacJ4g2XfKWh"
      },
      "execution_count": null,
      "outputs": []
    }
  ]
}