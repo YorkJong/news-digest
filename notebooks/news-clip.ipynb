{
  "nbformat": 4,
  "nbformat_minor": 0,
  "metadata": {
    "colab": {
      "provenance": [],
      "collapsed_sections": [
        "74XGrOopRPIi",
        "gbBeXRwHm8gn"
      ],
      "authorship_tag": "ABX9TyPj8oDEMS7li2R17q8llvY2",
      "include_colab_link": true
    },
    "kernelspec": {
      "name": "python3",
      "display_name": "Python 3"
    },
    "language_info": {
      "name": "python"
    },
    "widgets": {
      "application/vnd.jupyter.widget-state+json": {
        "7b94d36edf7a4e50a07c675ce3041066": {
          "model_module": "@jupyter-widgets/controls",
          "model_name": "HBoxModel",
          "model_module_version": "1.5.0",
          "state": {
            "_dom_classes": [],
            "_model_module": "@jupyter-widgets/controls",
            "_model_module_version": "1.5.0",
            "_model_name": "HBoxModel",
            "_view_count": null,
            "_view_module": "@jupyter-widgets/controls",
            "_view_module_version": "1.5.0",
            "_view_name": "HBoxView",
            "box_style": "",
            "children": [
              "IPY_MODEL_584d1ec1759d4f18bb55dcbd493cbd1d",
              "IPY_MODEL_f4f7be00657a446192073d27f9c34cd2"
            ],
            "layout": "IPY_MODEL_65945b86d7b5491aaf6207c0f8301d6b"
          }
        },
        "584d1ec1759d4f18bb55dcbd493cbd1d": {
          "model_module": "@jupyter-widgets/controls",
          "model_name": "VBoxModel",
          "model_module_version": "1.5.0",
          "state": {
            "_dom_classes": [],
            "_model_module": "@jupyter-widgets/controls",
            "_model_module_version": "1.5.0",
            "_model_name": "VBoxModel",
            "_view_count": null,
            "_view_module": "@jupyter-widgets/controls",
            "_view_module_version": "1.5.0",
            "_view_name": "VBoxView",
            "box_style": "",
            "children": [
              "IPY_MODEL_bb8a23f1f18149a3a459f48837b05c08",
              "IPY_MODEL_0479ad0172634ffb9e138f98cf1037c6"
            ],
            "layout": "IPY_MODEL_1d32064cc9324b9ba3951ceb85df7013"
          }
        },
        "f4f7be00657a446192073d27f9c34cd2": {
          "model_module": "@jupyter-widgets/controls",
          "model_name": "VBoxModel",
          "model_module_version": "1.5.0",
          "state": {
            "_dom_classes": [],
            "_model_module": "@jupyter-widgets/controls",
            "_model_module_version": "1.5.0",
            "_model_name": "VBoxModel",
            "_view_count": null,
            "_view_module": "@jupyter-widgets/controls",
            "_view_module_version": "1.5.0",
            "_view_name": "VBoxView",
            "box_style": "",
            "children": [
              "IPY_MODEL_9e51baf00b3f48508eb6d18d3740ade5",
              "IPY_MODEL_3ae6c3f9e70242adbd41b81a95a1e06f"
            ],
            "layout": "IPY_MODEL_0ef83ba274874b3489a9929296fed6c3"
          }
        },
        "65945b86d7b5491aaf6207c0f8301d6b": {
          "model_module": "@jupyter-widgets/base",
          "model_name": "LayoutModel",
          "model_module_version": "1.2.0",
          "state": {
            "_model_module": "@jupyter-widgets/base",
            "_model_module_version": "1.2.0",
            "_model_name": "LayoutModel",
            "_view_count": null,
            "_view_module": "@jupyter-widgets/base",
            "_view_module_version": "1.2.0",
            "_view_name": "LayoutView",
            "align_content": null,
            "align_items": null,
            "align_self": null,
            "border": null,
            "bottom": null,
            "display": null,
            "flex": null,
            "flex_flow": null,
            "grid_area": null,
            "grid_auto_columns": null,
            "grid_auto_flow": null,
            "grid_auto_rows": null,
            "grid_column": null,
            "grid_gap": null,
            "grid_row": null,
            "grid_template_areas": null,
            "grid_template_columns": null,
            "grid_template_rows": null,
            "height": null,
            "justify_content": null,
            "justify_items": null,
            "left": null,
            "margin": null,
            "max_height": null,
            "max_width": null,
            "min_height": null,
            "min_width": null,
            "object_fit": null,
            "object_position": null,
            "order": null,
            "overflow": null,
            "overflow_x": null,
            "overflow_y": null,
            "padding": null,
            "right": null,
            "top": null,
            "visibility": null,
            "width": null
          }
        },
        "bb8a23f1f18149a3a459f48837b05c08": {
          "model_module": "@jupyter-widgets/controls",
          "model_name": "DropdownModel",
          "model_module_version": "1.5.0",
          "state": {
            "_dom_classes": [],
            "_model_module": "@jupyter-widgets/controls",
            "_model_module_version": "1.5.0",
            "_model_name": "DropdownModel",
            "_options_labels": [
              "2024_08_08",
              "2024_08_07",
              "2024_08_06",
              "2024_08_05",
              "2024_08_02",
              "2024_08_01",
              "2024_07_31",
              "2024_07_30",
              "2024_07_29",
              "2024_07_27",
              "2024_07_26",
              "2024_07_25",
              "2024_07_24",
              "2024_07_23"
            ],
            "_view_count": null,
            "_view_module": "@jupyter-widgets/controls",
            "_view_module_version": "1.5.0",
            "_view_name": "DropdownView",
            "description": "Date",
            "description_tooltip": null,
            "disabled": false,
            "index": 0,
            "layout": "IPY_MODEL_166e9701be5840b5bfdb2b6e931a31ed",
            "style": "IPY_MODEL_248f29dd7e9b4dbb8d86590d4fddbeef"
          }
        },
        "0479ad0172634ffb9e138f98cf1037c6": {
          "model_module": "@jupyter-widgets/controls",
          "model_name": "SelectMultipleModel",
          "model_module_version": "1.5.0",
          "state": {
            "_dom_classes": [],
            "_model_module": "@jupyter-widgets/controls",
            "_model_module_version": "1.5.0",
            "_model_name": "SelectMultipleModel",
            "_options_labels": [
              "Tesla & SpaceX; Vehicle",
              "Tech Industry",
              "Finance",
              "Taiwan",
              "Crypto",
              "Health & Food",
              "Science & Technology",
              "IT"
            ],
            "_view_count": null,
            "_view_module": "@jupyter-widgets/controls",
            "_view_module_version": "1.5.0",
            "_view_name": "SelectMultipleView",
            "description": "Categories",
            "description_tooltip": null,
            "disabled": false,
            "index": [],
            "layout": "IPY_MODEL_283c86c6720d4a8484e62e15d190572c",
            "rows": 8,
            "style": "IPY_MODEL_930f02deb09e4978b9ffe2dc7e898e94"
          }
        },
        "1d32064cc9324b9ba3951ceb85df7013": {
          "model_module": "@jupyter-widgets/base",
          "model_name": "LayoutModel",
          "model_module_version": "1.2.0",
          "state": {
            "_model_module": "@jupyter-widgets/base",
            "_model_module_version": "1.2.0",
            "_model_name": "LayoutModel",
            "_view_count": null,
            "_view_module": "@jupyter-widgets/base",
            "_view_module_version": "1.2.0",
            "_view_name": "LayoutView",
            "align_content": null,
            "align_items": null,
            "align_self": null,
            "border": null,
            "bottom": null,
            "display": null,
            "flex": null,
            "flex_flow": null,
            "grid_area": null,
            "grid_auto_columns": null,
            "grid_auto_flow": null,
            "grid_auto_rows": null,
            "grid_column": null,
            "grid_gap": null,
            "grid_row": null,
            "grid_template_areas": null,
            "grid_template_columns": null,
            "grid_template_rows": null,
            "height": null,
            "justify_content": null,
            "justify_items": null,
            "left": null,
            "margin": null,
            "max_height": null,
            "max_width": null,
            "min_height": null,
            "min_width": null,
            "object_fit": null,
            "object_position": null,
            "order": null,
            "overflow": null,
            "overflow_x": null,
            "overflow_y": null,
            "padding": null,
            "right": null,
            "top": null,
            "visibility": null,
            "width": null
          }
        },
        "9e51baf00b3f48508eb6d18d3740ade5": {
          "model_module": "@jupyter-widgets/controls",
          "model_name": "CheckboxModel",
          "model_module_version": "1.5.0",
          "state": {
            "_dom_classes": [],
            "_model_module": "@jupyter-widgets/controls",
            "_model_module_version": "1.5.0",
            "_model_name": "CheckboxModel",
            "_view_count": null,
            "_view_module": "@jupyter-widgets/controls",
            "_view_module_version": "1.5.0",
            "_view_name": "CheckboxView",
            "description": "show hashtags",
            "description_tooltip": null,
            "disabled": false,
            "indent": true,
            "layout": "IPY_MODEL_b6716591535b43a49bade42a9b9ae61e",
            "style": "IPY_MODEL_308b3f8654944d99b913dbfc1e0913f2",
            "value": true
          }
        },
        "3ae6c3f9e70242adbd41b81a95a1e06f": {
          "model_module": "@jupyter-widgets/controls",
          "model_name": "CheckboxModel",
          "model_module_version": "1.5.0",
          "state": {
            "_dom_classes": [],
            "_model_module": "@jupyter-widgets/controls",
            "_model_module_version": "1.5.0",
            "_model_name": "CheckboxModel",
            "_view_count": null,
            "_view_module": "@jupyter-widgets/controls",
            "_view_module_version": "1.5.0",
            "_view_name": "CheckboxView",
            "description": "show headings",
            "description_tooltip": null,
            "disabled": false,
            "indent": true,
            "layout": "IPY_MODEL_90fb1ff1c8c248498f1cea3538d3688b",
            "style": "IPY_MODEL_b09fbda655f548038aebb58f92157bb0",
            "value": true
          }
        },
        "0ef83ba274874b3489a9929296fed6c3": {
          "model_module": "@jupyter-widgets/base",
          "model_name": "LayoutModel",
          "model_module_version": "1.2.0",
          "state": {
            "_model_module": "@jupyter-widgets/base",
            "_model_module_version": "1.2.0",
            "_model_name": "LayoutModel",
            "_view_count": null,
            "_view_module": "@jupyter-widgets/base",
            "_view_module_version": "1.2.0",
            "_view_name": "LayoutView",
            "align_content": null,
            "align_items": null,
            "align_self": null,
            "border": null,
            "bottom": null,
            "display": null,
            "flex": null,
            "flex_flow": null,
            "grid_area": null,
            "grid_auto_columns": null,
            "grid_auto_flow": null,
            "grid_auto_rows": null,
            "grid_column": null,
            "grid_gap": null,
            "grid_row": null,
            "grid_template_areas": null,
            "grid_template_columns": null,
            "grid_template_rows": null,
            "height": null,
            "justify_content": null,
            "justify_items": null,
            "left": null,
            "margin": null,
            "max_height": null,
            "max_width": null,
            "min_height": null,
            "min_width": null,
            "object_fit": null,
            "object_position": null,
            "order": null,
            "overflow": null,
            "overflow_x": null,
            "overflow_y": null,
            "padding": null,
            "right": null,
            "top": null,
            "visibility": null,
            "width": null
          }
        },
        "166e9701be5840b5bfdb2b6e931a31ed": {
          "model_module": "@jupyter-widgets/base",
          "model_name": "LayoutModel",
          "model_module_version": "1.2.0",
          "state": {
            "_model_module": "@jupyter-widgets/base",
            "_model_module_version": "1.2.0",
            "_model_name": "LayoutModel",
            "_view_count": null,
            "_view_module": "@jupyter-widgets/base",
            "_view_module_version": "1.2.0",
            "_view_name": "LayoutView",
            "align_content": null,
            "align_items": null,
            "align_self": null,
            "border": null,
            "bottom": null,
            "display": null,
            "flex": null,
            "flex_flow": null,
            "grid_area": null,
            "grid_auto_columns": null,
            "grid_auto_flow": null,
            "grid_auto_rows": null,
            "grid_column": null,
            "grid_gap": null,
            "grid_row": null,
            "grid_template_areas": null,
            "grid_template_columns": null,
            "grid_template_rows": null,
            "height": null,
            "justify_content": null,
            "justify_items": null,
            "left": null,
            "margin": null,
            "max_height": null,
            "max_width": null,
            "min_height": null,
            "min_width": null,
            "object_fit": null,
            "object_position": null,
            "order": null,
            "overflow": null,
            "overflow_x": null,
            "overflow_y": null,
            "padding": null,
            "right": null,
            "top": null,
            "visibility": null,
            "width": null
          }
        },
        "248f29dd7e9b4dbb8d86590d4fddbeef": {
          "model_module": "@jupyter-widgets/controls",
          "model_name": "DescriptionStyleModel",
          "model_module_version": "1.5.0",
          "state": {
            "_model_module": "@jupyter-widgets/controls",
            "_model_module_version": "1.5.0",
            "_model_name": "DescriptionStyleModel",
            "_view_count": null,
            "_view_module": "@jupyter-widgets/base",
            "_view_module_version": "1.2.0",
            "_view_name": "StyleView",
            "description_width": ""
          }
        },
        "283c86c6720d4a8484e62e15d190572c": {
          "model_module": "@jupyter-widgets/base",
          "model_name": "LayoutModel",
          "model_module_version": "1.2.0",
          "state": {
            "_model_module": "@jupyter-widgets/base",
            "_model_module_version": "1.2.0",
            "_model_name": "LayoutModel",
            "_view_count": null,
            "_view_module": "@jupyter-widgets/base",
            "_view_module_version": "1.2.0",
            "_view_name": "LayoutView",
            "align_content": null,
            "align_items": null,
            "align_self": null,
            "border": null,
            "bottom": null,
            "display": null,
            "flex": null,
            "flex_flow": null,
            "grid_area": null,
            "grid_auto_columns": null,
            "grid_auto_flow": null,
            "grid_auto_rows": null,
            "grid_column": null,
            "grid_gap": null,
            "grid_row": null,
            "grid_template_areas": null,
            "grid_template_columns": null,
            "grid_template_rows": null,
            "height": null,
            "justify_content": null,
            "justify_items": null,
            "left": null,
            "margin": null,
            "max_height": null,
            "max_width": null,
            "min_height": null,
            "min_width": null,
            "object_fit": null,
            "object_position": null,
            "order": null,
            "overflow": null,
            "overflow_x": null,
            "overflow_y": null,
            "padding": null,
            "right": null,
            "top": null,
            "visibility": null,
            "width": null
          }
        },
        "930f02deb09e4978b9ffe2dc7e898e94": {
          "model_module": "@jupyter-widgets/controls",
          "model_name": "DescriptionStyleModel",
          "model_module_version": "1.5.0",
          "state": {
            "_model_module": "@jupyter-widgets/controls",
            "_model_module_version": "1.5.0",
            "_model_name": "DescriptionStyleModel",
            "_view_count": null,
            "_view_module": "@jupyter-widgets/base",
            "_view_module_version": "1.2.0",
            "_view_name": "StyleView",
            "description_width": ""
          }
        },
        "b6716591535b43a49bade42a9b9ae61e": {
          "model_module": "@jupyter-widgets/base",
          "model_name": "LayoutModel",
          "model_module_version": "1.2.0",
          "state": {
            "_model_module": "@jupyter-widgets/base",
            "_model_module_version": "1.2.0",
            "_model_name": "LayoutModel",
            "_view_count": null,
            "_view_module": "@jupyter-widgets/base",
            "_view_module_version": "1.2.0",
            "_view_name": "LayoutView",
            "align_content": null,
            "align_items": null,
            "align_self": null,
            "border": null,
            "bottom": null,
            "display": null,
            "flex": null,
            "flex_flow": null,
            "grid_area": null,
            "grid_auto_columns": null,
            "grid_auto_flow": null,
            "grid_auto_rows": null,
            "grid_column": null,
            "grid_gap": null,
            "grid_row": null,
            "grid_template_areas": null,
            "grid_template_columns": null,
            "grid_template_rows": null,
            "height": null,
            "justify_content": null,
            "justify_items": null,
            "left": null,
            "margin": null,
            "max_height": null,
            "max_width": null,
            "min_height": null,
            "min_width": null,
            "object_fit": null,
            "object_position": null,
            "order": null,
            "overflow": null,
            "overflow_x": null,
            "overflow_y": null,
            "padding": null,
            "right": null,
            "top": null,
            "visibility": null,
            "width": null
          }
        },
        "308b3f8654944d99b913dbfc1e0913f2": {
          "model_module": "@jupyter-widgets/controls",
          "model_name": "DescriptionStyleModel",
          "model_module_version": "1.5.0",
          "state": {
            "_model_module": "@jupyter-widgets/controls",
            "_model_module_version": "1.5.0",
            "_model_name": "DescriptionStyleModel",
            "_view_count": null,
            "_view_module": "@jupyter-widgets/base",
            "_view_module_version": "1.2.0",
            "_view_name": "StyleView",
            "description_width": ""
          }
        },
        "90fb1ff1c8c248498f1cea3538d3688b": {
          "model_module": "@jupyter-widgets/base",
          "model_name": "LayoutModel",
          "model_module_version": "1.2.0",
          "state": {
            "_model_module": "@jupyter-widgets/base",
            "_model_module_version": "1.2.0",
            "_model_name": "LayoutModel",
            "_view_count": null,
            "_view_module": "@jupyter-widgets/base",
            "_view_module_version": "1.2.0",
            "_view_name": "LayoutView",
            "align_content": null,
            "align_items": null,
            "align_self": null,
            "border": null,
            "bottom": null,
            "display": null,
            "flex": null,
            "flex_flow": null,
            "grid_area": null,
            "grid_auto_columns": null,
            "grid_auto_flow": null,
            "grid_auto_rows": null,
            "grid_column": null,
            "grid_gap": null,
            "grid_row": null,
            "grid_template_areas": null,
            "grid_template_columns": null,
            "grid_template_rows": null,
            "height": null,
            "justify_content": null,
            "justify_items": null,
            "left": null,
            "margin": null,
            "max_height": null,
            "max_width": null,
            "min_height": null,
            "min_width": null,
            "object_fit": null,
            "object_position": null,
            "order": null,
            "overflow": null,
            "overflow_x": null,
            "overflow_y": null,
            "padding": null,
            "right": null,
            "top": null,
            "visibility": null,
            "width": null
          }
        },
        "b09fbda655f548038aebb58f92157bb0": {
          "model_module": "@jupyter-widgets/controls",
          "model_name": "DescriptionStyleModel",
          "model_module_version": "1.5.0",
          "state": {
            "_model_module": "@jupyter-widgets/controls",
            "_model_module_version": "1.5.0",
            "_model_name": "DescriptionStyleModel",
            "_view_count": null,
            "_view_module": "@jupyter-widgets/base",
            "_view_module_version": "1.2.0",
            "_view_name": "StyleView",
            "description_width": ""
          }
        },
        "d30aa04dfd254e11b16ec410af26d554": {
          "model_module": "@jupyter-widgets/output",
          "model_name": "OutputModel",
          "model_module_version": "1.0.0",
          "state": {
            "_dom_classes": [],
            "_model_module": "@jupyter-widgets/output",
            "_model_module_version": "1.0.0",
            "_model_name": "OutputModel",
            "_view_count": null,
            "_view_module": "@jupyter-widgets/output",
            "_view_module_version": "1.0.0",
            "_view_name": "OutputView",
            "layout": "IPY_MODEL_b82739ed0c0d46ed84b2b7f72db4b55f",
            "msg_id": "",
            "outputs": []
          }
        },
        "b82739ed0c0d46ed84b2b7f72db4b55f": {
          "model_module": "@jupyter-widgets/base",
          "model_name": "LayoutModel",
          "model_module_version": "1.2.0",
          "state": {
            "_model_module": "@jupyter-widgets/base",
            "_model_module_version": "1.2.0",
            "_model_name": "LayoutModel",
            "_view_count": null,
            "_view_module": "@jupyter-widgets/base",
            "_view_module_version": "1.2.0",
            "_view_name": "LayoutView",
            "align_content": null,
            "align_items": null,
            "align_self": null,
            "border": null,
            "bottom": null,
            "display": null,
            "flex": null,
            "flex_flow": null,
            "grid_area": null,
            "grid_auto_columns": null,
            "grid_auto_flow": null,
            "grid_auto_rows": null,
            "grid_column": null,
            "grid_gap": null,
            "grid_row": null,
            "grid_template_areas": null,
            "grid_template_columns": null,
            "grid_template_rows": null,
            "height": null,
            "justify_content": null,
            "justify_items": null,
            "left": null,
            "margin": null,
            "max_height": null,
            "max_width": null,
            "min_height": null,
            "min_width": null,
            "object_fit": null,
            "object_position": null,
            "order": null,
            "overflow": null,
            "overflow_x": null,
            "overflow_y": null,
            "padding": null,
            "right": null,
            "top": null,
            "visibility": null,
            "width": null
          }
        }
      }
    }
  },
  "cells": [
    {
      "cell_type": "markdown",
      "metadata": {
        "id": "view-in-github",
        "colab_type": "text"
      },
      "source": [
        "<a href=\"https://colab.research.google.com/github/YorkJong/news-digest/blob/main/notebooks/news_clip.ipynb\" target=\"_parent\"><img src=\"https://colab.research.google.com/assets/colab-badge.svg\" alt=\"Open In Colab\"/></a>"
      ]
    },
    {
      "cell_type": "markdown",
      "source": [
        "這支 colab notebook 主要功能是\n",
        "- 剪輯 [news-digest](https://news-digest.vercel.app/) 網站當天（或選取日期）的新聞。\n",
        "- 只能根據新聞分類 (catetories) 剪輯。\n",
        "\n",
        "執行步驟如下：\n",
        "1. 按下 Install 下那個 code cell 前面的 ► 按鈕來安裝用到的模組\n",
        "2. 根據喜好，填表執行後面的 Jupyter Widgets UI 或 Colab Forms\n",
        "\n",
        "需要更細的檢索查詢，有如下兩個選擇\n",
        "- 直接在 [news-digest 網站](https://news-digest.vercel.app/)上搜尋或點選 hash-tags\n",
        "- 或者點擊 [news_query.ipynb](https://colab.research.google.com/github/YorkJong/news-digest/blob/main/notebooks/news_query.ipynb) 執行多條件檢索\n"
      ],
      "metadata": {
        "id": "qdoacSllvdm2"
      }
    },
    {
      "cell_type": "markdown",
      "source": [
        "### Install"
      ],
      "metadata": {
        "id": "74XGrOopRPIi"
      }
    },
    {
      "cell_type": "code",
      "source": [
        "import os\n",
        "\n",
        "fns = ['clip.py', 'op.py']\n",
        "\n",
        "for fn in fns:\n",
        "    if os.path.exists(fn):\n",
        "        os.remove(fn)\n",
        "for fn in fns:\n",
        "    url = f'https://raw.githubusercontent.com/YorkJong/news-digest/main/src/{fn}'\n",
        "    !wget $url\n",
        "\n",
        "import clip\n",
        "\n",
        "#-------------------------------------------------------------------------------\n",
        "\n",
        "import ipywidgets as widgets\n",
        "\n",
        "def create_ui():\n",
        "    fns = sorted(clip.get_recent_journal_filenames(14), reverse=True)\n",
        "    options = [f[:-3] for f in fns]\n",
        "    dates = widgets.Dropdown(\n",
        "        options=options,\n",
        "        value=options[0],\n",
        "        description='Date',\n",
        "        disabled=False,\n",
        "    )\n",
        "\n",
        "    content = clip.get_latest_journal()\n",
        "    options = clip.get_categories(content)\n",
        "    categories = widgets.SelectMultiple(\n",
        "        options=options,\n",
        "        #value=[options[0]],\n",
        "        rows=len(options),\n",
        "        description='Categories',\n",
        "        disabled=False,\n",
        "    )\n",
        "\n",
        "    with_hashtags = widgets.Checkbox(\n",
        "        value=True,\n",
        "        description='show hashtags',\n",
        "        disabled=False,\n",
        "    )\n",
        "\n",
        "    with_headings = widgets.Checkbox(\n",
        "        value=True,\n",
        "        description='show headings',\n",
        "        disabled=False,\n",
        "    )\n",
        "\n",
        "    vbox1 = widgets.VBox([dates, categories])\n",
        "    vbox2 = widgets.VBox([with_hashtags, with_headings])\n",
        "    output = widgets.Output()\n",
        "    display(widgets.HBox([vbox1, vbox2]), output)\n",
        "\n",
        "    def on_date_change(change):\n",
        "        nonlocal content\n",
        "        content = clip.get_journal(f'{dates.value}.md')\n",
        "        categories.options = clip.get_categories(content)\n",
        "\n",
        "    def on_value_change(change):\n",
        "        lines = clip.get_lines_of_categories(categories.value, content, with_hashtags.value, with_headings.value)\n",
        "        with output:\n",
        "            #print(change['new'])\n",
        "            output.clear_output()\n",
        "            print('\\n'.join(lines))\n",
        "\n",
        "    dates.observe(on_date_change, names='value')\n",
        "    categories.observe(on_value_change, names='value')\n",
        "    with_hashtags.observe(on_value_change, names='value')\n",
        "    with_headings.observe(on_value_change, names='value')"
      ],
      "metadata": {
        "id": "HhPa1e1tse76",
        "outputId": "f5be1a02-79d2-4151-da44-6a171fec12a6",
        "colab": {
          "base_uri": "https://localhost:8080/"
        }
      },
      "execution_count": 3,
      "outputs": [
        {
          "output_type": "stream",
          "name": "stdout",
          "text": [
            "--2024-08-08 19:38:48--  https://raw.githubusercontent.com/YorkJong/news-digest/main/src/clip.py\n",
            "Resolving raw.githubusercontent.com (raw.githubusercontent.com)... 185.199.108.133, 185.199.109.133, 185.199.110.133, ...\n",
            "Connecting to raw.githubusercontent.com (raw.githubusercontent.com)|185.199.108.133|:443... connected.\n",
            "HTTP request sent, awaiting response... 200 OK\n",
            "Length: 8936 (8.7K) [text/plain]\n",
            "Saving to: ‘clip.py’\n",
            "\n",
            "\rclip.py               0%[                    ]       0  --.-KB/s               \rclip.py             100%[===================>]   8.73K  --.-KB/s    in 0s      \n",
            "\n",
            "2024-08-08 19:38:48 (38.2 MB/s) - ‘clip.py’ saved [8936/8936]\n",
            "\n",
            "--2024-08-08 19:38:48--  https://raw.githubusercontent.com/YorkJong/news-digest/main/src/op.py\n",
            "Resolving raw.githubusercontent.com (raw.githubusercontent.com)... 185.199.108.133, 185.199.109.133, 185.199.110.133, ...\n",
            "Connecting to raw.githubusercontent.com (raw.githubusercontent.com)|185.199.108.133|:443... connected.\n",
            "HTTP request sent, awaiting response... 200 OK\n",
            "Length: 5171 (5.0K) [text/plain]\n",
            "Saving to: ‘op.py’\n",
            "\n",
            "op.py               100%[===================>]   5.05K  --.-KB/s    in 0s      \n",
            "\n",
            "2024-08-08 19:38:48 (63.2 MB/s) - ‘op.py’ saved [5171/5171]\n",
            "\n"
          ]
        }
      ]
    },
    {
      "cell_type": "markdown",
      "source": [
        "### Select categories with Jupyter Widgets\n",
        "- 按下面那個 code cell 前面的 ► 按鈕，以列出完整的分類(Catetories)選單\n",
        "- macOS 下操作可按Cmd後用滑鼠複選（Windows 系統則按下Ctrl鍵後以滑鼠複選）\n",
        "  - 全選可按 Cmd+A (macOS) 或者 Ctrl+A (Windows)"
      ],
      "metadata": {
        "id": "bHZpE5gJsacz"
      }
    },
    {
      "cell_type": "code",
      "source": [
        "create_ui()"
      ],
      "metadata": {
        "id": "z--kb0R3m6XF",
        "outputId": "233b6beb-167c-47db-f762-964beac6e392",
        "colab": {
          "base_uri": "https://localhost:8080/",
          "height": 193,
          "referenced_widgets": [
            "7b94d36edf7a4e50a07c675ce3041066",
            "584d1ec1759d4f18bb55dcbd493cbd1d",
            "f4f7be00657a446192073d27f9c34cd2",
            "65945b86d7b5491aaf6207c0f8301d6b",
            "bb8a23f1f18149a3a459f48837b05c08",
            "0479ad0172634ffb9e138f98cf1037c6",
            "1d32064cc9324b9ba3951ceb85df7013",
            "9e51baf00b3f48508eb6d18d3740ade5",
            "3ae6c3f9e70242adbd41b81a95a1e06f",
            "0ef83ba274874b3489a9929296fed6c3",
            "166e9701be5840b5bfdb2b6e931a31ed",
            "248f29dd7e9b4dbb8d86590d4fddbeef",
            "283c86c6720d4a8484e62e15d190572c",
            "930f02deb09e4978b9ffe2dc7e898e94",
            "b6716591535b43a49bade42a9b9ae61e",
            "308b3f8654944d99b913dbfc1e0913f2",
            "90fb1ff1c8c248498f1cea3538d3688b",
            "b09fbda655f548038aebb58f92157bb0",
            "d30aa04dfd254e11b16ec410af26d554",
            "b82739ed0c0d46ed84b2b7f72db4b55f"
          ]
        }
      },
      "execution_count": 4,
      "outputs": [
        {
          "output_type": "display_data",
          "data": {
            "text/plain": [
              "HBox(children=(VBox(children=(Dropdown(description='Date', options=('2024_08_08', '2024_08_07', '2024_08_06', …"
            ],
            "application/vnd.jupyter.widget-view+json": {
              "version_major": 2,
              "version_minor": 0,
              "model_id": "7b94d36edf7a4e50a07c675ce3041066"
            }
          },
          "metadata": {}
        },
        {
          "output_type": "display_data",
          "data": {
            "text/plain": [
              "Output()"
            ],
            "application/vnd.jupyter.widget-view+json": {
              "version_major": 2,
              "version_minor": 0,
              "model_id": "d30aa04dfd254e11b16ec410af26d554"
            }
          },
          "metadata": {}
        }
      ]
    },
    {
      "cell_type": "markdown",
      "source": [
        "### Select Categories with the Colab Forms"
      ],
      "metadata": {
        "id": "jcbcKHfqSzyQ"
      }
    },
    {
      "cell_type": "code",
      "source": [
        "#@title Single Selection { run: \"auto\", display-mode: \"form\" }\n",
        "category = \"IT\" #@param [\"Tesla & SpaceX; Vehicle\", \"Tech Titans\", \"Finance\", \"Taiwan\", \"Crypto\", \"Technology\", \"IT\"] {allow-input: true}\n",
        "show_hashtags = True #@param {type:\"boolean\"}\n",
        "show_headings = True #@param {type:\"boolean\"}\n",
        "\n",
        "content = clip.get_latest_journal()\n",
        "lines = clip.get_lines_of_categories([category], content, show_hashtags, show_headings)\n",
        "text = '\\n'.join(lines)\n",
        "print(text)"
      ],
      "metadata": {
        "id": "tGXYiHdUOgRp",
        "outputId": "88119eb5-df14-4194-d9db-40db39786be2",
        "colab": {
          "base_uri": "https://localhost:8080/"
        }
      },
      "execution_count": 5,
      "outputs": [
        {
          "output_type": "stream",
          "name": "stdout",
          "text": [
            "### IT\n",
            "- [Figure 02 號稱「地表最強 AI 硬體」，能對話學習、無間斷工作 20 小時](https://technews.tw/2024/08/08/figure-02-coming/) #Figure02 #AI #robotics\n",
            "- [OpenAI API新增結構化輸出功能，精確輸出JSON資料格式](https://www.ithome.com.tw/news/164349) #OpenAI #API #JSON #AI #GAI\n",
            "- [吴恩达亲自授课，LLM当「助教」，适合初学者的Python编程课程上线](https://www.jiqizhixin.com/articles/2024-08-08-6) #AI #LLM #Python\n",
            "- [Llama3训练每3小时崩一次？豆包大模型、港大团队为脆皮万卡训练提效](https://www.jiqizhixin.com/articles/2024-08-08-7) #AI #META #Llama3\n",
            "- [科幻成真？阿根廷引入人工智慧預測犯罪，專家憂侵犯公民權利](https://www.techbang.com/posts/117321-argentina-ai-predict-crimes) #AI #crime\n",
            "- [加強人才培育！NVIDIA 攜華碩、臺科大打造首座 AI 數位雙生實驗室](https://technews.tw/2024/08/07/nvidia-asus-ntust-ai-lab/) #NVDA #TW #AI\n",
            "- [數位部開始推動公部門AI培訓計畫，今年底估培養至少700位公務員具備AI技能](https://www.ithome.com.tw/news/164354) #AI #TW\n",
            "\n"
          ]
        }
      ]
    },
    {
      "cell_type": "code",
      "source": [
        "#@title Multiple Selections { run: \"auto\", display-mode: \"form\" }\n",
        "first_category = \"Tesla & SpaceX; Vehicle\" #@param [\"Tesla & SpaceX; Vehicle\", \"Tech Titans\", \"Finance\", \"Taiwan\", \"Crypto\", \"Technology\", \"IT\"] {allow-input: true}\n",
        "last_category = \"Finance\" #@param [\"Tesla & SpaceX; Vehicle\", \"Tech Titans\", \"Finance\", \"Taiwan\", \"Crypto\", \"Technology\", \"IT\"] {allow-input: true}\n",
        "show_hashtags = False #@param {type:\"boolean\"}\n",
        "show_headings = False #@param {type:\"boolean\"}\n",
        "\n",
        "content = clip.get_latest_journal()\n",
        "categories = clip.get_categories(content)\n",
        "categories = clip.get_sublist(categories, first_category, last_category)\n",
        "lines = clip.get_lines_of_categories(categories, content, show_hashtags, show_headings)\n",
        "text = '\\n'.join(lines)\n",
        "print(text)\n"
      ],
      "metadata": {
        "id": "QRwq2sNpi8c3",
        "outputId": "1a71b271-dd17-41a1-be9b-d36856087fc4",
        "colab": {
          "base_uri": "https://localhost:8080/"
        }
      },
      "execution_count": 6,
      "outputs": [
        {
          "output_type": "stream",
          "name": "stdout",
          "text": [
            "- [RBC：特斯拉FSD降價 可望成股價「關鍵催化劑」](https://news.cnyes.com/news/id/5672143)\n",
            "- [特斯拉傳放棄在泰國、馬來西亞和印尼的電動車工廠計劃](https://www.thenewslens.com/article/206333)\n",
            "- [特斯拉入選福建政府採購名單 又被刪 傳因這理由](https://udn.com/news/story/7332/8147891)\n",
            "- [特斯拉 Optimus 最強對手來了！Figure F2.0 機器人有什麼超進化？](https://www.inside.com.tw/article/35853-figure-02-humanoid-robot-launch)\n",
            "- [NASA 考慮改找 SpaceX 接滯留太空人，波音恐糗大](https://technews.tw/2024/08/08/starliner-crew-may-stay-in-space-until-february-as-nasa-weighs-spacex-option/)\n",
            "\n",
            "- [NVIDIA 2025 年推 Blackwell Ultra、B200A，將拉升 HBM3e 12hi 消耗比重至 40%](https://technews.tw/2024/08/08/nvidia-2025/)\n",
            "- [NVIDIA 訂閱制軟體帝國崛起！降低企業 AI 部署門檻， 挑戰兆級美元營收](https://www.techbang.com/posts/117409-nvidias-subscription-software-empir)\n",
            "- [NVIDIA 生產延誤影響大嗎？分析師、外資這樣看](https://technews.tw/2024/08/08/nvidia-ai-chip-2/)\n",
            "- [Google 宣布與小米、OPPO 在全球市場合作Gemini 技術，同時也將整合Google Cloud 雲端服務資源](https://m.eprice.com.tw/mobile/talk/102/5811608/1)\n",
            "- [傳微軟 MR 新品 2026 年問世，三星獲 OLEDoS 面板訂單](https://technews.tw/2024/08/08/samsung-display-to-supply-oledos-to-microsoft-for-mr-device/)\n",
            "- [〈財報〉AI功能輔助 Shopify營收超出預期](https://news.cnyes.com/news/id/5671777)\n",
            "- [美超微股價崩 20%！遭質疑恐燒更多錢，犧牲毛利爭取營收](https://finance.technews.tw/2024/08/08/supermicro-computer-us-stock-0807/)\n",
            "- [統計：Arm Q2 處理器市占萎縮，AMD、英特爾跳增](https://technews.tw/2024/08/08/amd-intel-in-focus-as-data-shows-gains-over-arm/)\n",
            "- [英特爾股價五天暴跌38%再被降級 分析師直言「重拾領導地位難」](https://news.cnyes.com/news/id/5671991)\n",
            "- [HBM 走向「客製化」市場！SK 海力士、三星各推解決方案吸客戶](https://technews.tw/2024/08/08/samsung-and-sk-hynix-hbm/)\n",
            "\n",
            "- [〈財報〉重磅減肥藥銷售黯淡 諾和諾德Q2業績遜預期](https://news.cnyes.com/news/id/5671552)\n",
            "- [〈財報〉看好國際旅遊需求 希爾頓調升全年獲利財測](https://news.cnyes.com/news/id/5671515)\n",
            "- [摩根大通上調美國經濟衰退機率至35% 估9月、11月各降息50基點](https://news.cnyes.com/news/id/5672612)\n",
            "- [華爾街經濟學家：投資人對美國經濟衰退反應過度](https://news.cnyes.com/news/id/5671721)\n",
            "- [航運巨頭馬士基：貨櫃需求未減 未見美衰退跡象](https://news.cnyes.com/news/id/5671937)\n",
            "- [全球股市如過山車 日銀加息意外加劇動盪](https://www.epochtimes.com/b5/24/8/7/n14306806.htm)\n",
            "- [印度央行發展手機支付系統大成功，卻成為詐騙溫床](https://infosecu.technews.tw/2024/08/08/india-upi-becomes-hotbed-for-scams/)\n",
            "\n"
          ]
        }
      ]
    },
    {
      "cell_type": "markdown",
      "source": [
        "### See Also\n",
        "- [news_query.ipynb (from GitHub)](https://colab.research.google.com/github/YorkJong/news-digest/blob/main/notebooks/news_query.ipynb)"
      ],
      "metadata": {
        "id": "l9kvYn67Zue4"
      }
    }
  ]
}
