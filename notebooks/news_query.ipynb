{
  "nbformat": 4,
  "nbformat_minor": 0,
  "metadata": {
    "colab": {
      "provenance": [],
      "collapsed_sections": [
        "hHCkC4l-eU2o"
      ],
      "authorship_tag": "ABX9TyMPjI6WQmv2Xl4GYIIK3tmM",
      "include_colab_link": true
    },
    "kernelspec": {
      "name": "python3",
      "display_name": "Python 3"
    },
    "language_info": {
      "name": "python"
    }
  },
  "cells": [
    {
      "cell_type": "markdown",
      "metadata": {
        "id": "view-in-github",
        "colab_type": "text"
      },
      "source": [
        "<a href=\"https://colab.research.google.com/github/YorkJong/news-digest/blob/main/notebooks/news_query.ipynb\" target=\"_parent\"><img src=\"https://colab.research.google.com/assets/colab-badge.svg\" alt=\"Open In Colab\"/></a>"
      ]
    },
    {
      "cell_type": "markdown",
      "source": [
        "這支 colab notebook 是為了檢索 [news-digest](https://news-digest.vercel.app/) 網站上的新聞而寫的。可以執行多條件檢索，執行步驟如下：\n",
        "\n",
        "1. 按下 Install 下那個 code cell 前面的 ► 按鈕來安裝用到的模組\n",
        "2. 依序選取，並執行查詢條件：週期（days）, 分類（Categories）, Tags, with ANY/ALL tags"
      ],
      "metadata": {
        "id": "y2P1UErueEo2"
      }
    },
    {
      "cell_type": "markdown",
      "source": [
        "### Install"
      ],
      "metadata": {
        "id": "hHCkC4l-eU2o"
      }
    },
    {
      "cell_type": "code",
      "execution_count": null,
      "metadata": {
        "id": "Lr2JZy08eR28"
      },
      "outputs": [],
      "source": [
        "import os\n",
        "\n",
        "fns = ['clip.py', 'line.py', 'op.py', 'hashtag.py']\n",
        "\n",
        "for fn in fns:\n",
        "    if os.path.exists(fn):\n",
        "        os.remove(fn)\n",
        "for fn in fns:\n",
        "    url = f'https://raw.githubusercontent.com/YorkJong/news-digest/main/api/{fn}'\n",
        "    !wget $url\n",
        "\n",
        "import clip\n",
        "import line\n",
        "import hashtag\n",
        "\n",
        "#-------------------------------------------------------------------------------\n",
        "\n",
        "import ipywidgets as widgets\n",
        "\n",
        "def create_menu(name, options):\n",
        "    m = widgets.SelectMultiple(\n",
        "        options=options,\n",
        "        value=[options[0]],\n",
        "        rows=len(options),\n",
        "        description=name,\n",
        "        disabled=False\n",
        "    )\n",
        "    display(m)\n",
        "    return m"
      ]
    },
    {
      "cell_type": "markdown",
      "source": [
        "### Query Conditions"
      ],
      "metadata": {
        "id": "p0e6R_L6edCu"
      }
    },
    {
      "cell_type": "code",
      "source": [
        "#@title Step 1. pick a **period** { run: \"auto\", display-mode: \"form\" }\n",
        "days = 1 #@param [\"1\", \"2\", \"7\", \"14\", \"30\"] {type:\"raw\", allow-input: true}\n",
        "content = clip.merge_recent_journals(days)"
      ],
      "metadata": {
        "id": "eivH1Vvcexia"
      },
      "execution_count": null,
      "outputs": []
    },
    {
      "cell_type": "markdown",
      "source": [
        "#### Step 2. select **Categories**\n",
        "- 先按下面那個 code cell 前面的 ► 按鈕，以列出完整的分類(Catetories)選單\n",
        "- macOS 下操作可按Cmd後用滑鼠複選（Windows 系統則按下Ctrl鍵後以滑鼠複選）\n",
        "  - 全選可按 Cmd+A (macOS) 或者 Ctrl+A (Windows)"
      ],
      "metadata": {
        "id": "XpvC-daFf25h"
      }
    },
    {
      "cell_type": "code",
      "source": [
        "categories = create_menu(name='Categories', options=clip.get_categories(content))"
      ],
      "metadata": {
        "id": "60EZk07jheOw"
      },
      "execution_count": null,
      "outputs": []
    },
    {
      "cell_type": "markdown",
      "source": [
        "#### Step 3. select hash **Tags**\n",
        "- 先按下面那個 code cell 前面的 ► 按鈕，以列出完整的 #Tag 選單\n",
        "- macOS 下操作可按Cmd後用滑鼠複選（Windows 系統則按下Ctrl鍵後以滑鼠複選）\n",
        "   - 全選可按 Cmd+A (macOS) 或者 Ctrl+A (Windows)"
      ],
      "metadata": {
        "id": "ZbHKkQ42gX7J"
      }
    },
    {
      "cell_type": "code",
      "source": [
        "lines = clip.get_lines_of_categories(categories.value, content, with_hashtags=True, with_headers=True)\n",
        "tags = create_menu(name='Hash-Tags', options=hashtag.get_hashtags(lines))"
      ],
      "metadata": {
        "id": "nTlvhe-Ygb3-"
      },
      "execution_count": null,
      "outputs": []
    },
    {
      "cell_type": "code",
      "source": [
        "#@title Step 4. decide **ANY** (or **ALL**) hash-tags with { run: \"auto\", display-mode: \"form\" }\n",
        "hashtag_with = \"ANY\" #@param [\"ANY\", \"ALL\"]\n",
        "\n",
        "tbl = {\n",
        "    'ANY': hashtag.get_lines_with_any_hashtag,\n",
        "    'ALL': hashtag.get_lines_with_all_hashtags,\n",
        "}\n",
        "\n",
        "out_lines = tbl[hashtag_with](lines, tags.value)\n",
        "print('\\n'.join(out_lines))"
      ],
      "metadata": {
        "id": "FuIJbth8GqcG"
      },
      "execution_count": null,
      "outputs": []
    },
    {
      "cell_type": "markdown",
      "source": [
        "### See Also\n",
        "- [news_clip.ipynb (from GitHub)](https://colab.research.google.com/github/YorkJong/news-digest/blob/main/notebooks/news_clip.ipynb)"
      ],
      "metadata": {
        "id": "WU7njOeT4vJw"
      }
    }
  ]
}