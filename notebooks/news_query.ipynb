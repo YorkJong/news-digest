{
  "nbformat": 4,
  "nbformat_minor": 0,
  "metadata": {
    "colab": {
      "provenance": [],
      "collapsed_sections": [
        "hHCkC4l-eU2o"
      ],
      "cell_execution_strategy": "setup",
      "include_colab_link": true
    },
    "kernelspec": {
      "name": "python3",
      "display_name": "Python 3"
    },
    "language_info": {
      "name": "python"
    },
    "widgets": {
      "application/vnd.jupyter.widget-state+json": {
        "8e9626ec61bf40ce911a4b6255198122": {
          "model_module": "@jupyter-widgets/controls",
          "model_name": "HBoxModel",
          "model_module_version": "1.5.0",
          "state": {
            "_dom_classes": [],
            "_model_module": "@jupyter-widgets/controls",
            "_model_module_version": "1.5.0",
            "_model_name": "HBoxModel",
            "_view_count": null,
            "_view_module": "@jupyter-widgets/controls",
            "_view_module_version": "1.5.0",
            "_view_name": "HBoxView",
            "box_style": "",
            "children": [
              "IPY_MODEL_990c56ac292d432dab1451b4875c88a3",
              "IPY_MODEL_881ca8e38a574bf09805ff8d07520ebc",
              "IPY_MODEL_304cd4e8d9404b0487bdadf13b78822f"
            ],
            "layout": "IPY_MODEL_a2df95468efa4f008ee4b3a741bae002"
          }
        },
        "990c56ac292d432dab1451b4875c88a3": {
          "model_module": "@jupyter-widgets/controls",
          "model_name": "VBoxModel",
          "model_module_version": "1.5.0",
          "state": {
            "_dom_classes": [],
            "_model_module": "@jupyter-widgets/controls",
            "_model_module_version": "1.5.0",
            "_model_name": "VBoxModel",
            "_view_count": null,
            "_view_module": "@jupyter-widgets/controls",
            "_view_module_version": "1.5.0",
            "_view_name": "VBoxView",
            "box_style": "",
            "children": [
              "IPY_MODEL_7537c79a4146408d93b755566f2c3a15",
              "IPY_MODEL_fa40385d49804605b9368e86bd81635a"
            ],
            "layout": "IPY_MODEL_408da9c983d94ab5b3dfe52d8755a444"
          }
        },
        "881ca8e38a574bf09805ff8d07520ebc": {
          "model_module": "@jupyter-widgets/controls",
          "model_name": "SelectMultipleModel",
          "model_module_version": "1.5.0",
          "state": {
            "_dom_classes": [],
            "_model_module": "@jupyter-widgets/controls",
            "_model_module_version": "1.5.0",
            "_model_name": "SelectMultipleModel",
            "_options_labels": [],
            "_view_count": null,
            "_view_module": "@jupyter-widgets/controls",
            "_view_module_version": "1.5.0",
            "_view_name": "SelectMultipleView",
            "description": "Hash-Tags",
            "description_tooltip": null,
            "disabled": false,
            "index": [],
            "layout": "IPY_MODEL_167cf20678a14848b2f7c92ef474eb99",
            "rows": 0,
            "style": "IPY_MODEL_a2c5d70d395744d497add7f5c265ca70"
          }
        },
        "304cd4e8d9404b0487bdadf13b78822f": {
          "model_module": "@jupyter-widgets/controls",
          "model_name": "VBoxModel",
          "model_module_version": "1.5.0",
          "state": {
            "_dom_classes": [],
            "_model_module": "@jupyter-widgets/controls",
            "_model_module_version": "1.5.0",
            "_model_name": "VBoxModel",
            "_view_count": null,
            "_view_module": "@jupyter-widgets/controls",
            "_view_module_version": "1.5.0",
            "_view_name": "VBoxView",
            "box_style": "",
            "children": [
              "IPY_MODEL_4171164f80c249d0a361048ec055a299",
              "IPY_MODEL_36dab96a8d7d49d6820fe9ae98d6c627",
              "IPY_MODEL_64594f7db4de428cbe140ec5274216b5"
            ],
            "layout": "IPY_MODEL_a0f502ab09e04ece84f88558daff4096"
          }
        },
        "a2df95468efa4f008ee4b3a741bae002": {
          "model_module": "@jupyter-widgets/base",
          "model_name": "LayoutModel",
          "model_module_version": "1.2.0",
          "state": {
            "_model_module": "@jupyter-widgets/base",
            "_model_module_version": "1.2.0",
            "_model_name": "LayoutModel",
            "_view_count": null,
            "_view_module": "@jupyter-widgets/base",
            "_view_module_version": "1.2.0",
            "_view_name": "LayoutView",
            "align_content": null,
            "align_items": null,
            "align_self": null,
            "border": null,
            "bottom": null,
            "display": null,
            "flex": null,
            "flex_flow": null,
            "grid_area": null,
            "grid_auto_columns": null,
            "grid_auto_flow": null,
            "grid_auto_rows": null,
            "grid_column": null,
            "grid_gap": null,
            "grid_row": null,
            "grid_template_areas": null,
            "grid_template_columns": null,
            "grid_template_rows": null,
            "height": null,
            "justify_content": null,
            "justify_items": null,
            "left": null,
            "margin": null,
            "max_height": null,
            "max_width": null,
            "min_height": null,
            "min_width": null,
            "object_fit": null,
            "object_position": null,
            "order": null,
            "overflow": null,
            "overflow_x": null,
            "overflow_y": null,
            "padding": null,
            "right": null,
            "top": null,
            "visibility": null,
            "width": null
          }
        },
        "7537c79a4146408d93b755566f2c3a15": {
          "model_module": "@jupyter-widgets/controls",
          "model_name": "DropdownModel",
          "model_module_version": "1.5.0",
          "state": {
            "_dom_classes": [],
            "_model_module": "@jupyter-widgets/controls",
            "_model_module_version": "1.5.0",
            "_model_name": "DropdownModel",
            "_options_labels": [
              "1",
              "2",
              "7",
              "14",
              "30"
            ],
            "_view_count": null,
            "_view_module": "@jupyter-widgets/controls",
            "_view_module_version": "1.5.0",
            "_view_name": "DropdownView",
            "description": "Period (days)",
            "description_tooltip": null,
            "disabled": false,
            "index": 0,
            "layout": "IPY_MODEL_92826928f31a4a04ad5062bdc3551898",
            "style": "IPY_MODEL_8bfcf0cb6692495ab0be840c54ff7b9a"
          }
        },
        "fa40385d49804605b9368e86bd81635a": {
          "model_module": "@jupyter-widgets/controls",
          "model_name": "SelectMultipleModel",
          "model_module_version": "1.5.0",
          "state": {
            "_dom_classes": [],
            "_model_module": "@jupyter-widgets/controls",
            "_model_module_version": "1.5.0",
            "_model_name": "SelectMultipleModel",
            "_options_labels": [
              "Tesla & SpaceX; Vehicle",
              "Tech Industry",
              "Finance",
              "Taiwan",
              "Crypto",
              "Science & Technology",
              "IT"
            ],
            "_view_count": null,
            "_view_module": "@jupyter-widgets/controls",
            "_view_module_version": "1.5.0",
            "_view_name": "SelectMultipleView",
            "description": "Categories",
            "description_tooltip": null,
            "disabled": false,
            "index": [],
            "layout": "IPY_MODEL_091abb4c211447d8b48b7f8e4230ea46",
            "rows": 7,
            "style": "IPY_MODEL_2353adf830de4143b0552508f69df840"
          }
        },
        "408da9c983d94ab5b3dfe52d8755a444": {
          "model_module": "@jupyter-widgets/base",
          "model_name": "LayoutModel",
          "model_module_version": "1.2.0",
          "state": {
            "_model_module": "@jupyter-widgets/base",
            "_model_module_version": "1.2.0",
            "_model_name": "LayoutModel",
            "_view_count": null,
            "_view_module": "@jupyter-widgets/base",
            "_view_module_version": "1.2.0",
            "_view_name": "LayoutView",
            "align_content": null,
            "align_items": null,
            "align_self": null,
            "border": null,
            "bottom": null,
            "display": null,
            "flex": null,
            "flex_flow": null,
            "grid_area": null,
            "grid_auto_columns": null,
            "grid_auto_flow": null,
            "grid_auto_rows": null,
            "grid_column": null,
            "grid_gap": null,
            "grid_row": null,
            "grid_template_areas": null,
            "grid_template_columns": null,
            "grid_template_rows": null,
            "height": null,
            "justify_content": null,
            "justify_items": null,
            "left": null,
            "margin": null,
            "max_height": null,
            "max_width": null,
            "min_height": null,
            "min_width": null,
            "object_fit": null,
            "object_position": null,
            "order": null,
            "overflow": null,
            "overflow_x": null,
            "overflow_y": null,
            "padding": null,
            "right": null,
            "top": null,
            "visibility": null,
            "width": null
          }
        },
        "167cf20678a14848b2f7c92ef474eb99": {
          "model_module": "@jupyter-widgets/base",
          "model_name": "LayoutModel",
          "model_module_version": "1.2.0",
          "state": {
            "_model_module": "@jupyter-widgets/base",
            "_model_module_version": "1.2.0",
            "_model_name": "LayoutModel",
            "_view_count": null,
            "_view_module": "@jupyter-widgets/base",
            "_view_module_version": "1.2.0",
            "_view_name": "LayoutView",
            "align_content": null,
            "align_items": null,
            "align_self": null,
            "border": null,
            "bottom": null,
            "display": null,
            "flex": null,
            "flex_flow": null,
            "grid_area": null,
            "grid_auto_columns": null,
            "grid_auto_flow": null,
            "grid_auto_rows": null,
            "grid_column": null,
            "grid_gap": null,
            "grid_row": null,
            "grid_template_areas": null,
            "grid_template_columns": null,
            "grid_template_rows": null,
            "height": null,
            "justify_content": null,
            "justify_items": null,
            "left": null,
            "margin": null,
            "max_height": null,
            "max_width": null,
            "min_height": null,
            "min_width": null,
            "object_fit": null,
            "object_position": null,
            "order": null,
            "overflow": null,
            "overflow_x": null,
            "overflow_y": null,
            "padding": null,
            "right": null,
            "top": null,
            "visibility": null,
            "width": null
          }
        },
        "a2c5d70d395744d497add7f5c265ca70": {
          "model_module": "@jupyter-widgets/controls",
          "model_name": "DescriptionStyleModel",
          "model_module_version": "1.5.0",
          "state": {
            "_model_module": "@jupyter-widgets/controls",
            "_model_module_version": "1.5.0",
            "_model_name": "DescriptionStyleModel",
            "_view_count": null,
            "_view_module": "@jupyter-widgets/base",
            "_view_module_version": "1.2.0",
            "_view_name": "StyleView",
            "description_width": ""
          }
        },
        "4171164f80c249d0a361048ec055a299": {
          "model_module": "@jupyter-widgets/controls",
          "model_name": "RadioButtonsModel",
          "model_module_version": "1.5.0",
          "state": {
            "_dom_classes": [],
            "_model_module": "@jupyter-widgets/controls",
            "_model_module_version": "1.5.0",
            "_model_name": "RadioButtonsModel",
            "_options_labels": [
              "ANY selected tags",
              "ALL selected tags"
            ],
            "_view_count": null,
            "_view_module": "@jupyter-widgets/controls",
            "_view_module_version": "1.5.0",
            "_view_name": "RadioButtonsView",
            "description": "query with",
            "description_tooltip": null,
            "disabled": false,
            "index": 0,
            "layout": "IPY_MODEL_6a5b3673d9604ca4b22610c006180466",
            "style": "IPY_MODEL_5f64b039c1bb4a75a3a51704a32d5648"
          }
        },
        "36dab96a8d7d49d6820fe9ae98d6c627": {
          "model_module": "@jupyter-widgets/controls",
          "model_name": "CheckboxModel",
          "model_module_version": "1.5.0",
          "state": {
            "_dom_classes": [],
            "_model_module": "@jupyter-widgets/controls",
            "_model_module_version": "1.5.0",
            "_model_name": "CheckboxModel",
            "_view_count": null,
            "_view_module": "@jupyter-widgets/controls",
            "_view_module_version": "1.5.0",
            "_view_name": "CheckboxView",
            "description": "show hashtags",
            "description_tooltip": null,
            "disabled": false,
            "indent": true,
            "layout": "IPY_MODEL_bf0556a0e81c4d1c98ace99199db0b93",
            "style": "IPY_MODEL_7ad87ce2e9254cba99610d39a700f84e",
            "value": true
          }
        },
        "64594f7db4de428cbe140ec5274216b5": {
          "model_module": "@jupyter-widgets/controls",
          "model_name": "CheckboxModel",
          "model_module_version": "1.5.0",
          "state": {
            "_dom_classes": [],
            "_model_module": "@jupyter-widgets/controls",
            "_model_module_version": "1.5.0",
            "_model_name": "CheckboxModel",
            "_view_count": null,
            "_view_module": "@jupyter-widgets/controls",
            "_view_module_version": "1.5.0",
            "_view_name": "CheckboxView",
            "description": "show headings",
            "description_tooltip": null,
            "disabled": false,
            "indent": true,
            "layout": "IPY_MODEL_3cd19cc1840c44db9b0032d1c7c83e3c",
            "style": "IPY_MODEL_81287dea8ed242fd92156159b19a470d",
            "value": true
          }
        },
        "a0f502ab09e04ece84f88558daff4096": {
          "model_module": "@jupyter-widgets/base",
          "model_name": "LayoutModel",
          "model_module_version": "1.2.0",
          "state": {
            "_model_module": "@jupyter-widgets/base",
            "_model_module_version": "1.2.0",
            "_model_name": "LayoutModel",
            "_view_count": null,
            "_view_module": "@jupyter-widgets/base",
            "_view_module_version": "1.2.0",
            "_view_name": "LayoutView",
            "align_content": null,
            "align_items": null,
            "align_self": null,
            "border": null,
            "bottom": null,
            "display": null,
            "flex": null,
            "flex_flow": null,
            "grid_area": null,
            "grid_auto_columns": null,
            "grid_auto_flow": null,
            "grid_auto_rows": null,
            "grid_column": null,
            "grid_gap": null,
            "grid_row": null,
            "grid_template_areas": null,
            "grid_template_columns": null,
            "grid_template_rows": null,
            "height": null,
            "justify_content": null,
            "justify_items": null,
            "left": null,
            "margin": null,
            "max_height": null,
            "max_width": null,
            "min_height": null,
            "min_width": null,
            "object_fit": null,
            "object_position": null,
            "order": null,
            "overflow": null,
            "overflow_x": null,
            "overflow_y": null,
            "padding": null,
            "right": null,
            "top": null,
            "visibility": null,
            "width": null
          }
        },
        "92826928f31a4a04ad5062bdc3551898": {
          "model_module": "@jupyter-widgets/base",
          "model_name": "LayoutModel",
          "model_module_version": "1.2.0",
          "state": {
            "_model_module": "@jupyter-widgets/base",
            "_model_module_version": "1.2.0",
            "_model_name": "LayoutModel",
            "_view_count": null,
            "_view_module": "@jupyter-widgets/base",
            "_view_module_version": "1.2.0",
            "_view_name": "LayoutView",
            "align_content": null,
            "align_items": null,
            "align_self": null,
            "border": null,
            "bottom": null,
            "display": null,
            "flex": null,
            "flex_flow": null,
            "grid_area": null,
            "grid_auto_columns": null,
            "grid_auto_flow": null,
            "grid_auto_rows": null,
            "grid_column": null,
            "grid_gap": null,
            "grid_row": null,
            "grid_template_areas": null,
            "grid_template_columns": null,
            "grid_template_rows": null,
            "height": null,
            "justify_content": null,
            "justify_items": null,
            "left": null,
            "margin": null,
            "max_height": null,
            "max_width": null,
            "min_height": null,
            "min_width": null,
            "object_fit": null,
            "object_position": null,
            "order": null,
            "overflow": null,
            "overflow_x": null,
            "overflow_y": null,
            "padding": null,
            "right": null,
            "top": null,
            "visibility": null,
            "width": null
          }
        },
        "8bfcf0cb6692495ab0be840c54ff7b9a": {
          "model_module": "@jupyter-widgets/controls",
          "model_name": "DescriptionStyleModel",
          "model_module_version": "1.5.0",
          "state": {
            "_model_module": "@jupyter-widgets/controls",
            "_model_module_version": "1.5.0",
            "_model_name": "DescriptionStyleModel",
            "_view_count": null,
            "_view_module": "@jupyter-widgets/base",
            "_view_module_version": "1.2.0",
            "_view_name": "StyleView",
            "description_width": ""
          }
        },
        "091abb4c211447d8b48b7f8e4230ea46": {
          "model_module": "@jupyter-widgets/base",
          "model_name": "LayoutModel",
          "model_module_version": "1.2.0",
          "state": {
            "_model_module": "@jupyter-widgets/base",
            "_model_module_version": "1.2.0",
            "_model_name": "LayoutModel",
            "_view_count": null,
            "_view_module": "@jupyter-widgets/base",
            "_view_module_version": "1.2.0",
            "_view_name": "LayoutView",
            "align_content": null,
            "align_items": null,
            "align_self": null,
            "border": null,
            "bottom": null,
            "display": null,
            "flex": null,
            "flex_flow": null,
            "grid_area": null,
            "grid_auto_columns": null,
            "grid_auto_flow": null,
            "grid_auto_rows": null,
            "grid_column": null,
            "grid_gap": null,
            "grid_row": null,
            "grid_template_areas": null,
            "grid_template_columns": null,
            "grid_template_rows": null,
            "height": null,
            "justify_content": null,
            "justify_items": null,
            "left": null,
            "margin": null,
            "max_height": null,
            "max_width": null,
            "min_height": null,
            "min_width": null,
            "object_fit": null,
            "object_position": null,
            "order": null,
            "overflow": null,
            "overflow_x": null,
            "overflow_y": null,
            "padding": null,
            "right": null,
            "top": null,
            "visibility": null,
            "width": null
          }
        },
        "2353adf830de4143b0552508f69df840": {
          "model_module": "@jupyter-widgets/controls",
          "model_name": "DescriptionStyleModel",
          "model_module_version": "1.5.0",
          "state": {
            "_model_module": "@jupyter-widgets/controls",
            "_model_module_version": "1.5.0",
            "_model_name": "DescriptionStyleModel",
            "_view_count": null,
            "_view_module": "@jupyter-widgets/base",
            "_view_module_version": "1.2.0",
            "_view_name": "StyleView",
            "description_width": ""
          }
        },
        "6a5b3673d9604ca4b22610c006180466": {
          "model_module": "@jupyter-widgets/base",
          "model_name": "LayoutModel",
          "model_module_version": "1.2.0",
          "state": {
            "_model_module": "@jupyter-widgets/base",
            "_model_module_version": "1.2.0",
            "_model_name": "LayoutModel",
            "_view_count": null,
            "_view_module": "@jupyter-widgets/base",
            "_view_module_version": "1.2.0",
            "_view_name": "LayoutView",
            "align_content": null,
            "align_items": null,
            "align_self": null,
            "border": null,
            "bottom": null,
            "display": null,
            "flex": null,
            "flex_flow": null,
            "grid_area": null,
            "grid_auto_columns": null,
            "grid_auto_flow": null,
            "grid_auto_rows": null,
            "grid_column": null,
            "grid_gap": null,
            "grid_row": null,
            "grid_template_areas": null,
            "grid_template_columns": null,
            "grid_template_rows": null,
            "height": null,
            "justify_content": null,
            "justify_items": null,
            "left": null,
            "margin": null,
            "max_height": null,
            "max_width": null,
            "min_height": null,
            "min_width": null,
            "object_fit": null,
            "object_position": null,
            "order": null,
            "overflow": null,
            "overflow_x": null,
            "overflow_y": null,
            "padding": null,
            "right": null,
            "top": null,
            "visibility": null,
            "width": null
          }
        },
        "5f64b039c1bb4a75a3a51704a32d5648": {
          "model_module": "@jupyter-widgets/controls",
          "model_name": "DescriptionStyleModel",
          "model_module_version": "1.5.0",
          "state": {
            "_model_module": "@jupyter-widgets/controls",
            "_model_module_version": "1.5.0",
            "_model_name": "DescriptionStyleModel",
            "_view_count": null,
            "_view_module": "@jupyter-widgets/base",
            "_view_module_version": "1.2.0",
            "_view_name": "StyleView",
            "description_width": ""
          }
        },
        "bf0556a0e81c4d1c98ace99199db0b93": {
          "model_module": "@jupyter-widgets/base",
          "model_name": "LayoutModel",
          "model_module_version": "1.2.0",
          "state": {
            "_model_module": "@jupyter-widgets/base",
            "_model_module_version": "1.2.0",
            "_model_name": "LayoutModel",
            "_view_count": null,
            "_view_module": "@jupyter-widgets/base",
            "_view_module_version": "1.2.0",
            "_view_name": "LayoutView",
            "align_content": null,
            "align_items": null,
            "align_self": null,
            "border": null,
            "bottom": null,
            "display": null,
            "flex": null,
            "flex_flow": null,
            "grid_area": null,
            "grid_auto_columns": null,
            "grid_auto_flow": null,
            "grid_auto_rows": null,
            "grid_column": null,
            "grid_gap": null,
            "grid_row": null,
            "grid_template_areas": null,
            "grid_template_columns": null,
            "grid_template_rows": null,
            "height": null,
            "justify_content": null,
            "justify_items": null,
            "left": null,
            "margin": null,
            "max_height": null,
            "max_width": null,
            "min_height": null,
            "min_width": null,
            "object_fit": null,
            "object_position": null,
            "order": null,
            "overflow": null,
            "overflow_x": null,
            "overflow_y": null,
            "padding": null,
            "right": null,
            "top": null,
            "visibility": null,
            "width": null
          }
        },
        "7ad87ce2e9254cba99610d39a700f84e": {
          "model_module": "@jupyter-widgets/controls",
          "model_name": "DescriptionStyleModel",
          "model_module_version": "1.5.0",
          "state": {
            "_model_module": "@jupyter-widgets/controls",
            "_model_module_version": "1.5.0",
            "_model_name": "DescriptionStyleModel",
            "_view_count": null,
            "_view_module": "@jupyter-widgets/base",
            "_view_module_version": "1.2.0",
            "_view_name": "StyleView",
            "description_width": ""
          }
        },
        "3cd19cc1840c44db9b0032d1c7c83e3c": {
          "model_module": "@jupyter-widgets/base",
          "model_name": "LayoutModel",
          "model_module_version": "1.2.0",
          "state": {
            "_model_module": "@jupyter-widgets/base",
            "_model_module_version": "1.2.0",
            "_model_name": "LayoutModel",
            "_view_count": null,
            "_view_module": "@jupyter-widgets/base",
            "_view_module_version": "1.2.0",
            "_view_name": "LayoutView",
            "align_content": null,
            "align_items": null,
            "align_self": null,
            "border": null,
            "bottom": null,
            "display": null,
            "flex": null,
            "flex_flow": null,
            "grid_area": null,
            "grid_auto_columns": null,
            "grid_auto_flow": null,
            "grid_auto_rows": null,
            "grid_column": null,
            "grid_gap": null,
            "grid_row": null,
            "grid_template_areas": null,
            "grid_template_columns": null,
            "grid_template_rows": null,
            "height": null,
            "justify_content": null,
            "justify_items": null,
            "left": null,
            "margin": null,
            "max_height": null,
            "max_width": null,
            "min_height": null,
            "min_width": null,
            "object_fit": null,
            "object_position": null,
            "order": null,
            "overflow": null,
            "overflow_x": null,
            "overflow_y": null,
            "padding": null,
            "right": null,
            "top": null,
            "visibility": null,
            "width": null
          }
        },
        "81287dea8ed242fd92156159b19a470d": {
          "model_module": "@jupyter-widgets/controls",
          "model_name": "DescriptionStyleModel",
          "model_module_version": "1.5.0",
          "state": {
            "_model_module": "@jupyter-widgets/controls",
            "_model_module_version": "1.5.0",
            "_model_name": "DescriptionStyleModel",
            "_view_count": null,
            "_view_module": "@jupyter-widgets/base",
            "_view_module_version": "1.2.0",
            "_view_name": "StyleView",
            "description_width": ""
          }
        },
        "896459d5b0254d8bbf5f82988bd80949": {
          "model_module": "@jupyter-widgets/output",
          "model_name": "OutputModel",
          "model_module_version": "1.0.0",
          "state": {
            "_dom_classes": [],
            "_model_module": "@jupyter-widgets/output",
            "_model_module_version": "1.0.0",
            "_model_name": "OutputModel",
            "_view_count": null,
            "_view_module": "@jupyter-widgets/output",
            "_view_module_version": "1.0.0",
            "_view_name": "OutputView",
            "layout": "IPY_MODEL_e45fb5d37d584bedbb514686323c9b5a",
            "msg_id": "",
            "outputs": []
          }
        },
        "e45fb5d37d584bedbb514686323c9b5a": {
          "model_module": "@jupyter-widgets/base",
          "model_name": "LayoutModel",
          "model_module_version": "1.2.0",
          "state": {
            "_model_module": "@jupyter-widgets/base",
            "_model_module_version": "1.2.0",
            "_model_name": "LayoutModel",
            "_view_count": null,
            "_view_module": "@jupyter-widgets/base",
            "_view_module_version": "1.2.0",
            "_view_name": "LayoutView",
            "align_content": null,
            "align_items": null,
            "align_self": null,
            "border": null,
            "bottom": null,
            "display": null,
            "flex": null,
            "flex_flow": null,
            "grid_area": null,
            "grid_auto_columns": null,
            "grid_auto_flow": null,
            "grid_auto_rows": null,
            "grid_column": null,
            "grid_gap": null,
            "grid_row": null,
            "grid_template_areas": null,
            "grid_template_columns": null,
            "grid_template_rows": null,
            "height": null,
            "justify_content": null,
            "justify_items": null,
            "left": null,
            "margin": null,
            "max_height": null,
            "max_width": null,
            "min_height": null,
            "min_width": null,
            "object_fit": null,
            "object_position": null,
            "order": null,
            "overflow": null,
            "overflow_x": null,
            "overflow_y": null,
            "padding": null,
            "right": null,
            "top": null,
            "visibility": null,
            "width": null
          }
        },
        "e58cc104272e4251951ff514cfc8c6fd": {
          "model_module": "@jupyter-widgets/controls",
          "model_name": "SelectMultipleModel",
          "model_module_version": "1.5.0",
          "state": {
            "_dom_classes": [],
            "_model_module": "@jupyter-widgets/controls",
            "_model_module_version": "1.5.0",
            "_model_name": "SelectMultipleModel",
            "_options_labels": [
              "Tesla & SpaceX; Vehicle",
              "Tech Industry",
              "Finance",
              "Taiwan",
              "Crypto",
              "Science & Technology",
              "IT"
            ],
            "_view_count": null,
            "_view_module": "@jupyter-widgets/controls",
            "_view_module_version": "1.5.0",
            "_view_name": "SelectMultipleView",
            "description": "Categories",
            "description_tooltip": null,
            "disabled": false,
            "index": [],
            "layout": "IPY_MODEL_b387b951d2b34e37870b8f23f7f5f777",
            "rows": 7,
            "style": "IPY_MODEL_7cdeacb5363d4d61942e2f86f7fa1c9f"
          }
        },
        "b387b951d2b34e37870b8f23f7f5f777": {
          "model_module": "@jupyter-widgets/base",
          "model_name": "LayoutModel",
          "model_module_version": "1.2.0",
          "state": {
            "_model_module": "@jupyter-widgets/base",
            "_model_module_version": "1.2.0",
            "_model_name": "LayoutModel",
            "_view_count": null,
            "_view_module": "@jupyter-widgets/base",
            "_view_module_version": "1.2.0",
            "_view_name": "LayoutView",
            "align_content": null,
            "align_items": null,
            "align_self": null,
            "border": null,
            "bottom": null,
            "display": null,
            "flex": null,
            "flex_flow": null,
            "grid_area": null,
            "grid_auto_columns": null,
            "grid_auto_flow": null,
            "grid_auto_rows": null,
            "grid_column": null,
            "grid_gap": null,
            "grid_row": null,
            "grid_template_areas": null,
            "grid_template_columns": null,
            "grid_template_rows": null,
            "height": null,
            "justify_content": null,
            "justify_items": null,
            "left": null,
            "margin": null,
            "max_height": null,
            "max_width": null,
            "min_height": null,
            "min_width": null,
            "object_fit": null,
            "object_position": null,
            "order": null,
            "overflow": null,
            "overflow_x": null,
            "overflow_y": null,
            "padding": null,
            "right": null,
            "top": null,
            "visibility": null,
            "width": null
          }
        },
        "7cdeacb5363d4d61942e2f86f7fa1c9f": {
          "model_module": "@jupyter-widgets/controls",
          "model_name": "DescriptionStyleModel",
          "model_module_version": "1.5.0",
          "state": {
            "_model_module": "@jupyter-widgets/controls",
            "_model_module_version": "1.5.0",
            "_model_name": "DescriptionStyleModel",
            "_view_count": null,
            "_view_module": "@jupyter-widgets/base",
            "_view_module_version": "1.2.0",
            "_view_name": "StyleView",
            "description_width": ""
          }
        },
        "0fb330d92e414fd0ba967ac1be553d7f": {
          "model_module": "@jupyter-widgets/controls",
          "model_name": "SelectMultipleModel",
          "model_module_version": "1.5.0",
          "state": {
            "_dom_classes": [],
            "_model_module": "@jupyter-widgets/controls",
            "_model_module_version": "1.5.0",
            "_model_name": "SelectMultipleModel",
            "_options_labels": [],
            "_view_count": null,
            "_view_module": "@jupyter-widgets/controls",
            "_view_module_version": "1.5.0",
            "_view_name": "SelectMultipleView",
            "description": "Hash-Tags",
            "description_tooltip": null,
            "disabled": false,
            "index": [],
            "layout": "IPY_MODEL_2abea71141714f7b95e558fa128999c2",
            "rows": 0,
            "style": "IPY_MODEL_7334ac1295c9423e8b8c7dc24105e1c6"
          }
        },
        "2abea71141714f7b95e558fa128999c2": {
          "model_module": "@jupyter-widgets/base",
          "model_name": "LayoutModel",
          "model_module_version": "1.2.0",
          "state": {
            "_model_module": "@jupyter-widgets/base",
            "_model_module_version": "1.2.0",
            "_model_name": "LayoutModel",
            "_view_count": null,
            "_view_module": "@jupyter-widgets/base",
            "_view_module_version": "1.2.0",
            "_view_name": "LayoutView",
            "align_content": null,
            "align_items": null,
            "align_self": null,
            "border": null,
            "bottom": null,
            "display": null,
            "flex": null,
            "flex_flow": null,
            "grid_area": null,
            "grid_auto_columns": null,
            "grid_auto_flow": null,
            "grid_auto_rows": null,
            "grid_column": null,
            "grid_gap": null,
            "grid_row": null,
            "grid_template_areas": null,
            "grid_template_columns": null,
            "grid_template_rows": null,
            "height": null,
            "justify_content": null,
            "justify_items": null,
            "left": null,
            "margin": null,
            "max_height": null,
            "max_width": null,
            "min_height": null,
            "min_width": null,
            "object_fit": null,
            "object_position": null,
            "order": null,
            "overflow": null,
            "overflow_x": null,
            "overflow_y": null,
            "padding": null,
            "right": null,
            "top": null,
            "visibility": null,
            "width": null
          }
        },
        "7334ac1295c9423e8b8c7dc24105e1c6": {
          "model_module": "@jupyter-widgets/controls",
          "model_name": "DescriptionStyleModel",
          "model_module_version": "1.5.0",
          "state": {
            "_model_module": "@jupyter-widgets/controls",
            "_model_module_version": "1.5.0",
            "_model_name": "DescriptionStyleModel",
            "_view_count": null,
            "_view_module": "@jupyter-widgets/base",
            "_view_module_version": "1.2.0",
            "_view_name": "StyleView",
            "description_width": ""
          }
        }
      }
    }
  },
  "cells": [
    {
      "cell_type": "markdown",
      "metadata": {
        "id": "view-in-github",
        "colab_type": "text"
      },
      "source": [
        "<a href=\"https://colab.research.google.com/github/yorkjong/news-digest/blob/main/notebooks/news_query.ipynb\" target=\"_parent\"><img src=\"https://colab.research.google.com/assets/colab-badge.svg\" alt=\"Open In Colab\"/></a>"
      ]
    },
    {
      "cell_type": "markdown",
      "source": [
        "這支 colab notebook 的主要功能是\n",
        "- 提供 [news-digest](https://news-digest.vercel.app/) 網站上新聞檢索的功能。\n",
        "- 可以執行多條件檢索\n",
        "\n",
        "執行步驟如下：\n",
        "\n",
        "1. 按下 Install 下那個 code cell 前面的 ► 按鈕來安裝用到的模組\n",
        "2. 依喜好執行 UI used only Jupyter widgets 或 UI mixed Colab forms and Jupyter widgets\n"
      ],
      "metadata": {
        "id": "y2P1UErueEo2"
      }
    },
    {
      "cell_type": "markdown",
      "source": [
        "### Install"
      ],
      "metadata": {
        "id": "hHCkC4l-eU2o"
      }
    },
    {
      "cell_type": "code",
      "execution_count": null,
      "metadata": {
        "id": "Lr2JZy08eR28",
        "outputId": "4217e059-c57b-48cf-d444-22d004973ff2",
        "colab": {
          "base_uri": "https://localhost:8080/"
        }
      },
      "outputs": [
        {
          "output_type": "stream",
          "name": "stdout",
          "text": [
            "--2024-08-08 19:38:52--  https://raw.githubusercontent.com/yorkjong/news-digest/main/src/clip.py\n",
            "Resolving raw.githubusercontent.com (raw.githubusercontent.com)... 185.199.110.133, 185.199.108.133, 185.199.109.133, ...\n",
            "Connecting to raw.githubusercontent.com (raw.githubusercontent.com)|185.199.110.133|:443... connected.\n",
            "HTTP request sent, awaiting response... 200 OK\n",
            "Length: 8936 (8.7K) [text/plain]\n",
            "Saving to: ‘clip.py’\n",
            "\n",
            "\rclip.py               0%[                    ]       0  --.-KB/s               \rclip.py             100%[===================>]   8.73K  --.-KB/s    in 0s      \n",
            "\n",
            "2024-08-08 19:38:52 (83.4 MB/s) - ‘clip.py’ saved [8936/8936]\n",
            "\n",
            "--2024-08-08 19:38:52--  https://raw.githubusercontent.com/yorkjong/news-digest/main/src/op.py\n",
            "Resolving raw.githubusercontent.com (raw.githubusercontent.com)... 185.199.108.133, 185.199.111.133, 185.199.109.133, ...\n",
            "Connecting to raw.githubusercontent.com (raw.githubusercontent.com)|185.199.108.133|:443... connected.\n",
            "HTTP request sent, awaiting response... 200 OK\n",
            "Length: 5171 (5.0K) [text/plain]\n",
            "Saving to: ‘op.py’\n",
            "\n",
            "op.py               100%[===================>]   5.05K  --.-KB/s    in 0s      \n",
            "\n",
            "2024-08-08 19:38:53 (54.3 MB/s) - ‘op.py’ saved [5171/5171]\n",
            "\n",
            "--2024-08-08 19:38:53--  https://raw.githubusercontent.com/yorkjong/news-digest/main/src/hashtag.py\n",
            "Resolving raw.githubusercontent.com (raw.githubusercontent.com)... 185.199.111.133, 185.199.109.133, 185.199.108.133, ...\n",
            "Connecting to raw.githubusercontent.com (raw.githubusercontent.com)|185.199.111.133|:443... connected.\n",
            "HTTP request sent, awaiting response... 200 OK\n",
            "Length: 3804 (3.7K) [text/plain]\n",
            "Saving to: ‘hashtag.py’\n",
            "\n",
            "hashtag.py          100%[===================>]   3.71K  --.-KB/s    in 0s      \n",
            "\n",
            "2024-08-08 19:38:53 (57.5 MB/s) - ‘hashtag.py’ saved [3804/3804]\n",
            "\n"
          ]
        }
      ],
      "source": [
        "import os\n",
        "import importlib\n",
        "\n",
        "fns = ['clip.py', 'op.py', 'hashtag.py']\n",
        "\n",
        "for fn in fns:\n",
        "    if os.path.exists(fn):\n",
        "        os.remove(fn)\n",
        "for fn in fns:\n",
        "    url = f'https://raw.githubusercontent.com/yorkjong/news-digest/main/src/{fn}'\n",
        "    !wget $url\n",
        "\n",
        "import clip\n",
        "import hashtag\n",
        "\n",
        "#-------------------------------------------------------------------------------\n",
        "\n",
        "import ipywidgets as widgets\n",
        "\n",
        "def create_menu(name, options):\n",
        "    m = widgets.SelectMultiple(\n",
        "        options=options,\n",
        "        #value=[options[0]],\n",
        "        rows=min(len(options), 20),\n",
        "        description=name,\n",
        "        disabled=False\n",
        "    )\n",
        "    return m\n",
        "\n",
        "def create_widgets_only_ui():\n",
        "    uiDays = widgets.Dropdown(\n",
        "        options=[1, 2, 7, 14, 30],\n",
        "        value=1,\n",
        "        description='Period (days)',\n",
        "        disabled=False,\n",
        "    )\n",
        "    content = clip.merge_recent_journals(uiDays.value)\n",
        "    uiCates = create_menu(name='Categories', options=clip.get_categories(content))\n",
        "\n",
        "    uiTags = create_menu(name='Hash-Tags', options=[])\n",
        "\n",
        "    uiOp = widgets.RadioButtons(\n",
        "        options=[\n",
        "            ('ANY selected tags', hashtag.get_lines_with_any_hashtags),\n",
        "            ('ALL selected tags', hashtag.get_lines_with_all_hashtags)\n",
        "        ],\n",
        "        value=hashtag.get_lines_with_any_hashtags,\n",
        "        description='query with',\n",
        "        disabled=False\n",
        "    )\n",
        "\n",
        "    with_hashtags = widgets.Checkbox(\n",
        "        value=True,\n",
        "        description='show hashtags',\n",
        "        disabled=False,\n",
        "    )\n",
        "\n",
        "    with_headings = widgets.Checkbox(\n",
        "        value=True,\n",
        "        description='show headings',\n",
        "        disabled=False,\n",
        "    )\n",
        "\n",
        "    vbox1 = widgets.VBox([uiDays, uiCates])\n",
        "    vbox2 = widgets.VBox([uiOp, with_hashtags, with_headings])\n",
        "    ui = widgets.HBox([vbox1, uiTags, vbox2])\n",
        "    output = widgets.Output()\n",
        "\n",
        "    def on_days_change(change):\n",
        "        nonlocal content\n",
        "        content = clip.merge_recent_journals(uiDays.value)\n",
        "        uiCates.options = clip.get_categories(content)\n",
        "    uiDays.observe(on_days_change, names='value')\n",
        "\n",
        "    def on_cates_change(change):\n",
        "        lines = clip.get_lines_of_categories(uiCates.value, content, True, True)\n",
        "        uiTags.options=hashtag.get_hashtags(lines)\n",
        "        uiTags.rows=min(len(uiTags.options), 20)\n",
        "    uiCates.observe(on_cates_change, names='value')\n",
        "\n",
        "    def on_tags_change(change):\n",
        "        lines = clip.get_lines_of_categories(uiCates.value, content, True, True)\n",
        "        text = '\\n'.join(uiOp.value(lines, uiTags.value))\n",
        "        lines = clip.get_lines_of_categories(uiCates.value, text, with_hashtags.value, with_headings.value)\n",
        "        output.clear_output()\n",
        "        with output:\n",
        "            print('\\n'.join(lines))\n",
        "    uiTags.observe(on_tags_change, names='value')\n",
        "    uiOp.observe(on_tags_change, names='value')\n",
        "    with_hashtags.observe(on_tags_change, names='value')\n",
        "    with_headings.observe(on_tags_change, names='value')\n",
        "\n",
        "    display(ui, output)"
      ]
    },
    {
      "cell_type": "markdown",
      "source": [
        "### Query (UI used only Jupyter widgets)"
      ],
      "metadata": {
        "id": "JcTvyI4ixp9G"
      }
    },
    {
      "cell_type": "code",
      "source": [
        "create_widgets_only_ui()"
      ],
      "metadata": {
        "id": "cKBEEvn0T0bb",
        "outputId": "0d323220-90db-409e-db8b-116761eda933",
        "colab": {
          "base_uri": "https://localhost:8080/",
          "height": 176,
          "referenced_widgets": [
            "8e9626ec61bf40ce911a4b6255198122",
            "990c56ac292d432dab1451b4875c88a3",
            "881ca8e38a574bf09805ff8d07520ebc",
            "304cd4e8d9404b0487bdadf13b78822f",
            "a2df95468efa4f008ee4b3a741bae002",
            "7537c79a4146408d93b755566f2c3a15",
            "fa40385d49804605b9368e86bd81635a",
            "408da9c983d94ab5b3dfe52d8755a444",
            "167cf20678a14848b2f7c92ef474eb99",
            "a2c5d70d395744d497add7f5c265ca70",
            "4171164f80c249d0a361048ec055a299",
            "36dab96a8d7d49d6820fe9ae98d6c627",
            "64594f7db4de428cbe140ec5274216b5",
            "a0f502ab09e04ece84f88558daff4096",
            "92826928f31a4a04ad5062bdc3551898",
            "8bfcf0cb6692495ab0be840c54ff7b9a",
            "091abb4c211447d8b48b7f8e4230ea46",
            "2353adf830de4143b0552508f69df840",
            "6a5b3673d9604ca4b22610c006180466",
            "5f64b039c1bb4a75a3a51704a32d5648",
            "bf0556a0e81c4d1c98ace99199db0b93",
            "7ad87ce2e9254cba99610d39a700f84e",
            "3cd19cc1840c44db9b0032d1c7c83e3c",
            "81287dea8ed242fd92156159b19a470d",
            "896459d5b0254d8bbf5f82988bd80949",
            "e45fb5d37d584bedbb514686323c9b5a"
          ]
        }
      },
      "execution_count": null,
      "outputs": [
        {
          "output_type": "display_data",
          "data": {
            "text/plain": [
              "HBox(children=(VBox(children=(Dropdown(description='Period (days)', options=(1, 2, 7, 14, 30), value=1), Selec…"
            ],
            "application/vnd.jupyter.widget-view+json": {
              "version_major": 2,
              "version_minor": 0,
              "model_id": "8e9626ec61bf40ce911a4b6255198122"
            }
          },
          "metadata": {}
        },
        {
          "output_type": "display_data",
          "data": {
            "text/plain": [
              "Output()"
            ],
            "application/vnd.jupyter.widget-view+json": {
              "version_major": 2,
              "version_minor": 0,
              "model_id": "896459d5b0254d8bbf5f82988bd80949"
            }
          },
          "metadata": {}
        }
      ]
    },
    {
      "cell_type": "markdown",
      "source": [
        "### Query (UI mixed Colab forms and Jupyter widgets)\n",
        "- 依序選取，並執行查詢條件：週期（days）, 分類（Categories）, Tags, with ANY/ALL tags"
      ],
      "metadata": {
        "id": "p0e6R_L6edCu"
      }
    },
    {
      "cell_type": "code",
      "source": [
        "#@title Step 1. pick a **period** { run: \"auto\", display-mode: \"form\" }\n",
        "days = 1 #@param [\"1\", \"2\", \"7\", \"14\", \"30\"] {type:\"raw\", allow-input: true}\n",
        "content = clip.merge_recent_journals(days)"
      ],
      "metadata": {
        "id": "eivH1Vvcexia"
      },
      "execution_count": null,
      "outputs": []
    },
    {
      "cell_type": "markdown",
      "source": [
        "#### Step 2. select **Categories**\n",
        "- 先按下面那個 code cell 前面的 ► 按鈕，以列出完整的分類(Catetories)選單\n",
        "- macOS 下操作可按Cmd後用滑鼠複選（Windows 系統則按下Ctrl鍵後以滑鼠複選）\n",
        "  - 全選可按 Cmd+A (macOS) 或者 Ctrl+A (Windows)"
      ],
      "metadata": {
        "id": "XpvC-daFf25h"
      }
    },
    {
      "cell_type": "code",
      "source": [
        "categories = create_menu(name='Categories', options=clip.get_categories(content))\n",
        "display(categories)"
      ],
      "metadata": {
        "id": "60EZk07jheOw",
        "outputId": "a16d720f-c82e-4755-f2d9-40b2b8f50610",
        "colab": {
          "base_uri": "https://localhost:8080/",
          "height": 144,
          "referenced_widgets": [
            "e58cc104272e4251951ff514cfc8c6fd",
            "b387b951d2b34e37870b8f23f7f5f777",
            "7cdeacb5363d4d61942e2f86f7fa1c9f"
          ]
        }
      },
      "execution_count": null,
      "outputs": [
        {
          "output_type": "display_data",
          "data": {
            "text/plain": [
              "SelectMultiple(description='Categories', options=('Tesla & SpaceX; Vehicle', 'Tech Industry', 'Finance', 'Taiw…"
            ],
            "application/vnd.jupyter.widget-view+json": {
              "version_major": 2,
              "version_minor": 0,
              "model_id": "e58cc104272e4251951ff514cfc8c6fd"
            }
          },
          "metadata": {}
        }
      ]
    },
    {
      "cell_type": "markdown",
      "source": [
        "#### Step 3. select hash **Tags**\n",
        "- 先按下面那個 code cell 前面的 ► 按鈕，以列出完整的 #Tag 選單\n",
        "- macOS 下操作可按Cmd後用滑鼠複選（Windows 系統則按下Ctrl鍵後以滑鼠複選）\n",
        "   - 全選可按 Cmd+A (macOS) 或者 Ctrl+A (Windows)"
      ],
      "metadata": {
        "id": "ZbHKkQ42gX7J"
      }
    },
    {
      "cell_type": "code",
      "source": [
        "lines = clip.get_lines_of_categories(categories.value, content, with_hashtags=True, with_headings=True)\n",
        "tags = create_menu(name='Hash-Tags', options=hashtag.get_hashtags(lines))\n",
        "display(tags)"
      ],
      "metadata": {
        "id": "nTlvhe-Ygb3-",
        "outputId": "5ed73c2a-2ac1-46fc-95ac-443737f9729e",
        "colab": {
          "base_uri": "https://localhost:8080/",
          "height": 92,
          "referenced_widgets": [
            "0fb330d92e414fd0ba967ac1be553d7f",
            "2abea71141714f7b95e558fa128999c2",
            "7334ac1295c9423e8b8c7dc24105e1c6"
          ]
        }
      },
      "execution_count": null,
      "outputs": [
        {
          "output_type": "display_data",
          "data": {
            "text/plain": [
              "SelectMultiple(description='Hash-Tags', options=(), rows=0, value=())"
            ],
            "application/vnd.jupyter.widget-view+json": {
              "version_major": 2,
              "version_minor": 0,
              "model_id": "0fb330d92e414fd0ba967ac1be553d7f"
            }
          },
          "metadata": {}
        }
      ]
    },
    {
      "cell_type": "code",
      "source": [
        "#@title Step 4. decide **ANY** (or **ALL**) hash-tags with { run: \"auto\", display-mode: \"form\" }\n",
        "hashtag_with = \"ALL\" #@param [\"ANY\", \"ALL\"]\n",
        "\n",
        "tbl = {\n",
        "    'ANY': hashtag.get_lines_with_any_hashtags,\n",
        "    'ALL': hashtag.get_lines_with_all_hashtags,\n",
        "}\n",
        "\n",
        "out_lines = tbl[hashtag_with](lines, tags.value)\n",
        "print('\\n'.join(out_lines))"
      ],
      "metadata": {
        "id": "FuIJbth8GqcG",
        "outputId": "b50afb2e-9d65-4af6-bac1-bbcd010a017a",
        "colab": {
          "base_uri": "https://localhost:8080/"
        }
      },
      "execution_count": null,
      "outputs": [
        {
          "output_type": "stream",
          "name": "stdout",
          "text": [
            "\n"
          ]
        }
      ]
    },
    {
      "cell_type": "markdown",
      "source": [
        "### See Also\n",
        "- [news_clip.ipynb (from GitHub)](https://colab.research.google.com/github/yorkjong/news-digest/blob/main/notebooks/news_clip.ipynb)"
      ],
      "metadata": {
        "id": "WU7njOeT4vJw"
      }
    }
  ]
}