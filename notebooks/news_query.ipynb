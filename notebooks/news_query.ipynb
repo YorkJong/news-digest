{
  "nbformat": 4,
  "nbformat_minor": 0,
  "metadata": {
    "colab": {
      "provenance": [],
      "collapsed_sections": [
        "hHCkC4l-eU2o"
      ],
      "authorship_tag": "ABX9TyOhfoKCE0l48V7babL9TvO9",
      "include_colab_link": true
    },
    "kernelspec": {
      "name": "python3",
      "display_name": "Python 3"
    },
    "language_info": {
      "name": "python"
    },
    "widgets": {
      "application/vnd.jupyter.widget-state+json": {
        "cebabe768412403d808a3b448dc75155": {
          "model_module": "@jupyter-widgets/controls",
          "model_name": "SelectMultipleModel",
          "model_module_version": "1.5.0",
          "state": {
            "_dom_classes": [],
            "_model_module": "@jupyter-widgets/controls",
            "_model_module_version": "1.5.0",
            "_model_name": "SelectMultipleModel",
            "_options_labels": [
              "Tesla & SpaceX; Vehicle",
              "Tech Titans",
              "Finance",
              "Taiwan",
              "Crypto",
              "Technology",
              "AI"
            ],
            "_view_count": null,
            "_view_module": "@jupyter-widgets/controls",
            "_view_module_version": "1.5.0",
            "_view_name": "SelectMultipleView",
            "description": "Categories",
            "description_tooltip": null,
            "disabled": false,
            "index": [
              0,
              1
            ],
            "layout": "IPY_MODEL_2992c15b1a4c4df3a9dbe35a23ac9078",
            "rows": 7,
            "style": "IPY_MODEL_ef0ffb657e4f45488334a4fa2e2d7e4a"
          }
        },
        "2992c15b1a4c4df3a9dbe35a23ac9078": {
          "model_module": "@jupyter-widgets/base",
          "model_name": "LayoutModel",
          "model_module_version": "1.2.0",
          "state": {
            "_model_module": "@jupyter-widgets/base",
            "_model_module_version": "1.2.0",
            "_model_name": "LayoutModel",
            "_view_count": null,
            "_view_module": "@jupyter-widgets/base",
            "_view_module_version": "1.2.0",
            "_view_name": "LayoutView",
            "align_content": null,
            "align_items": null,
            "align_self": null,
            "border": null,
            "bottom": null,
            "display": null,
            "flex": null,
            "flex_flow": null,
            "grid_area": null,
            "grid_auto_columns": null,
            "grid_auto_flow": null,
            "grid_auto_rows": null,
            "grid_column": null,
            "grid_gap": null,
            "grid_row": null,
            "grid_template_areas": null,
            "grid_template_columns": null,
            "grid_template_rows": null,
            "height": null,
            "justify_content": null,
            "justify_items": null,
            "left": null,
            "margin": null,
            "max_height": null,
            "max_width": null,
            "min_height": null,
            "min_width": null,
            "object_fit": null,
            "object_position": null,
            "order": null,
            "overflow": null,
            "overflow_x": null,
            "overflow_y": null,
            "padding": null,
            "right": null,
            "top": null,
            "visibility": null,
            "width": null
          }
        },
        "ef0ffb657e4f45488334a4fa2e2d7e4a": {
          "model_module": "@jupyter-widgets/controls",
          "model_name": "DescriptionStyleModel",
          "model_module_version": "1.5.0",
          "state": {
            "_model_module": "@jupyter-widgets/controls",
            "_model_module_version": "1.5.0",
            "_model_name": "DescriptionStyleModel",
            "_view_count": null,
            "_view_module": "@jupyter-widgets/base",
            "_view_module_version": "1.2.0",
            "_view_name": "StyleView",
            "description_width": ""
          }
        },
        "24f419aa55fa4ac8a4027848fcb52444": {
          "model_module": "@jupyter-widgets/controls",
          "model_name": "SelectMultipleModel",
          "model_module_version": "1.5.0",
          "state": {
            "_dom_classes": [],
            "_model_module": "@jupyter-widgets/controls",
            "_model_module_version": "1.5.0",
            "_model_name": "SelectMultipleModel",
            "_options_labels": [
              "#AAPL",
              "#AMZN",
              "#China",
              "#Crypto",
              "#GOOG",
              "#INTC",
              "#MSFT",
              "#NFT",
              "#Samsung",
              "#TSM",
              "#semicon"
            ],
            "_view_count": null,
            "_view_module": "@jupyter-widgets/controls",
            "_view_module_version": "1.5.0",
            "_view_name": "SelectMultipleView",
            "description": "Hash-Tags",
            "description_tooltip": null,
            "disabled": false,
            "index": [
              0,
              4
            ],
            "layout": "IPY_MODEL_c5ac0ef74f734f53bd1bf282dbe6ab2a",
            "rows": 11,
            "style": "IPY_MODEL_2de51e221ee84dff8919f124a79ceace"
          }
        },
        "c5ac0ef74f734f53bd1bf282dbe6ab2a": {
          "model_module": "@jupyter-widgets/base",
          "model_name": "LayoutModel",
          "model_module_version": "1.2.0",
          "state": {
            "_model_module": "@jupyter-widgets/base",
            "_model_module_version": "1.2.0",
            "_model_name": "LayoutModel",
            "_view_count": null,
            "_view_module": "@jupyter-widgets/base",
            "_view_module_version": "1.2.0",
            "_view_name": "LayoutView",
            "align_content": null,
            "align_items": null,
            "align_self": null,
            "border": null,
            "bottom": null,
            "display": null,
            "flex": null,
            "flex_flow": null,
            "grid_area": null,
            "grid_auto_columns": null,
            "grid_auto_flow": null,
            "grid_auto_rows": null,
            "grid_column": null,
            "grid_gap": null,
            "grid_row": null,
            "grid_template_areas": null,
            "grid_template_columns": null,
            "grid_template_rows": null,
            "height": null,
            "justify_content": null,
            "justify_items": null,
            "left": null,
            "margin": null,
            "max_height": null,
            "max_width": null,
            "min_height": null,
            "min_width": null,
            "object_fit": null,
            "object_position": null,
            "order": null,
            "overflow": null,
            "overflow_x": null,
            "overflow_y": null,
            "padding": null,
            "right": null,
            "top": null,
            "visibility": null,
            "width": null
          }
        },
        "2de51e221ee84dff8919f124a79ceace": {
          "model_module": "@jupyter-widgets/controls",
          "model_name": "DescriptionStyleModel",
          "model_module_version": "1.5.0",
          "state": {
            "_model_module": "@jupyter-widgets/controls",
            "_model_module_version": "1.5.0",
            "_model_name": "DescriptionStyleModel",
            "_view_count": null,
            "_view_module": "@jupyter-widgets/base",
            "_view_module_version": "1.2.0",
            "_view_name": "StyleView",
            "description_width": ""
          }
        }
      }
    }
  },
  "cells": [
    {
      "cell_type": "markdown",
      "metadata": {
        "id": "view-in-github",
        "colab_type": "text"
      },
      "source": [
        "<a href=\"https://colab.research.google.com/github/YorkJong/news-digest/blob/main/notebooks/news_query.ipynb\" target=\"_parent\"><img src=\"https://colab.research.google.com/assets/colab-badge.svg\" alt=\"Open In Colab\"/></a>"
      ]
    },
    {
      "cell_type": "markdown",
      "source": [
        "這支 colab notebook 是為了檢索 [news-digest](https://news-digest.vercel.app/) 網站上的新聞而寫的。可以執行多條件檢索，執行步驟如下：\n",
        "\n",
        "1. 按下 Install 下那個 code cell 前面的 ► 按鈕來安裝用到的模組\n",
        "2. 依序選取，並執行查詢條件：天數（Recent Days）, 分類（Categories）, Tags, with ANY/ALL tags"
      ],
      "metadata": {
        "id": "y2P1UErueEo2"
      }
    },
    {
      "cell_type": "markdown",
      "source": [
        "### Install"
      ],
      "metadata": {
        "id": "hHCkC4l-eU2o"
      }
    },
    {
      "cell_type": "code",
      "execution_count": 2,
      "metadata": {
        "colab": {
          "base_uri": "https://localhost:8080/"
        },
        "id": "Lr2JZy08eR28",
        "outputId": "09e7990d-737b-4668-f07d-22f6f8c47a6b"
      },
      "outputs": [
        {
          "output_type": "stream",
          "name": "stdout",
          "text": [
            "--2023-03-26 02:21:22--  https://raw.githubusercontent.com/YorkJong/news-digest/main/api/clip.py\n",
            "Resolving raw.githubusercontent.com (raw.githubusercontent.com)... 185.199.108.133, 185.199.109.133, 185.199.110.133, ...\n",
            "Connecting to raw.githubusercontent.com (raw.githubusercontent.com)|185.199.108.133|:443... connected.\n",
            "HTTP request sent, awaiting response... 200 OK\n",
            "Length: 6800 (6.6K) [text/plain]\n",
            "Saving to: ‘clip.py’\n",
            "\n",
            "\rclip.py               0%[                    ]       0  --.-KB/s               \rclip.py             100%[===================>]   6.64K  --.-KB/s    in 0s      \n",
            "\n",
            "2023-03-26 02:21:23 (70.0 MB/s) - ‘clip.py’ saved [6800/6800]\n",
            "\n",
            "--2023-03-26 02:21:23--  https://raw.githubusercontent.com/YorkJong/news-digest/main/api/line.py\n",
            "Resolving raw.githubusercontent.com (raw.githubusercontent.com)... 185.199.108.133, 185.199.109.133, 185.199.110.133, ...\n",
            "Connecting to raw.githubusercontent.com (raw.githubusercontent.com)|185.199.108.133|:443... connected.\n",
            "HTTP request sent, awaiting response... 200 OK\n",
            "Length: 3425 (3.3K) [text/plain]\n",
            "Saving to: ‘line.py’\n",
            "\n",
            "line.py             100%[===================>]   3.34K  --.-KB/s    in 0s      \n",
            "\n",
            "2023-03-26 02:21:23 (33.4 MB/s) - ‘line.py’ saved [3425/3425]\n",
            "\n",
            "--2023-03-26 02:21:23--  https://raw.githubusercontent.com/YorkJong/news-digest/main/api/op.py\n",
            "Resolving raw.githubusercontent.com (raw.githubusercontent.com)... 185.199.111.133, 185.199.110.133, 185.199.108.133, ...\n",
            "Connecting to raw.githubusercontent.com (raw.githubusercontent.com)|185.199.111.133|:443... connected.\n",
            "HTTP request sent, awaiting response... 200 OK\n",
            "Length: 4686 (4.6K) [text/plain]\n",
            "Saving to: ‘op.py’\n",
            "\n",
            "op.py               100%[===================>]   4.58K  --.-KB/s    in 0s      \n",
            "\n",
            "2023-03-26 02:21:23 (58.2 MB/s) - ‘op.py’ saved [4686/4686]\n",
            "\n",
            "--2023-03-26 02:21:23--  https://raw.githubusercontent.com/YorkJong/news-digest/main/api/hashtag.py\n",
            "Resolving raw.githubusercontent.com (raw.githubusercontent.com)... 185.199.109.133, 185.199.108.133, 185.199.111.133, ...\n",
            "Connecting to raw.githubusercontent.com (raw.githubusercontent.com)|185.199.109.133|:443... connected.\n",
            "HTTP request sent, awaiting response... 200 OK\n",
            "Length: 2290 (2.2K) [text/plain]\n",
            "Saving to: ‘hashtag.py’\n",
            "\n",
            "hashtag.py          100%[===================>]   2.24K  --.-KB/s    in 0s      \n",
            "\n",
            "2023-03-26 02:21:23 (40.3 MB/s) - ‘hashtag.py’ saved [2290/2290]\n",
            "\n"
          ]
        }
      ],
      "source": [
        "import os\n",
        "\n",
        "fns = ['clip.py', 'line.py', 'op.py', 'hashtag.py']\n",
        "\n",
        "for fn in fns:\n",
        "    if os.path.exists(fn):\n",
        "        os.remove(fn)\n",
        "for fn in fns:\n",
        "    url = f'https://raw.githubusercontent.com/YorkJong/news-digest/main/api/{fn}'\n",
        "    !wget $url\n",
        "\n",
        "import clip\n",
        "import line\n",
        "import hashtag\n",
        "\n",
        "#-------------------------------------------------------------------------------\n",
        "\n",
        "import ipywidgets as widgets\n",
        "\n",
        "def create_menu(name, options):\n",
        "    m = widgets.SelectMultiple(\n",
        "        options=options,\n",
        "        value=[options[0]],\n",
        "        rows=len(options),\n",
        "        description=name,\n",
        "        disabled=False\n",
        "    )\n",
        "    display(m)\n",
        "    return m"
      ]
    },
    {
      "cell_type": "markdown",
      "source": [
        "### Query Conditions"
      ],
      "metadata": {
        "id": "p0e6R_L6edCu"
      }
    },
    {
      "cell_type": "code",
      "source": [
        "#@title Step 1. pick a **period** { run: \"auto\", display-mode: \"form\" }\n",
        "days = 1 #@param [\"1\", \"2\", \"7\", \"14\", \"30\"] {type:\"raw\", allow-input: true}\n",
        "content = clip.merge_recent_journals(days)"
      ],
      "metadata": {
        "id": "eivH1Vvcexia"
      },
      "execution_count": 12,
      "outputs": []
    },
    {
      "cell_type": "markdown",
      "source": [
        "#### Step 2. select **Categories**\n",
        "- 先按下面那個 code cell 前面的 ► 按鈕，以列出完整的分類(Catetories)選單\n",
        "- macOS 下操作可按Cmd後用滑鼠複選（Windows 系統則按下Ctrl鍵後以滑鼠複選）\n",
        "  - 全選可按 Cmd+A (macOS) 或者 Ctrl+A (Windows)"
      ],
      "metadata": {
        "id": "XpvC-daFf25h"
      }
    },
    {
      "cell_type": "code",
      "source": [
        "categories = create_menu(name='Categories', options=clip.get_categories(content))"
      ],
      "metadata": {
        "colab": {
          "base_uri": "https://localhost:8080/",
          "height": 144,
          "referenced_widgets": [
            "cebabe768412403d808a3b448dc75155",
            "2992c15b1a4c4df3a9dbe35a23ac9078",
            "ef0ffb657e4f45488334a4fa2e2d7e4a"
          ]
        },
        "id": "60EZk07jheOw",
        "outputId": "4b564142-a040-420d-f128-efd4277a5c7e"
      },
      "execution_count": 16,
      "outputs": [
        {
          "output_type": "display_data",
          "data": {
            "text/plain": [
              "SelectMultiple(description='Categories', index=(0,), options=('Tesla & SpaceX; Vehicle', 'Tech Titans', 'Finan…"
            ],
            "application/vnd.jupyter.widget-view+json": {
              "version_major": 2,
              "version_minor": 0,
              "model_id": "cebabe768412403d808a3b448dc75155"
            }
          },
          "metadata": {}
        }
      ]
    },
    {
      "cell_type": "markdown",
      "source": [
        "#### Step 3. select hash **Tags**\n",
        "- 先按下面那個 code cell 前面的 ► 按鈕，以列出完整的 #Tag 選單\n",
        "- macOS 下操作可按Cmd後用滑鼠複選（Windows 系統則按下Ctrl鍵後以滑鼠複選）\n",
        "   - 全選可按 Cmd+A (macOS) 或者 Ctrl+A (Windows)"
      ],
      "metadata": {
        "id": "ZbHKkQ42gX7J"
      }
    },
    {
      "cell_type": "code",
      "source": [
        "lines = clip.get_lines_of_categories(categories.value, content, with_hashtags=True, with_headers=True)\n",
        "tags = create_menu(name='Hash-Tags', options=hashtag.get_hashtags(lines))"
      ],
      "metadata": {
        "colab": {
          "base_uri": "https://localhost:8080/",
          "height": 211,
          "referenced_widgets": [
            "24f419aa55fa4ac8a4027848fcb52444",
            "c5ac0ef74f734f53bd1bf282dbe6ab2a",
            "2de51e221ee84dff8919f124a79ceace"
          ]
        },
        "id": "nTlvhe-Ygb3-",
        "outputId": "3cf94ddf-64bb-4187-f1e6-415dfcd44ccf"
      },
      "execution_count": 14,
      "outputs": [
        {
          "output_type": "display_data",
          "data": {
            "text/plain": [
              "SelectMultiple(description='Hash-Tags', index=(0,), options=('#AAPL', '#AMZN', '#China', '#Crypto', '#GOOG', '…"
            ],
            "application/vnd.jupyter.widget-view+json": {
              "version_major": 2,
              "version_minor": 0,
              "model_id": "24f419aa55fa4ac8a4027848fcb52444"
            }
          },
          "metadata": {}
        }
      ]
    },
    {
      "cell_type": "code",
      "source": [
        "#@title Step 4. decide **ANY** (or **ALL**) hash-tags with { run: \"auto\", display-mode: \"form\" }\n",
        "hashtag_with = \"ANY\" #@param [\"ANY\", \"ALL\"]\n",
        "\n",
        "tbl = {\n",
        "    'ANY': hashtag.get_lines_with_any_hashtag,\n",
        "    'ALL': hashtag.get_lines_with_all_hashtags,\n",
        "}\n",
        "\n",
        "out_lines = tbl[hashtag_with](lines, tags.value)\n",
        "print('\\n'.join(out_lines))"
      ],
      "metadata": {
        "colab": {
          "base_uri": "https://localhost:8080/"
        },
        "id": "FuIJbth8GqcG",
        "outputId": "a816ea3d-c028-4ad0-ad53-0923de2e2f4c"
      },
      "execution_count": 19,
      "outputs": [
        {
          "output_type": "stream",
          "name": "stdout",
          "text": [
            "### Tech Titans\n",
            "- [霸主失血中！導入 ChatGPT 以來微軟 Bing 流量成長近 16% Google 已下降 1%](https://www.inside.com.tw/article/31127-bing-GPT-4-vs-google-traffic) #MSFT #GOOG\n",
            "- [蘋果庫克讚揚中國創新快速 而且有望加速](https://m.cnyes.com/news/id/5126748) #AAPL #China\n",
            "\n"
          ]
        }
      ]
    }
  ]
}