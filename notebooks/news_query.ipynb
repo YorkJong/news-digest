{
  "nbformat": 4,
  "nbformat_minor": 0,
  "metadata": {
    "colab": {
      "provenance": [],
      "collapsed_sections": [
        "hHCkC4l-eU2o"
      ],
      "authorship_tag": "ABX9TyMKl34eIcwFx5rVRpDaTxCu",
      "include_colab_link": true
    },
    "kernelspec": {
      "name": "python3",
      "display_name": "Python 3"
    },
    "language_info": {
      "name": "python"
    },
    "widgets": {
      "application/vnd.jupyter.widget-state+json": {
        "ed5fcb0f8f7d400cb2214e5ecc1a82c8": {
          "model_module": "@jupyter-widgets/controls",
          "model_name": "SelectMultipleModel",
          "model_module_version": "1.5.0",
          "state": {
            "_dom_classes": [],
            "_model_module": "@jupyter-widgets/controls",
            "_model_module_version": "1.5.0",
            "_model_name": "SelectMultipleModel",
            "_options_labels": [
              "Tesla & SpaceX; Vehicle",
              "Tech Titans",
              "Finance",
              "Taiwan",
              "Crypto",
              "Technology",
              "AI"
            ],
            "_view_count": null,
            "_view_module": "@jupyter-widgets/controls",
            "_view_module_version": "1.5.0",
            "_view_name": "SelectMultipleView",
            "description": "Categories",
            "description_tooltip": null,
            "disabled": false,
            "index": [
              0,
              1,
              2,
              3,
              4,
              5,
              6
            ],
            "layout": "IPY_MODEL_41439573074a47febd05bea5bb118f78",
            "rows": 7,
            "style": "IPY_MODEL_fc75d2ef27a24191bbf05465a429cefc"
          }
        },
        "41439573074a47febd05bea5bb118f78": {
          "model_module": "@jupyter-widgets/base",
          "model_name": "LayoutModel",
          "model_module_version": "1.2.0",
          "state": {
            "_model_module": "@jupyter-widgets/base",
            "_model_module_version": "1.2.0",
            "_model_name": "LayoutModel",
            "_view_count": null,
            "_view_module": "@jupyter-widgets/base",
            "_view_module_version": "1.2.0",
            "_view_name": "LayoutView",
            "align_content": null,
            "align_items": null,
            "align_self": null,
            "border": null,
            "bottom": null,
            "display": null,
            "flex": null,
            "flex_flow": null,
            "grid_area": null,
            "grid_auto_columns": null,
            "grid_auto_flow": null,
            "grid_auto_rows": null,
            "grid_column": null,
            "grid_gap": null,
            "grid_row": null,
            "grid_template_areas": null,
            "grid_template_columns": null,
            "grid_template_rows": null,
            "height": null,
            "justify_content": null,
            "justify_items": null,
            "left": null,
            "margin": null,
            "max_height": null,
            "max_width": null,
            "min_height": null,
            "min_width": null,
            "object_fit": null,
            "object_position": null,
            "order": null,
            "overflow": null,
            "overflow_x": null,
            "overflow_y": null,
            "padding": null,
            "right": null,
            "top": null,
            "visibility": null,
            "width": null
          }
        },
        "fc75d2ef27a24191bbf05465a429cefc": {
          "model_module": "@jupyter-widgets/controls",
          "model_name": "DescriptionStyleModel",
          "model_module_version": "1.5.0",
          "state": {
            "_model_module": "@jupyter-widgets/controls",
            "_model_module_version": "1.5.0",
            "_model_name": "DescriptionStyleModel",
            "_view_count": null,
            "_view_module": "@jupyter-widgets/base",
            "_view_module_version": "1.2.0",
            "_view_name": "StyleView",
            "description_width": ""
          }
        },
        "8ad4c55706ad4017913134be0a818a99": {
          "model_module": "@jupyter-widgets/controls",
          "model_name": "SelectMultipleModel",
          "model_module_version": "1.5.0",
          "state": {
            "_dom_classes": [],
            "_model_module": "@jupyter-widgets/controls",
            "_model_module_version": "1.5.0",
            "_model_name": "SelectMultipleModel",
            "_options_labels": [
              "#AAPL",
              "#AI",
              "#ARM",
              "#ASML",
              "#AT1",
              "#BCOM",
              "#BTC",
              "#BTCC",
              "#Bard",
              "#Bing",
              "#ChatGPT",
              "#Crypto",
              "#DOGE",
              "#EV",
              "#FCEV",
              "#Fed",
              "#GPT4",
              "#LLM",
              "#META",
              "#MSFT",
              "#MTK",
              "#NVDA",
              "#Notion",
              "#OpenAI",
              "#QT",
              "#SpaceX",
              "#TSLA",
              "#TSM",
              "#TW",
              "#TWTR",
              "#Terra",
              "#Youtube",
              "#gold",
              "#semicon",
              "#space",
              "#tech",
              "#work",
              "#投资TALK君"
            ],
            "_view_count": null,
            "_view_module": "@jupyter-widgets/controls",
            "_view_module_version": "1.5.0",
            "_view_name": "SelectMultipleView",
            "description": "Categories",
            "description_tooltip": null,
            "disabled": false,
            "index": [
              0
            ],
            "layout": "IPY_MODEL_2989577f404b48b4904621acd31dbebb",
            "rows": 38,
            "style": "IPY_MODEL_ba473188c8654225b74be79d0a18aeba"
          }
        },
        "2989577f404b48b4904621acd31dbebb": {
          "model_module": "@jupyter-widgets/base",
          "model_name": "LayoutModel",
          "model_module_version": "1.2.0",
          "state": {
            "_model_module": "@jupyter-widgets/base",
            "_model_module_version": "1.2.0",
            "_model_name": "LayoutModel",
            "_view_count": null,
            "_view_module": "@jupyter-widgets/base",
            "_view_module_version": "1.2.0",
            "_view_name": "LayoutView",
            "align_content": null,
            "align_items": null,
            "align_self": null,
            "border": null,
            "bottom": null,
            "display": null,
            "flex": null,
            "flex_flow": null,
            "grid_area": null,
            "grid_auto_columns": null,
            "grid_auto_flow": null,
            "grid_auto_rows": null,
            "grid_column": null,
            "grid_gap": null,
            "grid_row": null,
            "grid_template_areas": null,
            "grid_template_columns": null,
            "grid_template_rows": null,
            "height": null,
            "justify_content": null,
            "justify_items": null,
            "left": null,
            "margin": null,
            "max_height": null,
            "max_width": null,
            "min_height": null,
            "min_width": null,
            "object_fit": null,
            "object_position": null,
            "order": null,
            "overflow": null,
            "overflow_x": null,
            "overflow_y": null,
            "padding": null,
            "right": null,
            "top": null,
            "visibility": null,
            "width": null
          }
        },
        "ba473188c8654225b74be79d0a18aeba": {
          "model_module": "@jupyter-widgets/controls",
          "model_name": "DescriptionStyleModel",
          "model_module_version": "1.5.0",
          "state": {
            "_model_module": "@jupyter-widgets/controls",
            "_model_module_version": "1.5.0",
            "_model_name": "DescriptionStyleModel",
            "_view_count": null,
            "_view_module": "@jupyter-widgets/base",
            "_view_module_version": "1.2.0",
            "_view_name": "StyleView",
            "description_width": ""
          }
        }
      }
    }
  },
  "cells": [
    {
      "cell_type": "markdown",
      "metadata": {
        "id": "view-in-github",
        "colab_type": "text"
      },
      "source": [
        "<a href=\"https://colab.research.google.com/github/YorkJong/news-digest/blob/main/notebooks/news_query.ipynb\" target=\"_parent\"><img src=\"https://colab.research.google.com/assets/colab-badge.svg\" alt=\"Open In Colab\"/></a>"
      ]
    },
    {
      "cell_type": "markdown",
      "source": [
        "這支 colab notebook 是為了檢索 [news-digest](https://news-digest.vercel.app/) 網站上的新聞而寫的。可以執行多條件檢索，執行步驟如下：\n",
        "\n",
        "1. 按下 Install 下那個 code cell 前面的 ► 按鈕來安裝用到的模組\n",
        "2. 依序選取，並執行查詢條件：天數（Recent Days）, 分類（Categories）, Tags, with ANY/ALL tags"
      ],
      "metadata": {
        "id": "y2P1UErueEo2"
      }
    },
    {
      "cell_type": "markdown",
      "source": [
        "### Install"
      ],
      "metadata": {
        "id": "hHCkC4l-eU2o"
      }
    },
    {
      "cell_type": "code",
      "execution_count": 1,
      "metadata": {
        "colab": {
          "base_uri": "https://localhost:8080/"
        },
        "id": "Lr2JZy08eR28",
        "outputId": "bdf2645b-94ed-4ece-b841-371fd4d65842"
      },
      "outputs": [
        {
          "output_type": "stream",
          "name": "stdout",
          "text": [
            "--2023-03-24 16:43:01--  https://raw.githubusercontent.com/YorkJong/news-digest/main/api/clip.py\n",
            "Resolving raw.githubusercontent.com (raw.githubusercontent.com)... 185.199.108.133, 185.199.111.133, 185.199.110.133, ...\n",
            "Connecting to raw.githubusercontent.com (raw.githubusercontent.com)|185.199.108.133|:443... connected.\n",
            "HTTP request sent, awaiting response... 200 OK\n",
            "Length: 6800 (6.6K) [text/plain]\n",
            "Saving to: ‘clip.py’\n",
            "\n",
            "\rclip.py               0%[                    ]       0  --.-KB/s               \rclip.py             100%[===================>]   6.64K  --.-KB/s    in 0s      \n",
            "\n",
            "2023-03-24 16:43:01 (78.4 MB/s) - ‘clip.py’ saved [6800/6800]\n",
            "\n",
            "--2023-03-24 16:43:01--  https://raw.githubusercontent.com/YorkJong/news-digest/main/api/line.py\n",
            "Resolving raw.githubusercontent.com (raw.githubusercontent.com)... 185.199.108.133, 185.199.109.133, 185.199.110.133, ...\n",
            "Connecting to raw.githubusercontent.com (raw.githubusercontent.com)|185.199.108.133|:443... connected.\n",
            "HTTP request sent, awaiting response... 200 OK\n",
            "Length: 3425 (3.3K) [text/plain]\n",
            "Saving to: ‘line.py’\n",
            "\n",
            "line.py             100%[===================>]   3.34K  --.-KB/s    in 0s      \n",
            "\n",
            "2023-03-24 16:43:01 (75.4 MB/s) - ‘line.py’ saved [3425/3425]\n",
            "\n",
            "--2023-03-24 16:43:01--  https://raw.githubusercontent.com/YorkJong/news-digest/main/api/op.py\n",
            "Resolving raw.githubusercontent.com (raw.githubusercontent.com)... 185.199.108.133, 185.199.109.133, 185.199.111.133, ...\n",
            "Connecting to raw.githubusercontent.com (raw.githubusercontent.com)|185.199.108.133|:443... connected.\n",
            "HTTP request sent, awaiting response... 200 OK\n",
            "Length: 4686 (4.6K) [text/plain]\n",
            "Saving to: ‘op.py’\n",
            "\n",
            "op.py               100%[===================>]   4.58K  --.-KB/s    in 0s      \n",
            "\n",
            "2023-03-24 16:43:02 (72.7 MB/s) - ‘op.py’ saved [4686/4686]\n",
            "\n",
            "--2023-03-24 16:43:02--  https://raw.githubusercontent.com/YorkJong/news-digest/main/api/hashtag.py\n",
            "Resolving raw.githubusercontent.com (raw.githubusercontent.com)... 185.199.110.133, 185.199.111.133, 185.199.108.133, ...\n",
            "Connecting to raw.githubusercontent.com (raw.githubusercontent.com)|185.199.110.133|:443... connected.\n",
            "HTTP request sent, awaiting response... 200 OK\n",
            "Length: 2290 (2.2K) [text/plain]\n",
            "Saving to: ‘hashtag.py’\n",
            "\n",
            "hashtag.py          100%[===================>]   2.24K  --.-KB/s    in 0s      \n",
            "\n",
            "2023-03-24 16:43:02 (60.7 MB/s) - ‘hashtag.py’ saved [2290/2290]\n",
            "\n"
          ]
        }
      ],
      "source": [
        "import os\n",
        "\n",
        "fns = ['clip.py', 'line.py', 'op.py', 'hashtag.py']\n",
        "\n",
        "for fn in fns:\n",
        "    if os.path.exists(fn):\n",
        "        os.remove(fn)\n",
        "for fn in fns:\n",
        "    url = f'https://raw.githubusercontent.com/YorkJong/news-digest/main/api/{fn}'\n",
        "    !wget $url\n",
        "\n",
        "import clip\n",
        "import line\n",
        "import hashtag"
      ]
    },
    {
      "cell_type": "markdown",
      "source": [
        "### Query Conditions"
      ],
      "metadata": {
        "id": "p0e6R_L6edCu"
      }
    },
    {
      "cell_type": "code",
      "source": [
        "#@title Recent Days { run: \"auto\" }\n",
        "days = 1 #@param [\"1\", \"2\", \"7\", \"14\", \"30\"] {type:\"raw\", allow-input: true}\n",
        "content = clip.merge_recent_journals(days)"
      ],
      "metadata": {
        "cellView": "form",
        "id": "eivH1Vvcexia"
      },
      "execution_count": 3,
      "outputs": []
    },
    {
      "cell_type": "markdown",
      "source": [
        "#### Categories\n",
        "- 先按下面那個 code cell 前面的 ► 按鈕，以列出完整的分類(Catetories)選單\n",
        "- macOS 下操作可按Cmd後用滑鼠複選（Windows 系統則按下Ctrl鍵後以滑鼠複選）\n",
        "  - 全選可按 Cmd+A (macOS) 或者 Ctrl+A (Windows)"
      ],
      "metadata": {
        "id": "XpvC-daFf25h"
      }
    },
    {
      "cell_type": "code",
      "source": [
        "import ipywidgets as widgets\n",
        "\n",
        "options = clip.get_categories(content)\n",
        "\n",
        "categories = widgets.SelectMultiple(\n",
        "    options=options,\n",
        "    value=[options[0]],\n",
        "    rows=len(options),\n",
        "    description='Categories',\n",
        "    disabled=False\n",
        ")\n",
        "\n",
        "categories"
      ],
      "metadata": {
        "colab": {
          "base_uri": "https://localhost:8080/",
          "height": 144,
          "referenced_widgets": [
            "ed5fcb0f8f7d400cb2214e5ecc1a82c8",
            "41439573074a47febd05bea5bb118f78",
            "fc75d2ef27a24191bbf05465a429cefc"
          ]
        },
        "id": "60EZk07jheOw",
        "outputId": "4924753a-c02b-4e1a-ba08-157b8791c507"
      },
      "execution_count": 4,
      "outputs": [
        {
          "output_type": "display_data",
          "data": {
            "text/plain": [
              "SelectMultiple(description='Categories', index=(0,), options=('Tesla & SpaceX; Vehicle', 'Tech Titans', 'Finan…"
            ],
            "application/vnd.jupyter.widget-view+json": {
              "version_major": 2,
              "version_minor": 0,
              "model_id": "ed5fcb0f8f7d400cb2214e5ecc1a82c8"
            }
          },
          "metadata": {}
        }
      ]
    },
    {
      "cell_type": "markdown",
      "source": [
        "#### Tags\n",
        "- 先按下面那個 code cell 前面的 ► 按鈕，以列出完整的 #Tag 選單\n",
        "- macOS 下操作可按Cmd後用滑鼠複選（Windows 系統則按下Ctrl鍵後以滑鼠複選）\n",
        "   - 全選可按 Cmd+A (macOS) 或者 Ctrl+A (Windows)"
      ],
      "metadata": {
        "id": "ZbHKkQ42gX7J"
      }
    },
    {
      "cell_type": "code",
      "source": [
        "lines = clip.get_lines_of_categories(categories.value, content, with_hashtags=True, with_headers=True)\n",
        "\n",
        "options = hashtag.get_hashtags(lines)\n",
        "\n",
        "tags = widgets.SelectMultiple(\n",
        "    options=options,\n",
        "    value=[options[0]],\n",
        "    rows=len(options),\n",
        "    description='Categories',\n",
        "    disabled=False\n",
        ")\n",
        "\n",
        "tags"
      ],
      "metadata": {
        "colab": {
          "base_uri": "https://localhost:8080/",
          "height": 750,
          "referenced_widgets": [
            "8ad4c55706ad4017913134be0a818a99",
            "2989577f404b48b4904621acd31dbebb",
            "ba473188c8654225b74be79d0a18aeba"
          ]
        },
        "id": "nTlvhe-Ygb3-",
        "outputId": "5accda46-694e-4391-b26e-6d16cbf1d858"
      },
      "execution_count": 5,
      "outputs": [
        {
          "output_type": "display_data",
          "data": {
            "text/plain": [
              "SelectMultiple(description='Categories', index=(0,), options=('#AAPL', '#AI', '#ARM', '#ASML', '#AT1', '#BCOM'…"
            ],
            "application/vnd.jupyter.widget-view+json": {
              "version_major": 2,
              "version_minor": 0,
              "model_id": "8ad4c55706ad4017913134be0a818a99"
            }
          },
          "metadata": {}
        }
      ]
    },
    {
      "cell_type": "code",
      "source": [
        "#@title with ANY (or ALL) hash-tags { run: \"auto\" }\n",
        "hashtag_with = \"ALL\" #@param [\"ANY\", \"ALL\"]\n",
        "\n",
        "tbl = {\n",
        "    'ANY': hashtag.get_lines_with_any_hashtag,\n",
        "    'ALL': hashtag.get_lines_with_all_hashtags,\n",
        "}\n",
        "\n",
        "out_lines = tbl[hashtag_with](lines, tags.value)\n",
        "print('\\n'.join(out_lines))"
      ],
      "metadata": {
        "colab": {
          "base_uri": "https://localhost:8080/"
        },
        "cellView": "form",
        "id": "FuIJbth8GqcG",
        "outputId": "7f675916-d3fa-4beb-8d91-8277f2972a9e"
      },
      "execution_count": null,
      "outputs": [
        {
          "output_type": "stream",
          "name": "stdout",
          "text": [
            "### Tesla & SpaceX; Vehicle\n",
            "- [BTCC特斯拉通證化合約 交易量超越狗狗幣](https://news.cnyes.com/news/id/5125754) #TSLA #DOGE #Crypto #BTCC\n",
            "\n"
          ]
        }
      ]
    },
    {
      "cell_type": "code",
      "source": [],
      "metadata": {
        "id": "ho-xgyF0Jp9u"
      },
      "execution_count": null,
      "outputs": []
    }
  ]
}