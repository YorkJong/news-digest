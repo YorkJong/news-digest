{
  "cells": [
    {
      "cell_type": "markdown",
      "metadata": {
        "id": "view-in-github",
        "colab_type": "text"
      },
      "source": [
        "<a href=\"https://colab.research.google.com/github/YorkJong/news-digest/blob/main/notebooks/news_notify.ipynb\" target=\"_parent\"><img src=\"https://colab.research.google.com/assets/colab-badge.svg\" alt=\"Open In Colab\"/></a>"
      ]
    },
    {
      "cell_type": "markdown",
      "metadata": {
        "id": "WR9eFgRx3Oak"
      },
      "source": [
        "### Install"
      ]
    },
    {
      "cell_type": "code",
      "execution_count": 1,
      "metadata": {
        "colab": {
          "base_uri": "https://localhost:8080/"
        },
        "id": "HhPa1e1tse76",
        "outputId": "d08b3cd8-93a4-40af-ec43-88500d74a1b0",
        "cellView": "form"
      },
      "outputs": [
        {
          "output_type": "stream",
          "name": "stdout",
          "text": [
            "--2024-08-10 07:41:28--  https://raw.githubusercontent.com/YorkJong/news-digest/main/src/clip.py\n",
            "Resolving raw.githubusercontent.com (raw.githubusercontent.com)... 185.199.108.133, 185.199.109.133, 185.199.110.133, ...\n",
            "Connecting to raw.githubusercontent.com (raw.githubusercontent.com)|185.199.108.133|:443... connected.\n",
            "HTTP request sent, awaiting response... 200 OK\n",
            "Length: 8936 (8.7K) [text/plain]\n",
            "Saving to: ‘clip.py’\n",
            "\n",
            "\rclip.py               0%[                    ]       0  --.-KB/s               \rclip.py             100%[===================>]   8.73K  --.-KB/s    in 0s      \n",
            "\n",
            "2024-08-10 07:41:28 (68.7 MB/s) - ‘clip.py’ saved [8936/8936]\n",
            "\n",
            "--2024-08-10 07:41:28--  https://raw.githubusercontent.com/YorkJong/news-digest/main/src/op.py\n",
            "Resolving raw.githubusercontent.com (raw.githubusercontent.com)... 185.199.108.133, 185.199.111.133, 185.199.110.133, ...\n",
            "Connecting to raw.githubusercontent.com (raw.githubusercontent.com)|185.199.108.133|:443... connected.\n",
            "HTTP request sent, awaiting response... 200 OK\n",
            "Length: 5171 (5.0K) [text/plain]\n",
            "Saving to: ‘op.py’\n",
            "\n",
            "op.py               100%[===================>]   5.05K  --.-KB/s    in 0s      \n",
            "\n",
            "2024-08-10 07:41:28 (50.7 MB/s) - ‘op.py’ saved [5171/5171]\n",
            "\n",
            "--2024-08-10 07:41:28--  https://raw.githubusercontent.com/YorkJong/news-digest/main/src/hashtag.py\n",
            "Resolving raw.githubusercontent.com (raw.githubusercontent.com)... 185.199.108.133, 185.199.110.133, 185.199.111.133, ...\n",
            "Connecting to raw.githubusercontent.com (raw.githubusercontent.com)|185.199.108.133|:443... connected.\n",
            "HTTP request sent, awaiting response... 200 OK\n",
            "Length: 3804 (3.7K) [text/plain]\n",
            "Saving to: ‘hashtag.py’\n",
            "\n",
            "hashtag.py          100%[===================>]   3.71K  --.-KB/s    in 0s      \n",
            "\n",
            "2024-08-10 07:41:28 (48.7 MB/s) - ‘hashtag.py’ saved [3804/3804]\n",
            "\n",
            "--2024-08-10 07:41:28--  https://raw.githubusercontent.com/YorkJong/news-digest-line/main/src/line.py\n",
            "Resolving raw.githubusercontent.com (raw.githubusercontent.com)... 185.199.108.133, 185.199.109.133, 185.199.110.133, ...\n",
            "Connecting to raw.githubusercontent.com (raw.githubusercontent.com)|185.199.108.133|:443... connected.\n",
            "HTTP request sent, awaiting response... 200 OK\n",
            "Length: 4405 (4.3K) [text/plain]\n",
            "Saving to: ‘line.py’\n",
            "\n",
            "line.py             100%[===================>]   4.30K  --.-KB/s    in 0s      \n",
            "\n",
            "2024-08-10 07:41:28 (43.9 MB/s) - ‘line.py’ saved [4405/4405]\n",
            "\n",
            "--2024-08-10 07:41:28--  https://raw.githubusercontent.com/YorkJong/news-digest-line/main/src/gdrive.py\n",
            "Resolving raw.githubusercontent.com (raw.githubusercontent.com)... 185.199.108.133, 185.199.109.133, 185.199.110.133, ...\n",
            "Connecting to raw.githubusercontent.com (raw.githubusercontent.com)|185.199.108.133|:443... connected.\n",
            "HTTP request sent, awaiting response... 200 OK\n",
            "Length: 16338 (16K) [text/plain]\n",
            "Saving to: ‘gdrive.py’\n",
            "\n",
            "gdrive.py           100%[===================>]  15.96K  --.-KB/s    in 0.001s  \n",
            "\n",
            "2024-08-10 07:41:29 (19.0 MB/s) - ‘gdrive.py’ saved [16338/16338]\n",
            "\n"
          ]
        }
      ],
      "source": [
        "# @title Download Packages\n",
        "import os\n",
        "\n",
        "fns = ['clip.py', 'op.py', 'hashtag.py']\n",
        "\n",
        "for fn in fns:\n",
        "    if os.path.exists(fn):\n",
        "        os.remove(fn)\n",
        "    url = f'https://raw.githubusercontent.com/YorkJong/news-digest/main/src/{fn}'\n",
        "    !wget $url\n",
        "\n",
        "fns = ['line.py', 'gdrive.py']\n",
        "for fn in fns:\n",
        "    if os.path.exists(fn):\n",
        "        os.remove(fn)\n",
        "    url = f'https://raw.githubusercontent.com/YorkJong/news-digest-line/main/src/{fn}'\n",
        "    !wget $url"
      ]
    },
    {
      "cell_type": "code",
      "source": [
        "# @title Initialize\n",
        "import clip\n",
        "import line\n",
        "import hashtag\n",
        "from gdrive import TokenTable, Subscriptions"
      ],
      "metadata": {
        "cellView": "form",
        "id": "pVbPIEm0K25u"
      },
      "execution_count": 2,
      "outputs": []
    },
    {
      "cell_type": "code",
      "execution_count": 3,
      "metadata": {
        "id": "7Ei5RtsMcJDN",
        "cellView": "form"
      },
      "outputs": [],
      "source": [
        "# @title Setting Environment Variables for Security Data\n",
        "from google.colab import userdata\n",
        "\n",
        "os.environ['SERVICE_ACCOUNT_INFO'] = userdata.get('NEWS_NOTIFY.SERVICE_ACCOUNT_INFO')\n",
        "os.environ['FOLDER_ID'] = userdata.get('NEWS_NOTIFY.FOLDER_ID')\n",
        "\n",
        "#import json\n",
        "#data = json.loads(os.environ['SERVICE_ACCOUNT_INFO'])\n",
        "#json.dumps(data, separators=(',', ':'))"
      ]
    },
    {
      "cell_type": "markdown",
      "metadata": {
        "id": "I8-Wcwwq5ixa"
      },
      "source": [
        "### Execute Actions Step by Step"
      ]
    },
    {
      "cell_type": "code",
      "execution_count": 4,
      "metadata": {
        "id": "we4a197PH1Li",
        "colab": {
          "base_uri": "https://localhost:8080/",
          "height": 52
        },
        "outputId": "f4238b88-67a8-464f-c890-b57f2a127bdb"
      },
      "outputs": [
        {
          "output_type": "stream",
          "name": "stdout",
          "text": [
            "last date: 2024_08_09\n",
            "today: 2024_08_10\n"
          ]
        }
      ],
      "source": [
        "#@title Step 1. Pick a **period** of the news { run: \"auto\", display-mode: \"form\" }\n",
        "period = \"Today\" #@param [\"Today\", \"Yesterday\", \"Recent 2 Days\", \"Recent 7 Days\"]\n",
        "\n",
        "def news_today():\n",
        "    from datetime import datetime\n",
        "    today = datetime.today().strftime('%Y_%m_%d')\n",
        "    last = clip.get_recent_journal_filenames(1)[0][:-3]\n",
        "    if today != last:\n",
        "        print(f'last date: {last}')\n",
        "        print(f'today: {today}')\n",
        "    return clip.get_latest_journal()\n",
        "\n",
        "def news_yesterday():\n",
        "    fns = clip.get_recent_journal_filenames(2)\n",
        "    return clip.get_journal(fns[-2])\n",
        "\n",
        "def news_recent2days():\n",
        "    return clip.merge_recent_journals(days=2)\n",
        "\n",
        "def news_recent7days():\n",
        "    return clip.merge_recent_journals(days=7)\n",
        "\n",
        "period2func = {\n",
        "    'Today': news_today,\n",
        "    'Yesterday': news_yesterday,\n",
        "    'Recent 2 Days': news_recent2days,\n",
        "    'Recent 7 Days': news_recent7days,\n",
        "}\n",
        "\n",
        "content = period2func[period]()\n",
        "\n",
        "import ipywidgets as widgets\n",
        "output = widgets.Output()\n",
        "with output:\n",
        "    print(content)"
      ]
    },
    {
      "cell_type": "code",
      "execution_count": 5,
      "metadata": {
        "id": "Wqk2cZQk6KjR"
      },
      "outputs": [],
      "source": [
        "#@title Step 2. Pick a publication **frequency** { run: \"auto\", display-mode: \"form\" }\n",
        "frequency = \"Daily\" #@param [\"Daily\", \"Weekly\", \"Any\"]\n",
        "\n",
        "\n",
        "subscriptions = (\n",
        "    (('Tesla & SpaceX; Vehicle'), ('GroupA', 'GroupB')),\n",
        "    (('Taiwan',), ('GroupA', 'GroupC')),\n",
        "    (('Crypto',), ('GroupC',)),\n",
        "    (('IT', 'Science', '#AI', '#Robot'), ('GroupB',)),\n",
        ")\n",
        "\n",
        "def gdrive_load_YAML(filename):\n",
        "    import yaml\n",
        "    path = f\"/content/drive/My Drive/news-digest/{filename}\"\n",
        "    if os.path.exists(path):\n",
        "        with open(path, 'r') as f:\n",
        "             return yaml.safe_load(f)\n",
        "\n",
        "#subscriptions = gdrive_load_YAML(f\"subscriptions_{frequency}.yml\")\n",
        "subscriptions = Subscriptions(f\"subscriptions_{frequency}.yml\")\n",
        "\n",
        "#display(subscriptions._table)"
      ]
    },
    {
      "cell_type": "code",
      "execution_count": 6,
      "metadata": {
        "id": "BzKyvK806hMl",
        "colab": {
          "base_uri": "https://localhost:8080/",
          "height": 357,
          "referenced_widgets": [
            "91b01bc4c0ca4c3e89f6364b87decb3f",
            "13ff8a8930b64c4d99b763a47ac6cac7",
            "ab85f7b9851a45bb840ab92c1fbf911f",
            "31d604ca4a674030873d94a96d1559ca",
            "4c29e15acfd94db9abd6616f1ac78d7f",
            "15451a43baba4aa28021b69b2d4d3131",
            "2617f41d70d1418f80af011e56a69da3",
            "73ec8683deea412c9758d4e756e6b81d",
            "aaf2329025e34e438b135b6e0a2d1f38",
            "98efc2dc5b6f4ba8845ed274d0929064",
            "760c3eab059d434ebe3a3d9743562151",
            "d0ef38b8bf674c8d994bbe600bf082cc",
            "5dbbd6330e364a3ea5ebfd2458b8a9ca",
            "f898886c94db40eba33f2733d06c9e7e",
            "c80676fdac5d4ee7ab62fe4ec5f31620",
            "e9d27440938f4a7ca75cffe08c4be02a"
          ]
        },
        "outputId": "77e52d52-1764-4690-8515-559c20bfa6d4"
      },
      "outputs": [
        {
          "output_type": "display_data",
          "data": {
            "text/plain": [
              "Tab(children=(Output(), Output(), Output(), Output(), Output(), Output(), Output()), _titles={'0': \"['Tesla & …"
            ],
            "application/vnd.jupyter.widget-view+json": {
              "version_major": 2,
              "version_minor": 0,
              "model_id": "91b01bc4c0ca4c3e89f6364b87decb3f"
            }
          },
          "metadata": {}
        }
      ],
      "source": [
        "#@title Step 3. Line Notify { display-mode: \"form\" }\n",
        "mock_mode = True #@param {type:\"boolean\"}\n",
        "show_headings = True #@param {type:\"boolean\"}\n",
        "\n",
        "import time\n",
        "import ipywidgets as widgets\n",
        "import yaml\n",
        "\n",
        "tok_tbl = {\n",
        "    'GroupA': 'LINE_NOTIFY_ACCESS_TOKEN_OF_GROUP_A',\n",
        "    'GroupB': 'LINE_NOTIFY_ACCESS_TOKEN_OF_GROUP_B',\n",
        "    'GroupC': 'LINE_NOTIFY_ACCESS_TOKEN_OF_GROUP_C',\n",
        "}\n",
        "\n",
        "#tok_tbl = gdrive_load_YAML(\"access_tokens.yml\")\n",
        "tok_tbl = TokenTable('access_tokens.yml')\n",
        "\n",
        "def create_outputs():\n",
        "    topics = [str(t) for t, _ in subscriptions]\n",
        "    tab = widgets.Tab()\n",
        "    outputs = [widgets.Output() for name in topics]\n",
        "    tab.children = outputs\n",
        "    for i, t in enumerate(topics):\n",
        "        tab.set_title(i, t)\n",
        "    display(tab)\n",
        "    return outputs\n",
        "\n",
        "def notify():\n",
        "    if mock_mode:\n",
        "        outputs = create_outputs()\n",
        "    for i, (topics, clients) in enumerate(subscriptions):\n",
        "        headings = [topic for topic in topics if not topic.startswith('#')]\n",
        "        tags = [topic for topic in topics if topic.startswith('#')]\n",
        "        categories = headings\n",
        "        if not categories and tags:\n",
        "            categories = clip.get_categories(content)\n",
        "        if tags:\n",
        "            lines = clip.get_lines_of_categories(categories, content, True, True)\n",
        "            lines = hashtag.get_lines_with_any_hashtags(lines, tags)\n",
        "            with_headings = True if headings and show_headings else False\n",
        "            lines = clip.get_lines_of_categories(categories, '\\n'.join(lines), False, with_headings)\n",
        "        else:\n",
        "            lines = clip.get_lines_of_categories(categories, content, False, show_headings)\n",
        "        if not lines:\n",
        "            continue\n",
        "        text = clip.markdown_to_readable('\\n'.join(lines))\n",
        "        message = f'\\n{text}'\n",
        "\n",
        "        if mock_mode:\n",
        "            with outputs[i]:\n",
        "                print(message)\n",
        "\n",
        "        for receiver in clients:\n",
        "            token = tok_tbl[receiver]\n",
        "            if not mock_mode:\n",
        "                line.notify_message(message, token)\n",
        "            #if not mock_mode:\n",
        "            #    time.sleep(1)\n",
        "\n",
        "def notify_with_checks():\n",
        "    if period in ('Today', 'Yesterday'):\n",
        "        if frequency not in ('Daily', 'Any'):\n",
        "            print(f'The period is \"{period}\"')\n",
        "            print('The frequency must be \"Daily\" or \"Any\"')\n",
        "            return\n",
        "    elif period in ('Recent 7 Days',):\n",
        "        if frequency not in ('Weekly', 'Any'):\n",
        "            print(f'The period is \"{period}\"')\n",
        "            print('The frequency must be \"Weekly\" or \"Any\"')\n",
        "            return\n",
        "    elif period in ('Recent 2 Days',):\n",
        "        if frequency not in ('2 Daily', 'Any'):\n",
        "            print(f'The period is \"{period}\"')\n",
        "            print('The frequency must be \"2 Daily\" or \"Any\"')\n",
        "            return\n",
        "    notify()\n",
        "\n",
        "notify_with_checks()"
      ]
    },
    {
      "cell_type": "markdown",
      "metadata": {
        "id": "43d9e9bn86hF"
      },
      "source": [
        "### Remove Clients"
      ]
    },
    {
      "cell_type": "markdown",
      "metadata": {
        "id": "BxT0MRZWfI0T"
      },
      "source": [
        "#### Code"
      ]
    },
    {
      "cell_type": "code",
      "execution_count": 7,
      "metadata": {
        "id": "JpfB5BNHECO0"
      },
      "outputs": [],
      "source": [
        "import copy\n",
        "\n",
        "tbl = TokenTable('access_tokens.yml')\n",
        "sub_daily = Subscriptions(\"subscriptions_Daily.yml\")\n",
        "sub_weekly = Subscriptions(\"subscriptions_Weekly.yml\")\n",
        "#sub_any = Subscriptions(f\"subscriptions_Any.yml\")\n",
        "\n",
        "backup = []\n",
        "for x in (tbl, sub_daily, sub_weekly):\n",
        "    backup.append(copy.deepcopy(x._table))"
      ]
    },
    {
      "cell_type": "code",
      "execution_count": 8,
      "metadata": {
        "id": "lsM-srME9Dav"
      },
      "outputs": [],
      "source": [
        "import ipywidgets as widgets\n",
        "\n",
        "choose_rm = widgets.SelectMultiple(\n",
        "    options=tbl.clients(),\n",
        "    #value=[options[0]],\n",
        "    rows=len(tbl.clients()),\n",
        "    description='Clients:',\n",
        "    disabled=False,\n",
        ")\n",
        "\n",
        "btn_invalid = widgets.Button(description=\"Choose Invalid\")\n",
        "btn_remove = widgets.Button(description=\"Remove\")\n",
        "btn_recover = widgets.Button(description=\"Recover\")\n",
        "btn_save = widgets.Button(description=\"Save\")\n",
        "\n",
        "output2 = widgets.Output()\n",
        "\n",
        "btns = widgets.VBox([btn_invalid, btn_remove, btn_recover, btn_save])\n",
        "hbox = widgets.HBox([choose_rm, btns])\n",
        "ui = widgets.VBox([hbox, output2])\n",
        "\n",
        "def update_output():\n",
        "    with output2:\n",
        "        for x in (tbl, sub_daily, sub_weekly):\n",
        "            display(x._table)\n",
        "            print()\n",
        "\n",
        "def on_invalid_clicked(change):\n",
        "    '''Choose clients with Invalid Access Tokens.'''\n",
        "    invalid = [t for t in tbl.tokens() if line.is_invalid_token(t)]\n",
        "    clients_rm = tbl.clients_from_tokens(invalid)\n",
        "    choose_rm.value = clients_rm\n",
        "    output2.clear_output()\n",
        "    with output2:\n",
        "        display(invalid)\n",
        "        display(clients_rm)\n",
        "        print()\n",
        "    update_output()\n",
        "\n",
        "def on_remove_clicked(change):\n",
        "    for i, x in enumerate((tbl, sub_daily, sub_weekly)):\n",
        "        #x.remove_clients(choose_rm.value)\n",
        "        del x[choose_rm.value]\n",
        "    choose_rm.options = tbl.clients()\n",
        "    choose_rm.rows = len(tbl.clients())\n",
        "    output2.clear_output()\n",
        "    update_output()\n",
        "\n",
        "def on_recover_clicked(change):\n",
        "    for i, x in enumerate((tbl, sub_daily, sub_weekly)):\n",
        "        x._table = backup[i]\n",
        "        backup[i] = copy.deepcopy(x._table)\n",
        "    choose_rm.options = tbl.clients()\n",
        "    choose_rm.rows = len(tbl.clients())\n",
        "    output2.clear_output()\n",
        "    update_output()\n",
        "\n",
        "def on_save_clicked(change):\n",
        "    #for x in (tbl, sub_daily, sub_weekly, sub_any):\n",
        "    for x in (tbl, sub_daily, sub_weekly):\n",
        "        x.save()\n",
        "    output2.clear_output()\n",
        "    with output2:\n",
        "        print('Done!\\n')\n",
        "    update_output()\n",
        "\n",
        "btn_invalid.on_click(on_invalid_clicked)\n",
        "btn_remove.on_click(on_remove_clicked)\n",
        "btn_recover.on_click(on_recover_clicked)\n",
        "btn_save.on_click(on_save_clicked)\n",
        "\n",
        "update_output()"
      ]
    },
    {
      "cell_type": "markdown",
      "metadata": {
        "id": "HMH54K7OfhBb"
      },
      "source": [
        "#### Show"
      ]
    },
    {
      "cell_type": "code",
      "execution_count": 9,
      "metadata": {
        "id": "7yjU0crRe4xT"
      },
      "outputs": [],
      "source": [
        "#display(ui)"
      ]
    },
    {
      "cell_type": "markdown",
      "metadata": {
        "id": "APceoV3blvBs"
      },
      "source": [
        "#### Rename"
      ]
    },
    {
      "cell_type": "code",
      "execution_count": 10,
      "metadata": {
        "id": "t2eTIqQ4kDd7"
      },
      "outputs": [],
      "source": [
        "#tbl.clients()\n",
        "#for x in (tbl, sub_daily, sub_weekly):\n",
        "#    x.rename('*期 / 股 *南天門未來 頂尖對談 summit meeting', '南天門未來')\n",
        "#choose_rm.options = tbl.clients()\n",
        "#output2.clear_output()\n",
        "#update_output()"
      ]
    },
    {
      "cell_type": "markdown",
      "metadata": {
        "id": "l9kvYn67Zue4"
      },
      "source": [
        "### References\n",
        "news-digest:\n",
        "- [Line通知訂閱連結](https://news-digest.vercel.app/LineOauth)\n",
        "- [Line Notify 訂閱 news-digest 新聞](https://news-digest.vercel.app/#/page/Line%20Notify%20訂閱%20news-digest%20新聞)\n",
        "\n",
        "Line Notify:\n",
        "- [LINE Notify已連動的服務](https://notify-bot.line.me/my/)\n",
        "- [上手 LINE Notify 不求人：一行代碼都不用寫的推播通知方法](https://blog.miniasp.com/post/2020/02/17/Go-Through-LINE-Notify-Without-Any-Code)\n",
        "- [筆記 - 更簡單的使用 LINE Notify](https://ithelp.ithome.com.tw/articles/10231992)\n",
        "- [LINE Notify ::services](https://notify-bot.line.me/my/services/)\n",
        "\n",
        "Google Could:\n",
        "- [news-digest – IAM & Admin – gdrive – Google Cloud console](https://console.cloud.google.com/iam-admin/serviceaccounts/details/101728028730105787803;edit=true/keys?authuser=1&project=gdrive-385220&supportedpurview=project)\n",
        "\n",
        "Vercel:\n",
        "- [Using the Python Runtime with Serverless Functions](https://vercel.com/docs/concepts/functions/serverless-functions/runtimes/python)"
      ]
    },
    {
      "cell_type": "markdown",
      "metadata": {
        "id": "R4pJP6szlHX6"
      },
      "source": [
        "#### Format of Config Files\n",
        "\n",
        "subscriptions_Daily.yml:\n",
        "```yaml\n",
        "- [['Tesla & SpaceX; Vehicle'], [GroupA, GroupB]]\n",
        "- [['Tech Titans'], [GroupA, GroupB]]\n",
        "- [[Finance], [GroupA, GroupB, GroupC]]\n",
        "- [[Taiwan], [GroupA, GroupB, GroupC]]\n",
        "- [[Crypto], [GroupA]]\n",
        "- [[IT, Science, '#AI', '#Robot'], [GroupA, GroupB, GroupC]]\n",
        "```\n",
        "\n",
        "subscriptions_Weekly.yml:\n",
        "```yaml\n",
        "- [[Technology], [GroupA, GroupB, GroupC]]\n",
        "```\n",
        "\n",
        "access_tokens.yml:\n",
        "```yaml\n",
        "GroupA: LINE_NOTIFY_ACCESS_TOKEN_OF_GROUP_A\n",
        "GroupB: LINE_NOTIFY_ACCESS_TOKEN_OF_GROUP_B\n",
        "GroupC: LINE_NOTIFY_ACCESS_TOKEN_OF_GROUP_C\n",
        "```"
      ]
    },
    {
      "cell_type": "markdown",
      "metadata": {
        "id": "O8RHHBiSg691"
      },
      "source": [
        "### Test"
      ]
    },
    {
      "cell_type": "code",
      "execution_count": 11,
      "metadata": {
        "id": "VKqXWbKuDE40"
      },
      "outputs": [],
      "source": [
        "#display(subscriptions)\n",
        "#display(tok_tbl._table)\n",
        "#display(output) # output from Step 1"
      ]
    },
    {
      "cell_type": "code",
      "execution_count": 12,
      "metadata": {
        "colab": {
          "base_uri": "https://localhost:8080/"
        },
        "id": "Q-gk7XH9CGJ1",
        "outputId": "1da5dbad-2bf2-4269-fa7f-aedef5162eec"
      },
      "outputs": [
        {
          "output_type": "execute_result",
          "data": {
            "text/plain": [
              "['Tech Industry', 'Finance', 'Crypto']"
            ]
          },
          "metadata": {},
          "execution_count": 12
        }
      ],
      "source": [
        "sub_daily.topics('Mini group')"
      ]
    }
  ],
  "metadata": {
    "colab": {
      "collapsed_sections": [
        "WR9eFgRx3Oak",
        "BxT0MRZWfI0T",
        "l9kvYn67Zue4"
      ],
      "provenance": [],
      "mount_file_id": "1pd6RYF5VnNYJ0wqaPed8Vk2EVgzcMEVY",
      "authorship_tag": "ABX9TyO0ORoavNZT4eKvdsDJw/GR",
      "include_colab_link": true
    },
    "kernelspec": {
      "display_name": "Python 3",
      "name": "python3"
    },
    "language_info": {
      "name": "python"
    },
    "widgets": {
      "application/vnd.jupyter.widget-state+json": {
        "91b01bc4c0ca4c3e89f6364b87decb3f": {
          "model_module": "@jupyter-widgets/controls",
          "model_name": "TabModel",
          "model_module_version": "1.5.0",
          "state": {
            "_dom_classes": [],
            "_model_module": "@jupyter-widgets/controls",
            "_model_module_version": "1.5.0",
            "_model_name": "TabModel",
            "_titles": {
              "0": "['Tesla & SpaceX; Vehicle']",
              "1": "['Tech Industry']",
              "2": "['Finance']",
              "3": "['Taiwan']",
              "4": "['Crypto']",
              "5": "['IT']",
              "6": "['#AI', '#robotics', '#brain', 'IT', 'Science', 'Tesla', 'Tech', 'Health', 'Taiwan', 'Crypto']"
            },
            "_view_count": null,
            "_view_module": "@jupyter-widgets/controls",
            "_view_module_version": "1.5.0",
            "_view_name": "TabView",
            "box_style": "",
            "children": [
              "IPY_MODEL_13ff8a8930b64c4d99b763a47ac6cac7",
              "IPY_MODEL_ab85f7b9851a45bb840ab92c1fbf911f",
              "IPY_MODEL_31d604ca4a674030873d94a96d1559ca",
              "IPY_MODEL_4c29e15acfd94db9abd6616f1ac78d7f",
              "IPY_MODEL_15451a43baba4aa28021b69b2d4d3131",
              "IPY_MODEL_2617f41d70d1418f80af011e56a69da3",
              "IPY_MODEL_73ec8683deea412c9758d4e756e6b81d"
            ],
            "layout": "IPY_MODEL_aaf2329025e34e438b135b6e0a2d1f38",
            "selected_index": 0
          }
        },
        "13ff8a8930b64c4d99b763a47ac6cac7": {
          "model_module": "@jupyter-widgets/output",
          "model_name": "OutputModel",
          "model_module_version": "1.0.0",
          "state": {
            "_dom_classes": [],
            "_model_module": "@jupyter-widgets/output",
            "_model_module_version": "1.0.0",
            "_model_name": "OutputModel",
            "_view_count": null,
            "_view_module": "@jupyter-widgets/output",
            "_view_module_version": "1.0.0",
            "_view_name": "OutputView",
            "layout": "IPY_MODEL_98efc2dc5b6f4ba8845ed274d0929064",
            "msg_id": "",
            "outputs": [
              {
                "output_type": "stream",
                "name": "stdout",
                "text": [
                  "\n",
                  "Tesla & SpaceX; Vehicle:\n",
                  "\n",
                  "特斯拉公布超算集群Cortex 至少10萬個輝達晶片支援 https://news.cnyes.com/news/id/5672976\n",
                  "\n",
                  "傳特斯拉叫停泰國馬來西亞印尼設廠 大馬貿工部長：特斯拉從未承諾 https://news.cnyes.com/news/id/5675394\n",
                  "\n",
                  "https://cn.wsj.com/articles/波音和nasa就是否仍將用starliner把宇航員帶回地面的計劃爭執不休-c7582d01\n",
                  "\n",
                  "廣告團體WFA遭馬斯克提告後 暫關閉相關服務 https://news.cnyes.com/news/id/5676234\n",
                  "\n",
                  "\n"
                ]
              }
            ]
          }
        },
        "ab85f7b9851a45bb840ab92c1fbf911f": {
          "model_module": "@jupyter-widgets/output",
          "model_name": "OutputModel",
          "model_module_version": "1.0.0",
          "state": {
            "_dom_classes": [],
            "_model_module": "@jupyter-widgets/output",
            "_model_module_version": "1.0.0",
            "_model_name": "OutputModel",
            "_view_count": null,
            "_view_module": "@jupyter-widgets/output",
            "_view_module_version": "1.0.0",
            "_view_name": "OutputView",
            "layout": "IPY_MODEL_760c3eab059d434ebe3a3d9743562151",
            "msg_id": "",
            "outputs": [
              {
                "output_type": "stream",
                "name": "stdout",
                "text": [
                  "\n",
                  "Tech Industry:\n",
                  "\n",
                  "為何超微蘇姿丰與輝達黃仁勳，都投資這AI新創？揭下波成長線索 https://www.gvm.com.tw/article/114905\n",
                  "\n",
                  "金融時報：Google 和 Meta 達成祕密廣告協議，鎖定青少年 https://technews.tw/2024/08/09/google-meta-teenager-ads/\n",
                  "\n",
                  "微軟攜手Palantir 出售AI軟體給美國國防與情報單位 https://news.cnyes.com/news/id/5674326\n",
                  "\n",
                  "https://www.hk01.com/數碼生活/1046307/apple-intelligence可能要收費-高階ai功能以訂閱形式每月20美元\n",
                  "\n",
                  "亞馬遜計畫吸引更多中國賣家 對抗Temu等新勢力 https://news.cnyes.com/news/id/5675638\n",
                  "\n",
                  "Dell再裁員1.3萬，將聚焦AI、伺服器 https://www.ithome.com.tw/news/164391\n",
                  "\n",
                  "英飛凌全球最大SiC晶圓廠在居林啟用 安華：大馬正迅速崛起成為晶片中心 https://news.cnyes.com/news/id/5675380\n",
                  "\n",
                  "英特爾股票狂跌後CEO大筆買入 但這可能不是你想的看漲信號？ https://news.cnyes.com/news/id/5674719\n",
                  "\n",
                  "中國自動駕駛芯片公司香港上市 首日股價跌27% https://www.epochtimes.com/b5/24/8/8/n14307601.htm\n",
                  "\n",
                  "\n"
                ]
              }
            ]
          }
        },
        "31d604ca4a674030873d94a96d1559ca": {
          "model_module": "@jupyter-widgets/output",
          "model_name": "OutputModel",
          "model_module_version": "1.0.0",
          "state": {
            "_dom_classes": [],
            "_model_module": "@jupyter-widgets/output",
            "_model_module_version": "1.0.0",
            "_model_name": "OutputModel",
            "_view_count": null,
            "_view_module": "@jupyter-widgets/output",
            "_view_module_version": "1.0.0",
            "_view_name": "OutputView",
            "layout": "IPY_MODEL_d0ef38b8bf674c8d994bbe600bf082cc",
            "msg_id": "",
            "outputs": [
              {
                "output_type": "stream",
                "name": "stdout",
                "text": [
                  "\n",
                  "Finance:\n",
                  "\n",
                  "〈財報〉減肥藥與糖尿病藥物銷售助威 禮來再度上調全年財測 https://news.cnyes.com/news/id/5674323\n",
                  "\n",
                  "小摩分析師：若Fed仍未表露降息急迫性 美股還會有大跌風險 https://news.cnyes.com/news/id/5674680\n",
                  "\n",
                  "急轉彎！知名美股多頭改口：Fed不一定要緊急降息 但應盡速降至4%之下 https://news.cnyes.com/news/id/5675259\n",
                  "\n",
                  "\n"
                ]
              }
            ]
          }
        },
        "4c29e15acfd94db9abd6616f1ac78d7f": {
          "model_module": "@jupyter-widgets/output",
          "model_name": "OutputModel",
          "model_module_version": "1.0.0",
          "state": {
            "_dom_classes": [],
            "_model_module": "@jupyter-widgets/output",
            "_model_module_version": "1.0.0",
            "_model_name": "OutputModel",
            "_view_count": null,
            "_view_module": "@jupyter-widgets/output",
            "_view_module_version": "1.0.0",
            "_view_name": "OutputView",
            "layout": "IPY_MODEL_5dbbd6330e364a3ea5ebfd2458b8a9ca",
            "msg_id": "",
            "outputs": [
              {
                "output_type": "stream",
                "name": "stdout",
                "text": [
                  "\n",
                  "Taiwan:\n",
                  "\n",
                  "00940填息達陣！AI機器人「有4檔飆漲停」　妖股也大漲逾9% https://finance.ettoday.net/news/2793954\n",
                  "\n",
                  "台積亞利桑那州廠遇最大碰壁：台灣能接受待遇，美國員工難以容忍 https://technews.tw/2024/08/09/tsmc-arizona-fab-work-culture/\n",
                  "\n",
                  "輝達重回百元！為何鴻海、廣達跟不上？ 邪惡5波漲「倍」AI股竟是「它」！ https://news.cnyes.com/news/id/5675083\n",
                  "\n",
                  "鴻海推高雄 AI 產業化，超級算力中心 2026 年第四季啟用 https://finance.technews.tw/2024/08/08/honhai-ks-ai/\n",
                  "\n",
                  "廣達財報／第2季獲利151億元、季增25%創新高 上半年每股大賺7.06元 https://money.udn.com/money/story/5710/8151441\n",
                  "\n",
                  "https://tw.news.yahoo.com/ai持續發酵-廣達七月營收1-242-63億-年月都雙增-080325291.html\n",
                  "\n",
                  "外資護航AI鏈 擁抱五明星 https://www.chinatimes.com/newspapers/20240809000226-260202\n",
                  "\n",
                  "AI伺服器火熱！華碩淨利年增356%，有望達陣「2年成長5倍」，AI PC前景有多夯？ https://www.bnext.com.tw/article/80058/asus-q2-financial-report-year-growth-356-percent\n",
                  "\n",
                  "日月光擴充先進封裝產能 斥52.63億元向宏璟建設購入K18廠 https://news.cnyes.com/news/id/5676275\n",
                  "\n",
                  "櫃買業績發表16日登場 環球晶、中美晶及元太打頭陣 https://news.cnyes.com/news/id/5675293\n",
                  "\n",
                  "益張財報／上半年獲利年增逾八成 EPS 4.01元創同期新高 https://udn.com/news/story/7253/8151567\n",
                  "\n",
                  "揚秦財報／上半年 EPS 2.63元 7月營收續創歷史新高 https://udn.com/news/story/7253/8151712\n",
                  "\n",
                  "保瑞兩大事業持續成長 7月營收年增逾6成 https://news.cnyes.com/news/id/5675573\n",
                  "\n",
                  "\n"
                ]
              }
            ]
          }
        },
        "15451a43baba4aa28021b69b2d4d3131": {
          "model_module": "@jupyter-widgets/output",
          "model_name": "OutputModel",
          "model_module_version": "1.0.0",
          "state": {
            "_dom_classes": [],
            "_model_module": "@jupyter-widgets/output",
            "_model_module_version": "1.0.0",
            "_model_name": "OutputModel",
            "_view_count": null,
            "_view_module": "@jupyter-widgets/output",
            "_view_module_version": "1.0.0",
            "_view_name": "OutputView",
            "layout": "IPY_MODEL_f898886c94db40eba33f2733d06c9e7e",
            "msg_id": "",
            "outputs": [
              {
                "output_type": "stream",
                "name": "stdout",
                "text": [
                  "\n",
                  "Crypto:\n",
                  "\n",
                  "〈財報〉Robinhood上季業績超出預期 加密貨幣交易大漲161% https://news.cnyes.com/news/id/5674538\n",
                  "\n",
                  "比特幣減半後 礦商儲備量降至3年低點 https://news.cnyes.com/news/id/5674495\n",
                  "\n",
                  "專家：比特幣ETF和期貨「套利價差」一旦消失，BTC將有暴跌風險 https://www.blocktempo.com/can-etfs-the-u-s-federal-reserves-interest-rate-cuts-and-the-election-events-help-the-crypto-market-usher-in-a-bull-market/\n",
                  "\n",
                  "TON生態最大錢包》Tonkeeper推出「Signer」離網簽名：大幅加強資產安全 https://www.blocktempo.com/tonkeeper-launch-signer-app-to-improve-wallet-security/\n",
                  "\n",
                  "「北極熊」的轉身：俄羅斯挖礦合法化，有望重塑全球加密市場新格局 https://news.cnyes.com/news/id/5676375\n",
                  "\n",
                  "\n"
                ]
              }
            ]
          }
        },
        "2617f41d70d1418f80af011e56a69da3": {
          "model_module": "@jupyter-widgets/output",
          "model_name": "OutputModel",
          "model_module_version": "1.0.0",
          "state": {
            "_dom_classes": [],
            "_model_module": "@jupyter-widgets/output",
            "_model_module_version": "1.0.0",
            "_model_name": "OutputModel",
            "_view_count": null,
            "_view_module": "@jupyter-widgets/output",
            "_view_module_version": "1.0.0",
            "_view_name": "OutputView",
            "layout": "IPY_MODEL_c80676fdac5d4ee7ab62fe4ec5f31620",
            "msg_id": "",
            "outputs": [
              {
                "output_type": "stream",
                "name": "stdout",
                "text": [
                  "\n",
                  "IT:\n",
                  "\n",
                  "Karpathy观点惹争议：RLHF不是真正的强化学习，谷歌、Meta下场反对 https://www.jiqizhixin.com/articles/2024-08-09-2\n",
                  "\n",
                  "奥特曼「草莓」模型跳票，OpenAI凌晨大新闻，把网友整懵了 https://www.jiqizhixin.com/articles/2024-08-09\n",
                  "\n",
                  "投机采样会损失大语言模型的推理精度吗？ https://www.jiqizhixin.com/articles/2024-08-08-2\n",
                  "\n",
                  "傳統媒體迎來轉型契機？探討 Perplexity 出版商計畫的商業模式 https://finance.technews.tw/2024/08/08/perplexity/\n",
                  "\n",
                  "\n"
                ]
              }
            ]
          }
        },
        "73ec8683deea412c9758d4e756e6b81d": {
          "model_module": "@jupyter-widgets/output",
          "model_name": "OutputModel",
          "model_module_version": "1.0.0",
          "state": {
            "_dom_classes": [],
            "_model_module": "@jupyter-widgets/output",
            "_model_module_version": "1.0.0",
            "_model_name": "OutputModel",
            "_view_count": null,
            "_view_module": "@jupyter-widgets/output",
            "_view_module_version": "1.0.0",
            "_view_name": "OutputView",
            "layout": "IPY_MODEL_e9d27440938f4a7ca75cffe08c4be02a",
            "msg_id": "",
            "outputs": [
              {
                "output_type": "stream",
                "name": "stdout",
                "text": [
                  "\n",
                  "IT:\n",
                  "\n",
                  "Karpathy观点惹争议：RLHF不是真正的强化学习，谷歌、Meta下场反对 https://www.jiqizhixin.com/articles/2024-08-09-2\n",
                  "\n",
                  "奥特曼「草莓」模型跳票，OpenAI凌晨大新闻，把网友整懵了 https://www.jiqizhixin.com/articles/2024-08-09\n",
                  "\n",
                  "投机采样会损失大语言模型的推理精度吗？ https://www.jiqizhixin.com/articles/2024-08-08-2\n",
                  "\n",
                  "傳統媒體迎來轉型契機？探討 Perplexity 出版商計畫的商業模式 https://finance.technews.tw/2024/08/08/perplexity/\n",
                  "\n",
                  "Tech:\n",
                  "\n",
                  "https://www.hk01.com/數碼生活/1046307/apple-intelligence可能要收費-高階ai功能以訂閱形式每月20美元\n",
                  "\n",
                  "Taiwan:\n",
                  "\n",
                  "00940填息達陣！AI機器人「有4檔飆漲停」　妖股也大漲逾9% https://finance.ettoday.net/news/2793954\n",
                  "\n",
                  "\n"
                ]
              }
            ]
          }
        },
        "aaf2329025e34e438b135b6e0a2d1f38": {
          "model_module": "@jupyter-widgets/base",
          "model_name": "LayoutModel",
          "model_module_version": "1.2.0",
          "state": {
            "_model_module": "@jupyter-widgets/base",
            "_model_module_version": "1.2.0",
            "_model_name": "LayoutModel",
            "_view_count": null,
            "_view_module": "@jupyter-widgets/base",
            "_view_module_version": "1.2.0",
            "_view_name": "LayoutView",
            "align_content": null,
            "align_items": null,
            "align_self": null,
            "border": null,
            "bottom": null,
            "display": null,
            "flex": null,
            "flex_flow": null,
            "grid_area": null,
            "grid_auto_columns": null,
            "grid_auto_flow": null,
            "grid_auto_rows": null,
            "grid_column": null,
            "grid_gap": null,
            "grid_row": null,
            "grid_template_areas": null,
            "grid_template_columns": null,
            "grid_template_rows": null,
            "height": null,
            "justify_content": null,
            "justify_items": null,
            "left": null,
            "margin": null,
            "max_height": null,
            "max_width": null,
            "min_height": null,
            "min_width": null,
            "object_fit": null,
            "object_position": null,
            "order": null,
            "overflow": null,
            "overflow_x": null,
            "overflow_y": null,
            "padding": null,
            "right": null,
            "top": null,
            "visibility": null,
            "width": null
          }
        },
        "98efc2dc5b6f4ba8845ed274d0929064": {
          "model_module": "@jupyter-widgets/base",
          "model_name": "LayoutModel",
          "model_module_version": "1.2.0",
          "state": {
            "_model_module": "@jupyter-widgets/base",
            "_model_module_version": "1.2.0",
            "_model_name": "LayoutModel",
            "_view_count": null,
            "_view_module": "@jupyter-widgets/base",
            "_view_module_version": "1.2.0",
            "_view_name": "LayoutView",
            "align_content": null,
            "align_items": null,
            "align_self": null,
            "border": null,
            "bottom": null,
            "display": null,
            "flex": null,
            "flex_flow": null,
            "grid_area": null,
            "grid_auto_columns": null,
            "grid_auto_flow": null,
            "grid_auto_rows": null,
            "grid_column": null,
            "grid_gap": null,
            "grid_row": null,
            "grid_template_areas": null,
            "grid_template_columns": null,
            "grid_template_rows": null,
            "height": null,
            "justify_content": null,
            "justify_items": null,
            "left": null,
            "margin": null,
            "max_height": null,
            "max_width": null,
            "min_height": null,
            "min_width": null,
            "object_fit": null,
            "object_position": null,
            "order": null,
            "overflow": null,
            "overflow_x": null,
            "overflow_y": null,
            "padding": null,
            "right": null,
            "top": null,
            "visibility": null,
            "width": null
          }
        },
        "760c3eab059d434ebe3a3d9743562151": {
          "model_module": "@jupyter-widgets/base",
          "model_name": "LayoutModel",
          "model_module_version": "1.2.0",
          "state": {
            "_model_module": "@jupyter-widgets/base",
            "_model_module_version": "1.2.0",
            "_model_name": "LayoutModel",
            "_view_count": null,
            "_view_module": "@jupyter-widgets/base",
            "_view_module_version": "1.2.0",
            "_view_name": "LayoutView",
            "align_content": null,
            "align_items": null,
            "align_self": null,
            "border": null,
            "bottom": null,
            "display": null,
            "flex": null,
            "flex_flow": null,
            "grid_area": null,
            "grid_auto_columns": null,
            "grid_auto_flow": null,
            "grid_auto_rows": null,
            "grid_column": null,
            "grid_gap": null,
            "grid_row": null,
            "grid_template_areas": null,
            "grid_template_columns": null,
            "grid_template_rows": null,
            "height": null,
            "justify_content": null,
            "justify_items": null,
            "left": null,
            "margin": null,
            "max_height": null,
            "max_width": null,
            "min_height": null,
            "min_width": null,
            "object_fit": null,
            "object_position": null,
            "order": null,
            "overflow": null,
            "overflow_x": null,
            "overflow_y": null,
            "padding": null,
            "right": null,
            "top": null,
            "visibility": null,
            "width": null
          }
        },
        "d0ef38b8bf674c8d994bbe600bf082cc": {
          "model_module": "@jupyter-widgets/base",
          "model_name": "LayoutModel",
          "model_module_version": "1.2.0",
          "state": {
            "_model_module": "@jupyter-widgets/base",
            "_model_module_version": "1.2.0",
            "_model_name": "LayoutModel",
            "_view_count": null,
            "_view_module": "@jupyter-widgets/base",
            "_view_module_version": "1.2.0",
            "_view_name": "LayoutView",
            "align_content": null,
            "align_items": null,
            "align_self": null,
            "border": null,
            "bottom": null,
            "display": null,
            "flex": null,
            "flex_flow": null,
            "grid_area": null,
            "grid_auto_columns": null,
            "grid_auto_flow": null,
            "grid_auto_rows": null,
            "grid_column": null,
            "grid_gap": null,
            "grid_row": null,
            "grid_template_areas": null,
            "grid_template_columns": null,
            "grid_template_rows": null,
            "height": null,
            "justify_content": null,
            "justify_items": null,
            "left": null,
            "margin": null,
            "max_height": null,
            "max_width": null,
            "min_height": null,
            "min_width": null,
            "object_fit": null,
            "object_position": null,
            "order": null,
            "overflow": null,
            "overflow_x": null,
            "overflow_y": null,
            "padding": null,
            "right": null,
            "top": null,
            "visibility": null,
            "width": null
          }
        },
        "5dbbd6330e364a3ea5ebfd2458b8a9ca": {
          "model_module": "@jupyter-widgets/base",
          "model_name": "LayoutModel",
          "model_module_version": "1.2.0",
          "state": {
            "_model_module": "@jupyter-widgets/base",
            "_model_module_version": "1.2.0",
            "_model_name": "LayoutModel",
            "_view_count": null,
            "_view_module": "@jupyter-widgets/base",
            "_view_module_version": "1.2.0",
            "_view_name": "LayoutView",
            "align_content": null,
            "align_items": null,
            "align_self": null,
            "border": null,
            "bottom": null,
            "display": null,
            "flex": null,
            "flex_flow": null,
            "grid_area": null,
            "grid_auto_columns": null,
            "grid_auto_flow": null,
            "grid_auto_rows": null,
            "grid_column": null,
            "grid_gap": null,
            "grid_row": null,
            "grid_template_areas": null,
            "grid_template_columns": null,
            "grid_template_rows": null,
            "height": null,
            "justify_content": null,
            "justify_items": null,
            "left": null,
            "margin": null,
            "max_height": null,
            "max_width": null,
            "min_height": null,
            "min_width": null,
            "object_fit": null,
            "object_position": null,
            "order": null,
            "overflow": null,
            "overflow_x": null,
            "overflow_y": null,
            "padding": null,
            "right": null,
            "top": null,
            "visibility": null,
            "width": null
          }
        },
        "f898886c94db40eba33f2733d06c9e7e": {
          "model_module": "@jupyter-widgets/base",
          "model_name": "LayoutModel",
          "model_module_version": "1.2.0",
          "state": {
            "_model_module": "@jupyter-widgets/base",
            "_model_module_version": "1.2.0",
            "_model_name": "LayoutModel",
            "_view_count": null,
            "_view_module": "@jupyter-widgets/base",
            "_view_module_version": "1.2.0",
            "_view_name": "LayoutView",
            "align_content": null,
            "align_items": null,
            "align_self": null,
            "border": null,
            "bottom": null,
            "display": null,
            "flex": null,
            "flex_flow": null,
            "grid_area": null,
            "grid_auto_columns": null,
            "grid_auto_flow": null,
            "grid_auto_rows": null,
            "grid_column": null,
            "grid_gap": null,
            "grid_row": null,
            "grid_template_areas": null,
            "grid_template_columns": null,
            "grid_template_rows": null,
            "height": null,
            "justify_content": null,
            "justify_items": null,
            "left": null,
            "margin": null,
            "max_height": null,
            "max_width": null,
            "min_height": null,
            "min_width": null,
            "object_fit": null,
            "object_position": null,
            "order": null,
            "overflow": null,
            "overflow_x": null,
            "overflow_y": null,
            "padding": null,
            "right": null,
            "top": null,
            "visibility": null,
            "width": null
          }
        },
        "c80676fdac5d4ee7ab62fe4ec5f31620": {
          "model_module": "@jupyter-widgets/base",
          "model_name": "LayoutModel",
          "model_module_version": "1.2.0",
          "state": {
            "_model_module": "@jupyter-widgets/base",
            "_model_module_version": "1.2.0",
            "_model_name": "LayoutModel",
            "_view_count": null,
            "_view_module": "@jupyter-widgets/base",
            "_view_module_version": "1.2.0",
            "_view_name": "LayoutView",
            "align_content": null,
            "align_items": null,
            "align_self": null,
            "border": null,
            "bottom": null,
            "display": null,
            "flex": null,
            "flex_flow": null,
            "grid_area": null,
            "grid_auto_columns": null,
            "grid_auto_flow": null,
            "grid_auto_rows": null,
            "grid_column": null,
            "grid_gap": null,
            "grid_row": null,
            "grid_template_areas": null,
            "grid_template_columns": null,
            "grid_template_rows": null,
            "height": null,
            "justify_content": null,
            "justify_items": null,
            "left": null,
            "margin": null,
            "max_height": null,
            "max_width": null,
            "min_height": null,
            "min_width": null,
            "object_fit": null,
            "object_position": null,
            "order": null,
            "overflow": null,
            "overflow_x": null,
            "overflow_y": null,
            "padding": null,
            "right": null,
            "top": null,
            "visibility": null,
            "width": null
          }
        },
        "e9d27440938f4a7ca75cffe08c4be02a": {
          "model_module": "@jupyter-widgets/base",
          "model_name": "LayoutModel",
          "model_module_version": "1.2.0",
          "state": {
            "_model_module": "@jupyter-widgets/base",
            "_model_module_version": "1.2.0",
            "_model_name": "LayoutModel",
            "_view_count": null,
            "_view_module": "@jupyter-widgets/base",
            "_view_module_version": "1.2.0",
            "_view_name": "LayoutView",
            "align_content": null,
            "align_items": null,
            "align_self": null,
            "border": null,
            "bottom": null,
            "display": null,
            "flex": null,
            "flex_flow": null,
            "grid_area": null,
            "grid_auto_columns": null,
            "grid_auto_flow": null,
            "grid_auto_rows": null,
            "grid_column": null,
            "grid_gap": null,
            "grid_row": null,
            "grid_template_areas": null,
            "grid_template_columns": null,
            "grid_template_rows": null,
            "height": null,
            "justify_content": null,
            "justify_items": null,
            "left": null,
            "margin": null,
            "max_height": null,
            "max_width": null,
            "min_height": null,
            "min_width": null,
            "object_fit": null,
            "object_position": null,
            "order": null,
            "overflow": null,
            "overflow_x": null,
            "overflow_y": null,
            "padding": null,
            "right": null,
            "top": null,
            "visibility": null,
            "width": null
          }
        }
      }
    }
  },
  "nbformat": 4,
  "nbformat_minor": 0
}
