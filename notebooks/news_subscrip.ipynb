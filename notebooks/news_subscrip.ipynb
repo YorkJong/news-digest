{
  "nbformat": 4,
  "nbformat_minor": 0,
  "metadata": {
    "colab": {
      "provenance": [],
      "collapsed_sections": [
        "WR9eFgRx3Oak"
      ],
      "mount_file_id": "1bLLGT1AQE09zWeXZGsC4COsBy1ha-GdW",
      "authorship_tag": "ABX9TyMrhyYGN8Ni3eNxHN04bH7R",
      "include_colab_link": true
    },
    "kernelspec": {
      "name": "python3",
      "display_name": "Python 3"
    },
    "language_info": {
      "name": "python"
    },
    "widgets": {
      "application/vnd.jupyter.widget-state+json": {
        "11bacc7773a14ca3acb48916c781e1db": {
          "model_module": "@jupyter-widgets/controls",
          "model_name": "TabModel",
          "model_module_version": "1.5.0",
          "state": {
            "_dom_classes": [],
            "_model_module": "@jupyter-widgets/controls",
            "_model_module_version": "1.5.0",
            "_model_name": "TabModel",
            "_titles": {
              "0": "['Tesla & SpaceX; Vehicle']",
              "1": "['Tech Titans']",
              "2": "['Finance']",
              "3": "['Taiwan']",
              "4": "['Crypto']",
              "5": "['IT', 'Science', '#AI', '#Robot']"
            },
            "_view_count": null,
            "_view_module": "@jupyter-widgets/controls",
            "_view_module_version": "1.5.0",
            "_view_name": "TabView",
            "box_style": "",
            "children": [
              "IPY_MODEL_6d2d73ee29414369b0cdd7ab75156ac5",
              "IPY_MODEL_968e779cb1d84657808e11481eacdd8e",
              "IPY_MODEL_f8b9c4a296cd497394f40a5a9c34b370",
              "IPY_MODEL_7d947765fad544b6b94dd5ba688389d4",
              "IPY_MODEL_99eb36b3cad74ad8adbb587c38e14310",
              "IPY_MODEL_60dbfbd734a9461f9f5ec22777d1e94b"
            ],
            "layout": "IPY_MODEL_a65f33bf36dc4530bbd289c8c5fb8fba",
            "selected_index": 0
          }
        },
        "6d2d73ee29414369b0cdd7ab75156ac5": {
          "model_module": "@jupyter-widgets/output",
          "model_name": "OutputModel",
          "model_module_version": "1.0.0",
          "state": {
            "_dom_classes": [],
            "_model_module": "@jupyter-widgets/output",
            "_model_module_version": "1.0.0",
            "_model_name": "OutputModel",
            "_view_count": null,
            "_view_module": "@jupyter-widgets/output",
            "_view_module_version": "1.0.0",
            "_view_name": "OutputView",
            "layout": "IPY_MODEL_493d2159f633442db5a5dbf0792123f3",
            "msg_id": "",
            "outputs": [
              {
                "output_type": "stream",
                "name": "stdout",
                "text": [
                  "\n",
                  "### Tesla & SpaceX; Vehicle\n",
                  "- [震撼！特斯拉第四代驅動電機拆解！成本僅需$1000！車價能降多少？Shocking! Tesla's fourth-generation drive motor disassembled!](https://www.youtube.com/watch?v=rtzy6W0ERYE)\n",
                  "- [Tesla 美國再發售傳統方向盤 8 日賣光！打臉 Yoke 方向盤](https://www.dcfever.com/news/readnews.php?id=34988)\n",
                  "- [特斯拉今年市值猛增逾2000億美元 有望寫史上最佳開局](https://news.cnyes.com/news/id/5131742)\n",
                  "- [Elon Musk 及眾科技領袖：對「失控」超強 AI 的訓練需暫停至少六個月](https://chinese.engadget.com/tech-leaders-and-ai-experts-demand-a-six-month-pause-on-out-of-control-ai-experiments-124248017.html)\n",
                  "- [暫停GPT-4研究6個月！馬斯克帶頭千名CEO、科學家聯名信，他們恐懼什麼？](https://www.bnext.com.tw/article/74639/gpt-4-ai-musk-petition)\n",
                  "- [特斯拉創始人創立 Redwood 報廢電池可達 95 % 以上回收率！](https://wuangus.cc/tesla-redwood-materials/)\n",
                  "- [王傳福為比亞迪定新目標：今年成為中國第一](https://news.cnyes.com/news/id/5131583)\n",
                  "\n"
                ]
              }
            ]
          }
        },
        "968e779cb1d84657808e11481eacdd8e": {
          "model_module": "@jupyter-widgets/output",
          "model_name": "OutputModel",
          "model_module_version": "1.0.0",
          "state": {
            "_dom_classes": [],
            "_model_module": "@jupyter-widgets/output",
            "_model_module_version": "1.0.0",
            "_model_name": "OutputModel",
            "_view_count": null,
            "_view_module": "@jupyter-widgets/output",
            "_view_module_version": "1.0.0",
            "_view_name": "OutputView",
            "layout": "IPY_MODEL_990b0ea9f5df488e815fcb7f095d1626",
            "msg_id": "",
            "outputs": [
              {
                "output_type": "stream",
                "name": "stdout",
                "text": [
                  "\n",
                  "### Tech Titans\n",
                  "- [輝達目標價上調至300美元 分析師：除AI外軟體事業也不容小覷](https://m.cnyes.com/news/id/5132363)\n",
                  "- [傳微軟又將打造對抗ChromeOS的下一代Windows，且支援AI](https://www.ithome.com.tw/news/156199)\n",
                  "- [該來的還是來了，微軟考慮 Bing Chat 加入廣告](https://technews.tw/2023/03/30/microsoft-bing-chat-ads/)\n",
                  "- [媒體：Google和DeepMind擱置多年恩怨 聯手合作以追趕OpenAI](https://m.cnyes.com/news/id/5132381)\n",
                  "- [Google BigQuery新機器學習推理引擎支援外部自定義模型](https://www.ithome.com.tw/news/156191)\n",
                  "- [科技巨頭上萬人的AI戰隊，為何尬不過100多人的OpenAI？勝負關鍵在這裡](https://www.bnext.com.tw/article/74614/openai-aiteam-compare)\n",
                  "- [思科Webex加入多項人工智慧功能，改善線上會議協作體驗](https://www.ithome.com.tw/news/156196)\n",
                  "- [裝不起電腦不是錯覺 AMD、Intel平台主機板價格飆漲 3年跑贏通膨](https://news.xfastest.com/others/126037/motherboard-price/)\n",
                  "- [英特爾發表新伺服器處理器藍圖，激勵股價收盤大漲 7.61%](https://technews.tw/2023/03/30/intel-announces-new-server-processor-development-roadmap/)\n",
                  "- [英特爾第五代處理器有望今年底交貨、點陣圖顯示今年還會再升1碼！ ](https://news.cnyes.com/news/id/5132752)\n",
                  "- [英特爾：Sierra Forest晶片將於2024年上半年交付](https://m.cnyes.com/news/id/5131708)\n",
                  "- [美光：庫存問題已觸頂，進一步縮減人力、砍資本支出](https://technews.tw/2023/03/29/micron-technology-inc-reports-results-for-the-second-quarter-of-fiscal-2023/)\n",
                  "- [美光再指市場已觸底，台廠盼迎提早復甦](https://technews.tw/2023/03/29/micron-says-the-market-has-bottomed-out-again/)\n",
                  "- [只是為了品質？Uber Eats 新規定將大砍約 5 千家虛擬餐廳](https://www.kocpc.com.tw/archives/486077)\n",
                  "- [阿里巴巴財務長：業務集團上市後 會評估是否放棄控制](https://news.cnyes.com/news/id/5131807)\n",
                  "- [南韓預計今通過「韓版晶片法」，大企業抵稅提高至 15%](https://technews.tw/2023/03/30/south-korea-pass-chips-act/)\n",
                  "- [三菱電機搶蓋 8 吋 SiC 晶圓廠，看準電動車商機](https://technews.tw/2023/03/30/mitsubishi-electric-sic-new-factory/)\n",
                  "- [【美股盤前】電子遊戲巨頭藝電宣佈裁員6%，盤前股價上漲 作者 Investing.com](https://hk.investing.com/news/stock-market-news/article-314669)\n",
                  "\n"
                ]
              }
            ]
          }
        },
        "f8b9c4a296cd497394f40a5a9c34b370": {
          "model_module": "@jupyter-widgets/output",
          "model_name": "OutputModel",
          "model_module_version": "1.0.0",
          "state": {
            "_dom_classes": [],
            "_model_module": "@jupyter-widgets/output",
            "_model_module_version": "1.0.0",
            "_model_name": "OutputModel",
            "_view_count": null,
            "_view_module": "@jupyter-widgets/output",
            "_view_module_version": "1.0.0",
            "_view_name": "OutputView",
            "layout": "IPY_MODEL_b1d2d1ed28e3416cb7f12038b0faacf0",
            "msg_id": "",
            "outputs": [
              {
                "output_type": "stream",
                "name": "stdout",
                "text": [
                  "\n",
                  "### Finance\n",
                  "- [Electrokinetics(CRKN.US)盤前升10%](https://hk.investing.com/news/stock-market-news/article-314660)\n",
                  "- [Zoom 與 OpenAI 合作，4 月開放部分用戶體驗 Zoom IQ 新 AI 功能](https://technews.tw/2023/03/30/were-one-step-closer-to-ai-handling-zoom-meetings-for-us/)\n",
                  "- [美股異動丨飛利浦盤前升近7% 預計今年將就其全球召回的呼吸系統設備達成和解 作者 格隆匯](https://hk.investing.com/news/stock-market-news/article-314638)\n",
                  "- [《國際產業》有錢人不怕通膨 露露檸檬全年展望報喜、盤後飆漲逾13%](https://tw.stock.yahoo.com/news/國際產業-有錢人不怕通膨-露露檸檬全年展望報喜-盤後飆漲逾13-033334108.html)\n",
                  "- [机构大举买入！德银幕后操手，500万撬动16亿！零售龙头LULU+美光财报](https://www.youtube.com/watch?v=zSgLT57I594)\n",
                  "- [银行将遭遇第二波‘挤兑’风险！科技股进入技术牛市！债市的机会在哪里](https://www.youtube.com/watch?v=LJnHEprrNKY)\n",
                  "- [FDIC面臨近230億美元成本 擬要求大銀行多出錢](https://m.cnyes.com/news/id/5131731)\n",
                  "- [美銀：美股短期上行空間有限 現金是有力替代品](https://news.cnyes.com/news/id/5131724)\n",
                  "- [〈紐約匯市〉美元止步連二貶 年度結算日將至 日元震盪走低](https://news.cnyes.com/news/id/5131722)\n",
                  "- [先別管銀行了，黃金技術面恐怕要出事！](https://www.dailyfxasia.com/cn/intraday_techs/20230329-6019.html)\n",
                  "- [投資人神經暫時舒緩 美債殖利率回落](https://m.cnyes.com/news/id/5131416)\n",
                  "- [美傳敦促歐盟制裁中國衛星公司](https://news.cnyes.com/news/id/5131725)\n",
                  "- [人行2390億逆回購利率持平,淨投放1750億](https://m.cnyes.com/news/id/5132127)\n",
                  "\n"
                ]
              }
            ]
          }
        },
        "7d947765fad544b6b94dd5ba688389d4": {
          "model_module": "@jupyter-widgets/output",
          "model_name": "OutputModel",
          "model_module_version": "1.0.0",
          "state": {
            "_dom_classes": [],
            "_model_module": "@jupyter-widgets/output",
            "_model_module_version": "1.0.0",
            "_model_name": "OutputModel",
            "_view_count": null,
            "_view_module": "@jupyter-widgets/output",
            "_view_module_version": "1.0.0",
            "_view_name": "OutputView",
            "layout": "IPY_MODEL_8ad8386644894f41a628331109aa461f",
            "msg_id": "",
            "outputs": [
              {
                "output_type": "stream",
                "name": "stdout",
                "text": [
                  "\n",
                  "### Taiwan\n",
                  "- [違約戶大利多 券商收取違約金將大幅下修](https://ctee.com.tw/news/stocks/834188.html)\n",
                  "- [Sharp 攜手 E Ink 在日本推出零耗電的 42 吋電子紙數位海報](https://www.cool3c.com/article/191316)\n",
                  "- [劉德音：中國製半導體可能轉變，台應建構產業生態圈](https://technews.tw/2023/03/30/taiwan-should-build-a-semiconductor-industry-chain/)\n",
                  "- [83張緯創全賣 內行揭收割點:緊盯1事就沒錯](https://ctee.com.tw/news/stocks/835593.html)\n",
                  "- [外資連兩日敲進緯創共逾1.5萬張 調節聯電、力積電](https://news.cnyes.com/news/id/5131584)\n",
                  "- [元晶19億元聯貸到手 打入美系太陽能屋瓦與低軌衛星供應鏈](https://news.cnyes.com/news/id/5131587)\n",
                  "- [華新啟動台灣首家離岸電纜廠 2025年底試產](https://m.cnyes.com/news/id/5131234)\n",
                  "- [鴻海「0到6歲公司養」滿三年1574位寶寶受惠 留才效益同步顯現](https://m.cnyes.com/news/id/5132501)\n",
                  "- [金融業使用ChatGPT 金管會要查](https://ctee.com.tw/news/finance/835285.html)\n",
                  "- [生成式AI時代來臨，產業該如何應用？中信銀AI實驗室發展有成，創造有感消費體驗，獲國際大獎肯定](https://www.bnext.com.tw/article/74607/ctbcbank_202304)\n",
                  "- [〈台幣〉午後風雲變色 股匯脫鉤貶7分收30.455元 探1周低點](https://m.cnyes.com/news/id/5131156)\n",
                  "- [年薪 42.3 萬以下單身不用繳稅！5 月報稅季申報六大變動一次看](https://technews.tw/2023/03/28/tax-season-filing/)\n",
                  "- [全台唯一無囤房稅！新北市府通過非自住三戶以上祭囤房稅3.6%](https://tw.nextapple.com/finance/20230329/A544CB69119EC24401BDAEB93EEF3A98)\n",
                  "- [〈房產〉北台灣高達4.7萬戶預售屋待售 淡水最多](https://news.cnyes.com/news/id/5132275)\n",
                  "- [新北美術館園區開放　首週多元美聲、跨世代強力卡司迎客](https://today.line.me/tw/v2/article/ZaWQ5DO)\n",
                  "\n"
                ]
              }
            ]
          }
        },
        "99eb36b3cad74ad8adbb587c38e14310": {
          "model_module": "@jupyter-widgets/output",
          "model_name": "OutputModel",
          "model_module_version": "1.0.0",
          "state": {
            "_dom_classes": [],
            "_model_module": "@jupyter-widgets/output",
            "_model_module_version": "1.0.0",
            "_model_name": "OutputModel",
            "_view_count": null,
            "_view_module": "@jupyter-widgets/output",
            "_view_module_version": "1.0.0",
            "_view_name": "OutputView",
            "layout": "IPY_MODEL_baf8f687439d4344958441863a64f953",
            "msg_id": "",
            "outputs": [
              {
                "output_type": "stream",
                "name": "stdout",
                "text": [
                  "\n",
                  "### Crypto\n",
                  "- [【快訊】台灣確定納管加密貨幣！金管會下午說明「重點監管方向」](https://blockcast.it/2023/03/30/its-confirmed-fsc-will-be-the-main-crypto-regulatory-body/)\n",
                  "- [法院允許 FTX 出售紅杉資本 4500 萬鎂資產，將由阿布達比公司收購](https://www.blocktempo.com/judge-approves-ftx-to-sell-45m-of-sequoia-fund/)\n",
                  "- [法院警告SBF「不禁慾就回牢房」，限縮保釋自由：翻蓋手機不能連Wifi、筆電內建網路守門員](https://www.blocktempo.com/sbf-lawyers-prosecutors-agree-on-proposed-bail-conditions/)\n",
                  "- [比特幣突破2.85萬！Bitfinex：或迎「牛市早期階段」交易量激增、機構進場](https://www.blocktempo.com/btc-breaks-through-28500/)\n",
                  "- [禁止CBDC的佛羅里達州法案或將意外禁止比特幣](https://m.cnyes.com/news/id/5131633)\n",
                  "- [DeFi新解方？5分鐘了解 NESTFi 的「無限流動性」設計](https://www.blocktempo.com/nestfi-with-unlimited-liquidity-break-out-of-the-derivatives-market/)\n",
                  "- [幣安聲稱早已退出中國　卻遭披露秘密「在中國營運」、使用VPN隱匿員工位置](https://www.upmedia.mg/news_info.php?Type=3&SerialNo=169270)\n",
                  "- [美國經紀商Radix捲入幣安訴訟：離岸實體在Binance交易屬正常，想不通為何違法](https://www.blocktempo.com/wsj-radix-says-it-is-trading-firm-a-in-binance-lawsuit/)\n",
                  "- [彭博：幣安訴訟案引爆「美國交易商恐慌」！憂牌照被摘丟生意](https://www.blocktempo.com/bloombeg-binance-crackdown-threatens-us-trading-firms/)\n",
                  "- [幣安又見大量資金流出 但比特幣仍快速反彈 重回28000美元上方](https://news.cnyes.com/news/id/5131038)\n",
                  "- [Signature Bank 在 4/5 前「清算存款」，FDIC 要求加密貨幣存戶趁早提款！](https://www.blocktempo.com/fdic-gives-deadline-for-signature-crypto-depositors/)\n",
                  "\n"
                ]
              }
            ]
          }
        },
        "60dbfbd734a9461f9f5ec22777d1e94b": {
          "model_module": "@jupyter-widgets/output",
          "model_name": "OutputModel",
          "model_module_version": "1.0.0",
          "state": {
            "_dom_classes": [],
            "_model_module": "@jupyter-widgets/output",
            "_model_module_version": "1.0.0",
            "_model_name": "OutputModel",
            "_view_count": null,
            "_view_module": "@jupyter-widgets/output",
            "_view_module_version": "1.0.0",
            "_view_name": "OutputView",
            "layout": "IPY_MODEL_6d010d4435044fd49921075fd9f74d05",
            "msg_id": "",
            "outputs": [
              {
                "output_type": "stream",
                "name": "stdout",
                "text": [
                  "\n",
                  "### IT\n",
                  "- [Stable Diffusion教學 ControlNet 2  控制 AI女友](https://www.youtube.com/watch?v=OaNzIgGqgsU)\n",
                  "- [【AI生成圖教學】動漫角色如何真人化？使用 stable diffusion 不用 Coser 也可以 Cosplay](https://www.youtube.com/watch?v=pilvkof5PXM)\n",
                  "- [Ai你自己！普通人也能颜值爆表！全网最简单做自己头像的方法，告别女神经, 500张绝美卡通大头贴不是问题, 不是Midjourney V5](https://www.youtube.com/watch?v=CByJNFZ3GZs)\n",
                  "\n",
                  "### Science\n",
                  "- [GPT-4 登場！先理解 ChatGPT 原理，才知道怎麼利用 AI 幫你輸入！](https://www.youtube.com/watch?v=sL1BNTU-4PI)\n",
                  "\n"
                ]
              }
            ]
          }
        },
        "a65f33bf36dc4530bbd289c8c5fb8fba": {
          "model_module": "@jupyter-widgets/base",
          "model_name": "LayoutModel",
          "model_module_version": "1.2.0",
          "state": {
            "_model_module": "@jupyter-widgets/base",
            "_model_module_version": "1.2.0",
            "_model_name": "LayoutModel",
            "_view_count": null,
            "_view_module": "@jupyter-widgets/base",
            "_view_module_version": "1.2.0",
            "_view_name": "LayoutView",
            "align_content": null,
            "align_items": null,
            "align_self": null,
            "border": null,
            "bottom": null,
            "display": null,
            "flex": null,
            "flex_flow": null,
            "grid_area": null,
            "grid_auto_columns": null,
            "grid_auto_flow": null,
            "grid_auto_rows": null,
            "grid_column": null,
            "grid_gap": null,
            "grid_row": null,
            "grid_template_areas": null,
            "grid_template_columns": null,
            "grid_template_rows": null,
            "height": null,
            "justify_content": null,
            "justify_items": null,
            "left": null,
            "margin": null,
            "max_height": null,
            "max_width": null,
            "min_height": null,
            "min_width": null,
            "object_fit": null,
            "object_position": null,
            "order": null,
            "overflow": null,
            "overflow_x": null,
            "overflow_y": null,
            "padding": null,
            "right": null,
            "top": null,
            "visibility": null,
            "width": null
          }
        },
        "493d2159f633442db5a5dbf0792123f3": {
          "model_module": "@jupyter-widgets/base",
          "model_name": "LayoutModel",
          "model_module_version": "1.2.0",
          "state": {
            "_model_module": "@jupyter-widgets/base",
            "_model_module_version": "1.2.0",
            "_model_name": "LayoutModel",
            "_view_count": null,
            "_view_module": "@jupyter-widgets/base",
            "_view_module_version": "1.2.0",
            "_view_name": "LayoutView",
            "align_content": null,
            "align_items": null,
            "align_self": null,
            "border": null,
            "bottom": null,
            "display": null,
            "flex": null,
            "flex_flow": null,
            "grid_area": null,
            "grid_auto_columns": null,
            "grid_auto_flow": null,
            "grid_auto_rows": null,
            "grid_column": null,
            "grid_gap": null,
            "grid_row": null,
            "grid_template_areas": null,
            "grid_template_columns": null,
            "grid_template_rows": null,
            "height": null,
            "justify_content": null,
            "justify_items": null,
            "left": null,
            "margin": null,
            "max_height": null,
            "max_width": null,
            "min_height": null,
            "min_width": null,
            "object_fit": null,
            "object_position": null,
            "order": null,
            "overflow": null,
            "overflow_x": null,
            "overflow_y": null,
            "padding": null,
            "right": null,
            "top": null,
            "visibility": null,
            "width": null
          }
        },
        "990b0ea9f5df488e815fcb7f095d1626": {
          "model_module": "@jupyter-widgets/base",
          "model_name": "LayoutModel",
          "model_module_version": "1.2.0",
          "state": {
            "_model_module": "@jupyter-widgets/base",
            "_model_module_version": "1.2.0",
            "_model_name": "LayoutModel",
            "_view_count": null,
            "_view_module": "@jupyter-widgets/base",
            "_view_module_version": "1.2.0",
            "_view_name": "LayoutView",
            "align_content": null,
            "align_items": null,
            "align_self": null,
            "border": null,
            "bottom": null,
            "display": null,
            "flex": null,
            "flex_flow": null,
            "grid_area": null,
            "grid_auto_columns": null,
            "grid_auto_flow": null,
            "grid_auto_rows": null,
            "grid_column": null,
            "grid_gap": null,
            "grid_row": null,
            "grid_template_areas": null,
            "grid_template_columns": null,
            "grid_template_rows": null,
            "height": null,
            "justify_content": null,
            "justify_items": null,
            "left": null,
            "margin": null,
            "max_height": null,
            "max_width": null,
            "min_height": null,
            "min_width": null,
            "object_fit": null,
            "object_position": null,
            "order": null,
            "overflow": null,
            "overflow_x": null,
            "overflow_y": null,
            "padding": null,
            "right": null,
            "top": null,
            "visibility": null,
            "width": null
          }
        },
        "b1d2d1ed28e3416cb7f12038b0faacf0": {
          "model_module": "@jupyter-widgets/base",
          "model_name": "LayoutModel",
          "model_module_version": "1.2.0",
          "state": {
            "_model_module": "@jupyter-widgets/base",
            "_model_module_version": "1.2.0",
            "_model_name": "LayoutModel",
            "_view_count": null,
            "_view_module": "@jupyter-widgets/base",
            "_view_module_version": "1.2.0",
            "_view_name": "LayoutView",
            "align_content": null,
            "align_items": null,
            "align_self": null,
            "border": null,
            "bottom": null,
            "display": null,
            "flex": null,
            "flex_flow": null,
            "grid_area": null,
            "grid_auto_columns": null,
            "grid_auto_flow": null,
            "grid_auto_rows": null,
            "grid_column": null,
            "grid_gap": null,
            "grid_row": null,
            "grid_template_areas": null,
            "grid_template_columns": null,
            "grid_template_rows": null,
            "height": null,
            "justify_content": null,
            "justify_items": null,
            "left": null,
            "margin": null,
            "max_height": null,
            "max_width": null,
            "min_height": null,
            "min_width": null,
            "object_fit": null,
            "object_position": null,
            "order": null,
            "overflow": null,
            "overflow_x": null,
            "overflow_y": null,
            "padding": null,
            "right": null,
            "top": null,
            "visibility": null,
            "width": null
          }
        },
        "8ad8386644894f41a628331109aa461f": {
          "model_module": "@jupyter-widgets/base",
          "model_name": "LayoutModel",
          "model_module_version": "1.2.0",
          "state": {
            "_model_module": "@jupyter-widgets/base",
            "_model_module_version": "1.2.0",
            "_model_name": "LayoutModel",
            "_view_count": null,
            "_view_module": "@jupyter-widgets/base",
            "_view_module_version": "1.2.0",
            "_view_name": "LayoutView",
            "align_content": null,
            "align_items": null,
            "align_self": null,
            "border": null,
            "bottom": null,
            "display": null,
            "flex": null,
            "flex_flow": null,
            "grid_area": null,
            "grid_auto_columns": null,
            "grid_auto_flow": null,
            "grid_auto_rows": null,
            "grid_column": null,
            "grid_gap": null,
            "grid_row": null,
            "grid_template_areas": null,
            "grid_template_columns": null,
            "grid_template_rows": null,
            "height": null,
            "justify_content": null,
            "justify_items": null,
            "left": null,
            "margin": null,
            "max_height": null,
            "max_width": null,
            "min_height": null,
            "min_width": null,
            "object_fit": null,
            "object_position": null,
            "order": null,
            "overflow": null,
            "overflow_x": null,
            "overflow_y": null,
            "padding": null,
            "right": null,
            "top": null,
            "visibility": null,
            "width": null
          }
        },
        "baf8f687439d4344958441863a64f953": {
          "model_module": "@jupyter-widgets/base",
          "model_name": "LayoutModel",
          "model_module_version": "1.2.0",
          "state": {
            "_model_module": "@jupyter-widgets/base",
            "_model_module_version": "1.2.0",
            "_model_name": "LayoutModel",
            "_view_count": null,
            "_view_module": "@jupyter-widgets/base",
            "_view_module_version": "1.2.0",
            "_view_name": "LayoutView",
            "align_content": null,
            "align_items": null,
            "align_self": null,
            "border": null,
            "bottom": null,
            "display": null,
            "flex": null,
            "flex_flow": null,
            "grid_area": null,
            "grid_auto_columns": null,
            "grid_auto_flow": null,
            "grid_auto_rows": null,
            "grid_column": null,
            "grid_gap": null,
            "grid_row": null,
            "grid_template_areas": null,
            "grid_template_columns": null,
            "grid_template_rows": null,
            "height": null,
            "justify_content": null,
            "justify_items": null,
            "left": null,
            "margin": null,
            "max_height": null,
            "max_width": null,
            "min_height": null,
            "min_width": null,
            "object_fit": null,
            "object_position": null,
            "order": null,
            "overflow": null,
            "overflow_x": null,
            "overflow_y": null,
            "padding": null,
            "right": null,
            "top": null,
            "visibility": null,
            "width": null
          }
        },
        "6d010d4435044fd49921075fd9f74d05": {
          "model_module": "@jupyter-widgets/base",
          "model_name": "LayoutModel",
          "model_module_version": "1.2.0",
          "state": {
            "_model_module": "@jupyter-widgets/base",
            "_model_module_version": "1.2.0",
            "_model_name": "LayoutModel",
            "_view_count": null,
            "_view_module": "@jupyter-widgets/base",
            "_view_module_version": "1.2.0",
            "_view_name": "LayoutView",
            "align_content": null,
            "align_items": null,
            "align_self": null,
            "border": null,
            "bottom": null,
            "display": null,
            "flex": null,
            "flex_flow": null,
            "grid_area": null,
            "grid_auto_columns": null,
            "grid_auto_flow": null,
            "grid_auto_rows": null,
            "grid_column": null,
            "grid_gap": null,
            "grid_row": null,
            "grid_template_areas": null,
            "grid_template_columns": null,
            "grid_template_rows": null,
            "height": null,
            "justify_content": null,
            "justify_items": null,
            "left": null,
            "margin": null,
            "max_height": null,
            "max_width": null,
            "min_height": null,
            "min_width": null,
            "object_fit": null,
            "object_position": null,
            "order": null,
            "overflow": null,
            "overflow_x": null,
            "overflow_y": null,
            "padding": null,
            "right": null,
            "top": null,
            "visibility": null,
            "width": null
          }
        }
      }
    }
  },
  "cells": [
    {
      "cell_type": "markdown",
      "metadata": {
        "id": "view-in-github",
        "colab_type": "text"
      },
      "source": [
        "<a href=\"https://colab.research.google.com/github/YorkJong/news-digest/blob/main/notebooks/news_subscrip.ipynb\" target=\"_parent\"><img src=\"https://colab.research.google.com/assets/colab-badge.svg\" alt=\"Open In Colab\"/></a>"
      ]
    },
    {
      "cell_type": "markdown",
      "source": [
        "### Install"
      ],
      "metadata": {
        "id": "WR9eFgRx3Oak"
      }
    },
    {
      "cell_type": "code",
      "source": [
        "import os\n",
        "\n",
        "fns = ['clip.py', 'line.py', 'op.py', 'hashtag.py']\n",
        "\n",
        "for fn in fns:\n",
        "    if os.path.exists(fn):\n",
        "        os.remove(fn)\n",
        "for fn in fns:\n",
        "    url = f'https://raw.githubusercontent.com/YorkJong/news-digest/main/api/{fn}'\n",
        "    !wget $url\n",
        "\n",
        "#-------------------------------------------------------------------------------\n",
        "# Initializing\n",
        "#-------------------------------------------------------------------------------\n",
        "\n",
        "import clip\n",
        "import line\n",
        "import hashtag\n",
        "\n",
        "from google.colab import drive\n",
        "drive.mount('/content/drive')"
      ],
      "metadata": {
        "id": "HhPa1e1tse76"
      },
      "execution_count": null,
      "outputs": []
    },
    {
      "cell_type": "markdown",
      "source": [
        "### Execute Actions Step by Step"
      ],
      "metadata": {
        "id": "I8-Wcwwq5ixa"
      }
    },
    {
      "cell_type": "code",
      "source": [
        "#@title Step 1. Pick a **period** of the news { run: \"auto\", display-mode: \"form\" }\n",
        "period = \"Today\" #@param [\"Today\", \"Yesterday\", \"Recent 2 Days\", \"Recent 7 Days\"]\n",
        "\n",
        "\n",
        "def news_today():\n",
        "    return clip.get_latest_journal()\n",
        "\n",
        "def news_yesterday():\n",
        "    fns = clip.get_recent_journal_filenames(2)\n",
        "    return clip.get_journal(fns[-2])\n",
        "\n",
        "def news_recent2days():\n",
        "    return clip.merge_recent_journals(days=2)\n",
        "\n",
        "def news_recent7days():\n",
        "    return clip.merge_recent_journals(days=7)\n",
        "\n",
        "period2func = {\n",
        "    'Today': news_today,\n",
        "    'Yesterday': news_yesterday,\n",
        "    'Recent 2 Days': news_recent2days,\n",
        "    'Recent 7 Days': news_recent7days,\n",
        "}\n",
        "\n",
        "content = period2func[period]()\n",
        "\n",
        "import ipywidgets as widgets\n",
        "output = widgets.Output()\n",
        "with output:\n",
        "    print(content)"
      ],
      "metadata": {
        "id": "we4a197PH1Li"
      },
      "execution_count": 9,
      "outputs": []
    },
    {
      "cell_type": "code",
      "source": [
        "#@title Step 2. Pick a publication **frequency** { run: \"auto\", display-mode: \"form\" }\n",
        "frequency = \"Daily\" #@param [\"Daily\", \"Weekly\", \"Any\"]\n",
        "\n",
        "import yaml\n",
        "\n",
        "path = '/content/drive/My Drive/news_subscrip'\n",
        "fn = f'{path}/subscriptions_{frequency}.yml'\n",
        "with open(fn, 'r') as f:\n",
        "    subscriptions = yaml.safe_load(f)"
      ],
      "metadata": {
        "id": "Wqk2cZQk6KjR"
      },
      "execution_count": 10,
      "outputs": []
    },
    {
      "cell_type": "code",
      "source": [
        "#@title Step 3. Line Notify { display-mode: \"form\" }\n",
        "mock_mode = True #@param {type:\"boolean\"}\n",
        "\n",
        "import time\n",
        "import ipywidgets as widgets\n",
        "import yaml\n",
        "\n",
        "path = '/content/drive/My Drive/news_subscrip'\n",
        "fn = f'{path}/access_tokens.yml'\n",
        "with open(fn, 'r') as f:\n",
        "    tok_tbl = yaml.safe_load(f)\n",
        "\n",
        "def create_outputs():\n",
        "    topices = [str(t) for t, _ in subscriptions]\n",
        "    tab = widgets.Tab()\n",
        "    outputs = [widgets.Output() for name in topices]\n",
        "    tab.children = outputs\n",
        "    for i, t in enumerate(topices):\n",
        "        tab.set_title(i, t)\n",
        "    display(tab)\n",
        "    return outputs\n",
        "\n",
        "def notify():\n",
        "    if mock_mode:\n",
        "        outputs = create_outputs()\n",
        "    for i, subscription in enumerate(subscriptions):\n",
        "        topices, clients = subscription\n",
        "        headers = [topice for topice in topices if not topice.startswith('#')]\n",
        "        tags = [topice for topice in topices if topice.startswith('#')]\n",
        "        categories = headers \n",
        "        if not categories and tags:\n",
        "            categories = clip.get_categories(content)\n",
        "        if tags:\n",
        "            lines = clip.get_lines_of_categories(categories, content, True, True) \n",
        "            lines = hashtag.get_lines_with_any_hashtags(lines, tags)\n",
        "            with_headers = True if headers else False\n",
        "            lines = clip.get_lines_of_categories(categories, '\\n'.join(lines), False, with_headers)\n",
        "        else:\n",
        "            lines = clip.get_lines_of_categories(categories, content, False, True) \n",
        "        if not lines: \n",
        "            continue\n",
        "        text = '\\n'.join(lines)\n",
        "        message = f'\\n{text}'\n",
        "        if mock_mode:\n",
        "            with outputs[i]:\n",
        "                print(message)\n",
        "            continue\n",
        "        for receiver in clients:\n",
        "            token = tok_tbl[receiver]\n",
        "            if not mock_mode:\n",
        "                line.notify_message(message, token)\n",
        "        if not mock_mode:\n",
        "            time.sleep(3)\n",
        "\n",
        "def notify_with_checks():\n",
        "    if period in ('Today', 'Yesterday'):\n",
        "        if frequency not in ('Daily', 'Any'):\n",
        "            print(f'The period is \"{period}\"')\n",
        "            print('The frequency must be \"Daily\" or \"Any\"')\n",
        "            return\n",
        "    elif period in ('Recent 7 Days',):\n",
        "        if frequency not in ('Weekly', 'Any'):\n",
        "            print(f'The period is \"{period}\"')\n",
        "            print('The frequency must be \"Weekly\" or \"Any\"')\n",
        "            return\n",
        "    elif period in ('Recent 2 Days',):\n",
        "        if frequency not in ('2 Daily', 'Any'):\n",
        "            print(f'The period is \"{period}\"')\n",
        "            print('The frequency must be \"2 Daily\" or \"Any\"')\n",
        "            return\n",
        "    notify()\n",
        "\n",
        "notify_with_checks()"
      ],
      "metadata": {
        "id": "BzKyvK806hMl",
        "colab": {
          "base_uri": "https://localhost:8080/",
          "height": 270,
          "referenced_widgets": [
            "11bacc7773a14ca3acb48916c781e1db",
            "6d2d73ee29414369b0cdd7ab75156ac5",
            "968e779cb1d84657808e11481eacdd8e",
            "f8b9c4a296cd497394f40a5a9c34b370",
            "7d947765fad544b6b94dd5ba688389d4",
            "99eb36b3cad74ad8adbb587c38e14310",
            "60dbfbd734a9461f9f5ec22777d1e94b",
            "a65f33bf36dc4530bbd289c8c5fb8fba",
            "493d2159f633442db5a5dbf0792123f3",
            "990b0ea9f5df488e815fcb7f095d1626",
            "b1d2d1ed28e3416cb7f12038b0faacf0",
            "8ad8386644894f41a628331109aa461f",
            "baf8f687439d4344958441863a64f953",
            "6d010d4435044fd49921075fd9f74d05"
          ]
        },
        "outputId": "da8ffbb7-62ea-4aed-818a-022c88557c61"
      },
      "execution_count": 13,
      "outputs": [
        {
          "output_type": "display_data",
          "data": {
            "text/plain": [
              "Tab(children=(Output(), Output(), Output(), Output(), Output(), Output()), _titles={'0': \"['Tesla & SpaceX; Ve…"
            ],
            "application/vnd.jupyter.widget-view+json": {
              "version_major": 2,
              "version_minor": 0,
              "model_id": "11bacc7773a14ca3acb48916c781e1db"
            }
          },
          "metadata": {}
        }
      ]
    },
    {
      "cell_type": "markdown",
      "source": [
        "### References\n",
        "* [LINE Notify ::My page](https://notify-bot.line.me/my/)"
      ],
      "metadata": {
        "id": "l9kvYn67Zue4"
      }
    },
    {
      "cell_type": "markdown",
      "source": [
        "#### Format of config files\n",
        "\n",
        "subscriptions_Daily.yml:\n",
        "```yaml\n",
        "- [['Tesla & SpaceX; Vehicle'], [股之呼吸, MiniGroup]]\n",
        "- [['Tech Titans'], [股之呼吸, MiniGroup]]\n",
        "- [[Finance], [股之呼吸, MiniGroup, '55688']]\n",
        "- [[Taiwan], [股之呼吸, MiniGroup, '55688', 股海無涯, 股涯迷途小羔羊]]\n",
        "- [[Crypto], [股之呼吸, 區塊鏈]]\n",
        "- [[IT, Science, '#AI', '#Robot'], [股之呼吸, MiniGroup, '55688']]\n",
        "```\n",
        "\n",
        "subscriptions_Weekly.yml:\n",
        "```yaml\n",
        "- [[Technology], [股之呼吸, MiniGroup, 閱讀, '55688']]\n",
        "```\n",
        "\n",
        "access_tokens.yml:\n",
        "```yaml\n",
        "區塊鏈: LINE_NOTIFY_ACCESS_TOKEN_1\n",
        "股之呼吸: LINE_NOTIFY_ACCESS_TOKEN_2\n",
        "MiniGroup: LINE_NOTIFY_ACCESS_TOKEN_3\n",
        "閱讀: LINE_NOTIFY_ACCESS_TOKEN_4\n",
        "55688: LINE_NOTIFY_ACCESS_TOKEN_5\n",
        "股海無涯: LINE_NOTIFY_ACCESS_TOKEN_6\n",
        "股涯迷途小羔羊: LINE_NOTIFY_ACCESS_TOKEN_7\n",
        "```"
      ],
      "metadata": {
        "id": "R4pJP6szlHX6"
      }
    },
    {
      "cell_type": "markdown",
      "source": [
        "### Test"
      ],
      "metadata": {
        "id": "O8RHHBiSg691"
      }
    },
    {
      "cell_type": "markdown",
      "source": [
        "display(output) # output from Step 1"
      ],
      "metadata": {
        "id": "hq2b-uQtw538"
      }
    },
    {
      "cell_type": "markdown",
      "source": [
        "drive.flush_and_unmount()\n",
        "print('All changes made in this colab session should now be visible in Drive.')"
      ],
      "metadata": {
        "id": "dacJ4g2XfKWh"
      }
    }
  ]
}