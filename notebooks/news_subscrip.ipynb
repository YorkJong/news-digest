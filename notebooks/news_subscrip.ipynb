{
  "nbformat": 4,
  "nbformat_minor": 0,
  "metadata": {
    "colab": {
      "provenance": [],
      "collapsed_sections": [
        "WR9eFgRx3Oak"
      ],
      "mount_file_id": "1bLLGT1AQE09zWeXZGsC4COsBy1ha-GdW",
      "authorship_tag": "ABX9TyNWtn6ifcOyUqtGpfuCbqct",
      "include_colab_link": true
    },
    "kernelspec": {
      "name": "python3",
      "display_name": "Python 3"
    },
    "language_info": {
      "name": "python"
    },
    "widgets": {
      "application/vnd.jupyter.widget-state+json": {
        "6a51aaccdb6a4b878ae03177f58839ed": {
          "model_module": "@jupyter-widgets/controls",
          "model_name": "TabModel",
          "model_module_version": "1.5.0",
          "state": {
            "_dom_classes": [],
            "_model_module": "@jupyter-widgets/controls",
            "_model_module_version": "1.5.0",
            "_model_name": "TabModel",
            "_titles": {
              "0": "['Technology']"
            },
            "_view_count": null,
            "_view_module": "@jupyter-widgets/controls",
            "_view_module_version": "1.5.0",
            "_view_name": "TabView",
            "box_style": "",
            "children": [
              "IPY_MODEL_2d1d25f6eaa545fcae2c71005e160bf0"
            ],
            "layout": "IPY_MODEL_f914c49305aa42ec857de0c4d4875429",
            "selected_index": 0
          }
        },
        "2d1d25f6eaa545fcae2c71005e160bf0": {
          "model_module": "@jupyter-widgets/output",
          "model_name": "OutputModel",
          "model_module_version": "1.0.0",
          "state": {
            "_dom_classes": [],
            "_model_module": "@jupyter-widgets/output",
            "_model_module_version": "1.0.0",
            "_model_name": "OutputModel",
            "_view_count": null,
            "_view_module": "@jupyter-widgets/output",
            "_view_module_version": "1.0.0",
            "_view_name": "OutputView",
            "layout": "IPY_MODEL_bd1fcd05225742ee8e69e387d8818f5c",
            "msg_id": "",
            "outputs": [
              {
                "output_type": "stream",
                "name": "stdout",
                "text": [
                  "\n",
                  "- [科學家發現了迄今為止最古老的黑洞](https://www.natgeomedia.com/science/article/content-16158.html)\n",
                  "- [驚奇！ 南極驚現金字塔　科學家疑「有輝煌古文明」_國際](https://www.nexttv.com.tw/NextTV/News/Home/WorldNews/2023-04-06/1118613.html)\n",
                  "- [天文學家發現：數億光年外黑洞噴流轉向地球](https://www.epochtimes.com/b5/23/4/4/n13965311.htm)\n",
                  "- [首次以重力透鏡效應抓到超大黑洞，質量達太陽 300 億倍](https://technews.tw/2023/04/06/abell-1201-galaxy-cluster-ultramassive-black-hole/)\n",
                  "- [從廢棄太陽能板提取「奈米矽」，材料重回乾淨能源產業鏈](https://technews.tw/2023/04/04/recycle-solar-panels/)\n",
                  "- [「像一座月球上的水庫」中國嫦娥五號在月球表面發現新的水源](https://dq.yam.com/post/15334)\n",
                  "- [「替數位時代留下備份」奧地利鹽礦內埋藏人類文明的時空膠囊](https://dq.yam.com/post/15336)\n",
                  "- [造物主的奇蹟？人類身體能夠製造止痛劑](https://ctee.com.tw/lohas/health/833113.html)\n",
                  "- [比尔・盖茨重磅推荐的“千脑智能”理论靠谱吗](https://www.ithome.com/0/674/900.htm)\n",
                  "- [千脑智能理论：开启创造机器智能的路线图](https://swarma.org/?p=37892)\n",
                  "- [Hinton的GLOM模型与千脑理论有何本质不同？](https://picture.iczhiku.com/weixin/message1620885989060.html)\n",
                  "- [大脑与心智观察 | Jeff Hawkins——大脑理论与智能机器探索者](https://zhuanlan.zhihu.com/p/358877538)\n",
                  "- [植物真的會出聲「人類聽不到」　科學家曝這情況每小時叫50次](https://today.line.me/tw/v2/article/PGXo3m0)\n",
                  "- [重力透鏡下極端扭曲的星系精彩細節](https://technews.tw/2023/04/03/cosmic-seahorse/)\n",
                  "- [NASA捕捉到太陽表面比地球大30倍的日冕洞](https://www.epochtimes.com/b5/23/3/30/n13962034.htm)\n",
                  "- [小型模組化核能經濟挑戰多，發展不如想像容易](https://technews.tw/2023/03/29/smr-challenge/)\n",
                  "\n"
                ]
              }
            ]
          }
        },
        "f914c49305aa42ec857de0c4d4875429": {
          "model_module": "@jupyter-widgets/base",
          "model_name": "LayoutModel",
          "model_module_version": "1.2.0",
          "state": {
            "_model_module": "@jupyter-widgets/base",
            "_model_module_version": "1.2.0",
            "_model_name": "LayoutModel",
            "_view_count": null,
            "_view_module": "@jupyter-widgets/base",
            "_view_module_version": "1.2.0",
            "_view_name": "LayoutView",
            "align_content": null,
            "align_items": null,
            "align_self": null,
            "border": null,
            "bottom": null,
            "display": null,
            "flex": null,
            "flex_flow": null,
            "grid_area": null,
            "grid_auto_columns": null,
            "grid_auto_flow": null,
            "grid_auto_rows": null,
            "grid_column": null,
            "grid_gap": null,
            "grid_row": null,
            "grid_template_areas": null,
            "grid_template_columns": null,
            "grid_template_rows": null,
            "height": null,
            "justify_content": null,
            "justify_items": null,
            "left": null,
            "margin": null,
            "max_height": null,
            "max_width": null,
            "min_height": null,
            "min_width": null,
            "object_fit": null,
            "object_position": null,
            "order": null,
            "overflow": null,
            "overflow_x": null,
            "overflow_y": null,
            "padding": null,
            "right": null,
            "top": null,
            "visibility": null,
            "width": null
          }
        },
        "bd1fcd05225742ee8e69e387d8818f5c": {
          "model_module": "@jupyter-widgets/base",
          "model_name": "LayoutModel",
          "model_module_version": "1.2.0",
          "state": {
            "_model_module": "@jupyter-widgets/base",
            "_model_module_version": "1.2.0",
            "_model_name": "LayoutModel",
            "_view_count": null,
            "_view_module": "@jupyter-widgets/base",
            "_view_module_version": "1.2.0",
            "_view_name": "LayoutView",
            "align_content": null,
            "align_items": null,
            "align_self": null,
            "border": null,
            "bottom": null,
            "display": null,
            "flex": null,
            "flex_flow": null,
            "grid_area": null,
            "grid_auto_columns": null,
            "grid_auto_flow": null,
            "grid_auto_rows": null,
            "grid_column": null,
            "grid_gap": null,
            "grid_row": null,
            "grid_template_areas": null,
            "grid_template_columns": null,
            "grid_template_rows": null,
            "height": null,
            "justify_content": null,
            "justify_items": null,
            "left": null,
            "margin": null,
            "max_height": null,
            "max_width": null,
            "min_height": null,
            "min_width": null,
            "object_fit": null,
            "object_position": null,
            "order": null,
            "overflow": null,
            "overflow_x": null,
            "overflow_y": null,
            "padding": null,
            "right": null,
            "top": null,
            "visibility": null,
            "width": null
          }
        }
      }
    }
  },
  "cells": [
    {
      "cell_type": "markdown",
      "metadata": {
        "id": "view-in-github",
        "colab_type": "text"
      },
      "source": [
        "<a href=\"https://colab.research.google.com/github/YorkJong/news-digest/blob/main/notebooks/news_subscrip.ipynb\" target=\"_parent\"><img src=\"https://colab.research.google.com/assets/colab-badge.svg\" alt=\"Open In Colab\"/></a>"
      ]
    },
    {
      "cell_type": "markdown",
      "source": [
        "### Install"
      ],
      "metadata": {
        "id": "WR9eFgRx3Oak"
      }
    },
    {
      "cell_type": "code",
      "source": [
        "import os\n",
        "\n",
        "fns = ['clip.py', 'line.py', 'op.py', 'hashtag.py']\n",
        "\n",
        "for fn in fns:\n",
        "    if os.path.exists(fn):\n",
        "        os.remove(fn)\n",
        "for fn in fns:\n",
        "    url = f'https://raw.githubusercontent.com/YorkJong/news-digest/main/api/{fn}'\n",
        "    !wget $url\n",
        "\n",
        "#-------------------------------------------------------------------------------\n",
        "# Initializing\n",
        "#-------------------------------------------------------------------------------\n",
        "\n",
        "import clip\n",
        "import line\n",
        "import hashtag\n",
        "\n",
        "from google.colab import drive\n",
        "drive.mount('/content/drive')"
      ],
      "metadata": {
        "id": "HhPa1e1tse76"
      },
      "execution_count": null,
      "outputs": []
    },
    {
      "cell_type": "markdown",
      "source": [
        "### Execute Actions Step by Step"
      ],
      "metadata": {
        "id": "I8-Wcwwq5ixa"
      }
    },
    {
      "cell_type": "code",
      "source": [
        "#@title Step 1. Pick a **period** of the news { run: \"auto\", display-mode: \"form\" }\n",
        "period = \"Recent 7 Days\" #@param [\"Today\", \"Yesterday\", \"Recent 2 Days\", \"Recent 7 Days\"]\n",
        "\n",
        "\n",
        "def news_today():\n",
        "    return clip.get_latest_journal()\n",
        "\n",
        "def news_yesterday():\n",
        "    fns = clip.get_recent_journal_filenames(2)\n",
        "    return clip.get_journal(fns[-2])\n",
        "\n",
        "def news_recent2days():\n",
        "    return clip.merge_recent_journals(days=2)\n",
        "\n",
        "def news_recent7days():\n",
        "    return clip.merge_recent_journals(days=7)\n",
        "\n",
        "period2func = {\n",
        "    'Today': news_today,\n",
        "    'Yesterday': news_yesterday,\n",
        "    'Recent 2 Days': news_recent2days,\n",
        "    'Recent 7 Days': news_recent7days,\n",
        "}\n",
        "\n",
        "content = period2func[period]()\n",
        "\n",
        "import ipywidgets as widgets\n",
        "output = widgets.Output()\n",
        "with output:\n",
        "    print(content)"
      ],
      "metadata": {
        "id": "we4a197PH1Li"
      },
      "execution_count": 2,
      "outputs": []
    },
    {
      "cell_type": "code",
      "source": [
        "#@title Step 2. Pick a publication **frequency** { run: \"auto\", display-mode: \"form\" }\n",
        "frequency = \"Weekly\" #@param [\"Daily\", \"Weekly\", \"Any\"]\n",
        "\n",
        "import yaml\n",
        "\n",
        "subscriptions = (\n",
        "    (('Tesla & SpaceX; Vehicle'), ('GroupA', 'GroupB')),\n",
        "    (('Taiwan',), ('GroupA', 'GroupC')),\n",
        "    (('Crypto',), ('GroupC',)),\n",
        "    (('IT', 'Science', '#AI', '#Robot'), ('GroupB',)),\n",
        ")\n",
        "\n",
        "path = '/content/drive/My Drive/news_subscrip'\n",
        "fn = f'{path}/subscriptions_{frequency}.yml'\n",
        "if os.path.exists(fn):\n",
        "    with open(fn, 'r') as f:\n",
        "        subscriptions = yaml.safe_load(f)"
      ],
      "metadata": {
        "id": "Wqk2cZQk6KjR"
      },
      "execution_count": 3,
      "outputs": []
    },
    {
      "cell_type": "code",
      "source": [
        "#@title Step 3. Line Notify { display-mode: \"form\" }\n",
        "mock_mode = True #@param {type:\"boolean\"}\n",
        "show_headers = False #@param {type:\"boolean\"}\n",
        "\n",
        "import time\n",
        "import ipywidgets as widgets\n",
        "import yaml\n",
        "\n",
        "tok_tbl = {\n",
        "    'GroupA': 'LINE_NOTIFY_ACCESS_TOKEN_OF_GROUP_A',\n",
        "    'GroupB': 'LINE_NOTIFY_ACCESS_TOKEN_OF_GROUP_B',\n",
        "    'GroupC': 'LINE_NOTIFY_ACCESS_TOKEN_OF_GROUP_C',\n",
        "}\n",
        "path = '/content/drive/My Drive/news_subscrip'\n",
        "fn = f'{path}/access_tokens.yml'\n",
        "if os.path.exists(fn):\n",
        "    with open(fn, 'r') as f:\n",
        "        tok_tbl = yaml.safe_load(f)\n",
        "\n",
        "def create_outputs():\n",
        "    topices = [str(t) for t, _ in subscriptions]\n",
        "    tab = widgets.Tab()\n",
        "    outputs = [widgets.Output() for name in topices]\n",
        "    tab.children = outputs\n",
        "    for i, t in enumerate(topices):\n",
        "        tab.set_title(i, t)\n",
        "    display(tab)\n",
        "    return outputs\n",
        "\n",
        "def notify():\n",
        "    if mock_mode:\n",
        "        outputs = create_outputs()\n",
        "    for i, subscription in enumerate(subscriptions):\n",
        "        topices, clients = subscription\n",
        "        headers = [topice for topice in topices if not topice.startswith('#')]\n",
        "        tags = [topice for topice in topices if topice.startswith('#')]\n",
        "        categories = headers \n",
        "        if not categories and tags:\n",
        "            categories = clip.get_categories(content)\n",
        "        if tags:\n",
        "            lines = clip.get_lines_of_categories(categories, content, True, True) \n",
        "            lines = hashtag.get_lines_with_any_hashtags(lines, tags)\n",
        "            with_headers = True if headers and show_headers else False\n",
        "            lines = clip.get_lines_of_categories(categories, '\\n'.join(lines), False, with_headers)\n",
        "        else:\n",
        "            lines = clip.get_lines_of_categories(categories, content, False, show_headers) \n",
        "        if not lines: \n",
        "            continue\n",
        "        text = '\\n'.join(lines)\n",
        "        message = f'\\n{text}'\n",
        "\n",
        "        if mock_mode:\n",
        "            with outputs[i]:\n",
        "                print(message)\n",
        "\n",
        "        for receiver in clients:\n",
        "            token = tok_tbl[receiver]\n",
        "            if not mock_mode:\n",
        "                line.notify_message(message, token)\n",
        "            if not mock_mode:\n",
        "                time.sleep(3)\n",
        "\n",
        "def notify_with_checks():\n",
        "    if period in ('Today', 'Yesterday'):\n",
        "        if frequency not in ('Daily', 'Any'):\n",
        "            print(f'The period is \"{period}\"')\n",
        "            print('The frequency must be \"Daily\" or \"Any\"')\n",
        "            return\n",
        "    elif period in ('Recent 7 Days',):\n",
        "        if frequency not in ('Weekly', 'Any'):\n",
        "            print(f'The period is \"{period}\"')\n",
        "            print('The frequency must be \"Weekly\" or \"Any\"')\n",
        "            return\n",
        "    elif period in ('Recent 2 Days',):\n",
        "        if frequency not in ('2 Daily', 'Any'):\n",
        "            print(f'The period is \"{period}\"')\n",
        "            print('The frequency must be \"2 Daily\" or \"Any\"')\n",
        "            return\n",
        "    notify()\n",
        "\n",
        "notify_with_checks()"
      ],
      "metadata": {
        "id": "BzKyvK806hMl",
        "colab": {
          "base_uri": "https://localhost:8080/",
          "height": 426,
          "referenced_widgets": [
            "6a51aaccdb6a4b878ae03177f58839ed",
            "2d1d25f6eaa545fcae2c71005e160bf0",
            "f914c49305aa42ec857de0c4d4875429",
            "bd1fcd05225742ee8e69e387d8818f5c"
          ]
        },
        "outputId": "22e32d74-040b-42ab-abef-84c89db4d467"
      },
      "execution_count": 8,
      "outputs": [
        {
          "output_type": "display_data",
          "data": {
            "text/plain": [
              "Tab(children=(Output(),), _titles={'0': \"['Technology']\"})"
            ],
            "application/vnd.jupyter.widget-view+json": {
              "version_major": 2,
              "version_minor": 0,
              "model_id": "6a51aaccdb6a4b878ae03177f58839ed"
            }
          },
          "metadata": {}
        }
      ]
    },
    {
      "cell_type": "markdown",
      "source": [
        "### References\n",
        "* [LINE Notify ::My page](https://notify-bot.line.me/my/)"
      ],
      "metadata": {
        "id": "l9kvYn67Zue4"
      }
    },
    {
      "cell_type": "markdown",
      "source": [
        "#### Format of Config Files\n",
        "\n",
        "subscriptions_Daily.yml:\n",
        "```yaml\n",
        "- [['Tesla & SpaceX; Vehicle'], [GroupA, GroupB]]\n",
        "- [['Tech Titans'], [GroupA, GroupB]]\n",
        "- [[Finance], [GroupA, GroupB, GroupC]]\n",
        "- [[Taiwan], [GroupA, GroupB, GroupC]]\n",
        "- [[Crypto], [GroupA]]\n",
        "- [[IT, Science, '#AI', '#Robot'], [GroupA, GroupB, GroupC]]\n",
        "```\n",
        "\n",
        "subscriptions_Weekly.yml:\n",
        "```yaml\n",
        "- [[Technology], [GroupA, GroupB, GroupC]]\n",
        "```\n",
        "\n",
        "access_tokens.yml:\n",
        "```yaml\n",
        "GroupA: LINE_NOTIFY_ACCESS_TOKEN_OF_GROUP_A\n",
        "GroupB: LINE_NOTIFY_ACCESS_TOKEN_OF_GROUP_B\n",
        "GroupC: LINE_NOTIFY_ACCESS_TOKEN_OF_GROUP_C\n",
        "```"
      ],
      "metadata": {
        "id": "R4pJP6szlHX6"
      }
    },
    {
      "cell_type": "markdown",
      "source": [
        "### Test"
      ],
      "metadata": {
        "id": "O8RHHBiSg691"
      }
    },
    {
      "cell_type": "code",
      "source": [
        "#print(subscriptions)\n",
        "#print(tok_tbl)\n",
        "#display(output) # output from Step 1"
      ],
      "metadata": {
        "id": "VKqXWbKuDE40"
      },
      "execution_count": 5,
      "outputs": []
    },
    {
      "cell_type": "code",
      "source": [
        "#drive.flush_and_unmount()\n",
        "#print('All changes made in this colab session should now be visible in Drive.')"
      ],
      "metadata": {
        "id": "dacJ4g2XfKWh"
      },
      "execution_count": 6,
      "outputs": []
    }
  ]
}