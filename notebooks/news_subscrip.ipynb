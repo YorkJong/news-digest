{
  "nbformat": 4,
  "nbformat_minor": 0,
  "metadata": {
    "colab": {
      "provenance": [],
      "collapsed_sections": [
        "WR9eFgRx3Oak"
      ],
      "mount_file_id": "1bLLGT1AQE09zWeXZGsC4COsBy1ha-GdW",
      "authorship_tag": "ABX9TyPJIn5XGSFOGs45Hnk7pEZA",
      "include_colab_link": true
    },
    "kernelspec": {
      "name": "python3",
      "display_name": "Python 3"
    },
    "language_info": {
      "name": "python"
    },
    "widgets": {
      "application/vnd.jupyter.widget-state+json": {
        "1830d642bb704b13a89cdf6444858243": {
          "model_module": "@jupyter-widgets/controls",
          "model_name": "TabModel",
          "model_module_version": "1.5.0",
          "state": {
            "_dom_classes": [],
            "_model_module": "@jupyter-widgets/controls",
            "_model_module_version": "1.5.0",
            "_model_name": "TabModel",
            "_titles": {
              "0": "['Tesla & SpaceX; Vehicle']",
              "1": "['Tech Titans']",
              "2": "['Finance']",
              "3": "['Taiwan']",
              "4": "['Crypto']",
              "5": "['IT', 'Science', '#AI', '#Robot']"
            },
            "_view_count": null,
            "_view_module": "@jupyter-widgets/controls",
            "_view_module_version": "1.5.0",
            "_view_name": "TabView",
            "box_style": "",
            "children": [
              "IPY_MODEL_eb4d234fe0a3404bb00dd4a686a6e528",
              "IPY_MODEL_52b85d38837e4ffaa5e08b36af3ce4f4",
              "IPY_MODEL_8b600fcb1684458092cb347cd88f6f8c",
              "IPY_MODEL_8c13a4039e2d4a5db9ceb76554765e27",
              "IPY_MODEL_5f29c86a6347405caa9fe6aa0b3f1bea",
              "IPY_MODEL_85226b82b29e4c52ac3e7af81abb09db"
            ],
            "layout": "IPY_MODEL_c5e46722eb844c0f99ea14ebd5aff63d",
            "selected_index": 0
          }
        },
        "eb4d234fe0a3404bb00dd4a686a6e528": {
          "model_module": "@jupyter-widgets/output",
          "model_name": "OutputModel",
          "model_module_version": "1.0.0",
          "state": {
            "_dom_classes": [],
            "_model_module": "@jupyter-widgets/output",
            "_model_module_version": "1.0.0",
            "_model_name": "OutputModel",
            "_view_count": null,
            "_view_module": "@jupyter-widgets/output",
            "_view_module_version": "1.0.0",
            "_view_name": "OutputView",
            "layout": "IPY_MODEL_62793699d40540a89afdbb3a64b1c0c6",
            "msg_id": "",
            "outputs": [
              {
                "output_type": "stream",
                "name": "stdout",
                "text": [
                  "\n",
                  "### Tesla & SpaceX; Vehicle\n",
                  "- [震撼！特斯拉第四代驅動電機拆解！成本僅需$1000！車價能降多少？Shocking! Tesla's fourth-generation drive motor disassembled!](https://www.youtube.com/watch?v=rtzy6W0ERYE)\n",
                  "\n"
                ]
              }
            ]
          }
        },
        "52b85d38837e4ffaa5e08b36af3ce4f4": {
          "model_module": "@jupyter-widgets/output",
          "model_name": "OutputModel",
          "model_module_version": "1.0.0",
          "state": {
            "_dom_classes": [],
            "_model_module": "@jupyter-widgets/output",
            "_model_module_version": "1.0.0",
            "_model_name": "OutputModel",
            "_view_count": null,
            "_view_module": "@jupyter-widgets/output",
            "_view_module_version": "1.0.0",
            "_view_name": "OutputView",
            "layout": "IPY_MODEL_9a58a877084548d58b909f7bf81df9ec",
            "msg_id": "",
            "outputs": []
          }
        },
        "8b600fcb1684458092cb347cd88f6f8c": {
          "model_module": "@jupyter-widgets/output",
          "model_name": "OutputModel",
          "model_module_version": "1.0.0",
          "state": {
            "_dom_classes": [],
            "_model_module": "@jupyter-widgets/output",
            "_model_module_version": "1.0.0",
            "_model_name": "OutputModel",
            "_view_count": null,
            "_view_module": "@jupyter-widgets/output",
            "_view_module_version": "1.0.0",
            "_view_name": "OutputView",
            "layout": "IPY_MODEL_266607a54cf940f78eafdb48b4200822",
            "msg_id": "",
            "outputs": [
              {
                "output_type": "stream",
                "name": "stdout",
                "text": [
                  "\n",
                  "### Finance\n",
                  "- [《國際產業》有錢人不怕通膨 露露檸檬全年展望報喜、盤後飆漲逾13%](https://tw.stock.yahoo.com/news/國際產業-有錢人不怕通膨-露露檸檬全年展望報喜-盤後飆漲逾13-033334108.html)\n",
                  "- [机构大举买入！德银幕后操手，500万撬动16亿！零售龙头LULU+美光财报](https://www.youtube.com/watch?v=zSgLT57I594)\n",
                  "\n"
                ]
              }
            ]
          }
        },
        "8c13a4039e2d4a5db9ceb76554765e27": {
          "model_module": "@jupyter-widgets/output",
          "model_name": "OutputModel",
          "model_module_version": "1.0.0",
          "state": {
            "_dom_classes": [],
            "_model_module": "@jupyter-widgets/output",
            "_model_module_version": "1.0.0",
            "_model_name": "OutputModel",
            "_view_count": null,
            "_view_module": "@jupyter-widgets/output",
            "_view_module_version": "1.0.0",
            "_view_name": "OutputView",
            "layout": "IPY_MODEL_479d9d3349b648e3a2faddc4f2d27270",
            "msg_id": "",
            "outputs": []
          }
        },
        "5f29c86a6347405caa9fe6aa0b3f1bea": {
          "model_module": "@jupyter-widgets/output",
          "model_name": "OutputModel",
          "model_module_version": "1.0.0",
          "state": {
            "_dom_classes": [],
            "_model_module": "@jupyter-widgets/output",
            "_model_module_version": "1.0.0",
            "_model_name": "OutputModel",
            "_view_count": null,
            "_view_module": "@jupyter-widgets/output",
            "_view_module_version": "1.0.0",
            "_view_name": "OutputView",
            "layout": "IPY_MODEL_de2582c768d0436795d6487aa50a7ea1",
            "msg_id": "",
            "outputs": []
          }
        },
        "85226b82b29e4c52ac3e7af81abb09db": {
          "model_module": "@jupyter-widgets/output",
          "model_name": "OutputModel",
          "model_module_version": "1.0.0",
          "state": {
            "_dom_classes": [],
            "_model_module": "@jupyter-widgets/output",
            "_model_module_version": "1.0.0",
            "_model_name": "OutputModel",
            "_view_count": null,
            "_view_module": "@jupyter-widgets/output",
            "_view_module_version": "1.0.0",
            "_view_name": "OutputView",
            "layout": "IPY_MODEL_84660c7daddb4fa2a3f99be328dc0faf",
            "msg_id": "",
            "outputs": [
              {
                "output_type": "stream",
                "name": "stdout",
                "text": [
                  "\n",
                  "### IT\n",
                  "- [Stable Diffusion教學 ControlNet 2  控制 AI女友](https://www.youtube.com/watch?v=OaNzIgGqgsU)\n",
                  "- [【AI生成圖教學】動漫角色如何真人化？使用 stable diffusion 不用 Coser 也可以 Cosplay](https://www.youtube.com/watch?v=pilvkof5PXM)\n",
                  "- [Ai你自己！普通人也能颜值爆表！全网最简单做自己头像的方法，告别女神经, 500张绝美卡通大头贴不是问题, 不是Midjourney V5](https://www.youtube.com/watch?v=CByJNFZ3GZs)\n",
                  "\n",
                  "### Science\n",
                  "- [GPT-4 登場！先理解 ChatGPT 原理，才知道怎麼利用 AI 幫你輸入！](https://www.youtube.com/watch?v=sL1BNTU-4PI)\n",
                  "\n"
                ]
              }
            ]
          }
        },
        "c5e46722eb844c0f99ea14ebd5aff63d": {
          "model_module": "@jupyter-widgets/base",
          "model_name": "LayoutModel",
          "model_module_version": "1.2.0",
          "state": {
            "_model_module": "@jupyter-widgets/base",
            "_model_module_version": "1.2.0",
            "_model_name": "LayoutModel",
            "_view_count": null,
            "_view_module": "@jupyter-widgets/base",
            "_view_module_version": "1.2.0",
            "_view_name": "LayoutView",
            "align_content": null,
            "align_items": null,
            "align_self": null,
            "border": null,
            "bottom": null,
            "display": null,
            "flex": null,
            "flex_flow": null,
            "grid_area": null,
            "grid_auto_columns": null,
            "grid_auto_flow": null,
            "grid_auto_rows": null,
            "grid_column": null,
            "grid_gap": null,
            "grid_row": null,
            "grid_template_areas": null,
            "grid_template_columns": null,
            "grid_template_rows": null,
            "height": null,
            "justify_content": null,
            "justify_items": null,
            "left": null,
            "margin": null,
            "max_height": null,
            "max_width": null,
            "min_height": null,
            "min_width": null,
            "object_fit": null,
            "object_position": null,
            "order": null,
            "overflow": null,
            "overflow_x": null,
            "overflow_y": null,
            "padding": null,
            "right": null,
            "top": null,
            "visibility": null,
            "width": null
          }
        },
        "62793699d40540a89afdbb3a64b1c0c6": {
          "model_module": "@jupyter-widgets/base",
          "model_name": "LayoutModel",
          "model_module_version": "1.2.0",
          "state": {
            "_model_module": "@jupyter-widgets/base",
            "_model_module_version": "1.2.0",
            "_model_name": "LayoutModel",
            "_view_count": null,
            "_view_module": "@jupyter-widgets/base",
            "_view_module_version": "1.2.0",
            "_view_name": "LayoutView",
            "align_content": null,
            "align_items": null,
            "align_self": null,
            "border": null,
            "bottom": null,
            "display": null,
            "flex": null,
            "flex_flow": null,
            "grid_area": null,
            "grid_auto_columns": null,
            "grid_auto_flow": null,
            "grid_auto_rows": null,
            "grid_column": null,
            "grid_gap": null,
            "grid_row": null,
            "grid_template_areas": null,
            "grid_template_columns": null,
            "grid_template_rows": null,
            "height": null,
            "justify_content": null,
            "justify_items": null,
            "left": null,
            "margin": null,
            "max_height": null,
            "max_width": null,
            "min_height": null,
            "min_width": null,
            "object_fit": null,
            "object_position": null,
            "order": null,
            "overflow": null,
            "overflow_x": null,
            "overflow_y": null,
            "padding": null,
            "right": null,
            "top": null,
            "visibility": null,
            "width": null
          }
        },
        "9a58a877084548d58b909f7bf81df9ec": {
          "model_module": "@jupyter-widgets/base",
          "model_name": "LayoutModel",
          "model_module_version": "1.2.0",
          "state": {
            "_model_module": "@jupyter-widgets/base",
            "_model_module_version": "1.2.0",
            "_model_name": "LayoutModel",
            "_view_count": null,
            "_view_module": "@jupyter-widgets/base",
            "_view_module_version": "1.2.0",
            "_view_name": "LayoutView",
            "align_content": null,
            "align_items": null,
            "align_self": null,
            "border": null,
            "bottom": null,
            "display": null,
            "flex": null,
            "flex_flow": null,
            "grid_area": null,
            "grid_auto_columns": null,
            "grid_auto_flow": null,
            "grid_auto_rows": null,
            "grid_column": null,
            "grid_gap": null,
            "grid_row": null,
            "grid_template_areas": null,
            "grid_template_columns": null,
            "grid_template_rows": null,
            "height": null,
            "justify_content": null,
            "justify_items": null,
            "left": null,
            "margin": null,
            "max_height": null,
            "max_width": null,
            "min_height": null,
            "min_width": null,
            "object_fit": null,
            "object_position": null,
            "order": null,
            "overflow": null,
            "overflow_x": null,
            "overflow_y": null,
            "padding": null,
            "right": null,
            "top": null,
            "visibility": null,
            "width": null
          }
        },
        "266607a54cf940f78eafdb48b4200822": {
          "model_module": "@jupyter-widgets/base",
          "model_name": "LayoutModel",
          "model_module_version": "1.2.0",
          "state": {
            "_model_module": "@jupyter-widgets/base",
            "_model_module_version": "1.2.0",
            "_model_name": "LayoutModel",
            "_view_count": null,
            "_view_module": "@jupyter-widgets/base",
            "_view_module_version": "1.2.0",
            "_view_name": "LayoutView",
            "align_content": null,
            "align_items": null,
            "align_self": null,
            "border": null,
            "bottom": null,
            "display": null,
            "flex": null,
            "flex_flow": null,
            "grid_area": null,
            "grid_auto_columns": null,
            "grid_auto_flow": null,
            "grid_auto_rows": null,
            "grid_column": null,
            "grid_gap": null,
            "grid_row": null,
            "grid_template_areas": null,
            "grid_template_columns": null,
            "grid_template_rows": null,
            "height": null,
            "justify_content": null,
            "justify_items": null,
            "left": null,
            "margin": null,
            "max_height": null,
            "max_width": null,
            "min_height": null,
            "min_width": null,
            "object_fit": null,
            "object_position": null,
            "order": null,
            "overflow": null,
            "overflow_x": null,
            "overflow_y": null,
            "padding": null,
            "right": null,
            "top": null,
            "visibility": null,
            "width": null
          }
        },
        "479d9d3349b648e3a2faddc4f2d27270": {
          "model_module": "@jupyter-widgets/base",
          "model_name": "LayoutModel",
          "model_module_version": "1.2.0",
          "state": {
            "_model_module": "@jupyter-widgets/base",
            "_model_module_version": "1.2.0",
            "_model_name": "LayoutModel",
            "_view_count": null,
            "_view_module": "@jupyter-widgets/base",
            "_view_module_version": "1.2.0",
            "_view_name": "LayoutView",
            "align_content": null,
            "align_items": null,
            "align_self": null,
            "border": null,
            "bottom": null,
            "display": null,
            "flex": null,
            "flex_flow": null,
            "grid_area": null,
            "grid_auto_columns": null,
            "grid_auto_flow": null,
            "grid_auto_rows": null,
            "grid_column": null,
            "grid_gap": null,
            "grid_row": null,
            "grid_template_areas": null,
            "grid_template_columns": null,
            "grid_template_rows": null,
            "height": null,
            "justify_content": null,
            "justify_items": null,
            "left": null,
            "margin": null,
            "max_height": null,
            "max_width": null,
            "min_height": null,
            "min_width": null,
            "object_fit": null,
            "object_position": null,
            "order": null,
            "overflow": null,
            "overflow_x": null,
            "overflow_y": null,
            "padding": null,
            "right": null,
            "top": null,
            "visibility": null,
            "width": null
          }
        },
        "de2582c768d0436795d6487aa50a7ea1": {
          "model_module": "@jupyter-widgets/base",
          "model_name": "LayoutModel",
          "model_module_version": "1.2.0",
          "state": {
            "_model_module": "@jupyter-widgets/base",
            "_model_module_version": "1.2.0",
            "_model_name": "LayoutModel",
            "_view_count": null,
            "_view_module": "@jupyter-widgets/base",
            "_view_module_version": "1.2.0",
            "_view_name": "LayoutView",
            "align_content": null,
            "align_items": null,
            "align_self": null,
            "border": null,
            "bottom": null,
            "display": null,
            "flex": null,
            "flex_flow": null,
            "grid_area": null,
            "grid_auto_columns": null,
            "grid_auto_flow": null,
            "grid_auto_rows": null,
            "grid_column": null,
            "grid_gap": null,
            "grid_row": null,
            "grid_template_areas": null,
            "grid_template_columns": null,
            "grid_template_rows": null,
            "height": null,
            "justify_content": null,
            "justify_items": null,
            "left": null,
            "margin": null,
            "max_height": null,
            "max_width": null,
            "min_height": null,
            "min_width": null,
            "object_fit": null,
            "object_position": null,
            "order": null,
            "overflow": null,
            "overflow_x": null,
            "overflow_y": null,
            "padding": null,
            "right": null,
            "top": null,
            "visibility": null,
            "width": null
          }
        },
        "84660c7daddb4fa2a3f99be328dc0faf": {
          "model_module": "@jupyter-widgets/base",
          "model_name": "LayoutModel",
          "model_module_version": "1.2.0",
          "state": {
            "_model_module": "@jupyter-widgets/base",
            "_model_module_version": "1.2.0",
            "_model_name": "LayoutModel",
            "_view_count": null,
            "_view_module": "@jupyter-widgets/base",
            "_view_module_version": "1.2.0",
            "_view_name": "LayoutView",
            "align_content": null,
            "align_items": null,
            "align_self": null,
            "border": null,
            "bottom": null,
            "display": null,
            "flex": null,
            "flex_flow": null,
            "grid_area": null,
            "grid_auto_columns": null,
            "grid_auto_flow": null,
            "grid_auto_rows": null,
            "grid_column": null,
            "grid_gap": null,
            "grid_row": null,
            "grid_template_areas": null,
            "grid_template_columns": null,
            "grid_template_rows": null,
            "height": null,
            "justify_content": null,
            "justify_items": null,
            "left": null,
            "margin": null,
            "max_height": null,
            "max_width": null,
            "min_height": null,
            "min_width": null,
            "object_fit": null,
            "object_position": null,
            "order": null,
            "overflow": null,
            "overflow_x": null,
            "overflow_y": null,
            "padding": null,
            "right": null,
            "top": null,
            "visibility": null,
            "width": null
          }
        }
      }
    }
  },
  "cells": [
    {
      "cell_type": "markdown",
      "metadata": {
        "id": "view-in-github",
        "colab_type": "text"
      },
      "source": [
        "<a href=\"https://colab.research.google.com/github/YorkJong/news-digest/blob/main/notebooks/news_subscrip.ipynb\" target=\"_parent\"><img src=\"https://colab.research.google.com/assets/colab-badge.svg\" alt=\"Open In Colab\"/></a>"
      ]
    },
    {
      "cell_type": "markdown",
      "source": [
        "### Install"
      ],
      "metadata": {
        "id": "WR9eFgRx3Oak"
      }
    },
    {
      "cell_type": "code",
      "source": [
        "import os\n",
        "\n",
        "fns = ['clip.py', 'line.py', 'op.py', 'hashtag.py']\n",
        "\n",
        "for fn in fns:\n",
        "    if os.path.exists(fn):\n",
        "        os.remove(fn)\n",
        "for fn in fns:\n",
        "    url = f'https://raw.githubusercontent.com/YorkJong/news-digest/main/api/{fn}'\n",
        "    !wget $url\n",
        "\n",
        "#-------------------------------------------------------------------------------\n",
        "# Initializing\n",
        "#-------------------------------------------------------------------------------\n",
        "\n",
        "import clip\n",
        "import line\n",
        "import hashtag\n",
        "\n",
        "from google.colab import drive\n",
        "drive.mount('/content/drive')"
      ],
      "metadata": {
        "id": "HhPa1e1tse76"
      },
      "execution_count": null,
      "outputs": []
    },
    {
      "cell_type": "markdown",
      "source": [
        "### Execute Actions Step by Step"
      ],
      "metadata": {
        "id": "I8-Wcwwq5ixa"
      }
    },
    {
      "cell_type": "code",
      "source": [
        "#@title Step 1. Pick a **period** of the news { run: \"auto\", display-mode: \"form\" }\n",
        "period = \"Today\" #@param [\"Today\", \"Yesterday\", \"Recent 2 Days\", \"Recent 7 Days\"]\n",
        "\n",
        "\n",
        "def news_today():\n",
        "    return clip.get_latest_journal()\n",
        "\n",
        "def news_yesterday():\n",
        "    fns = clip.get_recent_journal_filenames(2)\n",
        "    return clip.get_journal(fns[-2])\n",
        "\n",
        "def news_recent2days():\n",
        "    return clip.merge_recent_journals(days=2)\n",
        "\n",
        "def news_recent7days():\n",
        "    return clip.merge_recent_journals(days=7)\n",
        "\n",
        "period2func = {\n",
        "    'Today': news_today,\n",
        "    'Yesterday': news_yesterday,\n",
        "    'Recent 2 Days': news_recent2days,\n",
        "    'Recent 7 Days': news_recent7days,\n",
        "}\n",
        "\n",
        "content = period2func[period]()\n",
        "\n",
        "import ipywidgets as widgets\n",
        "output = widgets.Output()\n",
        "with output:\n",
        "    print(content)"
      ],
      "metadata": {
        "id": "we4a197PH1Li"
      },
      "execution_count": 5,
      "outputs": []
    },
    {
      "cell_type": "code",
      "source": [
        "#@title Step 2. Pick a publication **frequency** { run: \"auto\", display-mode: \"form\" }\n",
        "frequency = \"Daily\" #@param [\"Daily\", \"Weekly\", \"Any\"]\n",
        "\n",
        "import yaml\n",
        "\n",
        "path = '/content/drive/My Drive/news_subscrip'\n",
        "fn = f'{path}/subscriptions_{frequency}.yml'\n",
        "with open(fn, 'r') as f:\n",
        "    subscriptions = yaml.safe_load(f)"
      ],
      "metadata": {
        "id": "Wqk2cZQk6KjR"
      },
      "execution_count": 6,
      "outputs": []
    },
    {
      "cell_type": "code",
      "source": [
        "#@title Step 3. Line Notify { display-mode: \"form\" }\n",
        "mock_mode = True #@param {type:\"boolean\"}\n",
        "\n",
        "import time\n",
        "import ipywidgets as widgets\n",
        "import yaml\n",
        "\n",
        "path = '/content/drive/My Drive/news_subscrip'\n",
        "fn = f'{path}/access_tokens.yml'\n",
        "with open(fn, 'r') as f:\n",
        "    tok_tbl = yaml.safe_load(f)\n",
        "\n",
        "def create_outputs():\n",
        "    topices = [str(t) for t, _ in subscriptions]\n",
        "    tab = widgets.Tab()\n",
        "    outputs = [widgets.Output() for name in topices]\n",
        "    tab.children = outputs\n",
        "    for i, t in enumerate(topices):\n",
        "        tab.set_title(i, t)\n",
        "    display(tab)\n",
        "    return outputs\n",
        "\n",
        "def notify():\n",
        "    if mock_mode:\n",
        "        outputs = create_outputs()\n",
        "    for i, subscription in enumerate(subscriptions):\n",
        "        topices, clients = subscription\n",
        "        headers = [topice for topice in topices if not topice.startswith('#')]\n",
        "        tags = [topice for topice in topices if topice.startswith('#')]\n",
        "        categories = headers \n",
        "        if not categories and tags:\n",
        "            categories = clip.get_categories(content)\n",
        "        if tags:\n",
        "            lines = clip.get_lines_of_categories(categories, content, True, True) \n",
        "            lines = hashtag.get_lines_with_any_hashtags(lines, tags)\n",
        "            with_headers = True if headers else False\n",
        "            lines = clip.get_lines_of_categories(categories, '\\n'.join(lines), False, with_headers)\n",
        "        else:\n",
        "            lines = clip.get_lines_of_categories(categories, content, False, True) \n",
        "        if not lines: \n",
        "            continue\n",
        "        text = '\\n'.join(lines)\n",
        "        message = f'\\n{text}'\n",
        "        if mock_mode:\n",
        "            with outputs[i]:\n",
        "                print(message)\n",
        "            continue\n",
        "        for receiver in clients:\n",
        "            token = tok_tbl[receiver]\n",
        "            line.notify_message(message, token)\n",
        "        time.sleep(3)\n",
        "\n",
        "def notify_with_checks():\n",
        "    if period in ('Today', 'Yesterday'):\n",
        "        if frequency not in ('Daily', 'Any'):\n",
        "            print(f'The period is \"{period}\"')\n",
        "            print('The frequency must be \"Daily\" or \"Any\"')\n",
        "            return\n",
        "    elif period in ('Recent 7 Days',):\n",
        "        if frequency not in ('Weekly', 'Any'):\n",
        "            print(f'The period is \"{period}\"')\n",
        "            print('The frequency must be \"Weekly\" or \"Any\"')\n",
        "            return\n",
        "    elif period in ('Recent 2 Days',):\n",
        "        if frequency not in ('2 Daily', 'Any'):\n",
        "            print(f'The period is \"{period}\"')\n",
        "            print('The frequency must be \"2 Daily\" or \"Any\"')\n",
        "            return\n",
        "    notify()\n",
        "\n",
        "notify_with_checks()"
      ],
      "metadata": {
        "id": "BzKyvK806hMl",
        "colab": {
          "base_uri": "https://localhost:8080/",
          "height": 166,
          "referenced_widgets": [
            "1830d642bb704b13a89cdf6444858243",
            "eb4d234fe0a3404bb00dd4a686a6e528",
            "52b85d38837e4ffaa5e08b36af3ce4f4",
            "8b600fcb1684458092cb347cd88f6f8c",
            "8c13a4039e2d4a5db9ceb76554765e27",
            "5f29c86a6347405caa9fe6aa0b3f1bea",
            "85226b82b29e4c52ac3e7af81abb09db",
            "c5e46722eb844c0f99ea14ebd5aff63d",
            "62793699d40540a89afdbb3a64b1c0c6",
            "9a58a877084548d58b909f7bf81df9ec",
            "266607a54cf940f78eafdb48b4200822",
            "479d9d3349b648e3a2faddc4f2d27270",
            "de2582c768d0436795d6487aa50a7ea1",
            "84660c7daddb4fa2a3f99be328dc0faf"
          ]
        },
        "outputId": "3e2c0dda-675a-43a8-acaf-bd84901ff2e1"
      },
      "execution_count": 7,
      "outputs": [
        {
          "output_type": "display_data",
          "data": {
            "text/plain": [
              "Tab(children=(Output(), Output(), Output(), Output(), Output(), Output()), _titles={'0': \"['Tesla & SpaceX; Ve…"
            ],
            "application/vnd.jupyter.widget-view+json": {
              "version_major": 2,
              "version_minor": 0,
              "model_id": "1830d642bb704b13a89cdf6444858243"
            }
          },
          "metadata": {}
        }
      ]
    },
    {
      "cell_type": "markdown",
      "source": [
        "### References\n",
        "* [LINE Notify ::My page](https://notify-bot.line.me/my/)"
      ],
      "metadata": {
        "id": "l9kvYn67Zue4"
      }
    },
    {
      "cell_type": "markdown",
      "source": [
        "#### Format of config files\n",
        "\n",
        "subscriptions_Daily.yml:\n",
        "```yaml\n",
        "- [['Tesla & SpaceX; Vehicle'], [股之呼吸, MiniGroup]]\n",
        "- [[Tech Titans], [股之呼吸, MiniGroup]]\n",
        "- [[Finance], [股之呼吸, MiniGroup, '55688']]\n",
        "- [[Taiwan], [股之呼吸, MiniGroup, '55688', 股海無涯, 股涯迷途小羔羊]]\n",
        "- [[Crypto], [股之呼吸, 區塊鏈]]\n",
        "- [[IT, Science, '#AI', '#Robot'], [股之呼吸, MiniGroup, '55688']]\n",
        "```\n",
        "\n",
        "subscriptions_Weekly.yml:\n",
        "```yaml\n",
        "- [[Technology], [股之呼吸, MiniGroup, 閱讀, '55688']]\n",
        "```\n",
        "\n",
        "access_tokens.yml:\n",
        "```yaml\n",
        "區塊鏈: LINE_NOTIFY_ACCESS_TOKEN_1\n",
        "股之呼吸: LINE_NOTIFY_ACCESS_TOKEN_2\n",
        "MiniGroup: LINE_NOTIFY_ACCESS_TOKEN_3\n",
        "閱讀: LINE_NOTIFY_ACCESS_TOKEN_4\n",
        "55688: LINE_NOTIFY_ACCESS_TOKEN_5\n",
        "股海無涯: LINE_NOTIFY_ACCESS_TOKEN_6\n",
        "股涯迷途小羔羊: LINE_NOTIFY_ACCESS_TOKEN_7\n",
        "```"
      ],
      "metadata": {
        "id": "R4pJP6szlHX6"
      }
    },
    {
      "cell_type": "markdown",
      "source": [
        "### Test"
      ],
      "metadata": {
        "id": "O8RHHBiSg691"
      }
    },
    {
      "cell_type": "markdown",
      "source": [
        "display(output) # output from Step 1"
      ],
      "metadata": {
        "id": "hq2b-uQtw538"
      }
    },
    {
      "cell_type": "markdown",
      "source": [
        "drive.flush_and_unmount()\n",
        "print('All changes made in this colab session should now be visible in Drive.')"
      ],
      "metadata": {
        "id": "dacJ4g2XfKWh"
      }
    }
  ]
}