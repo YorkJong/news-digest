{
  "nbformat": 4,
  "nbformat_minor": 0,
  "metadata": {
    "colab": {
      "provenance": [],
      "collapsed_sections": [
        "lGmIv-dHZnVz"
      ],
      "authorship_tag": "ABX9TyNjJQvydafHaQqa57JuVXqf",
      "include_colab_link": true
    },
    "kernelspec": {
      "name": "python3",
      "display_name": "Python 3"
    },
    "language_info": {
      "name": "python"
    },
    "widgets": {
      "application/vnd.jupyter.widget-state+json": {
        "621f1447e3ea4a098d277c21676953ef": {
          "model_module": "@jupyter-widgets/controls",
          "model_name": "HBoxModel",
          "model_module_version": "1.5.0",
          "state": {
            "_dom_classes": [],
            "_model_module": "@jupyter-widgets/controls",
            "_model_module_version": "1.5.0",
            "_model_name": "HBoxModel",
            "_view_count": null,
            "_view_module": "@jupyter-widgets/controls",
            "_view_module_version": "1.5.0",
            "_view_name": "HBoxView",
            "box_style": "",
            "children": [
              "IPY_MODEL_bb12263d6e9e483d906f1b1f8109e6d1",
              "IPY_MODEL_531036d419ad4335bd45331e015e5652"
            ],
            "layout": "IPY_MODEL_036c4e1fa2e04ea6ba0e1688f0775d56"
          }
        },
        "bb12263d6e9e483d906f1b1f8109e6d1": {
          "model_module": "@jupyter-widgets/controls",
          "model_name": "SelectMultipleModel",
          "model_module_version": "1.5.0",
          "state": {
            "_dom_classes": [],
            "_model_module": "@jupyter-widgets/controls",
            "_model_module_version": "1.5.0",
            "_model_name": "SelectMultipleModel",
            "_options_labels": [
              "Tesla & SpaceX; Vehicle",
              "Tech Titans",
              "Finance",
              "Taiwan",
              "Crypto",
              "Technology",
              "AI"
            ],
            "_view_count": null,
            "_view_module": "@jupyter-widgets/controls",
            "_view_module_version": "1.5.0",
            "_view_name": "SelectMultipleView",
            "description": "Categories",
            "description_tooltip": null,
            "disabled": false,
            "index": [
              3
            ],
            "layout": "IPY_MODEL_3f7f16eaefa34cf9a795ec064e7cd747",
            "rows": 7,
            "style": "IPY_MODEL_3c1a80cded3f453e9a4855cd11d23b0f"
          }
        },
        "531036d419ad4335bd45331e015e5652": {
          "model_module": "@jupyter-widgets/controls",
          "model_name": "VBoxModel",
          "model_module_version": "1.5.0",
          "state": {
            "_dom_classes": [],
            "_model_module": "@jupyter-widgets/controls",
            "_model_module_version": "1.5.0",
            "_model_name": "VBoxModel",
            "_view_count": null,
            "_view_module": "@jupyter-widgets/controls",
            "_view_module_version": "1.5.0",
            "_view_name": "VBoxView",
            "box_style": "",
            "children": [
              "IPY_MODEL_c0907a1a50e94492a63b2f2e3f6a74a6",
              "IPY_MODEL_be3051345d7b46ddbdb0d8af25a4ef26"
            ],
            "layout": "IPY_MODEL_78cc7b7143224d32a0bfd81d7c9d6d59"
          }
        },
        "036c4e1fa2e04ea6ba0e1688f0775d56": {
          "model_module": "@jupyter-widgets/base",
          "model_name": "LayoutModel",
          "model_module_version": "1.2.0",
          "state": {
            "_model_module": "@jupyter-widgets/base",
            "_model_module_version": "1.2.0",
            "_model_name": "LayoutModel",
            "_view_count": null,
            "_view_module": "@jupyter-widgets/base",
            "_view_module_version": "1.2.0",
            "_view_name": "LayoutView",
            "align_content": null,
            "align_items": null,
            "align_self": null,
            "border": null,
            "bottom": null,
            "display": null,
            "flex": null,
            "flex_flow": null,
            "grid_area": null,
            "grid_auto_columns": null,
            "grid_auto_flow": null,
            "grid_auto_rows": null,
            "grid_column": null,
            "grid_gap": null,
            "grid_row": null,
            "grid_template_areas": null,
            "grid_template_columns": null,
            "grid_template_rows": null,
            "height": null,
            "justify_content": null,
            "justify_items": null,
            "left": null,
            "margin": null,
            "max_height": null,
            "max_width": null,
            "min_height": null,
            "min_width": null,
            "object_fit": null,
            "object_position": null,
            "order": null,
            "overflow": null,
            "overflow_x": null,
            "overflow_y": null,
            "padding": null,
            "right": null,
            "top": null,
            "visibility": null,
            "width": null
          }
        },
        "3f7f16eaefa34cf9a795ec064e7cd747": {
          "model_module": "@jupyter-widgets/base",
          "model_name": "LayoutModel",
          "model_module_version": "1.2.0",
          "state": {
            "_model_module": "@jupyter-widgets/base",
            "_model_module_version": "1.2.0",
            "_model_name": "LayoutModel",
            "_view_count": null,
            "_view_module": "@jupyter-widgets/base",
            "_view_module_version": "1.2.0",
            "_view_name": "LayoutView",
            "align_content": null,
            "align_items": null,
            "align_self": null,
            "border": null,
            "bottom": null,
            "display": null,
            "flex": null,
            "flex_flow": null,
            "grid_area": null,
            "grid_auto_columns": null,
            "grid_auto_flow": null,
            "grid_auto_rows": null,
            "grid_column": null,
            "grid_gap": null,
            "grid_row": null,
            "grid_template_areas": null,
            "grid_template_columns": null,
            "grid_template_rows": null,
            "height": null,
            "justify_content": null,
            "justify_items": null,
            "left": null,
            "margin": null,
            "max_height": null,
            "max_width": null,
            "min_height": null,
            "min_width": null,
            "object_fit": null,
            "object_position": null,
            "order": null,
            "overflow": null,
            "overflow_x": null,
            "overflow_y": null,
            "padding": null,
            "right": null,
            "top": null,
            "visibility": null,
            "width": null
          }
        },
        "3c1a80cded3f453e9a4855cd11d23b0f": {
          "model_module": "@jupyter-widgets/controls",
          "model_name": "DescriptionStyleModel",
          "model_module_version": "1.5.0",
          "state": {
            "_model_module": "@jupyter-widgets/controls",
            "_model_module_version": "1.5.0",
            "_model_name": "DescriptionStyleModel",
            "_view_count": null,
            "_view_module": "@jupyter-widgets/base",
            "_view_module_version": "1.2.0",
            "_view_name": "StyleView",
            "description_width": ""
          }
        },
        "c0907a1a50e94492a63b2f2e3f6a74a6": {
          "model_module": "@jupyter-widgets/controls",
          "model_name": "CheckboxModel",
          "model_module_version": "1.5.0",
          "state": {
            "_dom_classes": [],
            "_model_module": "@jupyter-widgets/controls",
            "_model_module_version": "1.5.0",
            "_model_name": "CheckboxModel",
            "_view_count": null,
            "_view_module": "@jupyter-widgets/controls",
            "_view_module_version": "1.5.0",
            "_view_name": "CheckboxView",
            "description": "with hashtags",
            "description_tooltip": null,
            "disabled": false,
            "indent": true,
            "layout": "IPY_MODEL_0d417c2dde364358b39b12d439253d14",
            "style": "IPY_MODEL_ee18694fa04c475f8b7b092b848a504b",
            "value": true
          }
        },
        "be3051345d7b46ddbdb0d8af25a4ef26": {
          "model_module": "@jupyter-widgets/controls",
          "model_name": "CheckboxModel",
          "model_module_version": "1.5.0",
          "state": {
            "_dom_classes": [],
            "_model_module": "@jupyter-widgets/controls",
            "_model_module_version": "1.5.0",
            "_model_name": "CheckboxModel",
            "_view_count": null,
            "_view_module": "@jupyter-widgets/controls",
            "_view_module_version": "1.5.0",
            "_view_name": "CheckboxView",
            "description": "with headers",
            "description_tooltip": null,
            "disabled": false,
            "indent": true,
            "layout": "IPY_MODEL_888e1a7508a745e2a470c1c5bc31f50e",
            "style": "IPY_MODEL_911874e0f3a34a4886f4a6476158da2a",
            "value": true
          }
        },
        "78cc7b7143224d32a0bfd81d7c9d6d59": {
          "model_module": "@jupyter-widgets/base",
          "model_name": "LayoutModel",
          "model_module_version": "1.2.0",
          "state": {
            "_model_module": "@jupyter-widgets/base",
            "_model_module_version": "1.2.0",
            "_model_name": "LayoutModel",
            "_view_count": null,
            "_view_module": "@jupyter-widgets/base",
            "_view_module_version": "1.2.0",
            "_view_name": "LayoutView",
            "align_content": null,
            "align_items": null,
            "align_self": null,
            "border": null,
            "bottom": null,
            "display": null,
            "flex": null,
            "flex_flow": null,
            "grid_area": null,
            "grid_auto_columns": null,
            "grid_auto_flow": null,
            "grid_auto_rows": null,
            "grid_column": null,
            "grid_gap": null,
            "grid_row": null,
            "grid_template_areas": null,
            "grid_template_columns": null,
            "grid_template_rows": null,
            "height": null,
            "justify_content": null,
            "justify_items": null,
            "left": null,
            "margin": null,
            "max_height": null,
            "max_width": null,
            "min_height": null,
            "min_width": null,
            "object_fit": null,
            "object_position": null,
            "order": null,
            "overflow": null,
            "overflow_x": null,
            "overflow_y": null,
            "padding": null,
            "right": null,
            "top": null,
            "visibility": null,
            "width": null
          }
        },
        "0d417c2dde364358b39b12d439253d14": {
          "model_module": "@jupyter-widgets/base",
          "model_name": "LayoutModel",
          "model_module_version": "1.2.0",
          "state": {
            "_model_module": "@jupyter-widgets/base",
            "_model_module_version": "1.2.0",
            "_model_name": "LayoutModel",
            "_view_count": null,
            "_view_module": "@jupyter-widgets/base",
            "_view_module_version": "1.2.0",
            "_view_name": "LayoutView",
            "align_content": null,
            "align_items": null,
            "align_self": null,
            "border": null,
            "bottom": null,
            "display": null,
            "flex": null,
            "flex_flow": null,
            "grid_area": null,
            "grid_auto_columns": null,
            "grid_auto_flow": null,
            "grid_auto_rows": null,
            "grid_column": null,
            "grid_gap": null,
            "grid_row": null,
            "grid_template_areas": null,
            "grid_template_columns": null,
            "grid_template_rows": null,
            "height": null,
            "justify_content": null,
            "justify_items": null,
            "left": null,
            "margin": null,
            "max_height": null,
            "max_width": null,
            "min_height": null,
            "min_width": null,
            "object_fit": null,
            "object_position": null,
            "order": null,
            "overflow": null,
            "overflow_x": null,
            "overflow_y": null,
            "padding": null,
            "right": null,
            "top": null,
            "visibility": null,
            "width": null
          }
        },
        "ee18694fa04c475f8b7b092b848a504b": {
          "model_module": "@jupyter-widgets/controls",
          "model_name": "DescriptionStyleModel",
          "model_module_version": "1.5.0",
          "state": {
            "_model_module": "@jupyter-widgets/controls",
            "_model_module_version": "1.5.0",
            "_model_name": "DescriptionStyleModel",
            "_view_count": null,
            "_view_module": "@jupyter-widgets/base",
            "_view_module_version": "1.2.0",
            "_view_name": "StyleView",
            "description_width": ""
          }
        },
        "888e1a7508a745e2a470c1c5bc31f50e": {
          "model_module": "@jupyter-widgets/base",
          "model_name": "LayoutModel",
          "model_module_version": "1.2.0",
          "state": {
            "_model_module": "@jupyter-widgets/base",
            "_model_module_version": "1.2.0",
            "_model_name": "LayoutModel",
            "_view_count": null,
            "_view_module": "@jupyter-widgets/base",
            "_view_module_version": "1.2.0",
            "_view_name": "LayoutView",
            "align_content": null,
            "align_items": null,
            "align_self": null,
            "border": null,
            "bottom": null,
            "display": null,
            "flex": null,
            "flex_flow": null,
            "grid_area": null,
            "grid_auto_columns": null,
            "grid_auto_flow": null,
            "grid_auto_rows": null,
            "grid_column": null,
            "grid_gap": null,
            "grid_row": null,
            "grid_template_areas": null,
            "grid_template_columns": null,
            "grid_template_rows": null,
            "height": null,
            "justify_content": null,
            "justify_items": null,
            "left": null,
            "margin": null,
            "max_height": null,
            "max_width": null,
            "min_height": null,
            "min_width": null,
            "object_fit": null,
            "object_position": null,
            "order": null,
            "overflow": null,
            "overflow_x": null,
            "overflow_y": null,
            "padding": null,
            "right": null,
            "top": null,
            "visibility": null,
            "width": null
          }
        },
        "911874e0f3a34a4886f4a6476158da2a": {
          "model_module": "@jupyter-widgets/controls",
          "model_name": "DescriptionStyleModel",
          "model_module_version": "1.5.0",
          "state": {
            "_model_module": "@jupyter-widgets/controls",
            "_model_module_version": "1.5.0",
            "_model_name": "DescriptionStyleModel",
            "_view_count": null,
            "_view_module": "@jupyter-widgets/base",
            "_view_module_version": "1.2.0",
            "_view_name": "StyleView",
            "description_width": ""
          }
        }
      }
    }
  },
  "cells": [
    {
      "cell_type": "markdown",
      "metadata": {
        "id": "view-in-github",
        "colab_type": "text"
      },
      "source": [
        "<a href=\"https://colab.research.google.com/github/YorkJong/news-digest/blob/main/notebooks/news_clip.ipynb\" target=\"_parent\"><img src=\"https://colab.research.google.com/assets/colab-badge.svg\" alt=\"Open In Colab\"/></a>"
      ]
    },
    {
      "cell_type": "markdown",
      "source": [
        "這支 notebook 是為了選取剪輯 news-digest 的部分新聞分類，以利後續轉貼\n",
        "執行步驟如下：\n",
        "1. 按下 Install 下那個 code cell 前面的 ► 按鈕來安裝 clip 模組.\n",
        "2. 根據需要，填表執行後面的 Forms 或 Widgets UI"
      ],
      "metadata": {
        "id": "qdoacSllvdm2"
      }
    },
    {
      "cell_type": "markdown",
      "source": [
        "### Install "
      ],
      "metadata": {
        "id": "74XGrOopRPIi"
      }
    },
    {
      "cell_type": "code",
      "source": [
        "!wget https://raw.githubusercontent.com/YorkJong/news-digest/main/api/clip.py\n",
        "!wget https://raw.githubusercontent.com/YorkJong/news-digest/main/api/line.py\n",
        "\n",
        "from clip import *"
      ],
      "metadata": {
        "colab": {
          "base_uri": "https://localhost:8080/"
        },
        "outputId": "68f96747-8bb7-4a40-f641-d9a73ddcaeaa",
        "id": "iGYtHyAkhZr_"
      },
      "execution_count": null,
      "outputs": [
        {
          "output_type": "stream",
          "name": "stdout",
          "text": [
            "--2023-03-23 03:32:17--  https://raw.githubusercontent.com/YorkJong/news-digest/main/api/clip.py\n",
            "Resolving raw.githubusercontent.com (raw.githubusercontent.com)... 185.199.111.133, 185.199.109.133, 185.199.108.133, ...\n",
            "Connecting to raw.githubusercontent.com (raw.githubusercontent.com)|185.199.111.133|:443... connected.\n",
            "HTTP request sent, awaiting response... 200 OK\n",
            "Length: 5458 (5.3K) [text/plain]\n",
            "Saving to: ‘clip.py’\n",
            "\n",
            "\rclip.py               0%[                    ]       0  --.-KB/s               \rclip.py             100%[===================>]   5.33K  --.-KB/s    in 0s      \n",
            "\n",
            "2023-03-23 03:32:18 (50.2 MB/s) - ‘clip.py’ saved [5458/5458]\n",
            "\n",
            "--2023-03-23 03:32:18--  https://raw.githubusercontent.com/YorkJong/news-digest/main/api/line.py\n",
            "Resolving raw.githubusercontent.com (raw.githubusercontent.com)... 185.199.110.133, 185.199.111.133, 185.199.109.133, ...\n",
            "Connecting to raw.githubusercontent.com (raw.githubusercontent.com)|185.199.110.133|:443... connected.\n",
            "HTTP request sent, awaiting response... 200 OK\n",
            "Length: 3425 (3.3K) [text/plain]\n",
            "Saving to: ‘line.py’\n",
            "\n",
            "line.py             100%[===================>]   3.34K  --.-KB/s    in 0s      \n",
            "\n",
            "2023-03-23 03:32:18 (40.6 MB/s) - ‘line.py’ saved [3425/3425]\n",
            "\n"
          ]
        }
      ]
    },
    {
      "cell_type": "markdown",
      "source": [
        "### Select Categories with the Colab Forms"
      ],
      "metadata": {
        "id": "jcbcKHfqSzyQ"
      }
    },
    {
      "cell_type": "code",
      "source": [
        "#@title Single Selection { run: \"auto\" }\n",
        "category = \"Crypto\" #@param [\"Tesla & SpaceX; Vehicle\", \"Tech Titans\", \"Finance\", \"Taiwan\", \"Crypto\", \"Technology\", \"AI\"] {allow-input: true}\n",
        "with_hashtags = False #@param {type:\"boolean\"}\n",
        "with_headers = False #@param {type:\"boolean\"}\n",
        "\n",
        "fn = get_latest_fn(\"journals\")\n",
        "content = get_file(fn)\n",
        "lines = get_lines_of_categories([category], content, with_hashtags, with_headers)\n",
        "text = '\\n'.join(lines)\n",
        "print(text)"
      ],
      "metadata": {
        "colab": {
          "base_uri": "https://localhost:8080/"
        },
        "cellView": "form",
        "id": "tGXYiHdUOgRp",
        "outputId": "f544324f-f101-4b2f-997a-4944a5d2e770"
      },
      "execution_count": null,
      "outputs": [
        {
          "output_type": "stream",
          "name": "stdout",
          "text": [
            "- [Raoul Pal：12个月内，标普、纳指都将创出新高，加密货币会更快！比特币这轮更像2013年，而非2019年！](https://www.youtube.com/watch?v=K0UU0WnyPW4)\n",
            "- [OpenAI創辦人項目》世界幣 Worldcoin 將向10億人空投？一覽世界級的Web3計畫](https://www.blocktempo.com/worldcoin-will-airdrop-to-the-1b-users-of-whole-world/)\n",
            "- [BTC漲破2.8萬，比特幣「礦工爽快回血」！收入暴增36%](https://www.blocktempo.com/bitcoin-rally-is-pure-gravy-for-miners-finally-seeing-a-light-at-the-end-of-the-tunnel/)\n",
            "- [比特幣100萬鎂賭局》Coinbase前CTO：我不是要賺錢！Fed瘋狂印鈔讓美元一文不值](https://www.blocktempo.com/former-coinbase-ctos-million-dollar-gamble/)\n",
            "- [經典虛擬寵物遊戲》Neopets Meta：轉生 Web3，宣布轉至 Polygon 鏈](https://www.blocktempo.com/neopets-metaverse-transition-from-web2-to-web3/)\n",
            "- [ChatGPT 檢查程式碼大失誤！Coinbase：多次忽略高風險BUG，無法取代人工](https://www.blocktempo.com/coinbae-publish-token-security-with-chatgpt/)\n",
            "-\n"
          ]
        }
      ]
    },
    {
      "cell_type": "code",
      "source": [
        "#@title Multiple Selections { run: \"auto\" }\n",
        "first_category = \"Tesla & SpaceX; Vehicle\" #@param [\"Tesla & SpaceX; Vehicle\", \"Tech Titans\", \"Finance\", \"Taiwan\", \"Crypto\", \"Technology\", \"AI\"] {allow-input: true}\n",
        "last_category = \"Finance\" #@param [\"Tesla & SpaceX; Vehicle\", \"Tech Titans\", \"Finance\", \"Taiwan\", \"Crypto\", \"Technology\", \"AI\"] {allow-input: true}\n",
        "with_hashtags = False #@param {type:\"boolean\"}\n",
        "with_headers = True #@param {type:\"boolean\"}\n",
        "\n",
        "fn = get_latest_fn(\"journals\")\n",
        "content = get_file(fn)\n",
        "categories = get_categories(content)\n",
        "categories = get_sublist(categories, first_category, last_category)\n",
        "lines = get_lines_of_categories(categories, content, with_hashtags, with_headers)\n",
        "text = '\\n'.join(lines)\n",
        "print(text)\n"
      ],
      "metadata": {
        "cellView": "form",
        "id": "QRwq2sNpi8c3",
        "colab": {
          "base_uri": "https://localhost:8080/"
        },
        "outputId": "f6da6d14-ca76-461d-906c-78964d8d69d9"
      },
      "execution_count": null,
      "outputs": [
        {
          "output_type": "stream",
          "name": "stdout",
          "text": [
            "### Tesla & SpaceX; Vehicle\n",
            "- [「不需借光」，Tesla Powerwall家用儲能重新開放單買](https://www.digitimes.com.tw/tech/dt/n/shwnws.asp?cnlid=1&id=0000659463_ASL58FZN5IDRDA4LUB1LC)\n",
            "- [特斯拉獲穆迪充電　股價勁升8%直衝200美元關　評級升至投資級別](https://inews.hket.com/article/3487919/【TSLA】特斯拉獲穆迪充電%E3%80%80股價勁升8-直衝200美元關%E3%80%80評級升至投資級別)\n",
            "- [特斯拉(TSLA.US)Q1中國銷量或強勁：有望超10.69萬輛 作者 智通財經](https://m.hk.investing.com/news/stock-market-news/article-310687)\n",
            "- [工程師、設計師、CEO 和產品經理，誰會最先被AI取代？馬斯克這樣選](https://www.bnext.com.tw/article/74508/placed-by-ai-sit-which-first-with-musk-ans)\n",
            "- [降價助攻 特斯拉歐洲市占率攀升](https://www.chinatimes.com/amp/realtimenews/20230321005968-260410)\n",
            "- [Tesla快充模組含「地板」？建置效率極高！連美國總統拜登也稱讚](https://today.line.me/tw/v2/amp/article/VxWeY9B)\n",
            "- [AI晶片持續火爆 比亞迪也加入戰局](https://m.cnyes.com/news/id/5121294)\n",
            "- [補貼退場買氣驟減，中國電車龍頭比亞迪砍班減產](https://technews.tw/2023/03/22/byd-reduces-work-and-production/)\n",
            "- [Toyota氫能電動車Mirai將來台試運行　4月中旬智慧移動展首度亮相](https://tw.nextapple.com/gadget/20230322/62A4BA558BBDD7EFA8CCF1C2BFE97A99)\n",
            "-\n",
            "### Tech Titans\n",
            "- [閃美禁令 輝達推中國特供版H800 AI晶片](https://ctee.com.tw/news/china/829946.html)\n",
            "- [NVIDIA推出Jetson Orin Nano開發套件，大幅提升AI入門裝置效能](https://www.techbang.com/posts/104819-nvidia-jetson-orin-nano-kit)\n",
            "- [全球晶片營收TOP10 AMD超神勇](https://news.xfastest.com/others/125647/chip-top10/)\n",
            "- [搭輝達狂潮，Supermicro 推 AI 伺服器、股價飆天價](https://technews.tw/2023/03/22/supermicro-nvidia-hgx-h100-8-gpu/)\n",
            "- [AI「iPhone 時刻」後，NVIDIA 打開生成式模型「魔盒」](https://technews.tw/2023/03/22/nvidia-dgx-cloud/)\n",
            "- [輝達攜手甲骨文等雲端供應商 推廣人工智慧技術](https://news.cnyes.com/news/id/5121651)\n",
            "- [NVIDIA 推出 6 款 Ada Lovelace 架構 GPU，包含 RTX 4000 SFF 專業繪圖卡](https://benchlife.info/nvidia-introduce-more-ada-lovelace-gpu-for-mobile-workstation/)\n",
            "- [ARK 抓住 ChatGPT 熱潮，首次主動敲進微軟](https://technews.tw/2023/03/22/cathie-wood-catches-up-with-the-chatgpt-craze-as-arks-internet-fund-snaps-up-microsoft-stock-for-the-1st-time/)\n",
            "- [Google Bard 終於開放大眾排隊試用，你也排了嗎？](https://www.kocpc.com.tw/archives/485191)\n",
            "- [Google以有惡意程式為由禁中國團購App拼多多](https://www.ithome.com.tw/news/156029)\n",
            "- [花了 100 多億美元建 AI 模型，微軟又豪擲數億美元投資專用硬體](https://technews.tw/2023/03/22/microsoft-details-its-chatgpt-hardware-investments/)\n",
            "- [Intel 執行長 Pat Gelsinger 確認 Raja Koduri 確定 3 月底離開](https://benchlife.info/raja-koduri-will-quit-intel-after-6-year-with-intel-graphics/)\n",
            "-\n",
            "### Finance\n",
            "- [軋空再現？美股GME盤後飆漲50％！GameStop：睽違2年首度「轉虧為盈」](https://www.blocktempo.com/gamestop-stock-soars-after-posts-first-quarterly-profit-in-two-years/)\n",
            "- [暴风雨前的平静！明日美联储FOMC重点！140年历史里的9次银行挤兑的经验！](https://www.youtube.com/watch?v=crC548BVdMg)\n",
            "- [彭博：美研究將FDIC保險暫時擴大至所有銀行存款](https://m.cnyes.com/news/id/5117568)\n",
            "- [美參眾兩院下周召開聽證會 討論SVB、Signature Bank倒閉事件](https://m.cnyes.com/news/id/5121672)\n",
            "- [美財長葉倫：若有必要 政府將提供更多存款擔保](https://news.cnyes.com/news/id/5121480)\n",
            "-\n"
          ]
        }
      ]
    },
    {
      "cell_type": "markdown",
      "source": [
        "### Select multiple categories with Jupyter Widgets"
      ],
      "metadata": {
        "id": "bHZpE5gJsacz"
      }
    },
    {
      "cell_type": "markdown",
      "source": [
        "#### Layout Widges"
      ],
      "metadata": {
        "id": "b14x8qnCpU0c"
      }
    },
    {
      "cell_type": "code",
      "source": [
        "import ipywidgets as widgets\n",
        "\n",
        "fn = get_latest_fn(\"journals\")\n",
        "content = get_file(fn)\n",
        "options = get_categories(content)\n",
        "\n",
        "categories = widgets.SelectMultiple(\n",
        "    options=options,\n",
        "    value=[options[0]],\n",
        "    rows=len(options),\n",
        "    description='Categories',\n",
        "    disabled=False\n",
        ")\n",
        "\n",
        "with_hashtags = widgets.Checkbox(\n",
        "    value=True,\n",
        "    description='with hashtags',\n",
        "    disabled=False\n",
        ")\n",
        "\n",
        "with_headers = widgets.Checkbox(\n",
        "    value=True,\n",
        "    description='with headers',\n",
        "    disabled=False\n",
        ")\n",
        "\n",
        "flags = widgets.VBox([with_hashtags, with_headers])\n",
        "ui = widgets.HBox([categories, flags])"
      ],
      "metadata": {
        "id": "KeKnqoaJpVT_"
      },
      "execution_count": null,
      "outputs": []
    },
    {
      "cell_type": "markdown",
      "source": [
        "#### Show Widgets UI"
      ],
      "metadata": {
        "id": "Y_MgxT2ipc20"
      }
    },
    {
      "cell_type": "code",
      "source": [
        "ui"
      ],
      "metadata": {
        "colab": {
          "base_uri": "https://localhost:8080/",
          "height": 144,
          "referenced_widgets": [
            "621f1447e3ea4a098d277c21676953ef",
            "bb12263d6e9e483d906f1b1f8109e6d1",
            "531036d419ad4335bd45331e015e5652",
            "036c4e1fa2e04ea6ba0e1688f0775d56",
            "3f7f16eaefa34cf9a795ec064e7cd747",
            "3c1a80cded3f453e9a4855cd11d23b0f",
            "c0907a1a50e94492a63b2f2e3f6a74a6",
            "be3051345d7b46ddbdb0d8af25a4ef26",
            "78cc7b7143224d32a0bfd81d7c9d6d59",
            "0d417c2dde364358b39b12d439253d14",
            "ee18694fa04c475f8b7b092b848a504b",
            "888e1a7508a745e2a470c1c5bc31f50e",
            "911874e0f3a34a4886f4a6476158da2a"
          ]
        },
        "id": "g-Q0ReLBmyPy",
        "outputId": "9acede08-dd89-451c-d825-e482a0c04982"
      },
      "execution_count": null,
      "outputs": [
        {
          "output_type": "display_data",
          "data": {
            "text/plain": [
              "HBox(children=(SelectMultiple(description='Categories', index=(0,), options=('Tesla & SpaceX; Vehicle', 'Tech …"
            ],
            "application/vnd.jupyter.widget-view+json": {
              "version_major": 2,
              "version_minor": 0,
              "model_id": "621f1447e3ea4a098d277c21676953ef"
            }
          },
          "metadata": {}
        }
      ]
    },
    {
      "cell_type": "code",
      "source": [
        "lines = get_lines_of_categories(categories.value, content, with_hashtags.value, with_headers.value)\n",
        "text = '\\n'.join(lines) \n",
        "print(text)"
      ],
      "metadata": {
        "id": "xczHHjuqp16i",
        "colab": {
          "base_uri": "https://localhost:8080/"
        },
        "outputId": "8371508b-7e87-49e2-f076-5887375e63f5"
      },
      "execution_count": null,
      "outputs": [
        {
          "output_type": "stream",
          "name": "stdout",
          "text": [
            "### Taiwan\n",
            "- [台積電危險了？晶片法案再爆2恐怖條件](https://ctee.com.tw/news/global/829864.html) #TSM #semicon #TW\n",
            "- [輝達攜 3 大廠加快微影製程、劍指 2 奈米，台積 ADR 嗨](https://technews.tw/2023/03/22/nvidia-eda-tsmc/) #NVDA #TSM #semicon\n",
            "- [不敢相信！金融業沒踩AT1地雷 5國銀客戶卻握16億元恐成壁紙](https://m.cnyes.com/news/id/5121323) #TW\n",
            "- [美晶片法案將限制在陸擴產　台積電、三星受衝擊](https://today.line.me/tw/v2/article/l2azlLB) #TSM #semicon\n",
            "- [猴子不知屁股紅！自己都沒做好就急著喊電動車產業是下座護國神山？](https://technews.tw/2023/03/21/charging-station-policy/) #TW #EV\n",
            "- [血本無歸 國內投資人踩雷瑞信AT1近17億](https://ctee.com.tw/news/finance/829428.html) #TW #CSGN\n",
            "- [台積電要去德國設廠 外媒爆1大難題](https://ctee.com.tw/news/tech/829114.html) #TSM #Europ #TW\n",
            "-\n"
          ]
        }
      ]
    },
    {
      "cell_type": "markdown",
      "source": [
        "### Line Notify"
      ],
      "metadata": {
        "id": "4P6ZR3eAxnmm"
      }
    },
    {
      "cell_type": "code",
      "source": [
        "#@title Send message\n",
        "receiver = \"\\u963F\\u5BEC\" #@param [\"阿寬\", \"區塊鏈\", \"股之呼吸\", \"MiniGroup\"]\n",
        "\n",
        "tok_tbl = {\n",
        "    '阿寬': 'LINE ACCESS TOKEN 1',\n",
        "    '區塊鏈': 'LINE ACCESS TOKEN 2',\n",
        "    '股之呼吸': 'LINE ACCESS TOKEN 3',\n",
        "    'MiniGroup': 'LINE ACCESS TOKEN 4',\n",
        "}\n",
        "\n",
        "import line\n",
        "message = f'\\n\\n{text}'\n",
        "token = tok_tbl[receiver]\n",
        "line.notify_message(message, token)"
      ],
      "metadata": {
        "id": "Jtw7QfKuprt1",
        "cellView": "form"
      },
      "execution_count": null,
      "outputs": []
    },
    {
      "cell_type": "markdown",
      "source": [
        "#### Scriptions"
      ],
      "metadata": {
        "id": "JI6HDul62OjK"
      }
    },
    {
      "cell_type": "code",
      "source": [
        "import time\n",
        "\n",
        "scriptions = { \n",
        "    (('Tesla & SpaceX; Vehicle', 'Tech Titans'), ('股之呼吸', 'MiniGroup')),\n",
        "    (('Finance'), ('股之呼吸', 'MiniGroup')),\n",
        "    (('Crypto',), ('股之呼吸', '區塊鏈')),\n",
        "    (('AI'), ('股之呼吸', 'MiniGroup'))\n",
        "}\n",
        "\n",
        "fn = get_latest_fn(\"journals\")\n",
        "content = get_file(fn)\n",
        "\n",
        "for topics, clients in scriptions:\n",
        "    lines = get_lines_of_categories(topics, content)\n",
        "    message = f'\\n\\n{'\\n'.join(lines)}'\n",
        "    for receiver in clients:\n",
        "        token = tok_tbl[receiver]\n",
        "        line.notify_message(message, token)\n",
        "    time.sleep(3)"
      ],
      "metadata": {
        "id": "a_kc4WgM2M4i"
      },
      "execution_count": null,
      "outputs": []
    },
    {
      "cell_type": "markdown",
      "source": [
        "### References\n",
        "* [LINE Notify ::My page](https://notify-bot.line.me/my/)"
      ],
      "metadata": {
        "id": "KLKfrO5Yp6QJ"
      }
    },
    {
      "cell_type": "code",
      "source": [],
      "metadata": {
        "id": "y-IIK_I_8y7F"
      },
      "execution_count": null,
      "outputs": []
    }
  ]
}