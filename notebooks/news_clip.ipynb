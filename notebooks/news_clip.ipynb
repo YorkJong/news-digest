{
  "nbformat": 4,
  "nbformat_minor": 0,
  "metadata": {
    "colab": {
      "provenance": [],
      "collapsed_sections": [
        "74XGrOopRPIi",
        "gbBeXRwHm8gn"
      ],
      "authorship_tag": "ABX9TyMWzy4CFHXNOS+8igQyq2Qu",
      "include_colab_link": true
    },
    "kernelspec": {
      "name": "python3",
      "display_name": "Python 3"
    },
    "language_info": {
      "name": "python"
    }
  },
  "cells": [
    {
      "cell_type": "markdown",
      "metadata": {
        "id": "view-in-github",
        "colab_type": "text"
      },
      "source": [
        "<a href=\"https://colab.research.google.com/github/YorkJong/news-digest/blob/main/notebooks/news_clip.ipynb\" target=\"_parent\"><img src=\"https://colab.research.google.com/assets/colab-badge.svg\" alt=\"Open In Colab\"/></a>"
      ]
    },
    {
      "cell_type": "markdown",
      "source": [
        "這支 colab notebook 是為了選取剪輯 [news-digest](https://news-digest.vercel.app/) 網站當天的新聞而寫的。只根據新聞分類(catetories)剪輯。\n",
        "\n",
        "執行步驟如下：\n",
        "1. 按下 Install 下那個 code cell 前面的 ► 按鈕來安裝用到的模組\n",
        "2. 根據需要，填表執行後面的 Widgets UI 或 Forms\n",
        "\n",
        "需要更細的檢索查詢，有如下兩個選擇\n",
        "- 直接在 [news-digest 網站](https://news-digest.vercel.app/)上搜尋或點選 hash-tags\n",
        "- 或者點擊 [news_query.ipynb](https://colab.research.google.com/github/YorkJong/news-digest/blob/main/notebooks/news_query.ipynb) 執行多條件檢索\n"
      ],
      "metadata": {
        "id": "qdoacSllvdm2"
      }
    },
    {
      "cell_type": "markdown",
      "source": [
        "### Install "
      ],
      "metadata": {
        "id": "74XGrOopRPIi"
      }
    },
    {
      "cell_type": "code",
      "source": [
        "import os\n",
        "\n",
        "fns = ['clip.py', 'line.py', 'op.py']\n",
        "\n",
        "for fn in fns:\n",
        "    if os.path.exists(fn):\n",
        "        os.remove(fn)\n",
        "for fn in fns:\n",
        "    url = f'https://raw.githubusercontent.com/YorkJong/news-digest/main/api/{fn}'\n",
        "    !wget $url\n",
        "\n",
        "import clip\n",
        "import line\n",
        "\n",
        "#-------------------------------------------------------------------------------\n",
        "import ipywidgets as widgets\n",
        "\n",
        "def create_menu(content):\n",
        "    options = clip.get_categories(content)\n",
        "    categories = widgets.SelectMultiple(\n",
        "        options=options,\n",
        "        value=[options[0]],\n",
        "        rows=len(options),\n",
        "        description='Categories',\n",
        "        disabled=False,\n",
        "    )\n",
        "\n",
        "    with_hashtags = widgets.Checkbox(\n",
        "        value=True,\n",
        "        description='with hashtags',\n",
        "        disabled=False,\n",
        "    )\n",
        "\n",
        "    with_headers = widgets.Checkbox(\n",
        "        value=True,\n",
        "        description='with headers',\n",
        "        disabled=False,\n",
        "    )\n",
        "\n",
        "    flags = widgets.VBox([with_hashtags, with_headers])\n",
        "    output = widgets.Output()\n",
        "    display(widgets.HBox([categories, flags]), output)\n",
        "\n",
        "    def on_value_change(change):\n",
        "        with output:\n",
        "            #print(change['new'])\n",
        "            output.clear_output()\n",
        "            lines = clip.get_lines_of_categories(categories.value, content, with_hashtags.value, with_headers.value)\n",
        "            print('\\n'.join(lines))\n",
        "\n",
        "    categories.observe(on_value_change, names='value')\n",
        "    with_hashtags.observe(on_value_change, names='value')\n",
        "    with_headers.observe(on_value_change, names='value')"
      ],
      "metadata": {
        "colab": {
          "base_uri": "https://localhost:8080/"
        },
        "id": "HhPa1e1tse76",
        "outputId": "d1b0ff0a-4cfd-42ed-e768-16d9536e359b"
      },
      "execution_count": 9,
      "outputs": [
        {
          "output_type": "stream",
          "name": "stdout",
          "text": [
            "--2023-03-26 11:31:55--  https://raw.githubusercontent.com/YorkJong/news-digest/main/api/clip.py\n",
            "Resolving raw.githubusercontent.com (raw.githubusercontent.com)... 185.199.108.133, 185.199.109.133, 185.199.110.133, ...\n",
            "Connecting to raw.githubusercontent.com (raw.githubusercontent.com)|185.199.108.133|:443... connected.\n",
            "HTTP request sent, awaiting response... 200 OK\n",
            "Length: 6800 (6.6K) [text/plain]\n",
            "Saving to: ‘clip.py’\n",
            "\n",
            "\rclip.py               0%[                    ]       0  --.-KB/s               \rclip.py             100%[===================>]   6.64K  --.-KB/s    in 0s      \n",
            "\n",
            "2023-03-26 11:31:55 (56.4 MB/s) - ‘clip.py’ saved [6800/6800]\n",
            "\n",
            "--2023-03-26 11:31:55--  https://raw.githubusercontent.com/YorkJong/news-digest/main/api/line.py\n",
            "Resolving raw.githubusercontent.com (raw.githubusercontent.com)... 185.199.110.133, 185.199.109.133, 185.199.108.133, ...\n",
            "Connecting to raw.githubusercontent.com (raw.githubusercontent.com)|185.199.110.133|:443... connected.\n",
            "HTTP request sent, awaiting response... 200 OK\n",
            "Length: 3425 (3.3K) [text/plain]\n",
            "Saving to: ‘line.py’\n",
            "\n",
            "line.py             100%[===================>]   3.34K  --.-KB/s    in 0s      \n",
            "\n",
            "2023-03-26 11:31:55 (42.4 MB/s) - ‘line.py’ saved [3425/3425]\n",
            "\n",
            "--2023-03-26 11:31:55--  https://raw.githubusercontent.com/YorkJong/news-digest/main/api/op.py\n",
            "Resolving raw.githubusercontent.com (raw.githubusercontent.com)... 185.199.111.133, 185.199.109.133, 185.199.108.133, ...\n",
            "Connecting to raw.githubusercontent.com (raw.githubusercontent.com)|185.199.111.133|:443... connected.\n",
            "HTTP request sent, awaiting response... 200 OK\n",
            "Length: 4686 (4.6K) [text/plain]\n",
            "Saving to: ‘op.py’\n",
            "\n",
            "op.py               100%[===================>]   4.58K  --.-KB/s    in 0s      \n",
            "\n",
            "2023-03-26 11:31:55 (45.5 MB/s) - ‘op.py’ saved [4686/4686]\n",
            "\n"
          ]
        }
      ]
    },
    {
      "cell_type": "markdown",
      "source": [
        "### Select categories with Jupyter Widgets\n",
        "- 按下面那個 code cell 前面的 ► 按鈕，以列出完整的分類(Catetories)選單\n",
        "- macOS 下操作可按Cmd後用滑鼠複選（Windows 系統則按下Ctrl鍵後以滑鼠複選）\n",
        "  - 全選可按 Cmd+A (macOS) 或者 Ctrl+A (Windows)"
      ],
      "metadata": {
        "id": "bHZpE5gJsacz"
      }
    },
    {
      "cell_type": "code",
      "source": [
        "create_menu(clip.get_latest_journal())"
      ],
      "metadata": {
        "id": "z--kb0R3m6XF"
      },
      "execution_count": null,
      "outputs": []
    },
    {
      "cell_type": "markdown",
      "source": [
        "### Select Categories with the Colab Forms"
      ],
      "metadata": {
        "id": "jcbcKHfqSzyQ"
      }
    },
    {
      "cell_type": "code",
      "source": [
        "#@title Single Selection { run: \"auto\", display-mode: \"form\" }\n",
        "category = \"AI\" #@param [\"Tesla & SpaceX; Vehicle\", \"Tech Titans\", \"Finance\", \"Taiwan\", \"Crypto\", \"Technology\", \"AI\"] {allow-input: true}\n",
        "with_hashtags = False #@param {type:\"boolean\"}\n",
        "with_headers = False #@param {type:\"boolean\"}\n",
        "\n",
        "content = clip.get_latest_journal()\n",
        "lines = clip.get_lines_of_categories([category], content, with_hashtags, with_headers)\n",
        "text = '\\n'.join(lines)\n",
        "print(text)"
      ],
      "metadata": {
        "id": "tGXYiHdUOgRp"
      },
      "execution_count": null,
      "outputs": []
    },
    {
      "cell_type": "code",
      "source": [
        "#@title Multiple Selections { run: \"auto\", display-mode: \"form\" }\n",
        "first_category = \"Tesla & SpaceX; Vehicle\" #@param [\"Tesla & SpaceX; Vehicle\", \"Tech Titans\", \"Finance\", \"Taiwan\", \"Crypto\", \"Technology\", \"AI\"] {allow-input: true}\n",
        "last_category = \"Finance\" #@param [\"Tesla & SpaceX; Vehicle\", \"Tech Titans\", \"Finance\", \"Taiwan\", \"Crypto\", \"Technology\", \"AI\"] {allow-input: true}\n",
        "with_hashtags = False #@param {type:\"boolean\"}\n",
        "with_headers = True #@param {type:\"boolean\"}\n",
        "\n",
        "content = clip.get_latest_journal()\n",
        "categories = clip.get_categories(content)\n",
        "categories = clip.get_sublist(categories, first_category, last_category)\n",
        "lines = clip.get_lines_of_categories(categories, content, with_hashtags, with_headers)\n",
        "text = '\\n'.join(lines)\n",
        "print(text)\n"
      ],
      "metadata": {
        "id": "QRwq2sNpi8c3"
      },
      "execution_count": null,
      "outputs": []
    },
    {
      "cell_type": "markdown",
      "source": [
        "### See Also\n",
        "- [news_query.ipynb (from GitHub)](https://colab.research.google.com/github/YorkJong/news-digest/blob/main/notebooks/news_query.ipynb)"
      ],
      "metadata": {
        "id": "l9kvYn67Zue4"
      }
    }
  ]
}