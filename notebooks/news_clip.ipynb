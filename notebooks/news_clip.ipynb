{
  "nbformat": 4,
  "nbformat_minor": 0,
  "metadata": {
    "colab": {
      "provenance": [],
      "collapsed_sections": [
        "74XGrOopRPIi",
        "gbBeXRwHm8gn"
      ],
      "authorship_tag": "ABX9TyNg58c7LVgwtTh1YR9FMmwp",
      "include_colab_link": true
    },
    "kernelspec": {
      "name": "python3",
      "display_name": "Python 3"
    },
    "language_info": {
      "name": "python"
    },
    "widgets": {
      "application/vnd.jupyter.widget-state+json": {
        "04af2ad9ec4e4de1944c04fd0a6b49d3": {
          "model_module": "@jupyter-widgets/controls",
          "model_name": "HBoxModel",
          "model_module_version": "1.5.0",
          "state": {
            "_dom_classes": [],
            "_model_module": "@jupyter-widgets/controls",
            "_model_module_version": "1.5.0",
            "_model_name": "HBoxModel",
            "_view_count": null,
            "_view_module": "@jupyter-widgets/controls",
            "_view_module_version": "1.5.0",
            "_view_name": "HBoxView",
            "box_style": "",
            "children": [
              "IPY_MODEL_6631bc899d344e5b8b7ccde48fa885e8",
              "IPY_MODEL_5be1ed4ad44b4f7d894ae3db5bf5d10c"
            ],
            "layout": "IPY_MODEL_a0eb2f5c2c1d4bee8e4724192a89592c"
          }
        },
        "6631bc899d344e5b8b7ccde48fa885e8": {
          "model_module": "@jupyter-widgets/controls",
          "model_name": "SelectMultipleModel",
          "model_module_version": "1.5.0",
          "state": {
            "_dom_classes": [],
            "_model_module": "@jupyter-widgets/controls",
            "_model_module_version": "1.5.0",
            "_model_name": "SelectMultipleModel",
            "_options_labels": [
              "Tesla & SpaceX; Vehicle",
              "Tech Titans",
              "Finance",
              "Taiwan",
              "Crypto",
              "Technology",
              "AI"
            ],
            "_view_count": null,
            "_view_module": "@jupyter-widgets/controls",
            "_view_module_version": "1.5.0",
            "_view_name": "SelectMultipleView",
            "description": "Categories",
            "description_tooltip": null,
            "disabled": false,
            "index": [
              0
            ],
            "layout": "IPY_MODEL_f76f26ee554140e680397f8546d7ad56",
            "rows": 7,
            "style": "IPY_MODEL_227667d8819c43fa9235d37a3c8e57ac"
          }
        },
        "5be1ed4ad44b4f7d894ae3db5bf5d10c": {
          "model_module": "@jupyter-widgets/controls",
          "model_name": "VBoxModel",
          "model_module_version": "1.5.0",
          "state": {
            "_dom_classes": [],
            "_model_module": "@jupyter-widgets/controls",
            "_model_module_version": "1.5.0",
            "_model_name": "VBoxModel",
            "_view_count": null,
            "_view_module": "@jupyter-widgets/controls",
            "_view_module_version": "1.5.0",
            "_view_name": "VBoxView",
            "box_style": "",
            "children": [
              "IPY_MODEL_31b95f5f7a0d44c9a6e32cfc40fb6922",
              "IPY_MODEL_e0fa9c7485924476af54930f8ec448a4"
            ],
            "layout": "IPY_MODEL_6cbf5540120e4cabbc52f3f781f937f2"
          }
        },
        "a0eb2f5c2c1d4bee8e4724192a89592c": {
          "model_module": "@jupyter-widgets/base",
          "model_name": "LayoutModel",
          "model_module_version": "1.2.0",
          "state": {
            "_model_module": "@jupyter-widgets/base",
            "_model_module_version": "1.2.0",
            "_model_name": "LayoutModel",
            "_view_count": null,
            "_view_module": "@jupyter-widgets/base",
            "_view_module_version": "1.2.0",
            "_view_name": "LayoutView",
            "align_content": null,
            "align_items": null,
            "align_self": null,
            "border": null,
            "bottom": null,
            "display": null,
            "flex": null,
            "flex_flow": null,
            "grid_area": null,
            "grid_auto_columns": null,
            "grid_auto_flow": null,
            "grid_auto_rows": null,
            "grid_column": null,
            "grid_gap": null,
            "grid_row": null,
            "grid_template_areas": null,
            "grid_template_columns": null,
            "grid_template_rows": null,
            "height": null,
            "justify_content": null,
            "justify_items": null,
            "left": null,
            "margin": null,
            "max_height": null,
            "max_width": null,
            "min_height": null,
            "min_width": null,
            "object_fit": null,
            "object_position": null,
            "order": null,
            "overflow": null,
            "overflow_x": null,
            "overflow_y": null,
            "padding": null,
            "right": null,
            "top": null,
            "visibility": null,
            "width": null
          }
        },
        "f76f26ee554140e680397f8546d7ad56": {
          "model_module": "@jupyter-widgets/base",
          "model_name": "LayoutModel",
          "model_module_version": "1.2.0",
          "state": {
            "_model_module": "@jupyter-widgets/base",
            "_model_module_version": "1.2.0",
            "_model_name": "LayoutModel",
            "_view_count": null,
            "_view_module": "@jupyter-widgets/base",
            "_view_module_version": "1.2.0",
            "_view_name": "LayoutView",
            "align_content": null,
            "align_items": null,
            "align_self": null,
            "border": null,
            "bottom": null,
            "display": null,
            "flex": null,
            "flex_flow": null,
            "grid_area": null,
            "grid_auto_columns": null,
            "grid_auto_flow": null,
            "grid_auto_rows": null,
            "grid_column": null,
            "grid_gap": null,
            "grid_row": null,
            "grid_template_areas": null,
            "grid_template_columns": null,
            "grid_template_rows": null,
            "height": null,
            "justify_content": null,
            "justify_items": null,
            "left": null,
            "margin": null,
            "max_height": null,
            "max_width": null,
            "min_height": null,
            "min_width": null,
            "object_fit": null,
            "object_position": null,
            "order": null,
            "overflow": null,
            "overflow_x": null,
            "overflow_y": null,
            "padding": null,
            "right": null,
            "top": null,
            "visibility": null,
            "width": null
          }
        },
        "227667d8819c43fa9235d37a3c8e57ac": {
          "model_module": "@jupyter-widgets/controls",
          "model_name": "DescriptionStyleModel",
          "model_module_version": "1.5.0",
          "state": {
            "_model_module": "@jupyter-widgets/controls",
            "_model_module_version": "1.5.0",
            "_model_name": "DescriptionStyleModel",
            "_view_count": null,
            "_view_module": "@jupyter-widgets/base",
            "_view_module_version": "1.2.0",
            "_view_name": "StyleView",
            "description_width": ""
          }
        },
        "31b95f5f7a0d44c9a6e32cfc40fb6922": {
          "model_module": "@jupyter-widgets/controls",
          "model_name": "CheckboxModel",
          "model_module_version": "1.5.0",
          "state": {
            "_dom_classes": [],
            "_model_module": "@jupyter-widgets/controls",
            "_model_module_version": "1.5.0",
            "_model_name": "CheckboxModel",
            "_view_count": null,
            "_view_module": "@jupyter-widgets/controls",
            "_view_module_version": "1.5.0",
            "_view_name": "CheckboxView",
            "description": "with hashtags",
            "description_tooltip": null,
            "disabled": false,
            "indent": true,
            "layout": "IPY_MODEL_7dbd909ada4f4708b0855ffe31729a96",
            "style": "IPY_MODEL_5cf39d5419054ec7b2b66d0a3f1c901b",
            "value": true
          }
        },
        "e0fa9c7485924476af54930f8ec448a4": {
          "model_module": "@jupyter-widgets/controls",
          "model_name": "CheckboxModel",
          "model_module_version": "1.5.0",
          "state": {
            "_dom_classes": [],
            "_model_module": "@jupyter-widgets/controls",
            "_model_module_version": "1.5.0",
            "_model_name": "CheckboxModel",
            "_view_count": null,
            "_view_module": "@jupyter-widgets/controls",
            "_view_module_version": "1.5.0",
            "_view_name": "CheckboxView",
            "description": "with headers",
            "description_tooltip": null,
            "disabled": false,
            "indent": true,
            "layout": "IPY_MODEL_ece2c51203844307acf1000f269ab761",
            "style": "IPY_MODEL_cb4f15eea5ef44acbae7fedf37a9a62c",
            "value": true
          }
        },
        "6cbf5540120e4cabbc52f3f781f937f2": {
          "model_module": "@jupyter-widgets/base",
          "model_name": "LayoutModel",
          "model_module_version": "1.2.0",
          "state": {
            "_model_module": "@jupyter-widgets/base",
            "_model_module_version": "1.2.0",
            "_model_name": "LayoutModel",
            "_view_count": null,
            "_view_module": "@jupyter-widgets/base",
            "_view_module_version": "1.2.0",
            "_view_name": "LayoutView",
            "align_content": null,
            "align_items": null,
            "align_self": null,
            "border": null,
            "bottom": null,
            "display": null,
            "flex": null,
            "flex_flow": null,
            "grid_area": null,
            "grid_auto_columns": null,
            "grid_auto_flow": null,
            "grid_auto_rows": null,
            "grid_column": null,
            "grid_gap": null,
            "grid_row": null,
            "grid_template_areas": null,
            "grid_template_columns": null,
            "grid_template_rows": null,
            "height": null,
            "justify_content": null,
            "justify_items": null,
            "left": null,
            "margin": null,
            "max_height": null,
            "max_width": null,
            "min_height": null,
            "min_width": null,
            "object_fit": null,
            "object_position": null,
            "order": null,
            "overflow": null,
            "overflow_x": null,
            "overflow_y": null,
            "padding": null,
            "right": null,
            "top": null,
            "visibility": null,
            "width": null
          }
        },
        "7dbd909ada4f4708b0855ffe31729a96": {
          "model_module": "@jupyter-widgets/base",
          "model_name": "LayoutModel",
          "model_module_version": "1.2.0",
          "state": {
            "_model_module": "@jupyter-widgets/base",
            "_model_module_version": "1.2.0",
            "_model_name": "LayoutModel",
            "_view_count": null,
            "_view_module": "@jupyter-widgets/base",
            "_view_module_version": "1.2.0",
            "_view_name": "LayoutView",
            "align_content": null,
            "align_items": null,
            "align_self": null,
            "border": null,
            "bottom": null,
            "display": null,
            "flex": null,
            "flex_flow": null,
            "grid_area": null,
            "grid_auto_columns": null,
            "grid_auto_flow": null,
            "grid_auto_rows": null,
            "grid_column": null,
            "grid_gap": null,
            "grid_row": null,
            "grid_template_areas": null,
            "grid_template_columns": null,
            "grid_template_rows": null,
            "height": null,
            "justify_content": null,
            "justify_items": null,
            "left": null,
            "margin": null,
            "max_height": null,
            "max_width": null,
            "min_height": null,
            "min_width": null,
            "object_fit": null,
            "object_position": null,
            "order": null,
            "overflow": null,
            "overflow_x": null,
            "overflow_y": null,
            "padding": null,
            "right": null,
            "top": null,
            "visibility": null,
            "width": null
          }
        },
        "5cf39d5419054ec7b2b66d0a3f1c901b": {
          "model_module": "@jupyter-widgets/controls",
          "model_name": "DescriptionStyleModel",
          "model_module_version": "1.5.0",
          "state": {
            "_model_module": "@jupyter-widgets/controls",
            "_model_module_version": "1.5.0",
            "_model_name": "DescriptionStyleModel",
            "_view_count": null,
            "_view_module": "@jupyter-widgets/base",
            "_view_module_version": "1.2.0",
            "_view_name": "StyleView",
            "description_width": ""
          }
        },
        "ece2c51203844307acf1000f269ab761": {
          "model_module": "@jupyter-widgets/base",
          "model_name": "LayoutModel",
          "model_module_version": "1.2.0",
          "state": {
            "_model_module": "@jupyter-widgets/base",
            "_model_module_version": "1.2.0",
            "_model_name": "LayoutModel",
            "_view_count": null,
            "_view_module": "@jupyter-widgets/base",
            "_view_module_version": "1.2.0",
            "_view_name": "LayoutView",
            "align_content": null,
            "align_items": null,
            "align_self": null,
            "border": null,
            "bottom": null,
            "display": null,
            "flex": null,
            "flex_flow": null,
            "grid_area": null,
            "grid_auto_columns": null,
            "grid_auto_flow": null,
            "grid_auto_rows": null,
            "grid_column": null,
            "grid_gap": null,
            "grid_row": null,
            "grid_template_areas": null,
            "grid_template_columns": null,
            "grid_template_rows": null,
            "height": null,
            "justify_content": null,
            "justify_items": null,
            "left": null,
            "margin": null,
            "max_height": null,
            "max_width": null,
            "min_height": null,
            "min_width": null,
            "object_fit": null,
            "object_position": null,
            "order": null,
            "overflow": null,
            "overflow_x": null,
            "overflow_y": null,
            "padding": null,
            "right": null,
            "top": null,
            "visibility": null,
            "width": null
          }
        },
        "cb4f15eea5ef44acbae7fedf37a9a62c": {
          "model_module": "@jupyter-widgets/controls",
          "model_name": "DescriptionStyleModel",
          "model_module_version": "1.5.0",
          "state": {
            "_model_module": "@jupyter-widgets/controls",
            "_model_module_version": "1.5.0",
            "_model_name": "DescriptionStyleModel",
            "_view_count": null,
            "_view_module": "@jupyter-widgets/base",
            "_view_module_version": "1.2.0",
            "_view_name": "StyleView",
            "description_width": ""
          }
        }
      }
    }
  },
  "cells": [
    {
      "cell_type": "markdown",
      "metadata": {
        "id": "view-in-github",
        "colab_type": "text"
      },
      "source": [
        "<a href=\"https://colab.research.google.com/github/YorkJong/news-digest/blob/main/notebooks/news_clip.ipynb\" target=\"_parent\"><img src=\"https://colab.research.google.com/assets/colab-badge.svg\" alt=\"Open In Colab\"/></a>"
      ]
    },
    {
      "cell_type": "markdown",
      "source": [
        "這支 notebook 是為了選取剪輯 news-digest 的部分新聞分類，以利後續轉貼\n",
        "執行步驟如下：\n",
        "1. 按下 Install 下那個 code cell 前面的 ► 按鈕來安裝 clip 模組.\n",
        "2. 根據需要，填表執行後面的 Forms 或 Widgets UI"
      ],
      "metadata": {
        "id": "qdoacSllvdm2"
      }
    },
    {
      "cell_type": "markdown",
      "source": [
        "### Install "
      ],
      "metadata": {
        "id": "74XGrOopRPIi"
      }
    },
    {
      "cell_type": "code",
      "source": [
        "!wget https://raw.githubusercontent.com/YorkJong/news-digest/main/api/clip.py\n",
        "!wget https://raw.githubusercontent.com/YorkJong/news-digest/main/api/line.py\n",
        "\n",
        "from clip import *"
      ],
      "metadata": {
        "colab": {
          "base_uri": "https://localhost:8080/"
        },
        "id": "HhPa1e1tse76",
        "outputId": "b6fddd68-f870-4d04-8a35-76ad257b0dd4"
      },
      "execution_count": null,
      "outputs": [
        {
          "output_type": "stream",
          "name": "stdout",
          "text": [
            "--2023-03-23 20:52:57--  https://raw.githubusercontent.com/YorkJong/news-digest/main/api/clip.py\n",
            "Resolving raw.githubusercontent.com (raw.githubusercontent.com)... 185.199.108.133, 185.199.109.133, 185.199.110.133, ...\n",
            "Connecting to raw.githubusercontent.com (raw.githubusercontent.com)|185.199.108.133|:443... connected.\n",
            "HTTP request sent, awaiting response... 200 OK\n",
            "Length: 5973 (5.8K) [text/plain]\n",
            "Saving to: ‘clip.py’\n",
            "\n",
            "clip.py             100%[===================>]   5.83K  --.-KB/s    in 0s      \n",
            "\n",
            "2023-03-23 20:52:57 (53.9 MB/s) - ‘clip.py’ saved [5973/5973]\n",
            "\n",
            "--2023-03-23 20:52:57--  https://raw.githubusercontent.com/YorkJong/news-digest/main/api/line.py\n",
            "Resolving raw.githubusercontent.com (raw.githubusercontent.com)... 185.199.108.133, 185.199.109.133, 185.199.110.133, ...\n",
            "Connecting to raw.githubusercontent.com (raw.githubusercontent.com)|185.199.108.133|:443... connected.\n",
            "HTTP request sent, awaiting response... 200 OK\n",
            "Length: 3425 (3.3K) [text/plain]\n",
            "Saving to: ‘line.py’\n",
            "\n",
            "line.py             100%[===================>]   3.34K  --.-KB/s    in 0s      \n",
            "\n",
            "2023-03-23 20:52:58 (42.9 MB/s) - ‘line.py’ saved [3425/3425]\n",
            "\n"
          ]
        }
      ]
    },
    {
      "cell_type": "markdown",
      "source": [
        "### Select Categories with the Colab Forms"
      ],
      "metadata": {
        "id": "jcbcKHfqSzyQ"
      }
    },
    {
      "cell_type": "code",
      "source": [
        "#@title Single Selection { run: \"auto\" }\n",
        "category = \"AI\" #@param [\"Tesla & SpaceX; Vehicle\", \"Tech Titans\", \"Finance\", \"Taiwan\", \"Crypto\", \"Technology\", \"AI\"] {allow-input: true}\n",
        "with_hashtags = False #@param {type:\"boolean\"}\n",
        "with_headers = False #@param {type:\"boolean\"}\n",
        "\n",
        "content = get_latest_journal()\n",
        "lines = get_lines_of_categories([category], content, with_hashtags, with_headers)\n",
        "text = '\\n'.join(lines)\n",
        "print(text)"
      ],
      "metadata": {
        "colab": {
          "base_uri": "https://localhost:8080/"
        },
        "cellView": "form",
        "id": "tGXYiHdUOgRp",
        "outputId": "6dbb56f9-de6c-4ca8-d5f7-332c1d7986c6"
      },
      "execution_count": null,
      "outputs": [
        {
          "output_type": "stream",
          "name": "stdout",
          "text": [
            "- [GPT-4為何這麼強？輝達GPU如何助攻？OpenAI首席科學家、黃仁勳解密](https://www.bnext.com.tw/article/74540/nvidia-openai)\n",
            "- [ChatGPT修補曝露用戶對話紀錄標題的漏洞](https://www.ithome.com.tw/news/156068)\n",
            "- [GitHub發表AI軟體開發願景Copilot X，嵌入GPT-4能力](https://www.ithome.com.tw/news/156070)\n",
            "- [「AI專家」李飛飛來台：AI是智能，還不到智慧](https://www.gvm.com.tw/article/100949)\n",
            "- [ChatGPT 擴充功能夾帶惡意外掛，竊取 Facebook 帳號](https://technews.tw/2023/03/23/facebook-accounts-hijacked-by-new-malicious-chatgpt-chrome-extension/)\n",
            "- [現在大家對 ChatGPT 有多依賴？幾天前 ChatGPT 當機一堆國外網友在社群叫苦：已經不知道怎麼工作](https://www.kocpc.com.tw/archives/485230)\n",
            "- [Bard 公測再度「大義滅親」承認Google壟斷市場，Google無奈回應：這證明 AI 會犯錯](https://www.techbang.com/posts/104851-his-own-bard-chatbot-said-that-the-company-had-a-monopoly-and)\n",
            "-\n"
          ]
        }
      ]
    },
    {
      "cell_type": "code",
      "source": [
        "#@title Multiple Selections { run: \"auto\" }\n",
        "first_category = \"Tesla & SpaceX; Vehicle\" #@param [\"Tesla & SpaceX; Vehicle\", \"Tech Titans\", \"Finance\", \"Taiwan\", \"Crypto\", \"Technology\", \"AI\"] {allow-input: true}\n",
        "last_category = \"Finance\" #@param [\"Tesla & SpaceX; Vehicle\", \"Tech Titans\", \"Finance\", \"Taiwan\", \"Crypto\", \"Technology\", \"AI\"] {allow-input: true}\n",
        "with_hashtags = False #@param {type:\"boolean\"}\n",
        "with_headers = True #@param {type:\"boolean\"}\n",
        "\n",
        "content = get_latest_journal()\n",
        "categories = get_categories(content)\n",
        "categories = get_sublist(categories, first_category, last_category)\n",
        "lines = get_lines_of_categories(categories, content, with_hashtags, with_headers)\n",
        "text = '\\n'.join(lines)\n",
        "print(text)\n"
      ],
      "metadata": {
        "cellView": "form",
        "id": "QRwq2sNpi8c3",
        "colab": {
          "base_uri": "https://localhost:8080/"
        },
        "outputId": "050560be-4f10-4372-dac0-539b85793e09"
      },
      "execution_count": null,
      "outputs": [
        {
          "output_type": "stream",
          "name": "stdout",
          "text": [
            "### Tesla & SpaceX; Vehicle\n",
            "- [自駕Apple Car將問世？蘋果擴大自駕測試司機團隊至201人](https://news.cnyes.com/news/id/5123687)\n",
            "- [大客戶比亞迪傳減產 胡連緊盯](https://m.cnyes.com/news/id/5122802)\n",
            "-\n",
            "### Tech Titans\n",
            "- [聊天機器人 Google Bard 的魔爪伸向編輯領域！Tom’s Hardware 控訴文章被取用](https://news.xfastest.com/others/125705/google-bard/)\n",
            "- [外資：輝達搶得 AI 主導地位，將重塑科技業面貌](https://technews.tw/2023/03/23/nvidia-ai-computational-lithography/)\n",
            "- [微軟提及索尼一再阻擋動視併購案：都給了 10 年時間，還不夠他們開發出《決勝時刻》的替代品嗎？](https://www.techbang.com/posts/104852-microsoft-10-years-is-enough-time-for-sony-to-develop-a)\n",
            "- [FAANG已成回憶? 蘋果、微軟權重創新高](https://news.cnyes.com/news/id/5122284)\n",
            "- [英特爾高層大風吹：代工部門大將找到了、首席架構師要去開AI新公司！](https://www.bnext.com.tw/article/74532/intel-personnel-chge-raja-koduri-quit)\n",
            "- [賽昉科技獲百度獨家投資,合作推動RISC-V落地](https://m.cnyes.com/news/id/5123952)\n",
            "-\n",
            "### Finance\n",
            "- [美股大跌！美联储FOMC会议独家解读✨20230322](https://www.youtube.com/watch?v=uKKrASZfeI0)\n",
            "- [葉倫無意推全額存保 第一共和銀行下殺超15%](https://news.cnyes.com/news/id/5123140)\n",
            "- [〈美股盤後〉鮑爾滅降息希望、葉倫無意擴大存款保險 道瓊暴跌530點](https://news.cnyes.com/news/id/5123188)\n",
            "- [〈貴金屬盤後〉Fed升息1碼並暗示緊縮循環近尾聲 黃金期貨上漲](https://news.cnyes.com/news/id/5123144)\n",
            "- [葉倫一句話 道瓊瀉530點 第一共和銀慘崩](https://ctee.com.tw/news/global/830235.html)\n",
            "- [堅定抗通膨 Fed決定升息1碼](https://news.cnyes.com/news/id/5122191?exp=a)\n",
            "- [法國會壓倒性通過 新建6座核電廠](https://ctee.com.tw/news/global/829950.html)\n",
            "-\n"
          ]
        }
      ]
    },
    {
      "cell_type": "markdown",
      "source": [
        "### Select multiple categories with Jupyter Widgets"
      ],
      "metadata": {
        "id": "bHZpE5gJsacz"
      }
    },
    {
      "cell_type": "markdown",
      "source": [
        "#### Layout Widges"
      ],
      "metadata": {
        "id": "gbBeXRwHm8gn"
      }
    },
    {
      "cell_type": "code",
      "source": [
        "import ipywidgets as widgets\n",
        "\n",
        "content = get_latest_journal()\n",
        "options = get_categories(content)\n",
        "\n",
        "categories = widgets.SelectMultiple(\n",
        "    options=options,\n",
        "    value=[options[0]],\n",
        "    rows=len(options),\n",
        "    description='Categories',\n",
        "    disabled=False\n",
        ")\n",
        "\n",
        "with_hashtags = widgets.Checkbox(\n",
        "    value=True,\n",
        "    description='with hashtags',\n",
        "    disabled=False\n",
        ")\n",
        "\n",
        "with_headers = widgets.Checkbox(\n",
        "    value=True,\n",
        "    description='with headers',\n",
        "    disabled=False\n",
        ")\n",
        "\n",
        "flags = widgets.VBox([with_hashtags, with_headers])\n",
        "ui = widgets.HBox([categories, flags])"
      ],
      "metadata": {
        "id": "z--kb0R3m6XF"
      },
      "execution_count": null,
      "outputs": []
    },
    {
      "cell_type": "markdown",
      "source": [
        "#### Show Widgets UI"
      ],
      "metadata": {
        "id": "CglrrPRrnrWg"
      }
    },
    {
      "cell_type": "code",
      "source": [
        "ui"
      ],
      "metadata": {
        "colab": {
          "base_uri": "https://localhost:8080/",
          "height": 144,
          "referenced_widgets": [
            "04af2ad9ec4e4de1944c04fd0a6b49d3",
            "6631bc899d344e5b8b7ccde48fa885e8",
            "5be1ed4ad44b4f7d894ae3db5bf5d10c",
            "a0eb2f5c2c1d4bee8e4724192a89592c",
            "f76f26ee554140e680397f8546d7ad56",
            "227667d8819c43fa9235d37a3c8e57ac",
            "31b95f5f7a0d44c9a6e32cfc40fb6922",
            "e0fa9c7485924476af54930f8ec448a4",
            "6cbf5540120e4cabbc52f3f781f937f2",
            "7dbd909ada4f4708b0855ffe31729a96",
            "5cf39d5419054ec7b2b66d0a3f1c901b",
            "ece2c51203844307acf1000f269ab761",
            "cb4f15eea5ef44acbae7fedf37a9a62c"
          ]
        },
        "id": "g-Q0ReLBmyPy",
        "outputId": "12c9df30-2690-4c8f-e751-b85d65eeea67"
      },
      "execution_count": null,
      "outputs": [
        {
          "output_type": "display_data",
          "data": {
            "text/plain": [
              "HBox(children=(SelectMultiple(description='Categories', index=(0,), options=('Tesla & SpaceX; Vehicle', 'Tech …"
            ],
            "application/vnd.jupyter.widget-view+json": {
              "version_major": 2,
              "version_minor": 0,
              "model_id": "04af2ad9ec4e4de1944c04fd0a6b49d3"
            }
          },
          "metadata": {}
        }
      ]
    },
    {
      "cell_type": "code",
      "source": [
        "lines = get_lines_of_categories(categories.value, content, with_hashtags.value, with_headers.value)\n",
        "text = '\\n'.join(lines) \n",
        "print(text)"
      ],
      "metadata": {
        "id": "xczHHjuqp16i",
        "colab": {
          "base_uri": "https://localhost:8080/"
        },
        "outputId": "45371eda-016b-44b1-b9d2-0b4f37b0d019"
      },
      "execution_count": null,
      "outputs": [
        {
          "output_type": "stream",
          "name": "stdout",
          "text": [
            "### Tesla & SpaceX; Vehicle\n",
            "- [自駕Apple Car將問世？蘋果擴大自駕測試司機團隊至201人](https://news.cnyes.com/news/id/5123687) #AAPL #EV\n",
            "- [大客戶比亞迪傳減產 胡連緊盯](https://m.cnyes.com/news/id/5122802) #BYD #EV\n",
            "-\n"
          ]
        }
      ]
    },
    {
      "cell_type": "markdown",
      "source": [
        "### Line Notify"
      ],
      "metadata": {
        "id": "nee6Or5sdfsB"
      }
    },
    {
      "cell_type": "code",
      "source": [
        "#@title Send message\n",
        "receiver = \"\\u963F\\u5BEC\" #@param [\"阿寬\", \"區塊鏈\", \"股之呼吸\", \"MiniGroup\"]\n",
        "\n",
        "import line\n",
        "message = f'\\n\\n{text}'\n",
        "token = tok_tbl[receiver]\n",
        "line.notify_message(message, token)"
      ],
      "metadata": {
        "id": "Jtw7QfKuprt1",
        "cellView": "form"
      },
      "execution_count": null,
      "outputs": []
    },
    {
      "cell_type": "code",
      "source": [
        "tok_tbl = {\n",
        "    '阿寬': 'ACCESS TOKEN 1',\n",
        "    '區塊鏈': 'ACCESS TOKEN 2',\n",
        "    '股之呼吸': 'ACCESS TOKEN 3',\n",
        "    'MiniGroup': 'ACCESS TOKEN 4',\n",
        "}"
      ],
      "metadata": {
        "id": "1CNz3wlfR_Dy"
      },
      "execution_count": null,
      "outputs": []
    },
    {
      "cell_type": "markdown",
      "source": [
        "### References\n",
        "* [news_clip.ipynb (from GitHub)](https://colab.research.google.com/github/YorkJong/news-digest/blob/main/notebooks/news_clip.ipynb)\n",
        "* [LINE Notify ::My page](https://notify-bot.line.me/my/)"
      ],
      "metadata": {
        "id": "l9kvYn67Zue4"
      }
    }
  ]
}