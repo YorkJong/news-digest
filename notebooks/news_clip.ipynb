{
  "nbformat": 4,
  "nbformat_minor": 0,
  "metadata": {
    "colab": {
      "provenance": [],
      "collapsed_sections": [
        "lGmIv-dHZnVz"
      ],
      "authorship_tag": "ABX9TyNOtRmH5yomZBUClvG0iFEe",
      "include_colab_link": true
    },
    "kernelspec": {
      "name": "python3",
      "display_name": "Python 3"
    },
    "language_info": {
      "name": "python"
    },
    "widgets": {
      "application/vnd.jupyter.widget-state+json": {
        "c10af118e5844b038577ade3010d3819": {
          "model_module": "@jupyter-widgets/controls",
          "model_name": "HBoxModel",
          "model_module_version": "1.5.0",
          "state": {
            "_dom_classes": [],
            "_model_module": "@jupyter-widgets/controls",
            "_model_module_version": "1.5.0",
            "_model_name": "HBoxModel",
            "_view_count": null,
            "_view_module": "@jupyter-widgets/controls",
            "_view_module_version": "1.5.0",
            "_view_name": "HBoxView",
            "box_style": "",
            "children": [
              "IPY_MODEL_3beed339cb014b9a874990decc91d89a",
              "IPY_MODEL_ad0c4463c418483fb5307fa92b092d3b"
            ],
            "layout": "IPY_MODEL_ba6bd272b2074151b3e3797cd22a8970"
          }
        },
        "3beed339cb014b9a874990decc91d89a": {
          "model_module": "@jupyter-widgets/controls",
          "model_name": "SelectMultipleModel",
          "model_module_version": "1.5.0",
          "state": {
            "_dom_classes": [],
            "_model_module": "@jupyter-widgets/controls",
            "_model_module_version": "1.5.0",
            "_model_name": "SelectMultipleModel",
            "_options_labels": [
              "Tesla & SpaceX; Vehicle",
              "Tech Titans",
              "Finance",
              "Taiwan",
              "Crypto",
              "Technology",
              "AI"
            ],
            "_view_count": null,
            "_view_module": "@jupyter-widgets/controls",
            "_view_module_version": "1.5.0",
            "_view_name": "SelectMultipleView",
            "description": "Categories",
            "description_tooltip": null,
            "disabled": false,
            "index": [
              0
            ],
            "layout": "IPY_MODEL_6f36c07314af432fadef7c37f207c68a",
            "rows": 7,
            "style": "IPY_MODEL_5749fbd44608487b8f2446a24100fabd"
          }
        },
        "ad0c4463c418483fb5307fa92b092d3b": {
          "model_module": "@jupyter-widgets/controls",
          "model_name": "VBoxModel",
          "model_module_version": "1.5.0",
          "state": {
            "_dom_classes": [],
            "_model_module": "@jupyter-widgets/controls",
            "_model_module_version": "1.5.0",
            "_model_name": "VBoxModel",
            "_view_count": null,
            "_view_module": "@jupyter-widgets/controls",
            "_view_module_version": "1.5.0",
            "_view_name": "VBoxView",
            "box_style": "",
            "children": [
              "IPY_MODEL_53d279add777421fb84bdac62899980c",
              "IPY_MODEL_cac41686be8d48cbba79d2e6160d20cf"
            ],
            "layout": "IPY_MODEL_13495292262949b597003ed8243abe50"
          }
        },
        "ba6bd272b2074151b3e3797cd22a8970": {
          "model_module": "@jupyter-widgets/base",
          "model_name": "LayoutModel",
          "model_module_version": "1.2.0",
          "state": {
            "_model_module": "@jupyter-widgets/base",
            "_model_module_version": "1.2.0",
            "_model_name": "LayoutModel",
            "_view_count": null,
            "_view_module": "@jupyter-widgets/base",
            "_view_module_version": "1.2.0",
            "_view_name": "LayoutView",
            "align_content": null,
            "align_items": null,
            "align_self": null,
            "border": null,
            "bottom": null,
            "display": null,
            "flex": null,
            "flex_flow": null,
            "grid_area": null,
            "grid_auto_columns": null,
            "grid_auto_flow": null,
            "grid_auto_rows": null,
            "grid_column": null,
            "grid_gap": null,
            "grid_row": null,
            "grid_template_areas": null,
            "grid_template_columns": null,
            "grid_template_rows": null,
            "height": null,
            "justify_content": null,
            "justify_items": null,
            "left": null,
            "margin": null,
            "max_height": null,
            "max_width": null,
            "min_height": null,
            "min_width": null,
            "object_fit": null,
            "object_position": null,
            "order": null,
            "overflow": null,
            "overflow_x": null,
            "overflow_y": null,
            "padding": null,
            "right": null,
            "top": null,
            "visibility": null,
            "width": null
          }
        },
        "6f36c07314af432fadef7c37f207c68a": {
          "model_module": "@jupyter-widgets/base",
          "model_name": "LayoutModel",
          "model_module_version": "1.2.0",
          "state": {
            "_model_module": "@jupyter-widgets/base",
            "_model_module_version": "1.2.0",
            "_model_name": "LayoutModel",
            "_view_count": null,
            "_view_module": "@jupyter-widgets/base",
            "_view_module_version": "1.2.0",
            "_view_name": "LayoutView",
            "align_content": null,
            "align_items": null,
            "align_self": null,
            "border": null,
            "bottom": null,
            "display": null,
            "flex": null,
            "flex_flow": null,
            "grid_area": null,
            "grid_auto_columns": null,
            "grid_auto_flow": null,
            "grid_auto_rows": null,
            "grid_column": null,
            "grid_gap": null,
            "grid_row": null,
            "grid_template_areas": null,
            "grid_template_columns": null,
            "grid_template_rows": null,
            "height": null,
            "justify_content": null,
            "justify_items": null,
            "left": null,
            "margin": null,
            "max_height": null,
            "max_width": null,
            "min_height": null,
            "min_width": null,
            "object_fit": null,
            "object_position": null,
            "order": null,
            "overflow": null,
            "overflow_x": null,
            "overflow_y": null,
            "padding": null,
            "right": null,
            "top": null,
            "visibility": null,
            "width": null
          }
        },
        "5749fbd44608487b8f2446a24100fabd": {
          "model_module": "@jupyter-widgets/controls",
          "model_name": "DescriptionStyleModel",
          "model_module_version": "1.5.0",
          "state": {
            "_model_module": "@jupyter-widgets/controls",
            "_model_module_version": "1.5.0",
            "_model_name": "DescriptionStyleModel",
            "_view_count": null,
            "_view_module": "@jupyter-widgets/base",
            "_view_module_version": "1.2.0",
            "_view_name": "StyleView",
            "description_width": ""
          }
        },
        "53d279add777421fb84bdac62899980c": {
          "model_module": "@jupyter-widgets/controls",
          "model_name": "CheckboxModel",
          "model_module_version": "1.5.0",
          "state": {
            "_dom_classes": [],
            "_model_module": "@jupyter-widgets/controls",
            "_model_module_version": "1.5.0",
            "_model_name": "CheckboxModel",
            "_view_count": null,
            "_view_module": "@jupyter-widgets/controls",
            "_view_module_version": "1.5.0",
            "_view_name": "CheckboxView",
            "description": "with hashtags",
            "description_tooltip": null,
            "disabled": false,
            "indent": true,
            "layout": "IPY_MODEL_c0f9276045b140bb85ce8166aa5b5359",
            "style": "IPY_MODEL_6a1b565fdb734ac097dac3640cb007b5",
            "value": true
          }
        },
        "cac41686be8d48cbba79d2e6160d20cf": {
          "model_module": "@jupyter-widgets/controls",
          "model_name": "CheckboxModel",
          "model_module_version": "1.5.0",
          "state": {
            "_dom_classes": [],
            "_model_module": "@jupyter-widgets/controls",
            "_model_module_version": "1.5.0",
            "_model_name": "CheckboxModel",
            "_view_count": null,
            "_view_module": "@jupyter-widgets/controls",
            "_view_module_version": "1.5.0",
            "_view_name": "CheckboxView",
            "description": "with headers",
            "description_tooltip": null,
            "disabled": false,
            "indent": true,
            "layout": "IPY_MODEL_f80e3f039f6f43b0ac66842cb155f359",
            "style": "IPY_MODEL_bf73ced71d494cfa8badf2c305b0f5e7",
            "value": true
          }
        },
        "13495292262949b597003ed8243abe50": {
          "model_module": "@jupyter-widgets/base",
          "model_name": "LayoutModel",
          "model_module_version": "1.2.0",
          "state": {
            "_model_module": "@jupyter-widgets/base",
            "_model_module_version": "1.2.0",
            "_model_name": "LayoutModel",
            "_view_count": null,
            "_view_module": "@jupyter-widgets/base",
            "_view_module_version": "1.2.0",
            "_view_name": "LayoutView",
            "align_content": null,
            "align_items": null,
            "align_self": null,
            "border": null,
            "bottom": null,
            "display": null,
            "flex": null,
            "flex_flow": null,
            "grid_area": null,
            "grid_auto_columns": null,
            "grid_auto_flow": null,
            "grid_auto_rows": null,
            "grid_column": null,
            "grid_gap": null,
            "grid_row": null,
            "grid_template_areas": null,
            "grid_template_columns": null,
            "grid_template_rows": null,
            "height": null,
            "justify_content": null,
            "justify_items": null,
            "left": null,
            "margin": null,
            "max_height": null,
            "max_width": null,
            "min_height": null,
            "min_width": null,
            "object_fit": null,
            "object_position": null,
            "order": null,
            "overflow": null,
            "overflow_x": null,
            "overflow_y": null,
            "padding": null,
            "right": null,
            "top": null,
            "visibility": null,
            "width": null
          }
        },
        "c0f9276045b140bb85ce8166aa5b5359": {
          "model_module": "@jupyter-widgets/base",
          "model_name": "LayoutModel",
          "model_module_version": "1.2.0",
          "state": {
            "_model_module": "@jupyter-widgets/base",
            "_model_module_version": "1.2.0",
            "_model_name": "LayoutModel",
            "_view_count": null,
            "_view_module": "@jupyter-widgets/base",
            "_view_module_version": "1.2.0",
            "_view_name": "LayoutView",
            "align_content": null,
            "align_items": null,
            "align_self": null,
            "border": null,
            "bottom": null,
            "display": null,
            "flex": null,
            "flex_flow": null,
            "grid_area": null,
            "grid_auto_columns": null,
            "grid_auto_flow": null,
            "grid_auto_rows": null,
            "grid_column": null,
            "grid_gap": null,
            "grid_row": null,
            "grid_template_areas": null,
            "grid_template_columns": null,
            "grid_template_rows": null,
            "height": null,
            "justify_content": null,
            "justify_items": null,
            "left": null,
            "margin": null,
            "max_height": null,
            "max_width": null,
            "min_height": null,
            "min_width": null,
            "object_fit": null,
            "object_position": null,
            "order": null,
            "overflow": null,
            "overflow_x": null,
            "overflow_y": null,
            "padding": null,
            "right": null,
            "top": null,
            "visibility": null,
            "width": null
          }
        },
        "6a1b565fdb734ac097dac3640cb007b5": {
          "model_module": "@jupyter-widgets/controls",
          "model_name": "DescriptionStyleModel",
          "model_module_version": "1.5.0",
          "state": {
            "_model_module": "@jupyter-widgets/controls",
            "_model_module_version": "1.5.0",
            "_model_name": "DescriptionStyleModel",
            "_view_count": null,
            "_view_module": "@jupyter-widgets/base",
            "_view_module_version": "1.2.0",
            "_view_name": "StyleView",
            "description_width": ""
          }
        },
        "f80e3f039f6f43b0ac66842cb155f359": {
          "model_module": "@jupyter-widgets/base",
          "model_name": "LayoutModel",
          "model_module_version": "1.2.0",
          "state": {
            "_model_module": "@jupyter-widgets/base",
            "_model_module_version": "1.2.0",
            "_model_name": "LayoutModel",
            "_view_count": null,
            "_view_module": "@jupyter-widgets/base",
            "_view_module_version": "1.2.0",
            "_view_name": "LayoutView",
            "align_content": null,
            "align_items": null,
            "align_self": null,
            "border": null,
            "bottom": null,
            "display": null,
            "flex": null,
            "flex_flow": null,
            "grid_area": null,
            "grid_auto_columns": null,
            "grid_auto_flow": null,
            "grid_auto_rows": null,
            "grid_column": null,
            "grid_gap": null,
            "grid_row": null,
            "grid_template_areas": null,
            "grid_template_columns": null,
            "grid_template_rows": null,
            "height": null,
            "justify_content": null,
            "justify_items": null,
            "left": null,
            "margin": null,
            "max_height": null,
            "max_width": null,
            "min_height": null,
            "min_width": null,
            "object_fit": null,
            "object_position": null,
            "order": null,
            "overflow": null,
            "overflow_x": null,
            "overflow_y": null,
            "padding": null,
            "right": null,
            "top": null,
            "visibility": null,
            "width": null
          }
        },
        "bf73ced71d494cfa8badf2c305b0f5e7": {
          "model_module": "@jupyter-widgets/controls",
          "model_name": "DescriptionStyleModel",
          "model_module_version": "1.5.0",
          "state": {
            "_model_module": "@jupyter-widgets/controls",
            "_model_module_version": "1.5.0",
            "_model_name": "DescriptionStyleModel",
            "_view_count": null,
            "_view_module": "@jupyter-widgets/base",
            "_view_module_version": "1.2.0",
            "_view_name": "StyleView",
            "description_width": ""
          }
        }
      }
    }
  },
  "cells": [
    {
      "cell_type": "markdown",
      "metadata": {
        "id": "view-in-github",
        "colab_type": "text"
      },
      "source": [
        "<a href=\"https://colab.research.google.com/github/YorkJong/news-digest/blob/main/notebooks/news_clip.ipynb\" target=\"_parent\"><img src=\"https://colab.research.google.com/assets/colab-badge.svg\" alt=\"Open In Colab\"/></a>"
      ]
    },
    {
      "cell_type": "markdown",
      "source": [
        "這支 notebook 是為了選取剪輯 news-digest 的部分新聞分類，以利後續轉貼\n",
        "執行步驟如下：\n",
        "1. 按下 Install 下那個 code cell 前面的 ► 按鈕來安裝 clip 模組.\n",
        "2. 根據需要，填表執行後面的 Forms 或 Widgets UI"
      ],
      "metadata": {
        "id": "qdoacSllvdm2"
      }
    },
    {
      "cell_type": "markdown",
      "source": [
        "### Install "
      ],
      "metadata": {
        "id": "74XGrOopRPIi"
      }
    },
    {
      "cell_type": "code",
      "source": [
        "!curl -o clip.py https://raw.githubusercontent.com/YorkJong/news-digest/main/src/clip.py\n",
        "from clip import *"
      ],
      "metadata": {
        "colab": {
          "base_uri": "https://localhost:8080/"
        },
        "id": "HhPa1e1tse76",
        "outputId": "81cf9450-c18a-4824-8fa5-8e430f0ae2d6"
      },
      "execution_count": 1,
      "outputs": [
        {
          "output_type": "stream",
          "name": "stdout",
          "text": [
            "  % Total    % Received % Xferd  Average Speed   Time    Time     Time  Current\n",
            "                                 Dload  Upload   Total   Spent    Left  Speed\n",
            "\r  0     0    0     0    0     0      0      0 --:--:-- --:--:-- --:--:--     0\r100  7719  100  7719    0     0  97708      0 --:--:-- --:--:-- --:--:-- 97708\n"
          ]
        }
      ]
    },
    {
      "cell_type": "markdown",
      "source": [
        "### Select Categories with the Colab Forms"
      ],
      "metadata": {
        "id": "jcbcKHfqSzyQ"
      }
    },
    {
      "cell_type": "code",
      "source": [
        "#@title Single Selection { run: \"auto\" }\n",
        "category = \"Crypto\" #@param [\"Tesla & SpaceX; Vehicle\", \"Tech Titans\", \"Finance\", \"Taiwan\", \"Crypto\", \"Technology\", \"AI\"] {allow-input: true}\n",
        "with_hashtags = False #@param {type:\"boolean\"}\n",
        "with_headers = False #@param {type:\"boolean\"}\n",
        "\n",
        "fn = get_latest_fn(\"journals\")\n",
        "content = get_file(fn)\n",
        "lines = get_lines_of_categories([category], content, with_hashtags, with_headers)\n",
        "text = '\\n'.join(lines)\n",
        "print(text)"
      ],
      "metadata": {
        "colab": {
          "base_uri": "https://localhost:8080/"
        },
        "cellView": "form",
        "id": "tGXYiHdUOgRp",
        "outputId": "0603c724-3062-42ea-bfd5-4fcd5b2363b6"
      },
      "execution_count": 6,
      "outputs": [
        {
          "output_type": "stream",
          "name": "stdout",
          "text": [
            "- [Raoul Pal：12个月内，标普、纳指都将创出新高，加密货币会更快！比特币这轮更像2013年，而非2019年！](https://www.youtube.com/watch?v=K0UU0WnyPW4)\n",
            "- [OpenAI創辦人項目》世界幣 Worldcoin 將向10億人空投？一覽世界級的Web3計畫](https://www.blocktempo.com/worldcoin-will-airdrop-to-the-1b-users-of-whole-world/)\n",
            "- [BTC漲破2.8萬，比特幣「礦工爽快回血」！收入暴增36%](https://www.blocktempo.com/bitcoin-rally-is-pure-gravy-for-miners-finally-seeing-a-light-at-the-end-of-the-tunnel/)\n",
            "- [比特幣100萬鎂賭局》Coinbase前CTO：我不是要賺錢！Fed瘋狂印鈔讓美元一文不值](https://www.blocktempo.com/former-coinbase-ctos-million-dollar-gamble/)\n",
            "- [經典虛擬寵物遊戲》Neopets Meta：轉生 Web3，宣布轉至 Polygon 鏈](https://www.blocktempo.com/neopets-metaverse-transition-from-web2-to-web3/)\n",
            "- [ChatGPT 檢查程式碼大失誤！Coinbase：多次忽略高風險BUG，無法取代人工](https://www.blocktempo.com/coinbae-publish-token-security-with-chatgpt/)\n",
            "-\n"
          ]
        }
      ]
    },
    {
      "cell_type": "code",
      "source": [
        "#@title Multiple Selections { run: \"auto\" }\n",
        "first_category = \"Tesla & SpaceX; Vehicle\" #@param [\"Tesla & SpaceX; Vehicle\", \"Tech Titans\", \"Finance\", \"Taiwan\", \"Crypto\", \"Technology\", \"AI\"] {allow-input: true}\n",
        "last_category = \"Finance\" #@param [\"Tesla & SpaceX; Vehicle\", \"Tech Titans\", \"Finance\", \"Taiwan\", \"Crypto\", \"Technology\", \"AI\"] {allow-input: true}\n",
        "with_hashtags = False #@param {type:\"boolean\"}\n",
        "with_headers = True #@param {type:\"boolean\"}\n",
        "\n",
        "fn = get_latest_fn(\"journals\")\n",
        "content = get_file(fn)\n",
        "categories = get_categories(content)\n",
        "categories = get_sublist(categories, first_category, last_category)\n",
        "lines = get_lines_of_categories(categories, content, with_hashtags, with_headers)\n",
        "text = '\\n'.join(lines)\n",
        "print(text)\n"
      ],
      "metadata": {
        "cellView": "form",
        "id": "QRwq2sNpi8c3",
        "colab": {
          "base_uri": "https://localhost:8080/"
        },
        "outputId": "f6da6d14-ca76-461d-906c-78964d8d69d9"
      },
      "execution_count": 2,
      "outputs": [
        {
          "output_type": "stream",
          "name": "stdout",
          "text": [
            "### Tesla & SpaceX; Vehicle\n",
            "- [「不需借光」，Tesla Powerwall家用儲能重新開放單買](https://www.digitimes.com.tw/tech/dt/n/shwnws.asp?cnlid=1&id=0000659463_ASL58FZN5IDRDA4LUB1LC)\n",
            "- [特斯拉獲穆迪充電　股價勁升8%直衝200美元關　評級升至投資級別](https://inews.hket.com/article/3487919/【TSLA】特斯拉獲穆迪充電%E3%80%80股價勁升8-直衝200美元關%E3%80%80評級升至投資級別)\n",
            "- [特斯拉(TSLA.US)Q1中國銷量或強勁：有望超10.69萬輛 作者 智通財經](https://m.hk.investing.com/news/stock-market-news/article-310687)\n",
            "- [工程師、設計師、CEO 和產品經理，誰會最先被AI取代？馬斯克這樣選](https://www.bnext.com.tw/article/74508/placed-by-ai-sit-which-first-with-musk-ans)\n",
            "- [降價助攻 特斯拉歐洲市占率攀升](https://www.chinatimes.com/amp/realtimenews/20230321005968-260410)\n",
            "- [Tesla快充模組含「地板」？建置效率極高！連美國總統拜登也稱讚](https://today.line.me/tw/v2/amp/article/VxWeY9B)\n",
            "- [AI晶片持續火爆 比亞迪也加入戰局](https://m.cnyes.com/news/id/5121294)\n",
            "- [補貼退場買氣驟減，中國電車龍頭比亞迪砍班減產](https://technews.tw/2023/03/22/byd-reduces-work-and-production/)\n",
            "- [Toyota氫能電動車Mirai將來台試運行　4月中旬智慧移動展首度亮相](https://tw.nextapple.com/gadget/20230322/62A4BA558BBDD7EFA8CCF1C2BFE97A99)\n",
            "-\n",
            "### Tech Titans\n",
            "- [閃美禁令 輝達推中國特供版H800 AI晶片](https://ctee.com.tw/news/china/829946.html)\n",
            "- [NVIDIA推出Jetson Orin Nano開發套件，大幅提升AI入門裝置效能](https://www.techbang.com/posts/104819-nvidia-jetson-orin-nano-kit)\n",
            "- [全球晶片營收TOP10 AMD超神勇](https://news.xfastest.com/others/125647/chip-top10/)\n",
            "- [搭輝達狂潮，Supermicro 推 AI 伺服器、股價飆天價](https://technews.tw/2023/03/22/supermicro-nvidia-hgx-h100-8-gpu/)\n",
            "- [AI「iPhone 時刻」後，NVIDIA 打開生成式模型「魔盒」](https://technews.tw/2023/03/22/nvidia-dgx-cloud/)\n",
            "- [輝達攜手甲骨文等雲端供應商 推廣人工智慧技術](https://news.cnyes.com/news/id/5121651)\n",
            "- [NVIDIA 推出 6 款 Ada Lovelace 架構 GPU，包含 RTX 4000 SFF 專業繪圖卡](https://benchlife.info/nvidia-introduce-more-ada-lovelace-gpu-for-mobile-workstation/)\n",
            "- [ARK 抓住 ChatGPT 熱潮，首次主動敲進微軟](https://technews.tw/2023/03/22/cathie-wood-catches-up-with-the-chatgpt-craze-as-arks-internet-fund-snaps-up-microsoft-stock-for-the-1st-time/)\n",
            "- [Google Bard 終於開放大眾排隊試用，你也排了嗎？](https://www.kocpc.com.tw/archives/485191)\n",
            "- [Google以有惡意程式為由禁中國團購App拼多多](https://www.ithome.com.tw/news/156029)\n",
            "- [花了 100 多億美元建 AI 模型，微軟又豪擲數億美元投資專用硬體](https://technews.tw/2023/03/22/microsoft-details-its-chatgpt-hardware-investments/)\n",
            "- [Intel 執行長 Pat Gelsinger 確認 Raja Koduri 確定 3 月底離開](https://benchlife.info/raja-koduri-will-quit-intel-after-6-year-with-intel-graphics/)\n",
            "-\n",
            "### Finance\n",
            "- [軋空再現？美股GME盤後飆漲50％！GameStop：睽違2年首度「轉虧為盈」](https://www.blocktempo.com/gamestop-stock-soars-after-posts-first-quarterly-profit-in-two-years/)\n",
            "- [暴风雨前的平静！明日美联储FOMC重点！140年历史里的9次银行挤兑的经验！](https://www.youtube.com/watch?v=crC548BVdMg)\n",
            "- [彭博：美研究將FDIC保險暫時擴大至所有銀行存款](https://m.cnyes.com/news/id/5117568)\n",
            "- [美參眾兩院下周召開聽證會 討論SVB、Signature Bank倒閉事件](https://m.cnyes.com/news/id/5121672)\n",
            "- [美財長葉倫：若有必要 政府將提供更多存款擔保](https://news.cnyes.com/news/id/5121480)\n",
            "-\n"
          ]
        }
      ]
    },
    {
      "cell_type": "markdown",
      "source": [
        "### Select multiple categories with Jupyter Widgets"
      ],
      "metadata": {
        "id": "bHZpE5gJsacz"
      }
    },
    {
      "cell_type": "code",
      "source": [
        "import ipywidgets as widgets\n",
        "\n",
        "fn = get_latest_fn(\"journals\")\n",
        "content = get_file(fn)\n",
        "options = get_categories(content)\n",
        "\n",
        "categories = widgets.SelectMultiple(\n",
        "    options=options,\n",
        "    value=[options[0]],\n",
        "    rows=len(options),\n",
        "    description='Categories',\n",
        "    disabled=False\n",
        ")\n",
        "\n",
        "with_hashtags = widgets.Checkbox(\n",
        "    value=True,\n",
        "    description='with hashtags',\n",
        "    disabled=False\n",
        ")\n",
        "\n",
        "with_headers = widgets.Checkbox(\n",
        "    value=True,\n",
        "    description='with headers',\n",
        "    disabled=False\n",
        ")\n",
        "\n",
        "flags = widgets.VBox([with_hashtags, with_headers])\n",
        "widgets.HBox([categories, flags])"
      ],
      "metadata": {
        "colab": {
          "base_uri": "https://localhost:8080/",
          "height": 144,
          "referenced_widgets": [
            "c10af118e5844b038577ade3010d3819",
            "3beed339cb014b9a874990decc91d89a",
            "ad0c4463c418483fb5307fa92b092d3b",
            "ba6bd272b2074151b3e3797cd22a8970",
            "6f36c07314af432fadef7c37f207c68a",
            "5749fbd44608487b8f2446a24100fabd",
            "53d279add777421fb84bdac62899980c",
            "cac41686be8d48cbba79d2e6160d20cf",
            "13495292262949b597003ed8243abe50",
            "c0f9276045b140bb85ce8166aa5b5359",
            "6a1b565fdb734ac097dac3640cb007b5",
            "f80e3f039f6f43b0ac66842cb155f359",
            "bf73ced71d494cfa8badf2c305b0f5e7"
          ]
        },
        "id": "g-Q0ReLBmyPy",
        "outputId": "e6d56ff0-2da3-4ca9-af6a-bb39cefcc246"
      },
      "execution_count": 6,
      "outputs": [
        {
          "output_type": "display_data",
          "data": {
            "text/plain": [
              "HBox(children=(SelectMultiple(description='Categories', index=(0,), options=('Tesla & SpaceX; Vehicle', 'Tech …"
            ],
            "application/vnd.jupyter.widget-view+json": {
              "version_major": 2,
              "version_minor": 0,
              "model_id": "c10af118e5844b038577ade3010d3819"
            }
          },
          "metadata": {}
        }
      ]
    },
    {
      "cell_type": "code",
      "source": [
        "lines = get_lines_of_categories(categories.value, content, with_hashtags.value, with_headers.value)\n",
        "text = '\\n'.join(lines) \n",
        "print(text)"
      ],
      "metadata": {
        "id": "xczHHjuqp16i",
        "colab": {
          "base_uri": "https://localhost:8080/"
        },
        "outputId": "19039dd9-ee53-48bd-ea90-48b69ed7d2ad"
      },
      "execution_count": 7,
      "outputs": [
        {
          "output_type": "stream",
          "name": "stdout",
          "text": [
            "### Tesla & SpaceX; Vehicle\n",
            "- [「不需借光」，Tesla Powerwall家用儲能重新開放單買](https://www.digitimes.com.tw/tech/dt/n/shwnws.asp?cnlid=1&id=0000659463_ASL58FZN5IDRDA4LUB1LC) #TSLA #energy\n",
            "- [特斯拉獲穆迪充電　股價勁升8%直衝200美元關　評級升至投資級別](https://inews.hket.com/article/3487919/【TSLA】特斯拉獲穆迪充電%E3%80%80股價勁升8-直衝200美元關%E3%80%80評級升至投資級別) #TSLA #CreditRating\n",
            "- [特斯拉(TSLA.US)Q1中國銷量或強勁：有望超10.69萬輛 作者 智通財經](https://m.hk.investing.com/news/stock-market-news/article-310687) #TSLA #EV\n",
            "- [工程師、設計師、CEO 和產品經理，誰會最先被AI取代？馬斯克這樣選](https://www.bnext.com.tw/article/74508/placed-by-ai-sit-which-first-with-musk-ans) #AI #work\n",
            "- [降價助攻 特斯拉歐洲市占率攀升](https://www.chinatimes.com/amp/realtimenews/20230321005968-260410) #TSLA #EV\n",
            "- [Tesla快充模組含「地板」？建置效率極高！連美國總統拜登也稱讚](https://today.line.me/tw/v2/amp/article/VxWeY9B) #TSLA #EV\n",
            "- [AI晶片持續火爆 比亞迪也加入戰局](https://m.cnyes.com/news/id/5121294) #BYD #AI #EV\n",
            "- [補貼退場買氣驟減，中國電車龍頭比亞迪砍班減產](https://technews.tw/2023/03/22/byd-reduces-work-and-production/) #BYD #EV #China\n",
            "- [Toyota氫能電動車Mirai將來台試運行　4月中旬智慧移動展首度亮相](https://tw.nextapple.com/gadget/20230322/62A4BA558BBDD7EFA8CCF1C2BFE97A99) #FCEV #EV #Toyota\n",
            "-\n"
          ]
        }
      ]
    },
    {
      "cell_type": "markdown",
      "source": [
        "### Line Notify"
      ],
      "metadata": {
        "id": "4P6ZR3eAxnmm"
      }
    },
    {
      "cell_type": "code",
      "source": [
        "message = f'\\n\\n{text}'\n",
        "\n",
        "token = 'YOUR LINE ACCESS TOKEN'\n",
        "send_to_line_notify(message, token)"
      ],
      "metadata": {
        "id": "Jtw7QfKuprt1"
      },
      "execution_count": 3,
      "outputs": []
    },
    {
      "cell_type": "code",
      "source": [],
      "metadata": {
        "id": "y-IIK_I_8y7F"
      },
      "execution_count": null,
      "outputs": []
    }
  ]
}