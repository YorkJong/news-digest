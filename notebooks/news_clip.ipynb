{
  "nbformat": 4,
  "nbformat_minor": 0,
  "metadata": {
    "colab": {
      "provenance": [],
      "collapsed_sections": [
        "lGmIv-dHZnVz"
      ],
      "authorship_tag": "ABX9TyPI1AUacjeRcDUIOog1ynsw",
      "include_colab_link": true
    },
    "kernelspec": {
      "name": "python3",
      "display_name": "Python 3"
    },
    "language_info": {
      "name": "python"
    }
  },
  "cells": [
    {
      "cell_type": "markdown",
      "metadata": {
        "id": "view-in-github",
        "colab_type": "text"
      },
      "source": [
        "<a href=\"https://colab.research.google.com/github/YorkJong/news-digest/blob/main/notebooks/news_clip.ipynb\" target=\"_parent\"><img src=\"https://colab.research.google.com/assets/colab-badge.svg\" alt=\"Open In Colab\"/></a>"
      ]
    },
    {
      "cell_type": "markdown",
      "source": [
        "這支 notebook 是為了選取剪輯 news-digest 的部分新聞分類，以利後續轉貼\n",
        "執行步驟如下：\n",
        "1. 執行 Functions\n",
        "2. 根據需要，填表執行後面的兩個 Forms"
      ],
      "metadata": {
        "id": "qdoacSllvdm2"
      }
    },
    {
      "cell_type": "markdown",
      "source": [
        "### Functions"
      ],
      "metadata": {
        "id": "74XGrOopRPIi"
      }
    },
    {
      "cell_type": "code",
      "execution_count": 10,
      "metadata": {
        "id": "J8HfaDLDOAS0"
      },
      "outputs": [],
      "source": [
        "import requests\n",
        "import re\n",
        "\n",
        "\n",
        "# Assign GitHub repository and path of \"journals\" folder\n",
        "repo = \"YorkJong/news-digest\"\n",
        "path = \"journals\"\n",
        "\n",
        "def get_latest_fn(path):\n",
        "    '''Returns the filename of latest date.\n",
        "    '''\n",
        "    api_url = f\"https://api.github.com/repos/{repo}/contents/{path}\"\n",
        "\n",
        "    # Request to the GitHub API to get all the archives under the journal folder\n",
        "    response = requests.get(api_url)\n",
        "    if response.status_code == 200:\n",
        "        content = response.json()\n",
        "        pattern = r'^\\d{4}_\\d{2}_\\d{2}\\.md$'\n",
        "        date_list = [f['name'] for f in content if re.match(pattern, f['name'])]\n",
        "    \n",
        "        # Find the filename with the latest date\n",
        "        latest_date = max(date_list)\n",
        "        #latest_date = sorted(date_list)[-1]\n",
        "        return latest_date\n",
        "    else:\n",
        "        print(f\"Error {response.status_code}: {response.reason}\")\n",
        "        return \"\"\n",
        "\n",
        "\n",
        "def get_file(fn):\n",
        "    '''Returns a file content of the news-digest site.\n",
        "    '''\n",
        "    file_url = f\"https://raw.githubusercontent.com/{repo}/main/{path}/{fn}\"\n",
        "\n",
        "    response = requests.get(file_url)\n",
        "    if response.status_code == 200:\n",
        "        return response.content.decode('utf-8')\n",
        "    else:\n",
        "        print(f\"Error {response.status_code}: {response.reason}\")\n",
        "    return \"\"\n",
        "\n",
        "\n",
        "def get_categories(content):\n",
        "    '''Returns category names of the content of news-digest.\n",
        "    '''\n",
        "    lines = content.split('\\n')\n",
        "    categorys = []\n",
        "    tag = '### '\n",
        "    for line in lines:\n",
        "        if line.startswith(tag):\n",
        "            categorys += [line[len(tag):]]\n",
        "    return categorys\n",
        "\n",
        "\n",
        "def get_links_of_category(kind_name, content, remove_hashtags=True):\n",
        "    '''Returns links of given kind.\n",
        "    '''\n",
        "    text = content\n",
        "\n",
        "    header = kind_name\n",
        "    if not header.startswith(\"### \"):\n",
        "        header = f'### {header}'\n",
        "\n",
        "    # Remove hashtags after each link\n",
        "    if remove_hashtags:\n",
        "        lines = text.split('\\n')\n",
        "        lines = [re.sub(r'\\s*#\\[\\[\\S+\\]\\]', '', line) for line in lines]\n",
        "        lines = [re.sub(r'\\s*#[\\w/]+', '', line) for line in lines]\n",
        "        text = '\\n'.join(lines)\n",
        "        \n",
        "    trigger = False\n",
        "    lines = []\n",
        "    for line in text.split('\\n'):\n",
        "        if header in line:\n",
        "            trigger = True\n",
        "            continue\n",
        "        if line.startswith(\"###\"):\n",
        "            if trigger:\n",
        "                break\n",
        "        if trigger:\n",
        "            lines += [line]\n",
        "    return '\\n'.join(lines)\n",
        "\n",
        "\n",
        "def get_sublist(all, first, last):\n",
        "    '''Get a subset of a list of given range.\n",
        "    '''\n",
        "    ret = []\n",
        "    trigger = False\n",
        "    for item in all: \n",
        "        if item == first:\n",
        "            trigger = True\n",
        "        if trigger:\n",
        "            ret += [item]\n",
        "        if item == last:\n",
        "            break\n",
        "    return ret"
      ]
    },
    {
      "cell_type": "markdown",
      "source": [
        "### Form to list links of given category"
      ],
      "metadata": {
        "id": "jcbcKHfqSzyQ"
      }
    },
    {
      "cell_type": "code",
      "source": [
        "#@title  { run: \"auto\" }\n",
        "#@title  { run: \"auto\", vertical-output: true }\n",
        "#@title\n",
        "category = \"Tesla & SpaceX; Vehicle\" #@param [\"Tesla & SpaceX; Vehicle\", \"Tech Titans\", \"Finance\", \"Taiwan\", \"Crypto\", \"Technology\", \"AI\"] {allow-input: true}\n",
        "remove_hashtags = True #@param {type:\"boolean\"}\n",
        "\n",
        "fn = get_latest_fn(path)\n",
        "content = get_file(fn)\n",
        "\n",
        "lines = get_links_of_category(category, content, remove_hashtags)\n",
        "print(f'### {category}') \n",
        "print(lines)\n",
        "\n",
        "# Copy text to clipboard in Python using pandas module\n",
        "#import pandas as pd\n",
        "#df=pd.DataFrame(['Text to copy'])\n",
        "#df.to_clipboard(index=False, header=False)"
      ],
      "metadata": {
        "colab": {
          "base_uri": "https://localhost:8080/"
        },
        "cellView": "form",
        "id": "tGXYiHdUOgRp",
        "outputId": "8271fe72-1869-4772-8b0a-3091d1f146f0"
      },
      "execution_count": 12,
      "outputs": [
        {
          "output_type": "stream",
          "name": "stdout",
          "text": [
            "### Tesla & SpaceX; Vehicle\n",
            "- [豐田宣布引進Mirai氫能車！預告現身台灣智慧移動展-國內車訊|8891汽車](https://c.8891.com.tw/news/16578)\n",
            "- [賓士將砸數十億美元，投資電動車廠](https://technews.tw/2023/03/20/benz-to-spend-billions-investing-in-electric-car-factory/)\n",
            "- [麥拉倫切入電動車產業，但不是靠車子](https://finance.technews.tw/2023/03/20/mclaren-inverter-ev-industry/)\n",
            "-\n"
          ]
        }
      ]
    },
    {
      "cell_type": "code",
      "source": [
        "#@title  { run: \"auto\" }\n",
        "#@title  { run: \"auto\", vertical-output: true }\n",
        "#@title\n",
        "first_category = \"Tesla & SpaceX; Vehicle\" #@param [\"Tesla & SpaceX; Vehicle\", \"Tech Titans\", \"Finance\", \"Taiwan\", \"Crypto\", \"Technology\", \"AI\"] {allow-input: true}\n",
        "last_category = \"Finance\" #@param [\"Tesla & SpaceX; Vehicle\", \"Tech Titans\", \"Finance\", \"Taiwan\", \"Crypto\", \"Technology\", \"AI\"] {allow-input: true}\n",
        "remove_hashtags = True #@param {type:\"boolean\"}\n",
        "\n",
        "fn = get_latest_fn(path)\n",
        "content = get_file(fn)\n",
        "categories = get_categories(content)\n",
        "categories = get_sublist(categories, first_category, last_category)\n",
        "\n",
        "for category in categories:\n",
        "    lines = get_links_of_category(category, content, remove_hashtags)\n",
        "    print(f'### {category}') \n",
        "    print(lines)\n"
      ],
      "metadata": {
        "colab": {
          "base_uri": "https://localhost:8080/"
        },
        "cellView": "form",
        "id": "QRwq2sNpi8c3",
        "outputId": "c55f9775-9dfb-4abf-9725-dcc287d8b984"
      },
      "execution_count": 11,
      "outputs": [
        {
          "output_type": "stream",
          "name": "stdout",
          "text": [
            "### Tesla & SpaceX; Vehicle\n",
            "- [豐田宣布引進Mirai氫能車！預告現身台灣智慧移動展-國內車訊|8891汽車](https://c.8891.com.tw/news/16578)\n",
            "- [賓士將砸數十億美元，投資電動車廠](https://technews.tw/2023/03/20/benz-to-spend-billions-investing-in-electric-car-factory/)\n",
            "- [麥拉倫切入電動車產業，但不是靠車子](https://finance.technews.tw/2023/03/20/mclaren-inverter-ev-industry/)\n",
            "-\n",
            "### Tech Titans\n",
            "- [微軟Edge瀏覽器也推VSR影片增強技術，NV、AMD顯卡都能提升阿公級低解析度影片](https://www.techbang.com/posts/104435-microsoft-edge-rescues-low-definition-old-videos-and-becomes)\n",
            "- [內建加密貨幣交易功能，傳 Microsoft Edge 祕密測試加密錢包](https://technews.tw/2023/03/20/testing-a-built-in-crypto-wallet-in-microsoft-edge/)\n",
            "- [路透：微軟給歐盟的反壟斷補救措施僅針對雲端串流媒體競爭對手](https://m.cnyes.com/news/id/5117533)\n",
            "- [傳蘋果開發大型語言模型提升 Siri 體驗](https://technews.tw/2023/03/21/apple-is-reportedly-experimenting-with-language-generating-ai/)\n",
            "- [蘋果 CarPlay 危機將至？Google 布局已成](https://technews.tw/2023/03/21/apple-carplay-vs-google-android-automotive/)\n",
            "- [ChatGPT有多強？對手Google實測可以當「年薪500萬」工程師，Bard怎麼比拼？](https://www.bnext.com.tw/article/74494/google-testing-acing-new-nthe-pntl)\n",
            "- [Google 母公司員工連署五點訴求，要執行長妥善處理裁員問題](https://today.line.me/tw/v2/article/7N08wNm)\n",
            "- [Google 將不會為裁退員工追溯育兒假和病假](https://chinese.engadget.com/google-將不會為裁退員工追溯育兒假和病假-063054064.html)\n",
            "- [提升效率？祖克柏要公司高層轉個人貢獻者，不然就滾蛋](https://technews.tw/2023/03/21/mark-zuckerberg-3/)\n",
            "- [GIGABYTE：NVIDIA GeForce RTX 4060 將配置 8GB 記憶體](https://benchlife.info/gigabyte-confirm-geforce-rtx-4060-with-8gb-vram/)\n",
            "- [ChatGPT 尚未帶動需求？調查：資料中心續降溫](https://technews.tw/2023/03/21/chatgpt-data-center/)\n",
            "- [「文心一言」口碑逆轉，駕馭5大場景驚艷市場！百度股價反飆漲](https://www.bnext.com.tw/article/74490/ernie-bot-cn-min-turn-plus-)\n",
            "- [果不其然，百度「文心一言」不能談習近平、不能生六四圖片](https://www.inside.com.tw/article/31066-ChatGPT-AI-China)\n",
            "- [Amazon 將在「未來幾週內」再裁 9,000 人](https://chinese.engadget.com/amazon-will-lay-off-another-9000-employees-in-the-coming-weeks-010012598.html)\n",
            "-\n",
            "### Finance\n",
            "- [美國金融業吵著要糖！中小銀行聯盟要FDIC「給全部存款保險2年」避免擠兌爆發](https://www.blocktempo.com/us-midsize-banks-seek-fdic-insurance/)\n",
            "- [一夜崩盤 多次熔斷 股價腰斬 下一家破產的美國銀行？](https://news.cnyes.com/news/id/5117564)\n",
            "- [富爸爸預言全中！瑞信被收購、黃金突破2000鎂…再砲轟聯準會「通膨大騙子」](https://www.blocktempo.com/kiyosaki-warns-u-s-inflation-is-now-systemic/)\n",
            "- [銀行體系承壓 高盛：Fed本周將暫停升息](https://news.cnyes.com/news/id/5117507)\n",
            "- [FDIC將分拆矽谷銀行 尋求個別拍賣其私人銀行部門](https://news.cnyes.com/news/id/5117513)\n",
            "-\n"
          ]
        }
      ]
    },
    {
      "cell_type": "markdown",
      "source": [
        "### Test"
      ],
      "metadata": {
        "id": "lGmIv-dHZnVz"
      }
    },
    {
      "cell_type": "code",
      "source": [
        "get_sublist(list('abcdefg'), 'b', 'd')"
      ],
      "metadata": {
        "colab": {
          "base_uri": "https://localhost:8080/"
        },
        "id": "NHXLaDrynnMX",
        "outputId": "ca3b94c4-f4be-4ea6-e307-c67f6c3d3cc8"
      },
      "execution_count": 83,
      "outputs": [
        {
          "output_type": "execute_result",
          "data": {
            "text/plain": [
              "['b', 'c', 'd']"
            ]
          },
          "metadata": {},
          "execution_count": 83
        }
      ]
    },
    {
      "cell_type": "code",
      "source": [
        "fn = get_latest_fn(path)\n",
        "content = get_file(fn)\n",
        "print(get_categories(content)) "
      ],
      "metadata": {
        "colab": {
          "base_uri": "https://localhost:8080/"
        },
        "id": "I9Zrlfo9Zrim",
        "outputId": "41db9dad-05c4-4e7d-95ef-6bb4c56bf0ff"
      },
      "execution_count": 74,
      "outputs": [
        {
          "output_type": "stream",
          "name": "stdout",
          "text": [
            "['Tesla & SpaceX; Vehicle', ' Tech Titans', 'Finance', 'Taiwan', 'Crypto', 'Technology', 'AI']\n"
          ]
        }
      ]
    },
    {
      "cell_type": "code",
      "source": [
        "fn = get_latest_fn(path)\n",
        "print(fn)\n",
        "\n",
        "content = get_file(fn)\n",
        "print(content)"
      ],
      "metadata": {
        "id": "quRNN-5sOYit"
      },
      "execution_count": null,
      "outputs": []
    }
  ]
}