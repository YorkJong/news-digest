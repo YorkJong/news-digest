{
  "nbformat": 4,
  "nbformat_minor": 0,
  "metadata": {
    "colab": {
      "provenance": [],
      "collapsed_sections": [
        "74XGrOopRPIi",
        "gbBeXRwHm8gn"
      ],
      "cell_execution_strategy": "setup",
      "include_colab_link": true
    },
    "kernelspec": {
      "name": "python3",
      "display_name": "Python 3"
    },
    "language_info": {
      "name": "python"
    },
    "widgets": {
      "application/vnd.jupyter.widget-state+json": {
        "b3b6e71c80214ba7a98ca005cca84f8a": {
          "model_module": "@jupyter-widgets/controls",
          "model_name": "HBoxModel",
          "model_module_version": "1.5.0",
          "state": {
            "_dom_classes": [],
            "_model_module": "@jupyter-widgets/controls",
            "_model_module_version": "1.5.0",
            "_model_name": "HBoxModel",
            "_view_count": null,
            "_view_module": "@jupyter-widgets/controls",
            "_view_module_version": "1.5.0",
            "_view_name": "HBoxView",
            "box_style": "",
            "children": [
              "IPY_MODEL_4966cf8fa137478492b525f00de7ce17",
              "IPY_MODEL_607195d00a25405cbc55017c6d5c5b55"
            ],
            "layout": "IPY_MODEL_a2daafd9969b40f8a8bdf396544dbfb4"
          }
        },
        "4966cf8fa137478492b525f00de7ce17": {
          "model_module": "@jupyter-widgets/controls",
          "model_name": "VBoxModel",
          "model_module_version": "1.5.0",
          "state": {
            "_dom_classes": [],
            "_model_module": "@jupyter-widgets/controls",
            "_model_module_version": "1.5.0",
            "_model_name": "VBoxModel",
            "_view_count": null,
            "_view_module": "@jupyter-widgets/controls",
            "_view_module_version": "1.5.0",
            "_view_name": "VBoxView",
            "box_style": "",
            "children": [
              "IPY_MODEL_80cf9f5d5804441696f030b59f7de3df",
              "IPY_MODEL_3981e59ca64e47f09b8567746262523d"
            ],
            "layout": "IPY_MODEL_20ad1fb988494f4baa82d57e8ee299ac"
          }
        },
        "607195d00a25405cbc55017c6d5c5b55": {
          "model_module": "@jupyter-widgets/controls",
          "model_name": "VBoxModel",
          "model_module_version": "1.5.0",
          "state": {
            "_dom_classes": [],
            "_model_module": "@jupyter-widgets/controls",
            "_model_module_version": "1.5.0",
            "_model_name": "VBoxModel",
            "_view_count": null,
            "_view_module": "@jupyter-widgets/controls",
            "_view_module_version": "1.5.0",
            "_view_name": "VBoxView",
            "box_style": "",
            "children": [
              "IPY_MODEL_862f20cfc60448dab6c9884a4603da61",
              "IPY_MODEL_765cbc4e777c419fb0ab137f6773b6a2"
            ],
            "layout": "IPY_MODEL_580a5c427b004b7b8bc3d005249bda51"
          }
        },
        "a2daafd9969b40f8a8bdf396544dbfb4": {
          "model_module": "@jupyter-widgets/base",
          "model_name": "LayoutModel",
          "model_module_version": "1.2.0",
          "state": {
            "_model_module": "@jupyter-widgets/base",
            "_model_module_version": "1.2.0",
            "_model_name": "LayoutModel",
            "_view_count": null,
            "_view_module": "@jupyter-widgets/base",
            "_view_module_version": "1.2.0",
            "_view_name": "LayoutView",
            "align_content": null,
            "align_items": null,
            "align_self": null,
            "border": null,
            "bottom": null,
            "display": null,
            "flex": null,
            "flex_flow": null,
            "grid_area": null,
            "grid_auto_columns": null,
            "grid_auto_flow": null,
            "grid_auto_rows": null,
            "grid_column": null,
            "grid_gap": null,
            "grid_row": null,
            "grid_template_areas": null,
            "grid_template_columns": null,
            "grid_template_rows": null,
            "height": null,
            "justify_content": null,
            "justify_items": null,
            "left": null,
            "margin": null,
            "max_height": null,
            "max_width": null,
            "min_height": null,
            "min_width": null,
            "object_fit": null,
            "object_position": null,
            "order": null,
            "overflow": null,
            "overflow_x": null,
            "overflow_y": null,
            "padding": null,
            "right": null,
            "top": null,
            "visibility": null,
            "width": null
          }
        },
        "80cf9f5d5804441696f030b59f7de3df": {
          "model_module": "@jupyter-widgets/controls",
          "model_name": "DropdownModel",
          "model_module_version": "1.5.0",
          "state": {
            "_dom_classes": [],
            "_model_module": "@jupyter-widgets/controls",
            "_model_module_version": "1.5.0",
            "_model_name": "DropdownModel",
            "_options_labels": [
              "2024_08_14",
              "2024_08_13",
              "2024_08_12",
              "2024_08_11",
              "2024_08_09",
              "2024_08_08",
              "2024_08_07",
              "2024_08_06",
              "2024_08_05",
              "2024_08_02",
              "2024_08_01",
              "2024_07_31",
              "2024_07_30",
              "2024_07_29"
            ],
            "_view_count": null,
            "_view_module": "@jupyter-widgets/controls",
            "_view_module_version": "1.5.0",
            "_view_name": "DropdownView",
            "description": "Date",
            "description_tooltip": null,
            "disabled": false,
            "index": 0,
            "layout": "IPY_MODEL_f8576a75d2cb42d584f03421218df86e",
            "style": "IPY_MODEL_062ab93e6a154a1dbe7144a2f38305e9"
          }
        },
        "3981e59ca64e47f09b8567746262523d": {
          "model_module": "@jupyter-widgets/controls",
          "model_name": "SelectMultipleModel",
          "model_module_version": "1.5.0",
          "state": {
            "_dom_classes": [],
            "_model_module": "@jupyter-widgets/controls",
            "_model_module_version": "1.5.0",
            "_model_name": "SelectMultipleModel",
            "_options_labels": [
              "Tesla & SpaceX; Vehicle",
              "Tech Industry",
              "Finance",
              "Taiwan",
              "Crypto",
              "Health & Food",
              "Science & Technology",
              "IT"
            ],
            "_view_count": null,
            "_view_module": "@jupyter-widgets/controls",
            "_view_module_version": "1.5.0",
            "_view_name": "SelectMultipleView",
            "description": "Categories",
            "description_tooltip": null,
            "disabled": false,
            "index": [],
            "layout": "IPY_MODEL_23a6a81fb4734dd4800289fc19e6005e",
            "rows": 8,
            "style": "IPY_MODEL_6c192909267143fca0a831a5447438e8"
          }
        },
        "20ad1fb988494f4baa82d57e8ee299ac": {
          "model_module": "@jupyter-widgets/base",
          "model_name": "LayoutModel",
          "model_module_version": "1.2.0",
          "state": {
            "_model_module": "@jupyter-widgets/base",
            "_model_module_version": "1.2.0",
            "_model_name": "LayoutModel",
            "_view_count": null,
            "_view_module": "@jupyter-widgets/base",
            "_view_module_version": "1.2.0",
            "_view_name": "LayoutView",
            "align_content": null,
            "align_items": null,
            "align_self": null,
            "border": null,
            "bottom": null,
            "display": null,
            "flex": null,
            "flex_flow": null,
            "grid_area": null,
            "grid_auto_columns": null,
            "grid_auto_flow": null,
            "grid_auto_rows": null,
            "grid_column": null,
            "grid_gap": null,
            "grid_row": null,
            "grid_template_areas": null,
            "grid_template_columns": null,
            "grid_template_rows": null,
            "height": null,
            "justify_content": null,
            "justify_items": null,
            "left": null,
            "margin": null,
            "max_height": null,
            "max_width": null,
            "min_height": null,
            "min_width": null,
            "object_fit": null,
            "object_position": null,
            "order": null,
            "overflow": null,
            "overflow_x": null,
            "overflow_y": null,
            "padding": null,
            "right": null,
            "top": null,
            "visibility": null,
            "width": null
          }
        },
        "862f20cfc60448dab6c9884a4603da61": {
          "model_module": "@jupyter-widgets/controls",
          "model_name": "CheckboxModel",
          "model_module_version": "1.5.0",
          "state": {
            "_dom_classes": [],
            "_model_module": "@jupyter-widgets/controls",
            "_model_module_version": "1.5.0",
            "_model_name": "CheckboxModel",
            "_view_count": null,
            "_view_module": "@jupyter-widgets/controls",
            "_view_module_version": "1.5.0",
            "_view_name": "CheckboxView",
            "description": "show hashtags",
            "description_tooltip": null,
            "disabled": false,
            "indent": true,
            "layout": "IPY_MODEL_11d004d6d501440aaae9bd684c07ca27",
            "style": "IPY_MODEL_df32c242bfe34e0b874ad5dec9581a71",
            "value": true
          }
        },
        "765cbc4e777c419fb0ab137f6773b6a2": {
          "model_module": "@jupyter-widgets/controls",
          "model_name": "CheckboxModel",
          "model_module_version": "1.5.0",
          "state": {
            "_dom_classes": [],
            "_model_module": "@jupyter-widgets/controls",
            "_model_module_version": "1.5.0",
            "_model_name": "CheckboxModel",
            "_view_count": null,
            "_view_module": "@jupyter-widgets/controls",
            "_view_module_version": "1.5.0",
            "_view_name": "CheckboxView",
            "description": "show headings",
            "description_tooltip": null,
            "disabled": false,
            "indent": true,
            "layout": "IPY_MODEL_103b0e0ee941448088b698cb2adf5166",
            "style": "IPY_MODEL_3ce3e5be360d476497da51a33acffbfc",
            "value": true
          }
        },
        "580a5c427b004b7b8bc3d005249bda51": {
          "model_module": "@jupyter-widgets/base",
          "model_name": "LayoutModel",
          "model_module_version": "1.2.0",
          "state": {
            "_model_module": "@jupyter-widgets/base",
            "_model_module_version": "1.2.0",
            "_model_name": "LayoutModel",
            "_view_count": null,
            "_view_module": "@jupyter-widgets/base",
            "_view_module_version": "1.2.0",
            "_view_name": "LayoutView",
            "align_content": null,
            "align_items": null,
            "align_self": null,
            "border": null,
            "bottom": null,
            "display": null,
            "flex": null,
            "flex_flow": null,
            "grid_area": null,
            "grid_auto_columns": null,
            "grid_auto_flow": null,
            "grid_auto_rows": null,
            "grid_column": null,
            "grid_gap": null,
            "grid_row": null,
            "grid_template_areas": null,
            "grid_template_columns": null,
            "grid_template_rows": null,
            "height": null,
            "justify_content": null,
            "justify_items": null,
            "left": null,
            "margin": null,
            "max_height": null,
            "max_width": null,
            "min_height": null,
            "min_width": null,
            "object_fit": null,
            "object_position": null,
            "order": null,
            "overflow": null,
            "overflow_x": null,
            "overflow_y": null,
            "padding": null,
            "right": null,
            "top": null,
            "visibility": null,
            "width": null
          }
        },
        "f8576a75d2cb42d584f03421218df86e": {
          "model_module": "@jupyter-widgets/base",
          "model_name": "LayoutModel",
          "model_module_version": "1.2.0",
          "state": {
            "_model_module": "@jupyter-widgets/base",
            "_model_module_version": "1.2.0",
            "_model_name": "LayoutModel",
            "_view_count": null,
            "_view_module": "@jupyter-widgets/base",
            "_view_module_version": "1.2.0",
            "_view_name": "LayoutView",
            "align_content": null,
            "align_items": null,
            "align_self": null,
            "border": null,
            "bottom": null,
            "display": null,
            "flex": null,
            "flex_flow": null,
            "grid_area": null,
            "grid_auto_columns": null,
            "grid_auto_flow": null,
            "grid_auto_rows": null,
            "grid_column": null,
            "grid_gap": null,
            "grid_row": null,
            "grid_template_areas": null,
            "grid_template_columns": null,
            "grid_template_rows": null,
            "height": null,
            "justify_content": null,
            "justify_items": null,
            "left": null,
            "margin": null,
            "max_height": null,
            "max_width": null,
            "min_height": null,
            "min_width": null,
            "object_fit": null,
            "object_position": null,
            "order": null,
            "overflow": null,
            "overflow_x": null,
            "overflow_y": null,
            "padding": null,
            "right": null,
            "top": null,
            "visibility": null,
            "width": null
          }
        },
        "062ab93e6a154a1dbe7144a2f38305e9": {
          "model_module": "@jupyter-widgets/controls",
          "model_name": "DescriptionStyleModel",
          "model_module_version": "1.5.0",
          "state": {
            "_model_module": "@jupyter-widgets/controls",
            "_model_module_version": "1.5.0",
            "_model_name": "DescriptionStyleModel",
            "_view_count": null,
            "_view_module": "@jupyter-widgets/base",
            "_view_module_version": "1.2.0",
            "_view_name": "StyleView",
            "description_width": ""
          }
        },
        "23a6a81fb4734dd4800289fc19e6005e": {
          "model_module": "@jupyter-widgets/base",
          "model_name": "LayoutModel",
          "model_module_version": "1.2.0",
          "state": {
            "_model_module": "@jupyter-widgets/base",
            "_model_module_version": "1.2.0",
            "_model_name": "LayoutModel",
            "_view_count": null,
            "_view_module": "@jupyter-widgets/base",
            "_view_module_version": "1.2.0",
            "_view_name": "LayoutView",
            "align_content": null,
            "align_items": null,
            "align_self": null,
            "border": null,
            "bottom": null,
            "display": null,
            "flex": null,
            "flex_flow": null,
            "grid_area": null,
            "grid_auto_columns": null,
            "grid_auto_flow": null,
            "grid_auto_rows": null,
            "grid_column": null,
            "grid_gap": null,
            "grid_row": null,
            "grid_template_areas": null,
            "grid_template_columns": null,
            "grid_template_rows": null,
            "height": null,
            "justify_content": null,
            "justify_items": null,
            "left": null,
            "margin": null,
            "max_height": null,
            "max_width": null,
            "min_height": null,
            "min_width": null,
            "object_fit": null,
            "object_position": null,
            "order": null,
            "overflow": null,
            "overflow_x": null,
            "overflow_y": null,
            "padding": null,
            "right": null,
            "top": null,
            "visibility": null,
            "width": null
          }
        },
        "6c192909267143fca0a831a5447438e8": {
          "model_module": "@jupyter-widgets/controls",
          "model_name": "DescriptionStyleModel",
          "model_module_version": "1.5.0",
          "state": {
            "_model_module": "@jupyter-widgets/controls",
            "_model_module_version": "1.5.0",
            "_model_name": "DescriptionStyleModel",
            "_view_count": null,
            "_view_module": "@jupyter-widgets/base",
            "_view_module_version": "1.2.0",
            "_view_name": "StyleView",
            "description_width": ""
          }
        },
        "11d004d6d501440aaae9bd684c07ca27": {
          "model_module": "@jupyter-widgets/base",
          "model_name": "LayoutModel",
          "model_module_version": "1.2.0",
          "state": {
            "_model_module": "@jupyter-widgets/base",
            "_model_module_version": "1.2.0",
            "_model_name": "LayoutModel",
            "_view_count": null,
            "_view_module": "@jupyter-widgets/base",
            "_view_module_version": "1.2.0",
            "_view_name": "LayoutView",
            "align_content": null,
            "align_items": null,
            "align_self": null,
            "border": null,
            "bottom": null,
            "display": null,
            "flex": null,
            "flex_flow": null,
            "grid_area": null,
            "grid_auto_columns": null,
            "grid_auto_flow": null,
            "grid_auto_rows": null,
            "grid_column": null,
            "grid_gap": null,
            "grid_row": null,
            "grid_template_areas": null,
            "grid_template_columns": null,
            "grid_template_rows": null,
            "height": null,
            "justify_content": null,
            "justify_items": null,
            "left": null,
            "margin": null,
            "max_height": null,
            "max_width": null,
            "min_height": null,
            "min_width": null,
            "object_fit": null,
            "object_position": null,
            "order": null,
            "overflow": null,
            "overflow_x": null,
            "overflow_y": null,
            "padding": null,
            "right": null,
            "top": null,
            "visibility": null,
            "width": null
          }
        },
        "df32c242bfe34e0b874ad5dec9581a71": {
          "model_module": "@jupyter-widgets/controls",
          "model_name": "DescriptionStyleModel",
          "model_module_version": "1.5.0",
          "state": {
            "_model_module": "@jupyter-widgets/controls",
            "_model_module_version": "1.5.0",
            "_model_name": "DescriptionStyleModel",
            "_view_count": null,
            "_view_module": "@jupyter-widgets/base",
            "_view_module_version": "1.2.0",
            "_view_name": "StyleView",
            "description_width": ""
          }
        },
        "103b0e0ee941448088b698cb2adf5166": {
          "model_module": "@jupyter-widgets/base",
          "model_name": "LayoutModel",
          "model_module_version": "1.2.0",
          "state": {
            "_model_module": "@jupyter-widgets/base",
            "_model_module_version": "1.2.0",
            "_model_name": "LayoutModel",
            "_view_count": null,
            "_view_module": "@jupyter-widgets/base",
            "_view_module_version": "1.2.0",
            "_view_name": "LayoutView",
            "align_content": null,
            "align_items": null,
            "align_self": null,
            "border": null,
            "bottom": null,
            "display": null,
            "flex": null,
            "flex_flow": null,
            "grid_area": null,
            "grid_auto_columns": null,
            "grid_auto_flow": null,
            "grid_auto_rows": null,
            "grid_column": null,
            "grid_gap": null,
            "grid_row": null,
            "grid_template_areas": null,
            "grid_template_columns": null,
            "grid_template_rows": null,
            "height": null,
            "justify_content": null,
            "justify_items": null,
            "left": null,
            "margin": null,
            "max_height": null,
            "max_width": null,
            "min_height": null,
            "min_width": null,
            "object_fit": null,
            "object_position": null,
            "order": null,
            "overflow": null,
            "overflow_x": null,
            "overflow_y": null,
            "padding": null,
            "right": null,
            "top": null,
            "visibility": null,
            "width": null
          }
        },
        "3ce3e5be360d476497da51a33acffbfc": {
          "model_module": "@jupyter-widgets/controls",
          "model_name": "DescriptionStyleModel",
          "model_module_version": "1.5.0",
          "state": {
            "_model_module": "@jupyter-widgets/controls",
            "_model_module_version": "1.5.0",
            "_model_name": "DescriptionStyleModel",
            "_view_count": null,
            "_view_module": "@jupyter-widgets/base",
            "_view_module_version": "1.2.0",
            "_view_name": "StyleView",
            "description_width": ""
          }
        },
        "26686272eda2469499949cad2644cc52": {
          "model_module": "@jupyter-widgets/output",
          "model_name": "OutputModel",
          "model_module_version": "1.0.0",
          "state": {
            "_dom_classes": [],
            "_model_module": "@jupyter-widgets/output",
            "_model_module_version": "1.0.0",
            "_model_name": "OutputModel",
            "_view_count": null,
            "_view_module": "@jupyter-widgets/output",
            "_view_module_version": "1.0.0",
            "_view_name": "OutputView",
            "layout": "IPY_MODEL_271d136a0aa947fba87e27f94d7405fd",
            "msg_id": "",
            "outputs": []
          }
        },
        "271d136a0aa947fba87e27f94d7405fd": {
          "model_module": "@jupyter-widgets/base",
          "model_name": "LayoutModel",
          "model_module_version": "1.2.0",
          "state": {
            "_model_module": "@jupyter-widgets/base",
            "_model_module_version": "1.2.0",
            "_model_name": "LayoutModel",
            "_view_count": null,
            "_view_module": "@jupyter-widgets/base",
            "_view_module_version": "1.2.0",
            "_view_name": "LayoutView",
            "align_content": null,
            "align_items": null,
            "align_self": null,
            "border": null,
            "bottom": null,
            "display": null,
            "flex": null,
            "flex_flow": null,
            "grid_area": null,
            "grid_auto_columns": null,
            "grid_auto_flow": null,
            "grid_auto_rows": null,
            "grid_column": null,
            "grid_gap": null,
            "grid_row": null,
            "grid_template_areas": null,
            "grid_template_columns": null,
            "grid_template_rows": null,
            "height": null,
            "justify_content": null,
            "justify_items": null,
            "left": null,
            "margin": null,
            "max_height": null,
            "max_width": null,
            "min_height": null,
            "min_width": null,
            "object_fit": null,
            "object_position": null,
            "order": null,
            "overflow": null,
            "overflow_x": null,
            "overflow_y": null,
            "padding": null,
            "right": null,
            "top": null,
            "visibility": null,
            "width": null
          }
        }
      }
    }
  },
  "cells": [
    {
      "cell_type": "markdown",
      "metadata": {
        "id": "view-in-github",
        "colab_type": "text"
      },
      "source": [
        "<a href=\"https://colab.research.google.com/github/yorkjong/news-digest/blob/main/notebooks/news_clip.ipynb\" target=\"_parent\"><img src=\"https://colab.research.google.com/assets/colab-badge.svg\" alt=\"Open In Colab\"/></a>"
      ]
    },
    {
      "cell_type": "markdown",
      "source": [
        "這支 colab notebook 主要功能是\n",
        "- 剪輯 [news-digest](https://news-digest.vercel.app/) 網站當天（或選取日期）的新聞。\n",
        "- 只能根據新聞分類 (catetories) 剪輯。\n",
        "\n",
        "執行步驟如下：\n",
        "1. 按下 Install 下那個 code cell 前面的 ► 按鈕來安裝用到的模組\n",
        "2. 根據喜好，填表執行後面的 Jupyter Widgets UI 或 Colab Forms\n",
        "\n",
        "需要更細的檢索查詢，有如下兩個選擇\n",
        "- 直接在 [news-digest 網站](https://news-digest.vercel.app/)上搜尋或點選 hash-tags\n",
        "- 或者點擊 [news_query.ipynb](https://colab.research.google.com/github/yorkjong/news-digest/blob/main/notebooks/news_query.ipynb) 執行多條件檢索\n"
      ],
      "metadata": {
        "id": "qdoacSllvdm2"
      }
    },
    {
      "cell_type": "markdown",
      "source": [
        "### Install"
      ],
      "metadata": {
        "id": "74XGrOopRPIi"
      }
    },
    {
      "cell_type": "code",
      "source": [
        "import os\n",
        "\n",
        "fns = ['clip.py', 'op.py']\n",
        "\n",
        "for fn in fns:\n",
        "    if os.path.exists(fn):\n",
        "        os.remove(fn)\n",
        "for fn in fns:\n",
        "    url = f'https://raw.githubusercontent.com/yorkjong/news-digest/main/src/{fn}'\n",
        "    !wget $url\n",
        "\n",
        "import clip\n",
        "\n",
        "#-------------------------------------------------------------------------------\n",
        "\n",
        "import ipywidgets as widgets\n",
        "\n",
        "def create_ui():\n",
        "    fns = sorted(clip.get_recent_journal_filenames(14), reverse=True)\n",
        "    options = [f[:-3] for f in fns]\n",
        "    dates = widgets.Dropdown(\n",
        "        options=options,\n",
        "        value=options[0],\n",
        "        description='Date',\n",
        "        disabled=False,\n",
        "    )\n",
        "\n",
        "    content = clip.get_latest_journal()\n",
        "    options = clip.get_categories(content)\n",
        "    categories = widgets.SelectMultiple(\n",
        "        options=options,\n",
        "        #value=[options[0]],\n",
        "        rows=len(options),\n",
        "        description='Categories',\n",
        "        disabled=False,\n",
        "    )\n",
        "\n",
        "    with_hashtags = widgets.Checkbox(\n",
        "        value=True,\n",
        "        description='show hashtags',\n",
        "        disabled=False,\n",
        "    )\n",
        "\n",
        "    with_headings = widgets.Checkbox(\n",
        "        value=True,\n",
        "        description='show headings',\n",
        "        disabled=False,\n",
        "    )\n",
        "\n",
        "    vbox1 = widgets.VBox([dates, categories])\n",
        "    vbox2 = widgets.VBox([with_hashtags, with_headings])\n",
        "    output = widgets.Output()\n",
        "    display(widgets.HBox([vbox1, vbox2]), output)\n",
        "\n",
        "    def on_date_change(change):\n",
        "        nonlocal content\n",
        "        content = clip.get_journal(f'{dates.value}.md')\n",
        "        categories.options = clip.get_categories(content)\n",
        "\n",
        "    def on_value_change(change):\n",
        "        lines = clip.get_lines_of_categories(categories.value, content, with_hashtags.value, with_headings.value)\n",
        "        with output:\n",
        "            #print(change['new'])\n",
        "            output.clear_output()\n",
        "            print('\\n'.join(lines))\n",
        "\n",
        "    dates.observe(on_date_change, names='value')\n",
        "    categories.observe(on_value_change, names='value')\n",
        "    with_hashtags.observe(on_value_change, names='value')\n",
        "    with_headings.observe(on_value_change, names='value')"
      ],
      "metadata": {
        "id": "HhPa1e1tse76",
        "outputId": "9cdc42e2-7dfa-4099-a835-55166a21963c",
        "colab": {
          "base_uri": "https://localhost:8080/"
        }
      },
      "execution_count": 8,
      "outputs": [
        {
          "output_type": "stream",
          "name": "stdout",
          "text": [
            "--2024-08-14 16:57:32--  https://raw.githubusercontent.com/yorkjong/news-digest/main/src/clip.py\n",
            "Resolving raw.githubusercontent.com (raw.githubusercontent.com)... 185.199.109.133, 185.199.110.133, 185.199.108.133, ...\n",
            "Connecting to raw.githubusercontent.com (raw.githubusercontent.com)|185.199.109.133|:443... connected.\n",
            "HTTP request sent, awaiting response... 200 OK\n",
            "Length: 8936 (8.7K) [text/plain]\n",
            "Saving to: ‘clip.py’\n",
            "\n",
            "\rclip.py               0%[                    ]       0  --.-KB/s               \rclip.py             100%[===================>]   8.73K  --.-KB/s    in 0s      \n",
            "\n",
            "2024-08-14 16:57:32 (57.3 MB/s) - ‘clip.py’ saved [8936/8936]\n",
            "\n",
            "--2024-08-14 16:57:32--  https://raw.githubusercontent.com/yorkjong/news-digest/main/src/op.py\n",
            "Resolving raw.githubusercontent.com (raw.githubusercontent.com)... 185.199.110.133, 185.199.109.133, 185.199.111.133, ...\n",
            "Connecting to raw.githubusercontent.com (raw.githubusercontent.com)|185.199.110.133|:443... connected.\n",
            "HTTP request sent, awaiting response... 200 OK\n",
            "Length: 5171 (5.0K) [text/plain]\n",
            "Saving to: ‘op.py’\n",
            "\n",
            "op.py               100%[===================>]   5.05K  --.-KB/s    in 0s      \n",
            "\n",
            "2024-08-14 16:57:32 (47.9 MB/s) - ‘op.py’ saved [5171/5171]\n",
            "\n"
          ]
        }
      ]
    },
    {
      "cell_type": "markdown",
      "source": [
        "### Select categories with Jupyter Widgets\n",
        "- 按下面那個 code cell 前面的 ► 按鈕，以列出完整的分類(Catetories)選單\n",
        "- macOS 下操作可按Cmd後用滑鼠複選（Windows 系統則按下Ctrl鍵後以滑鼠複選）\n",
        "  - 全選可按 Cmd+A (macOS) 或者 Ctrl+A (Windows)"
      ],
      "metadata": {
        "id": "bHZpE5gJsacz"
      }
    },
    {
      "cell_type": "code",
      "source": [
        "create_ui()"
      ],
      "metadata": {
        "id": "z--kb0R3m6XF",
        "outputId": "52933113-6cda-4cf2-b976-4f2131034371",
        "colab": {
          "base_uri": "https://localhost:8080/",
          "height": 195,
          "referenced_widgets": [
            "b3b6e71c80214ba7a98ca005cca84f8a",
            "4966cf8fa137478492b525f00de7ce17",
            "607195d00a25405cbc55017c6d5c5b55",
            "a2daafd9969b40f8a8bdf396544dbfb4",
            "80cf9f5d5804441696f030b59f7de3df",
            "3981e59ca64e47f09b8567746262523d",
            "20ad1fb988494f4baa82d57e8ee299ac",
            "862f20cfc60448dab6c9884a4603da61",
            "765cbc4e777c419fb0ab137f6773b6a2",
            "580a5c427b004b7b8bc3d005249bda51",
            "f8576a75d2cb42d584f03421218df86e",
            "062ab93e6a154a1dbe7144a2f38305e9",
            "23a6a81fb4734dd4800289fc19e6005e",
            "6c192909267143fca0a831a5447438e8",
            "11d004d6d501440aaae9bd684c07ca27",
            "df32c242bfe34e0b874ad5dec9581a71",
            "103b0e0ee941448088b698cb2adf5166",
            "3ce3e5be360d476497da51a33acffbfc",
            "26686272eda2469499949cad2644cc52",
            "271d136a0aa947fba87e27f94d7405fd"
          ]
        }
      },
      "execution_count": 9,
      "outputs": [
        {
          "output_type": "display_data",
          "data": {
            "text/plain": [
              "HBox(children=(VBox(children=(Dropdown(description='Date', options=('2024_08_14', '2024_08_13', '2024_08_12', …"
            ],
            "application/vnd.jupyter.widget-view+json": {
              "version_major": 2,
              "version_minor": 0,
              "model_id": "b3b6e71c80214ba7a98ca005cca84f8a"
            }
          },
          "metadata": {}
        },
        {
          "output_type": "display_data",
          "data": {
            "text/plain": [
              "Output()"
            ],
            "application/vnd.jupyter.widget-view+json": {
              "version_major": 2,
              "version_minor": 0,
              "model_id": "26686272eda2469499949cad2644cc52"
            }
          },
          "metadata": {}
        }
      ]
    },
    {
      "cell_type": "markdown",
      "source": [
        "### Select Categories with the Colab Forms"
      ],
      "metadata": {
        "id": "jcbcKHfqSzyQ"
      }
    },
    {
      "cell_type": "code",
      "source": [
        "#@title Single Selection { run: \"auto\", display-mode: \"form\" }\n",
        "category = \"IT\" #@param [\"Tesla & SpaceX; Vehicle\", \"Tech Titans\", \"Finance\", \"Taiwan\", \"Crypto\", \"Technology\", \"IT\"] {allow-input: true}\n",
        "show_hashtags = True #@param {type:\"boolean\"}\n",
        "show_headings = True #@param {type:\"boolean\"}\n",
        "\n",
        "content = clip.get_latest_journal()\n",
        "lines = clip.get_lines_of_categories([category], content, show_hashtags, show_headings)\n",
        "text = '\\n'.join(lines)\n",
        "print(text)"
      ],
      "metadata": {
        "id": "tGXYiHdUOgRp",
        "outputId": "bf84ff6b-a4ac-4dc1-ea68-a462ce72f47a",
        "colab": {
          "base_uri": "https://localhost:8080/"
        }
      },
      "execution_count": 10,
      "outputs": [
        {
          "output_type": "stream",
          "name": "stdout",
          "text": [
            "### IT\n",
            "- [採用新架構的 AI 模型「Falcon Mamba 7B」，表現直逼各大 Transformer 模型！](https://www.inside.com.tw/article/35900-falcon-mamba-7b) #Mamba #AI #GAI\n",
            "- [Google發表挑戰OpenAI進階語音模式的Gemini Live](https://www.ithome.com.tw/news/164458) #GOOG #GeminiLive\n",
            "- [谷歌向蘋果三星開火！深夜甩出四款AI手機，一鍵召喚Gemini，安卓全面AI化](https://news.cnyes.com/news/id/5683213) #GOOG\n",
            "- [《Boss AI》超強AI回信、寫信和自動校正重寫輔助神器APP](https://mrmad.com.tw/boss-ai) #AI\n",
            "- [NVIDIA中國特供晶片太貴 新創公司轉向這張顯示卡](https://news.xfastest.com/nvidia/143572/nvidia-china/) #NVDA #RTX4090\n",
            "- [Appier公布第2季財報 營收創新高、營業利益年增4.4倍](https://udn.com/news/story/7241/8161495) #Appier #AI #TW\n",
            "\n"
          ]
        }
      ]
    },
    {
      "cell_type": "code",
      "source": [
        "#@title Multiple Selections { run: \"auto\", display-mode: \"form\" }\n",
        "first_category = \"Tesla & SpaceX; Vehicle\" #@param [\"Tesla & SpaceX; Vehicle\", \"Tech Titans\", \"Finance\", \"Taiwan\", \"Crypto\", \"Technology\", \"IT\"] {allow-input: true}\n",
        "last_category = \"Finance\" #@param [\"Tesla & SpaceX; Vehicle\", \"Tech Titans\", \"Finance\", \"Taiwan\", \"Crypto\", \"Technology\", \"IT\"] {allow-input: true}\n",
        "show_hashtags = False #@param {type:\"boolean\"}\n",
        "show_headings = False #@param {type:\"boolean\"}\n",
        "\n",
        "content = clip.get_latest_journal()\n",
        "categories = clip.get_categories(content)\n",
        "categories = clip.get_sublist(categories, first_category, last_category)\n",
        "lines = clip.get_lines_of_categories(categories, content, show_hashtags, show_headings)\n",
        "text = '\\n'.join(lines)\n",
        "print(text)\n"
      ],
      "metadata": {
        "id": "QRwq2sNpi8c3",
        "outputId": "68c1fbc6-770e-4ba0-a07f-1436ffe6e63a",
        "colab": {
          "base_uri": "https://localhost:8080/"
        }
      },
      "execution_count": 11,
      "outputs": [
        {
          "output_type": "stream",
          "name": "stdout",
          "text": [
            "- [特斯拉全面叫停建廠 馬斯克擱置全球擴張野心？](https://news.cnyes.com/news/id/5682767)\n",
            "- [川普告訴馬斯克：AI 耗電驚人、電動車並非人人都需要](https://technews.tw/2024/08/13/trump-thinks-not-everyone-necessarily-needs-an-ev/)\n",
            "- [SpaceX將執行「人類首次」載人極地太空任務，F2Pool礦池共同創辦人任指揮官](https://www.blocktempo.com/co-founder-of-bitcoin-mining-pool-f2pool-serves-as-a-mission-commander-for-spacex/)\n",
            "- [Grok-2来了，能生图识图、性能比肩GPT-4o，马斯克：发展猛如火箭](https://www.jiqizhixin.com/articles/2024-08-14-9)\n",
            "- [因未回郵件「被離職」　推特前員工告馬斯克贏近2千萬賠償](https://today.line.me/tw/v2/article/kEvB050)\n",
            "\n",
            "- [外資：Blackwell 晶片設計沒缺陷，最多遲 4~6 週](https://technews.tw/2024/08/14/blackwell-shipping-time/)\n",
            "- [大摩：輝達Blackwell晶片第四季出貨時間預計不變](https://news.cnyes.com/news/id/5683440)\n",
            "- [Nvidia 持股的機器人新創公司公布Q2財報 盤後股價大漲17%](https://money.udn.com/money/story/5599/8160483)\n",
            "- [晶片巨頭壓力測試？Nvidia 遭競爭對手投訴的背後真相](https://technews.tw/2024/08/14/nvidia-complained-by-competitors/)\n",
            "- [華為傳推 H100 競品，輝達無懼雜音、股價反飆 6%](https://finance.technews.tw/2024/08/14/nvidia-stock-price-0813/)\n",
            "- [一夜之间，谷歌版GPT-4o和AI手机全上市了](https://www.jiqizhixin.com/articles/2024-08-14-7)\n",
            "- [Google 發表會懶人包：Gemini Live 語音對話新上線，Pixel 9 Pro Fold 首度登台](https://ccc.technews.tw/2024/08/14/made-by-google-2024-summary/)\n",
            "- [安謀股價飆漲過後 英特爾出清全部持股](https://news.cnyes.com/news/id/5682757)\n",
            "- [AI 狂熱美光將是大贏家，分析師喊「股價再漲 54%」](https://finance.technews.tw/2024/08/14/micron-stock-ai/)\n",
            "- [【觀點】英特爾皺眉、AMD卻笑了！Q2財報解析：2個關鍵字，讓「風水輪流轉」](https://www.bnext.com.tw/article/80120/intel-amd-financial-results-q2-2024-)\n",
            "- [曾經的半導體霸主，如今搖搖欲墜：那些改變英特爾命運的執行長們](https://technews.tw/2024/08/14/intel-ceo-story/)\n",
            "- [美國電力公司調升預測，迎接5381個數據中心的電力需求](https://uanalyze.com.tw/articles/632875966)\n",
            "- [字節跳動推出「即夢 AI」，繼「大煉芯」後中國再掀 AI 影片生成群毆戰](https://technews.tw/2024/08/14/bytedance-joins-openais-sora-rivals-with-ai-video-app-launch/)\n",
            "\n",
            "- [家得寶Home Depot第二季財報符合預期，但未來展望不佳](https://magnifier.cmoney.tw/家得寶/)\n",
            "- [【美股新聞】既拋售蘋果及美銀後，巴菲特買了這一支股票，你也該買嗎？](https://magnifier.cmoney.tw/巴菲特買了這一支股票/)\n",
            "- [〈紐約匯市〉PPI增速放緩、CPI即將揭曉 美元走軟 ](https://news.cnyes.com/news/id/5682641)\n",
            "- [美國7月CPI即將揭曉 Fed政策或隨之轉向](https://news.cnyes.com/news/id/5683155)\n",
            "- [美7月PPI增速全面放緩 服務成本今年以來首降](https://news.cnyes.com/news/id/5682378)\n",
            "- [升息後增2成！日本散戶堅定看漲日元 淨多單逼近新高](https://news.cnyes.com/news/id/5683063)\n",
            "- [Fed波斯提克「高鴿」預期降息即將到來](https://m.cnyes.com/news/id/5682741)\n",
            "- [持續悲觀！外資Q2從陸撤資規模創紀錄 若持續恐創1990年首次年度淨流出](https://news.cnyes.com/news/id/5681283)\n",
            "\n"
          ]
        }
      ]
    },
    {
      "cell_type": "markdown",
      "source": [
        "### See Also\n",
        "- [news_query.ipynb (from GitHub)](https://colab.research.google.com/github/yorkjong/news-digest/blob/main/notebooks/news_query.ipynb)"
      ],
      "metadata": {
        "id": "l9kvYn67Zue4"
      }
    }
  ]
}