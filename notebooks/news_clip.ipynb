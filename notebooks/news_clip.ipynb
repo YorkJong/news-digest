{
  "nbformat": 4,
  "nbformat_minor": 0,
  "metadata": {
    "colab": {
      "provenance": [],
      "collapsed_sections": [
        "lGmIv-dHZnVz"
      ],
      "authorship_tag": "ABX9TyMRpkAUUFYbvtPFcCGYcXiQ",
      "include_colab_link": true
    },
    "kernelspec": {
      "name": "python3",
      "display_name": "Python 3"
    },
    "language_info": {
      "name": "python"
    },
    "widgets": {
      "application/vnd.jupyter.widget-state+json": {
        "42a50e3a19734ef594572c00e5b33f17": {
          "model_module": "@jupyter-widgets/controls",
          "model_name": "HBoxModel",
          "model_module_version": "1.5.0",
          "state": {
            "_dom_classes": [],
            "_model_module": "@jupyter-widgets/controls",
            "_model_module_version": "1.5.0",
            "_model_name": "HBoxModel",
            "_view_count": null,
            "_view_module": "@jupyter-widgets/controls",
            "_view_module_version": "1.5.0",
            "_view_name": "HBoxView",
            "box_style": "",
            "children": [
              "IPY_MODEL_80415ac7ce6f46ee9c0cc29937d44962",
              "IPY_MODEL_063e3b5428d34276aed4e7349bcca700"
            ],
            "layout": "IPY_MODEL_e1f27d09a4d8416ba5b613ab6e78cccc"
          }
        },
        "80415ac7ce6f46ee9c0cc29937d44962": {
          "model_module": "@jupyter-widgets/controls",
          "model_name": "SelectMultipleModel",
          "model_module_version": "1.5.0",
          "state": {
            "_dom_classes": [],
            "_model_module": "@jupyter-widgets/controls",
            "_model_module_version": "1.5.0",
            "_model_name": "SelectMultipleModel",
            "_options_labels": [
              "Tesla & SpaceX; Vehicle",
              "Tech Titans",
              "Finance",
              "Taiwan",
              "Crypto",
              "Technology",
              "AI"
            ],
            "_view_count": null,
            "_view_module": "@jupyter-widgets/controls",
            "_view_module_version": "1.5.0",
            "_view_name": "SelectMultipleView",
            "description": "Categories",
            "description_tooltip": null,
            "disabled": false,
            "index": [
              0,
              2
            ],
            "layout": "IPY_MODEL_87a511be3d4a48c6bd2937900242aed2",
            "rows": 7,
            "style": "IPY_MODEL_c48aaa0be7814073b452e8ca95f36afe"
          }
        },
        "063e3b5428d34276aed4e7349bcca700": {
          "model_module": "@jupyter-widgets/controls",
          "model_name": "VBoxModel",
          "model_module_version": "1.5.0",
          "state": {
            "_dom_classes": [],
            "_model_module": "@jupyter-widgets/controls",
            "_model_module_version": "1.5.0",
            "_model_name": "VBoxModel",
            "_view_count": null,
            "_view_module": "@jupyter-widgets/controls",
            "_view_module_version": "1.5.0",
            "_view_name": "VBoxView",
            "box_style": "",
            "children": [
              "IPY_MODEL_8273cd104c944d0f9c48c5b8cdad5dac",
              "IPY_MODEL_bd46f19dd05142d7b270ac3fd5df506d"
            ],
            "layout": "IPY_MODEL_575b9dedf6ad42aa8f707db9a906b9c5"
          }
        },
        "e1f27d09a4d8416ba5b613ab6e78cccc": {
          "model_module": "@jupyter-widgets/base",
          "model_name": "LayoutModel",
          "model_module_version": "1.2.0",
          "state": {
            "_model_module": "@jupyter-widgets/base",
            "_model_module_version": "1.2.0",
            "_model_name": "LayoutModel",
            "_view_count": null,
            "_view_module": "@jupyter-widgets/base",
            "_view_module_version": "1.2.0",
            "_view_name": "LayoutView",
            "align_content": null,
            "align_items": null,
            "align_self": null,
            "border": null,
            "bottom": null,
            "display": null,
            "flex": null,
            "flex_flow": null,
            "grid_area": null,
            "grid_auto_columns": null,
            "grid_auto_flow": null,
            "grid_auto_rows": null,
            "grid_column": null,
            "grid_gap": null,
            "grid_row": null,
            "grid_template_areas": null,
            "grid_template_columns": null,
            "grid_template_rows": null,
            "height": null,
            "justify_content": null,
            "justify_items": null,
            "left": null,
            "margin": null,
            "max_height": null,
            "max_width": null,
            "min_height": null,
            "min_width": null,
            "object_fit": null,
            "object_position": null,
            "order": null,
            "overflow": null,
            "overflow_x": null,
            "overflow_y": null,
            "padding": null,
            "right": null,
            "top": null,
            "visibility": null,
            "width": null
          }
        },
        "87a511be3d4a48c6bd2937900242aed2": {
          "model_module": "@jupyter-widgets/base",
          "model_name": "LayoutModel",
          "model_module_version": "1.2.0",
          "state": {
            "_model_module": "@jupyter-widgets/base",
            "_model_module_version": "1.2.0",
            "_model_name": "LayoutModel",
            "_view_count": null,
            "_view_module": "@jupyter-widgets/base",
            "_view_module_version": "1.2.0",
            "_view_name": "LayoutView",
            "align_content": null,
            "align_items": null,
            "align_self": null,
            "border": null,
            "bottom": null,
            "display": null,
            "flex": null,
            "flex_flow": null,
            "grid_area": null,
            "grid_auto_columns": null,
            "grid_auto_flow": null,
            "grid_auto_rows": null,
            "grid_column": null,
            "grid_gap": null,
            "grid_row": null,
            "grid_template_areas": null,
            "grid_template_columns": null,
            "grid_template_rows": null,
            "height": null,
            "justify_content": null,
            "justify_items": null,
            "left": null,
            "margin": null,
            "max_height": null,
            "max_width": null,
            "min_height": null,
            "min_width": null,
            "object_fit": null,
            "object_position": null,
            "order": null,
            "overflow": null,
            "overflow_x": null,
            "overflow_y": null,
            "padding": null,
            "right": null,
            "top": null,
            "visibility": null,
            "width": null
          }
        },
        "c48aaa0be7814073b452e8ca95f36afe": {
          "model_module": "@jupyter-widgets/controls",
          "model_name": "DescriptionStyleModel",
          "model_module_version": "1.5.0",
          "state": {
            "_model_module": "@jupyter-widgets/controls",
            "_model_module_version": "1.5.0",
            "_model_name": "DescriptionStyleModel",
            "_view_count": null,
            "_view_module": "@jupyter-widgets/base",
            "_view_module_version": "1.2.0",
            "_view_name": "StyleView",
            "description_width": ""
          }
        },
        "8273cd104c944d0f9c48c5b8cdad5dac": {
          "model_module": "@jupyter-widgets/controls",
          "model_name": "CheckboxModel",
          "model_module_version": "1.5.0",
          "state": {
            "_dom_classes": [],
            "_model_module": "@jupyter-widgets/controls",
            "_model_module_version": "1.5.0",
            "_model_name": "CheckboxModel",
            "_view_count": null,
            "_view_module": "@jupyter-widgets/controls",
            "_view_module_version": "1.5.0",
            "_view_name": "CheckboxView",
            "description": "with hashtags",
            "description_tooltip": null,
            "disabled": false,
            "indent": true,
            "layout": "IPY_MODEL_dd1926adbb8b4c7f850284d571c2093a",
            "style": "IPY_MODEL_efca47d452c64e8a81256ff905e91625",
            "value": false
          }
        },
        "bd46f19dd05142d7b270ac3fd5df506d": {
          "model_module": "@jupyter-widgets/controls",
          "model_name": "CheckboxModel",
          "model_module_version": "1.5.0",
          "state": {
            "_dom_classes": [],
            "_model_module": "@jupyter-widgets/controls",
            "_model_module_version": "1.5.0",
            "_model_name": "CheckboxModel",
            "_view_count": null,
            "_view_module": "@jupyter-widgets/controls",
            "_view_module_version": "1.5.0",
            "_view_name": "CheckboxView",
            "description": "with headers",
            "description_tooltip": null,
            "disabled": false,
            "indent": true,
            "layout": "IPY_MODEL_38f0dfa6c62441d0b818c1f063a10283",
            "style": "IPY_MODEL_326dbbe9eb254005bc04eb62284f1e1e",
            "value": true
          }
        },
        "575b9dedf6ad42aa8f707db9a906b9c5": {
          "model_module": "@jupyter-widgets/base",
          "model_name": "LayoutModel",
          "model_module_version": "1.2.0",
          "state": {
            "_model_module": "@jupyter-widgets/base",
            "_model_module_version": "1.2.0",
            "_model_name": "LayoutModel",
            "_view_count": null,
            "_view_module": "@jupyter-widgets/base",
            "_view_module_version": "1.2.0",
            "_view_name": "LayoutView",
            "align_content": null,
            "align_items": null,
            "align_self": null,
            "border": null,
            "bottom": null,
            "display": null,
            "flex": null,
            "flex_flow": null,
            "grid_area": null,
            "grid_auto_columns": null,
            "grid_auto_flow": null,
            "grid_auto_rows": null,
            "grid_column": null,
            "grid_gap": null,
            "grid_row": null,
            "grid_template_areas": null,
            "grid_template_columns": null,
            "grid_template_rows": null,
            "height": null,
            "justify_content": null,
            "justify_items": null,
            "left": null,
            "margin": null,
            "max_height": null,
            "max_width": null,
            "min_height": null,
            "min_width": null,
            "object_fit": null,
            "object_position": null,
            "order": null,
            "overflow": null,
            "overflow_x": null,
            "overflow_y": null,
            "padding": null,
            "right": null,
            "top": null,
            "visibility": null,
            "width": null
          }
        },
        "dd1926adbb8b4c7f850284d571c2093a": {
          "model_module": "@jupyter-widgets/base",
          "model_name": "LayoutModel",
          "model_module_version": "1.2.0",
          "state": {
            "_model_module": "@jupyter-widgets/base",
            "_model_module_version": "1.2.0",
            "_model_name": "LayoutModel",
            "_view_count": null,
            "_view_module": "@jupyter-widgets/base",
            "_view_module_version": "1.2.0",
            "_view_name": "LayoutView",
            "align_content": null,
            "align_items": null,
            "align_self": null,
            "border": null,
            "bottom": null,
            "display": null,
            "flex": null,
            "flex_flow": null,
            "grid_area": null,
            "grid_auto_columns": null,
            "grid_auto_flow": null,
            "grid_auto_rows": null,
            "grid_column": null,
            "grid_gap": null,
            "grid_row": null,
            "grid_template_areas": null,
            "grid_template_columns": null,
            "grid_template_rows": null,
            "height": null,
            "justify_content": null,
            "justify_items": null,
            "left": null,
            "margin": null,
            "max_height": null,
            "max_width": null,
            "min_height": null,
            "min_width": null,
            "object_fit": null,
            "object_position": null,
            "order": null,
            "overflow": null,
            "overflow_x": null,
            "overflow_y": null,
            "padding": null,
            "right": null,
            "top": null,
            "visibility": null,
            "width": null
          }
        },
        "efca47d452c64e8a81256ff905e91625": {
          "model_module": "@jupyter-widgets/controls",
          "model_name": "DescriptionStyleModel",
          "model_module_version": "1.5.0",
          "state": {
            "_model_module": "@jupyter-widgets/controls",
            "_model_module_version": "1.5.0",
            "_model_name": "DescriptionStyleModel",
            "_view_count": null,
            "_view_module": "@jupyter-widgets/base",
            "_view_module_version": "1.2.0",
            "_view_name": "StyleView",
            "description_width": ""
          }
        },
        "38f0dfa6c62441d0b818c1f063a10283": {
          "model_module": "@jupyter-widgets/base",
          "model_name": "LayoutModel",
          "model_module_version": "1.2.0",
          "state": {
            "_model_module": "@jupyter-widgets/base",
            "_model_module_version": "1.2.0",
            "_model_name": "LayoutModel",
            "_view_count": null,
            "_view_module": "@jupyter-widgets/base",
            "_view_module_version": "1.2.0",
            "_view_name": "LayoutView",
            "align_content": null,
            "align_items": null,
            "align_self": null,
            "border": null,
            "bottom": null,
            "display": null,
            "flex": null,
            "flex_flow": null,
            "grid_area": null,
            "grid_auto_columns": null,
            "grid_auto_flow": null,
            "grid_auto_rows": null,
            "grid_column": null,
            "grid_gap": null,
            "grid_row": null,
            "grid_template_areas": null,
            "grid_template_columns": null,
            "grid_template_rows": null,
            "height": null,
            "justify_content": null,
            "justify_items": null,
            "left": null,
            "margin": null,
            "max_height": null,
            "max_width": null,
            "min_height": null,
            "min_width": null,
            "object_fit": null,
            "object_position": null,
            "order": null,
            "overflow": null,
            "overflow_x": null,
            "overflow_y": null,
            "padding": null,
            "right": null,
            "top": null,
            "visibility": null,
            "width": null
          }
        },
        "326dbbe9eb254005bc04eb62284f1e1e": {
          "model_module": "@jupyter-widgets/controls",
          "model_name": "DescriptionStyleModel",
          "model_module_version": "1.5.0",
          "state": {
            "_model_module": "@jupyter-widgets/controls",
            "_model_module_version": "1.5.0",
            "_model_name": "DescriptionStyleModel",
            "_view_count": null,
            "_view_module": "@jupyter-widgets/base",
            "_view_module_version": "1.2.0",
            "_view_name": "StyleView",
            "description_width": ""
          }
        }
      }
    }
  },
  "cells": [
    {
      "cell_type": "markdown",
      "metadata": {
        "id": "view-in-github",
        "colab_type": "text"
      },
      "source": [
        "<a href=\"https://colab.research.google.com/github/YorkJong/news-digest/blob/main/notebooks/news_clip.ipynb\" target=\"_parent\"><img src=\"https://colab.research.google.com/assets/colab-badge.svg\" alt=\"Open In Colab\"/></a>"
      ]
    },
    {
      "cell_type": "markdown",
      "source": [
        "這支 notebook 是為了選取剪輯 news-digest 的部分新聞分類，以利後續轉貼\n",
        "執行步驟如下：\n",
        "1. 執行 Functions\n",
        "2. 根據需要，填表執行後面的兩個 Forms"
      ],
      "metadata": {
        "id": "qdoacSllvdm2"
      }
    },
    {
      "cell_type": "markdown",
      "source": [
        "### Functions"
      ],
      "metadata": {
        "id": "74XGrOopRPIi"
      }
    },
    {
      "cell_type": "code",
      "execution_count": 131,
      "metadata": {
        "id": "J8HfaDLDOAS0"
      },
      "outputs": [],
      "source": [
        "import requests\n",
        "import re\n",
        "\n",
        "\n",
        "# Assign GitHub repository and path of \"journals\" folder\n",
        "repo = \"YorkJong/news-digest\"\n",
        "path = \"journals\"\n",
        "\n",
        "def get_latest_fn(path):\n",
        "    '''Returns the filename of latest date.\n",
        "    '''\n",
        "    api_url = f\"https://api.github.com/repos/{repo}/contents/{path}\"\n",
        "\n",
        "    # Request to the GitHub API to get all the archives under the journal folder\n",
        "    response = requests.get(api_url)\n",
        "    if response.status_code == 200:\n",
        "        content = response.json()\n",
        "        pattern = r'^\\d{4}_\\d{2}_\\d{2}\\.md$'\n",
        "        date_list = [f['name'] for f in content if re.match(pattern, f['name'])]\n",
        "    \n",
        "        # Find the filename with the latest date\n",
        "        latest_date = max(date_list)\n",
        "        #latest_date = sorted(date_list)[-1]\n",
        "        return latest_date\n",
        "    else:\n",
        "        print(f\"Error {response.status_code}: {response.reason}\")\n",
        "        return \"\"\n",
        "\n",
        "\n",
        "def get_file(fn):\n",
        "    '''Returns a file content of the news-digest site.\n",
        "    '''\n",
        "    file_url = f\"https://raw.githubusercontent.com/{repo}/main/{path}/{fn}\"\n",
        "\n",
        "    response = requests.get(file_url)\n",
        "    if response.status_code == 200:\n",
        "        return response.content.decode('utf-8')\n",
        "    else:\n",
        "        print(f\"Error {response.status_code}: {response.reason}\")\n",
        "    return \"\"\n",
        "\n",
        "\n",
        "def get_categories(content):\n",
        "    '''Returns category names of the content of news-digest.\n",
        "    '''\n",
        "    lines = content.split('\\n')\n",
        "    categorys = []\n",
        "    tag = '### '\n",
        "    for line in lines:\n",
        "        if line.startswith(tag):\n",
        "            categorys += [line[len(tag):]]\n",
        "    return categorys\n",
        "\n",
        "\n",
        "def get_lines_of_category(kind_name, content, with_hashtags=True):\n",
        "    '''Returns links of given kind.\n",
        "    '''\n",
        "    text = content\n",
        "\n",
        "    header = kind_name\n",
        "    if not header.startswith(\"### \"):\n",
        "        header = f'### {header}'\n",
        "\n",
        "    if not with_hashtags:\n",
        "        # Remove hashtags after each link\n",
        "        lines = text.split('\\n')\n",
        "        lines = [re.sub(r'\\s*#\\[\\[\\S+\\]\\]', '', line) for line in lines]\n",
        "        lines = [re.sub(r'\\s*#[\\w/]+', '', line) for line in lines]\n",
        "        text = '\\n'.join(lines)\n",
        "        \n",
        "    trigger = False\n",
        "    lines = []\n",
        "    for line in text.split('\\n'):\n",
        "        if header in line:\n",
        "            trigger = True\n",
        "            continue\n",
        "        if line.startswith(\"###\"):\n",
        "            if trigger:\n",
        "                break\n",
        "        if trigger:\n",
        "            lines += [line]\n",
        "    return lines\n",
        "\n",
        "\n",
        "def get_lines_of_categories(categories, content, \n",
        "                            with_hashtags=True, with_headers=True):\n",
        "    '''Returns lines of given categories.\n",
        "    This will also show the category as headers.\n",
        "    '''\n",
        "    lines = []\n",
        "    for category in categories:\n",
        "        if with_headers:\n",
        "            lines += [f'### {category}']\n",
        "        lines += get_lines_of_category(category, content, with_hashtags)\n",
        "    return lines\n",
        "\n",
        "\n",
        "def get_sublist(all, first, last):\n",
        "    '''Get a subset of a list of given range.\n",
        "    '''\n",
        "    ret = []\n",
        "    trigger = False\n",
        "    for item in all: \n",
        "        if item == first:\n",
        "            trigger = True\n",
        "        if trigger:\n",
        "            ret += [item]\n",
        "        if item == last:\n",
        "            break\n",
        "    return ret"
      ]
    },
    {
      "cell_type": "markdown",
      "source": [
        "### Select Categories with the Colab Forms"
      ],
      "metadata": {
        "id": "jcbcKHfqSzyQ"
      }
    },
    {
      "cell_type": "code",
      "source": [
        "#@title Single Selection { run: \"auto\" }\n",
        "category = \"Finance\" #@param [\"Tesla & SpaceX; Vehicle\", \"Tech Titans\", \"Finance\", \"Taiwan\", \"Crypto\", \"Technology\", \"AI\"] {allow-input: true}\n",
        "with_hashtags = False #@param {type:\"boolean\"}\n",
        "with_headers = True #@param {type:\"boolean\"}\n",
        "\n",
        "fn = get_latest_fn(path)\n",
        "content = get_file(fn)\n",
        "lines = get_lines_of_categories([category], content, with_hashtags, with_headers)\n",
        "print('\\n'.join(lines))\n",
        "\n",
        "# Copy text to clipboard in Python using pandas module\n",
        "#import pandas as pd\n",
        "#df=pd.DataFrame(['Text to copy'])\n",
        "#df.to_clipboard(index=False, header=False)"
      ],
      "metadata": {
        "colab": {
          "base_uri": "https://localhost:8080/"
        },
        "cellView": "form",
        "id": "tGXYiHdUOgRp",
        "outputId": "21f4c761-9ca0-4960-a1c3-b178ffa4eee1"
      },
      "execution_count": 134,
      "outputs": [
        {
          "output_type": "stream",
          "name": "stdout",
          "text": [
            "### Finance\n",
            "- [美國金融業吵著要糖！中小銀行聯盟要FDIC「給全部存款保險2年」避免擠兌爆發](https://www.blocktempo.com/us-midsize-banks-seek-fdic-insurance/)\n",
            "- [一夜崩盤 多次熔斷 股價腰斬 下一家破產的美國銀行？](https://news.cnyes.com/news/id/5117564)\n",
            "- [富爸爸預言全中！瑞信被收購、黃金突破2000鎂…再砲轟聯準會「通膨大騙子」](https://www.blocktempo.com/kiyosaki-warns-u-s-inflation-is-now-systemic/)\n",
            "- [銀行體系承壓 高盛：Fed本周將暫停升息](https://news.cnyes.com/news/id/5117507)\n",
            "- [FDIC將分拆矽谷銀行 尋求個別拍賣其私人銀行部門](https://news.cnyes.com/news/id/5117513)\n",
            "-\n"
          ]
        }
      ]
    },
    {
      "cell_type": "code",
      "source": [
        "#@title Multiple Selections { run: \"auto\" }\n",
        "first_category = \"Tesla & SpaceX; Vehicle\" #@param [\"Tesla & SpaceX; Vehicle\", \"Tech Titans\", \"Finance\", \"Taiwan\", \"Crypto\", \"Technology\", \"AI\"] {allow-input: true}\n",
        "last_category = \"Finance\" #@param [\"Tesla & SpaceX; Vehicle\", \"Tech Titans\", \"Finance\", \"Taiwan\", \"Crypto\", \"Technology\", \"AI\"] {allow-input: true}\n",
        "with_hashtags = False #@param {type:\"boolean\"}\n",
        "with_headers = True #@param {type:\"boolean\"}\n",
        "\n",
        "fn = get_latest_fn(path)\n",
        "content = get_file(fn)\n",
        "categories = get_categories(content)\n",
        "categories = get_sublist(categories, first_category, last_category)\n",
        "lines = get_lines_of_categories(categories, content, with_hashtags, with_headers)\n",
        "print('\\n'.join(lines))\n"
      ],
      "metadata": {
        "colab": {
          "base_uri": "https://localhost:8080/"
        },
        "cellView": "form",
        "id": "QRwq2sNpi8c3",
        "outputId": "cf35ac76-dc07-4e90-89de-9cf2261c7e04"
      },
      "execution_count": 139,
      "outputs": [
        {
          "output_type": "stream",
          "name": "stdout",
          "text": [
            "### Tesla & SpaceX; Vehicle\n",
            "- [豐田宣布引進Mirai氫能車！預告現身台灣智慧移動展-國內車訊|8891汽車](https://c.8891.com.tw/news/16578)\n",
            "- [賓士將砸數十億美元，投資電動車廠](https://technews.tw/2023/03/20/benz-to-spend-billions-investing-in-electric-car-factory/)\n",
            "- [麥拉倫切入電動車產業，但不是靠車子](https://finance.technews.tw/2023/03/20/mclaren-inverter-ev-industry/)\n",
            "-\n",
            "### Tech Titans\n",
            "- [微軟Edge瀏覽器也推VSR影片增強技術，NV、AMD顯卡都能提升阿公級低解析度影片](https://www.techbang.com/posts/104435-microsoft-edge-rescues-low-definition-old-videos-and-becomes)\n",
            "- [內建加密貨幣交易功能，傳 Microsoft Edge 祕密測試加密錢包](https://technews.tw/2023/03/20/testing-a-built-in-crypto-wallet-in-microsoft-edge/)\n",
            "- [路透：微軟給歐盟的反壟斷補救措施僅針對雲端串流媒體競爭對手](https://m.cnyes.com/news/id/5117533)\n",
            "- [傳蘋果開發大型語言模型提升 Siri 體驗](https://technews.tw/2023/03/21/apple-is-reportedly-experimenting-with-language-generating-ai/)\n",
            "- [蘋果 CarPlay 危機將至？Google 布局已成](https://technews.tw/2023/03/21/apple-carplay-vs-google-android-automotive/)\n",
            "- [ChatGPT有多強？對手Google實測可以當「年薪500萬」工程師，Bard怎麼比拼？](https://www.bnext.com.tw/article/74494/google-testing-acing-new-nthe-pntl)\n",
            "- [Google 母公司員工連署五點訴求，要執行長妥善處理裁員問題](https://today.line.me/tw/v2/article/7N08wNm)\n",
            "- [Google 將不會為裁退員工追溯育兒假和病假](https://chinese.engadget.com/google-將不會為裁退員工追溯育兒假和病假-063054064.html)\n",
            "- [提升效率？祖克柏要公司高層轉個人貢獻者，不然就滾蛋](https://technews.tw/2023/03/21/mark-zuckerberg-3/)\n",
            "- [GIGABYTE：NVIDIA GeForce RTX 4060 將配置 8GB 記憶體](https://benchlife.info/gigabyte-confirm-geforce-rtx-4060-with-8gb-vram/)\n",
            "- [ChatGPT 尚未帶動需求？調查：資料中心續降溫](https://technews.tw/2023/03/21/chatgpt-data-center/)\n",
            "- [「文心一言」口碑逆轉，駕馭5大場景驚艷市場！百度股價反飆漲](https://www.bnext.com.tw/article/74490/ernie-bot-cn-min-turn-plus-)\n",
            "- [果不其然，百度「文心一言」不能談習近平、不能生六四圖片](https://www.inside.com.tw/article/31066-ChatGPT-AI-China)\n",
            "- [Amazon 將在「未來幾週內」再裁 9,000 人](https://chinese.engadget.com/amazon-will-lay-off-another-9000-employees-in-the-coming-weeks-010012598.html)\n",
            "-\n",
            "### Finance\n",
            "- [美國金融業吵著要糖！中小銀行聯盟要FDIC「給全部存款保險2年」避免擠兌爆發](https://www.blocktempo.com/us-midsize-banks-seek-fdic-insurance/)\n",
            "- [一夜崩盤 多次熔斷 股價腰斬 下一家破產的美國銀行？](https://news.cnyes.com/news/id/5117564)\n",
            "- [富爸爸預言全中！瑞信被收購、黃金突破2000鎂…再砲轟聯準會「通膨大騙子」](https://www.blocktempo.com/kiyosaki-warns-u-s-inflation-is-now-systemic/)\n",
            "- [銀行體系承壓 高盛：Fed本周將暫停升息](https://news.cnyes.com/news/id/5117507)\n",
            "- [FDIC將分拆矽谷銀行 尋求個別拍賣其私人銀行部門](https://news.cnyes.com/news/id/5117513)\n",
            "-\n"
          ]
        }
      ]
    },
    {
      "cell_type": "markdown",
      "source": [
        "### Select multiple categories with Jupyter Widgets"
      ],
      "metadata": {
        "id": "bHZpE5gJsacz"
      }
    },
    {
      "cell_type": "code",
      "source": [
        "import ipywidgets as widgets\n",
        "\n",
        "fn = get_latest_fn(path)\n",
        "content = get_file(fn)\n",
        "options = get_categories(content)\n",
        "\n",
        "categories = widgets.SelectMultiple(\n",
        "    options=options,\n",
        "    value=[options[0]],\n",
        "    rows=len(options),\n",
        "    description='Categories',\n",
        "    disabled=False\n",
        ")\n",
        "\n",
        "with_hashtags = widgets.Checkbox(\n",
        "    value=True,\n",
        "    description='with hashtags',\n",
        "    disabled=False\n",
        ")\n",
        "\n",
        "with_headers = widgets.Checkbox(\n",
        "    value=True,\n",
        "    description='with headers',\n",
        "    disabled=False\n",
        ")\n",
        "\n",
        "flags = widgets.VBox([with_hashtags, with_headers])\n",
        "widgets.HBox([categories, flags])"
      ],
      "metadata": {
        "colab": {
          "base_uri": "https://localhost:8080/",
          "height": 144,
          "referenced_widgets": [
            "42a50e3a19734ef594572c00e5b33f17",
            "80415ac7ce6f46ee9c0cc29937d44962",
            "063e3b5428d34276aed4e7349bcca700",
            "e1f27d09a4d8416ba5b613ab6e78cccc",
            "87a511be3d4a48c6bd2937900242aed2",
            "c48aaa0be7814073b452e8ca95f36afe",
            "8273cd104c944d0f9c48c5b8cdad5dac",
            "bd46f19dd05142d7b270ac3fd5df506d",
            "575b9dedf6ad42aa8f707db9a906b9c5",
            "dd1926adbb8b4c7f850284d571c2093a",
            "efca47d452c64e8a81256ff905e91625",
            "38f0dfa6c62441d0b818c1f063a10283",
            "326dbbe9eb254005bc04eb62284f1e1e"
          ]
        },
        "id": "g-Q0ReLBmyPy",
        "outputId": "321e866e-6a9f-42ea-afc2-2c05c6dd7867"
      },
      "execution_count": 144,
      "outputs": [
        {
          "output_type": "display_data",
          "data": {
            "text/plain": [
              "HBox(children=(SelectMultiple(description='Categories', index=(0,), options=('Tesla & SpaceX; Vehicle', 'Tech …"
            ],
            "application/vnd.jupyter.widget-view+json": {
              "version_major": 2,
              "version_minor": 0,
              "model_id": "42a50e3a19734ef594572c00e5b33f17"
            }
          },
          "metadata": {}
        }
      ]
    },
    {
      "cell_type": "code",
      "source": [
        "lines = get_lines_of_categories(categories.value, content, with_hashtags.value, with_headers.value)\n",
        "print('\\n'.join(lines))"
      ],
      "metadata": {
        "colab": {
          "base_uri": "https://localhost:8080/"
        },
        "id": "xczHHjuqp16i",
        "outputId": "77cecb86-0037-462e-b738-9c068f1ad4c6"
      },
      "execution_count": 149,
      "outputs": [
        {
          "output_type": "stream",
          "name": "stdout",
          "text": [
            "### Tesla & SpaceX; Vehicle\n",
            "- [豐田宣布引進Mirai氫能車！預告現身台灣智慧移動展-國內車訊|8891汽車](https://c.8891.com.tw/news/16578)\n",
            "- [賓士將砸數十億美元，投資電動車廠](https://technews.tw/2023/03/20/benz-to-spend-billions-investing-in-electric-car-factory/)\n",
            "- [麥拉倫切入電動車產業，但不是靠車子](https://finance.technews.tw/2023/03/20/mclaren-inverter-ev-industry/)\n",
            "-\n",
            "### Finance\n",
            "- [美國金融業吵著要糖！中小銀行聯盟要FDIC「給全部存款保險2年」避免擠兌爆發](https://www.blocktempo.com/us-midsize-banks-seek-fdic-insurance/)\n",
            "- [一夜崩盤 多次熔斷 股價腰斬 下一家破產的美國銀行？](https://news.cnyes.com/news/id/5117564)\n",
            "- [富爸爸預言全中！瑞信被收購、黃金突破2000鎂…再砲轟聯準會「通膨大騙子」](https://www.blocktempo.com/kiyosaki-warns-u-s-inflation-is-now-systemic/)\n",
            "- [銀行體系承壓 高盛：Fed本周將暫停升息](https://news.cnyes.com/news/id/5117507)\n",
            "- [FDIC將分拆矽谷銀行 尋求個別拍賣其私人銀行部門](https://news.cnyes.com/news/id/5117513)\n",
            "-\n"
          ]
        }
      ]
    },
    {
      "cell_type": "markdown",
      "source": [
        "### Test"
      ],
      "metadata": {
        "id": "lGmIv-dHZnVz"
      }
    },
    {
      "cell_type": "code",
      "source": [
        "get_sublist(list('abcdefg'), 'b', 'd')"
      ],
      "metadata": {
        "colab": {
          "base_uri": "https://localhost:8080/"
        },
        "id": "NHXLaDrynnMX",
        "outputId": "ca3b94c4-f4be-4ea6-e307-c67f6c3d3cc8"
      },
      "execution_count": 83,
      "outputs": [
        {
          "output_type": "execute_result",
          "data": {
            "text/plain": [
              "['b', 'c', 'd']"
            ]
          },
          "metadata": {},
          "execution_count": 83
        }
      ]
    },
    {
      "cell_type": "code",
      "source": [
        "fn = get_latest_fn(path)\n",
        "content = get_file(fn)\n",
        "print(get_categories(content)) "
      ],
      "metadata": {
        "colab": {
          "base_uri": "https://localhost:8080/"
        },
        "id": "I9Zrlfo9Zrim",
        "outputId": "41db9dad-05c4-4e7d-95ef-6bb4c56bf0ff"
      },
      "execution_count": 74,
      "outputs": [
        {
          "output_type": "stream",
          "name": "stdout",
          "text": [
            "['Tesla & SpaceX; Vehicle', ' Tech Titans', 'Finance', 'Taiwan', 'Crypto', 'Technology', 'AI']\n"
          ]
        }
      ]
    },
    {
      "cell_type": "code",
      "source": [
        "fn = get_latest_fn(path)\n",
        "print(fn)\n",
        "\n",
        "content = get_file(fn)\n",
        "print(content)"
      ],
      "metadata": {
        "id": "quRNN-5sOYit"
      },
      "execution_count": null,
      "outputs": []
    }
  ]
}