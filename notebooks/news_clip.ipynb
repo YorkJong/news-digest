{
  "nbformat": 4,
  "nbformat_minor": 0,
  "metadata": {
    "colab": {
      "provenance": [],
      "collapsed_sections": [
        "lGmIv-dHZnVz"
      ],
      "authorship_tag": "ABX9TyOqZwtuE2X+ENyf1Z52TXY+",
      "include_colab_link": true
    },
    "kernelspec": {
      "name": "python3",
      "display_name": "Python 3"
    },
    "language_info": {
      "name": "python"
    }
  },
  "cells": [
    {
      "cell_type": "markdown",
      "metadata": {
        "id": "view-in-github",
        "colab_type": "text"
      },
      "source": [
        "<a href=\"https://colab.research.google.com/github/YorkJong/news-digest/blob/main/notebooks/news_clip.ipynb\" target=\"_parent\"><img src=\"https://colab.research.google.com/assets/colab-badge.svg\" alt=\"Open In Colab\"/></a>"
      ]
    },
    {
      "cell_type": "markdown",
      "source": [
        "這支 notebook 是為了選取剪輯 news-digest 的部分新聞分類，以利後續轉貼\n",
        "執行步驟如下：\n",
        "1. 執行 Functions\n",
        "2. 根據需要，填表執行後面的兩個 Forms"
      ],
      "metadata": {
        "id": "qdoacSllvdm2"
      }
    },
    {
      "cell_type": "markdown",
      "source": [
        "### Functions"
      ],
      "metadata": {
        "id": "74XGrOopRPIi"
      }
    },
    {
      "cell_type": "code",
      "execution_count": 104,
      "metadata": {
        "id": "J8HfaDLDOAS0"
      },
      "outputs": [],
      "source": [
        "import requests\n",
        "import re\n",
        "\n",
        "\n",
        "# Assign GitHub repository and path of \"journals\" folder\n",
        "repo = \"YorkJong/news-digest\"\n",
        "path = \"journals\"\n",
        "\n",
        "def get_latest_fn(path):\n",
        "    '''Returns the filename of latest date.\n",
        "    '''\n",
        "    api_url = f\"https://api.github.com/repos/{repo}/contents/{path}\"\n",
        "\n",
        "    # Request to the GitHub API to get all the archives under the journal folder\n",
        "    response = requests.get(api_url)\n",
        "    if response.status_code == 200:\n",
        "        content = response.json()\n",
        "        pattern = r'^\\d{4}_\\d{2}_\\d{2}\\.md$'\n",
        "        date_list = [f['name'] for f in content if re.match(pattern, f['name'])]\n",
        "    \n",
        "        # Find the filename with the latest date\n",
        "        latest_date = max(date_list)\n",
        "        #latest_date = sorted(date_list)[-1]\n",
        "        return latest_date\n",
        "    else:\n",
        "        print(f\"Error {response.status_code}: {response.reason}\")\n",
        "        return \"\"\n",
        "\n",
        "\n",
        "def get_file(fn):\n",
        "    '''Returns a file content of the news-digest site.\n",
        "    '''\n",
        "    file_url = f\"https://raw.githubusercontent.com/{repo}/main/{path}/{fn}\"\n",
        "\n",
        "    response = requests.get(file_url)\n",
        "    if response.status_code == 200:\n",
        "        return response.content.decode('utf-8')\n",
        "    else:\n",
        "        print(f\"Error {response.status_code}: {response.reason}\")\n",
        "    return \"\"\n",
        "\n",
        "\n",
        "def get_categories(content):\n",
        "    '''Returns category names of the content of news-digest.\n",
        "    '''\n",
        "    lines = content.split('\\n')\n",
        "    categorys = []\n",
        "    tag = '### '\n",
        "    for line in lines:\n",
        "        if line.startswith(tag):\n",
        "            categorys += [line[len(tag):]]\n",
        "    return categorys\n",
        "\n",
        "\n",
        "def get_links_of_category(kind_name, content, remove_hashtags=True):\n",
        "    '''Returns links of given kind.\n",
        "    '''\n",
        "    text = content\n",
        "\n",
        "    header = kind_name\n",
        "    if not header.startswith(\"### \"):\n",
        "        header = f'### {header}'\n",
        "\n",
        "    # Remove hashtags after each link\n",
        "    if remove_hashtags:\n",
        "        text = '\\n'.join(\n",
        "            [re.sub(r'#[\\w/]+', '', line) for line in text.split('\\n')])\n",
        "        \n",
        "    trigger = False\n",
        "    lines = []\n",
        "    for line in text.split('\\n'):\n",
        "        if header in line:\n",
        "            trigger = True\n",
        "            continue\n",
        "        if line.startswith(\"###\"):\n",
        "            if trigger:\n",
        "                break\n",
        "        if trigger:\n",
        "            lines += [line]\n",
        "    return '\\n'.join(lines)\n",
        "\n",
        "\n",
        "def get_sublist(all, first, last):\n",
        "    '''Get a subset of a list of given range.\n",
        "    '''\n",
        "    ret = []\n",
        "    trigger = False\n",
        "    for item in all: \n",
        "        if item == first:\n",
        "            trigger = True\n",
        "        if trigger:\n",
        "            ret += [item]\n",
        "        if item == last:\n",
        "            break\n",
        "    return ret"
      ]
    },
    {
      "cell_type": "markdown",
      "source": [
        "### Form to list links of given category"
      ],
      "metadata": {
        "id": "jcbcKHfqSzyQ"
      }
    },
    {
      "cell_type": "code",
      "source": [
        "#@title  { run: \"auto\" }\n",
        "#@title  { run: \"auto\", vertical-output: true }\n",
        "#@title\n",
        "category = \"Tech Titans\" #@param [\"Tesla & SpaceX; Vehicle\", \"Tech Titans\", \"Finance\", \"Taiwan\", \"Crypto\", \"Technology\", \"AI\"] {allow-input: true}\n",
        "remove_hashtags = True #@param {type:\"boolean\"}\n",
        "\n",
        "fn = get_latest_fn(path)\n",
        "content = get_file(fn)\n",
        "\n",
        "lines = get_links_of_category(category, content, remove_hashtags)\n",
        "print(f'### {category}') \n",
        "print(lines)\n",
        "\n",
        "# Copy text to clipboard in Python using pandas module\n",
        "#import pandas as pd\n",
        "#df=pd.DataFrame(['Text to copy'])\n",
        "#df.to_clipboard(index=False, header=False)"
      ],
      "metadata": {
        "colab": {
          "base_uri": "https://localhost:8080/"
        },
        "cellView": "form",
        "id": "tGXYiHdUOgRp",
        "outputId": "f55fc1b8-01c1-482e-c097-1db15d440d30"
      },
      "execution_count": 107,
      "outputs": [
        {
          "output_type": "stream",
          "name": "stdout",
          "text": [
            "### Tech Titans\n",
            "- [Google Glass 停售 但 Project Iris 虛擬視覺項目仍進行中](https://www.cool3c.com/article/190829) \n",
            "- [外電報導指出微軟計畫 2024 年推出手機遊戲商店 與 Apple、Google 競爭市場](https://gnn.gamer.com.tw/detail.php?sn=246899)   \n",
            "- [GPT-4 讓微軟 Office 也有了「iPhone 時刻」](https://technews.tw/2023/03/20/microsoft-365-copilot/)  \n",
            "- [AI搶走了元宇宙的熱度？祖克柏所期待的元宇宙還有更多挑戰](https://www.techbang.com/posts/104627-metaverse-dead)   \n",
            "- [輝達GTC登場 黃仁勳點名4大AI最夯](https://ctee.com.tw/news/tech/828010.html)   \n",
            "- [AMD市佔漲不動了 分析師稱Intel的麻煩已結束](https://news.xfastest.com/intel/125467/analyst-intel/)   \n",
            "-\n"
          ]
        }
      ]
    },
    {
      "cell_type": "code",
      "source": [
        "#@title  { run: \"auto\" }\n",
        "#@title  { run: \"auto\", vertical-output: true }\n",
        "#@title\n",
        "first_category = \"Tesla & SpaceX; Vehicle\" #@param [\"Tesla & SpaceX; Vehicle\", \"Tech Titans\", \"Finance\", \"Taiwan\", \"Crypto\", \"Technology\", \"AI\"] {allow-input: true}\n",
        "last_category = \"Finance\" #@param [\"Tesla & SpaceX; Vehicle\", \"Tech Titans\", \"Finance\", \"Taiwan\", \"Crypto\", \"Technology\", \"AI\"] {allow-input: true}\n",
        "remove_hashtags = True #@param {type:\"boolean\"}\n",
        "\n",
        "fn = get_latest_fn(path)\n",
        "content = get_file(fn)\n",
        "categories = get_categories(content)\n",
        "categories = get_sublist(categories, first_category, last_category)\n",
        "\n",
        "for category in categories:\n",
        "    lines = get_links_of_category(category, content, remove_hashtags)\n",
        "    print(f'### {category}') \n",
        "    print(lines)\n"
      ],
      "metadata": {
        "colab": {
          "base_uri": "https://localhost:8080/"
        },
        "cellView": "form",
        "id": "QRwq2sNpi8c3",
        "outputId": "1180ed8a-e3fe-4ae3-a0b6-ba55cd65c1db"
      },
      "execution_count": 105,
      "outputs": [
        {
          "output_type": "stream",
          "name": "stdout",
          "text": [
            "### Tesla & SpaceX; Vehicle\n",
            "- [特斯拉視覺測距機能來了！會顯示障礙物距離也有聲音警示，但台灣車主還要再等等](https://www.ddcar.com.tw/article/34663)    \n",
            "- [小鵬飛行汽車外形專利曝光　四螺旋槳加四輪體積龐大](https://unwire.hk/2023/03/18/xpeng-flying-car/life-tech/auto/)  \n",
            "-\n",
            "- ### Tech Titans\n",
            "- [Google Glass 停售 但 Project Iris 虛擬視覺項目仍進行中](https://www.cool3c.com/article/190829) \n",
            "- [外電報導指出微軟計畫 2024 年推出手機遊戲商店 與 Apple、Google 競爭市場](https://gnn.gamer.com.tw/detail.php?sn=246899)   \n",
            "- [GPT-4 讓微軟 Office 也有了「iPhone 時刻」](https://technews.tw/2023/03/20/microsoft-365-copilot/)  \n",
            "- [AI搶走了元宇宙的熱度？祖克柏所期待的元宇宙還有更多挑戰](https://www.techbang.com/posts/104627-metaverse-dead)   \n",
            "- [輝達GTC登場 黃仁勳點名4大AI最夯](https://ctee.com.tw/news/tech/828010.html)   \n",
            "- [AMD市佔漲不動了 分析師稱Intel的麻煩已結束](https://news.xfastest.com/intel/125467/analyst-intel/)   \n",
            "-\n",
            "### Finance\n",
            "- [美國金融業吵著要糖！中小銀行聯盟要FDIC「給全部存款保險2年」避免擠兌爆發](https://www.blocktempo.com/us-midsize-banks-seek-fdic-insurance/) \n",
            "- [本週財經大事彙整 週四FOMC利率決議即將登場](https://news.cnyes.com/news/id/5117411) \n",
            "- [美元展望∶銀行業危機後聯準會將審慎加息?美元或看跌](https://www.dailyfxasia.com/cn/outlook/20230320-4692.html)  \n",
            "- [繼美2銀行倒閉 首家知名避險基金不堪債市動盪虧損關閉](https://news.ebc.net.tw/news/business/359443)  \n",
            "- [美元展望∶銀行業危機後聯準會將審慎加息?美元或看跌](https://www.dailyfxasia.com/cn/outlook/20230320-4692.html)  \n",
            "- [Signature Bank大部分業務將由紐約社區銀行收購 加密貨幣存款直接歸還存戶](https://news.cnyes.com/news/id/5117373) \n",
            "- [銀行業危機未完 第一共和成為新的壓力點 Fed本周會議是關鍵](https://m.cnyes.com/news/id/5117360)  \n",
            "- [瑞信旗下5千億債券變廢紙 關鍵內幕曝](https://ctee.com.tw/news/global/828260.html)  \n",
            "- [四大外銀：Fed 3月升1碼 全年降息無望](https://ctee.com.tw/news/finance/827787.html)  \n",
            "- [本週操盤筆記：Fed 3月會議、全球央行超級星期四、美歐銀行業風暴](https://m.cnyes.com/news/id/5117232)       \n",
            "-\n"
          ]
        }
      ]
    },
    {
      "cell_type": "markdown",
      "source": [
        "### Test"
      ],
      "metadata": {
        "id": "lGmIv-dHZnVz"
      }
    },
    {
      "cell_type": "code",
      "source": [
        "get_sublist(list('abcdefg'), 'b', 'd')"
      ],
      "metadata": {
        "colab": {
          "base_uri": "https://localhost:8080/"
        },
        "id": "NHXLaDrynnMX",
        "outputId": "ca3b94c4-f4be-4ea6-e307-c67f6c3d3cc8"
      },
      "execution_count": 83,
      "outputs": [
        {
          "output_type": "execute_result",
          "data": {
            "text/plain": [
              "['b', 'c', 'd']"
            ]
          },
          "metadata": {},
          "execution_count": 83
        }
      ]
    },
    {
      "cell_type": "code",
      "source": [
        "fn = get_latest_fn(path)\n",
        "content = get_file(fn)\n",
        "print(get_categories(content)) "
      ],
      "metadata": {
        "colab": {
          "base_uri": "https://localhost:8080/"
        },
        "id": "I9Zrlfo9Zrim",
        "outputId": "41db9dad-05c4-4e7d-95ef-6bb4c56bf0ff"
      },
      "execution_count": 74,
      "outputs": [
        {
          "output_type": "stream",
          "name": "stdout",
          "text": [
            "['Tesla & SpaceX; Vehicle', ' Tech Titans', 'Finance', 'Taiwan', 'Crypto', 'Technology', 'AI']\n"
          ]
        }
      ]
    },
    {
      "cell_type": "code",
      "source": [
        "fn = get_latest_fn(path)\n",
        "print(fn)\n",
        "\n",
        "content = get_file(fn)\n",
        "print(content)"
      ],
      "metadata": {
        "id": "quRNN-5sOYit"
      },
      "execution_count": null,
      "outputs": []
    }
  ]
}