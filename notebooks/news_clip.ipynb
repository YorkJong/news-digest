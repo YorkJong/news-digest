{
  "nbformat": 4,
  "nbformat_minor": 0,
  "metadata": {
    "colab": {
      "provenance": [],
      "collapsed_sections": [
        "74XGrOopRPIi",
        "gbBeXRwHm8gn"
      ],
      "authorship_tag": "ABX9TyMOi1Csh/fwS20sSr3RnOnq",
      "include_colab_link": true
    },
    "kernelspec": {
      "name": "python3",
      "display_name": "Python 3"
    },
    "language_info": {
      "name": "python"
    },
    "widgets": {
      "application/vnd.jupyter.widget-state+json": {
        "48671018fda64f53958ebfb77f88e237": {
          "model_module": "@jupyter-widgets/controls",
          "model_name": "HBoxModel",
          "model_module_version": "1.5.0",
          "state": {
            "_dom_classes": [],
            "_model_module": "@jupyter-widgets/controls",
            "_model_module_version": "1.5.0",
            "_model_name": "HBoxModel",
            "_view_count": null,
            "_view_module": "@jupyter-widgets/controls",
            "_view_module_version": "1.5.0",
            "_view_name": "HBoxView",
            "box_style": "",
            "children": [
              "IPY_MODEL_91d1a2a31c454a16840c0784c52e81f9",
              "IPY_MODEL_2e3caf22e60241f2b588fa8d25844707"
            ],
            "layout": "IPY_MODEL_729c6cbcab05416ca5bda2045a8e9bb1"
          }
        },
        "91d1a2a31c454a16840c0784c52e81f9": {
          "model_module": "@jupyter-widgets/controls",
          "model_name": "SelectMultipleModel",
          "model_module_version": "1.5.0",
          "state": {
            "_dom_classes": [],
            "_model_module": "@jupyter-widgets/controls",
            "_model_module_version": "1.5.0",
            "_model_name": "SelectMultipleModel",
            "_options_labels": [
              "Tesla & SpaceX; Vehicle",
              "Tech Titans",
              "Finance",
              "Taiwan",
              "Crypto",
              "Technology",
              "AI"
            ],
            "_view_count": null,
            "_view_module": "@jupyter-widgets/controls",
            "_view_module_version": "1.5.0",
            "_view_name": "SelectMultipleView",
            "description": "Categories",
            "description_tooltip": null,
            "disabled": false,
            "index": [
              0
            ],
            "layout": "IPY_MODEL_b466fd75567f4209a7975682fdc0f0c9",
            "rows": 7,
            "style": "IPY_MODEL_9833689396184b7a9399842a07c3f899"
          }
        },
        "2e3caf22e60241f2b588fa8d25844707": {
          "model_module": "@jupyter-widgets/controls",
          "model_name": "VBoxModel",
          "model_module_version": "1.5.0",
          "state": {
            "_dom_classes": [],
            "_model_module": "@jupyter-widgets/controls",
            "_model_module_version": "1.5.0",
            "_model_name": "VBoxModel",
            "_view_count": null,
            "_view_module": "@jupyter-widgets/controls",
            "_view_module_version": "1.5.0",
            "_view_name": "VBoxView",
            "box_style": "",
            "children": [
              "IPY_MODEL_0eb4029619b149369114857255f97a64",
              "IPY_MODEL_8ac019d485ab48499a524e251ac13be2"
            ],
            "layout": "IPY_MODEL_22ab762afbf549b09b831b4205f380d3"
          }
        },
        "729c6cbcab05416ca5bda2045a8e9bb1": {
          "model_module": "@jupyter-widgets/base",
          "model_name": "LayoutModel",
          "model_module_version": "1.2.0",
          "state": {
            "_model_module": "@jupyter-widgets/base",
            "_model_module_version": "1.2.0",
            "_model_name": "LayoutModel",
            "_view_count": null,
            "_view_module": "@jupyter-widgets/base",
            "_view_module_version": "1.2.0",
            "_view_name": "LayoutView",
            "align_content": null,
            "align_items": null,
            "align_self": null,
            "border": null,
            "bottom": null,
            "display": null,
            "flex": null,
            "flex_flow": null,
            "grid_area": null,
            "grid_auto_columns": null,
            "grid_auto_flow": null,
            "grid_auto_rows": null,
            "grid_column": null,
            "grid_gap": null,
            "grid_row": null,
            "grid_template_areas": null,
            "grid_template_columns": null,
            "grid_template_rows": null,
            "height": null,
            "justify_content": null,
            "justify_items": null,
            "left": null,
            "margin": null,
            "max_height": null,
            "max_width": null,
            "min_height": null,
            "min_width": null,
            "object_fit": null,
            "object_position": null,
            "order": null,
            "overflow": null,
            "overflow_x": null,
            "overflow_y": null,
            "padding": null,
            "right": null,
            "top": null,
            "visibility": null,
            "width": null
          }
        },
        "b466fd75567f4209a7975682fdc0f0c9": {
          "model_module": "@jupyter-widgets/base",
          "model_name": "LayoutModel",
          "model_module_version": "1.2.0",
          "state": {
            "_model_module": "@jupyter-widgets/base",
            "_model_module_version": "1.2.0",
            "_model_name": "LayoutModel",
            "_view_count": null,
            "_view_module": "@jupyter-widgets/base",
            "_view_module_version": "1.2.0",
            "_view_name": "LayoutView",
            "align_content": null,
            "align_items": null,
            "align_self": null,
            "border": null,
            "bottom": null,
            "display": null,
            "flex": null,
            "flex_flow": null,
            "grid_area": null,
            "grid_auto_columns": null,
            "grid_auto_flow": null,
            "grid_auto_rows": null,
            "grid_column": null,
            "grid_gap": null,
            "grid_row": null,
            "grid_template_areas": null,
            "grid_template_columns": null,
            "grid_template_rows": null,
            "height": null,
            "justify_content": null,
            "justify_items": null,
            "left": null,
            "margin": null,
            "max_height": null,
            "max_width": null,
            "min_height": null,
            "min_width": null,
            "object_fit": null,
            "object_position": null,
            "order": null,
            "overflow": null,
            "overflow_x": null,
            "overflow_y": null,
            "padding": null,
            "right": null,
            "top": null,
            "visibility": null,
            "width": null
          }
        },
        "9833689396184b7a9399842a07c3f899": {
          "model_module": "@jupyter-widgets/controls",
          "model_name": "DescriptionStyleModel",
          "model_module_version": "1.5.0",
          "state": {
            "_model_module": "@jupyter-widgets/controls",
            "_model_module_version": "1.5.0",
            "_model_name": "DescriptionStyleModel",
            "_view_count": null,
            "_view_module": "@jupyter-widgets/base",
            "_view_module_version": "1.2.0",
            "_view_name": "StyleView",
            "description_width": ""
          }
        },
        "0eb4029619b149369114857255f97a64": {
          "model_module": "@jupyter-widgets/controls",
          "model_name": "CheckboxModel",
          "model_module_version": "1.5.0",
          "state": {
            "_dom_classes": [],
            "_model_module": "@jupyter-widgets/controls",
            "_model_module_version": "1.5.0",
            "_model_name": "CheckboxModel",
            "_view_count": null,
            "_view_module": "@jupyter-widgets/controls",
            "_view_module_version": "1.5.0",
            "_view_name": "CheckboxView",
            "description": "with hashtags",
            "description_tooltip": null,
            "disabled": false,
            "indent": true,
            "layout": "IPY_MODEL_4bd98377959a4a8b98e4793db56ed3db",
            "style": "IPY_MODEL_0730edc634d3475188c077d5f66bb629",
            "value": true
          }
        },
        "8ac019d485ab48499a524e251ac13be2": {
          "model_module": "@jupyter-widgets/controls",
          "model_name": "CheckboxModel",
          "model_module_version": "1.5.0",
          "state": {
            "_dom_classes": [],
            "_model_module": "@jupyter-widgets/controls",
            "_model_module_version": "1.5.0",
            "_model_name": "CheckboxModel",
            "_view_count": null,
            "_view_module": "@jupyter-widgets/controls",
            "_view_module_version": "1.5.0",
            "_view_name": "CheckboxView",
            "description": "with headers",
            "description_tooltip": null,
            "disabled": false,
            "indent": true,
            "layout": "IPY_MODEL_e57d822dcc134b4fbdede2e4ca0f05c6",
            "style": "IPY_MODEL_f041743ff9164ed5af6411d4cff1a2d7",
            "value": true
          }
        },
        "22ab762afbf549b09b831b4205f380d3": {
          "model_module": "@jupyter-widgets/base",
          "model_name": "LayoutModel",
          "model_module_version": "1.2.0",
          "state": {
            "_model_module": "@jupyter-widgets/base",
            "_model_module_version": "1.2.0",
            "_model_name": "LayoutModel",
            "_view_count": null,
            "_view_module": "@jupyter-widgets/base",
            "_view_module_version": "1.2.0",
            "_view_name": "LayoutView",
            "align_content": null,
            "align_items": null,
            "align_self": null,
            "border": null,
            "bottom": null,
            "display": null,
            "flex": null,
            "flex_flow": null,
            "grid_area": null,
            "grid_auto_columns": null,
            "grid_auto_flow": null,
            "grid_auto_rows": null,
            "grid_column": null,
            "grid_gap": null,
            "grid_row": null,
            "grid_template_areas": null,
            "grid_template_columns": null,
            "grid_template_rows": null,
            "height": null,
            "justify_content": null,
            "justify_items": null,
            "left": null,
            "margin": null,
            "max_height": null,
            "max_width": null,
            "min_height": null,
            "min_width": null,
            "object_fit": null,
            "object_position": null,
            "order": null,
            "overflow": null,
            "overflow_x": null,
            "overflow_y": null,
            "padding": null,
            "right": null,
            "top": null,
            "visibility": null,
            "width": null
          }
        },
        "4bd98377959a4a8b98e4793db56ed3db": {
          "model_module": "@jupyter-widgets/base",
          "model_name": "LayoutModel",
          "model_module_version": "1.2.0",
          "state": {
            "_model_module": "@jupyter-widgets/base",
            "_model_module_version": "1.2.0",
            "_model_name": "LayoutModel",
            "_view_count": null,
            "_view_module": "@jupyter-widgets/base",
            "_view_module_version": "1.2.0",
            "_view_name": "LayoutView",
            "align_content": null,
            "align_items": null,
            "align_self": null,
            "border": null,
            "bottom": null,
            "display": null,
            "flex": null,
            "flex_flow": null,
            "grid_area": null,
            "grid_auto_columns": null,
            "grid_auto_flow": null,
            "grid_auto_rows": null,
            "grid_column": null,
            "grid_gap": null,
            "grid_row": null,
            "grid_template_areas": null,
            "grid_template_columns": null,
            "grid_template_rows": null,
            "height": null,
            "justify_content": null,
            "justify_items": null,
            "left": null,
            "margin": null,
            "max_height": null,
            "max_width": null,
            "min_height": null,
            "min_width": null,
            "object_fit": null,
            "object_position": null,
            "order": null,
            "overflow": null,
            "overflow_x": null,
            "overflow_y": null,
            "padding": null,
            "right": null,
            "top": null,
            "visibility": null,
            "width": null
          }
        },
        "0730edc634d3475188c077d5f66bb629": {
          "model_module": "@jupyter-widgets/controls",
          "model_name": "DescriptionStyleModel",
          "model_module_version": "1.5.0",
          "state": {
            "_model_module": "@jupyter-widgets/controls",
            "_model_module_version": "1.5.0",
            "_model_name": "DescriptionStyleModel",
            "_view_count": null,
            "_view_module": "@jupyter-widgets/base",
            "_view_module_version": "1.2.0",
            "_view_name": "StyleView",
            "description_width": ""
          }
        },
        "e57d822dcc134b4fbdede2e4ca0f05c6": {
          "model_module": "@jupyter-widgets/base",
          "model_name": "LayoutModel",
          "model_module_version": "1.2.0",
          "state": {
            "_model_module": "@jupyter-widgets/base",
            "_model_module_version": "1.2.0",
            "_model_name": "LayoutModel",
            "_view_count": null,
            "_view_module": "@jupyter-widgets/base",
            "_view_module_version": "1.2.0",
            "_view_name": "LayoutView",
            "align_content": null,
            "align_items": null,
            "align_self": null,
            "border": null,
            "bottom": null,
            "display": null,
            "flex": null,
            "flex_flow": null,
            "grid_area": null,
            "grid_auto_columns": null,
            "grid_auto_flow": null,
            "grid_auto_rows": null,
            "grid_column": null,
            "grid_gap": null,
            "grid_row": null,
            "grid_template_areas": null,
            "grid_template_columns": null,
            "grid_template_rows": null,
            "height": null,
            "justify_content": null,
            "justify_items": null,
            "left": null,
            "margin": null,
            "max_height": null,
            "max_width": null,
            "min_height": null,
            "min_width": null,
            "object_fit": null,
            "object_position": null,
            "order": null,
            "overflow": null,
            "overflow_x": null,
            "overflow_y": null,
            "padding": null,
            "right": null,
            "top": null,
            "visibility": null,
            "width": null
          }
        },
        "f041743ff9164ed5af6411d4cff1a2d7": {
          "model_module": "@jupyter-widgets/controls",
          "model_name": "DescriptionStyleModel",
          "model_module_version": "1.5.0",
          "state": {
            "_model_module": "@jupyter-widgets/controls",
            "_model_module_version": "1.5.0",
            "_model_name": "DescriptionStyleModel",
            "_view_count": null,
            "_view_module": "@jupyter-widgets/base",
            "_view_module_version": "1.2.0",
            "_view_name": "StyleView",
            "description_width": ""
          }
        }
      }
    }
  },
  "cells": [
    {
      "cell_type": "markdown",
      "metadata": {
        "id": "view-in-github",
        "colab_type": "text"
      },
      "source": [
        "<a href=\"https://colab.research.google.com/github/YorkJong/news-digest/blob/main/notebooks/news_clip.ipynb\" target=\"_parent\"><img src=\"https://colab.research.google.com/assets/colab-badge.svg\" alt=\"Open In Colab\"/></a>"
      ]
    },
    {
      "cell_type": "markdown",
      "source": [
        "這支 notebook 是為了選取剪輯 news-digest 的部分新聞分類，以利後續轉貼\n",
        "執行步驟如下：\n",
        "1. 按下 Install 下那個 code cell 前面的 ► 按鈕來安裝 clip 模組.\n",
        "2. 根據需要，填表執行後面的 Forms 或 Widgets UI"
      ],
      "metadata": {
        "id": "qdoacSllvdm2"
      }
    },
    {
      "cell_type": "markdown",
      "source": [
        "### Install "
      ],
      "metadata": {
        "id": "74XGrOopRPIi"
      }
    },
    {
      "cell_type": "code",
      "source": [
        "import os\n",
        "\n",
        "fns = ['clip.py', 'line.py', 'op.py']\n",
        "\n",
        "for fn in fns:\n",
        "    if os.path.exists(fn):\n",
        "        os.remove(fn)\n",
        "for fn in fns:\n",
        "    url = f'https://raw.githubusercontent.com/YorkJong/news-digest/main/api/{fn}'\n",
        "    !wget $url\n",
        "\n",
        "import clip\n",
        "import line"
      ],
      "metadata": {
        "colab": {
          "base_uri": "https://localhost:8080/"
        },
        "id": "HhPa1e1tse76",
        "outputId": "42344d02-da09-4395-c463-6f750551c8d1"
      },
      "execution_count": 1,
      "outputs": [
        {
          "output_type": "stream",
          "name": "stdout",
          "text": [
            "--2023-03-24 09:53:24--  https://raw.githubusercontent.com/YorkJong/news-digest/main/api/clip.py\n",
            "Resolving raw.githubusercontent.com (raw.githubusercontent.com)... 185.199.109.133, 185.199.111.133, 185.199.108.133, ...\n",
            "Connecting to raw.githubusercontent.com (raw.githubusercontent.com)|185.199.109.133|:443... connected.\n",
            "HTTP request sent, awaiting response... 200 OK\n",
            "Length: 6110 (6.0K) [text/plain]\n",
            "Saving to: ‘clip.py’\n",
            "\n",
            "\rclip.py               0%[                    ]       0  --.-KB/s               \rclip.py             100%[===================>]   5.97K  --.-KB/s    in 0s      \n",
            "\n",
            "2023-03-24 09:53:24 (75.2 MB/s) - ‘clip.py’ saved [6110/6110]\n",
            "\n",
            "--2023-03-24 09:53:25--  https://raw.githubusercontent.com/YorkJong/news-digest/main/api/line.py\n",
            "Resolving raw.githubusercontent.com (raw.githubusercontent.com)... 185.199.108.133, 185.199.109.133, 185.199.110.133, ...\n",
            "Connecting to raw.githubusercontent.com (raw.githubusercontent.com)|185.199.108.133|:443... connected.\n",
            "HTTP request sent, awaiting response... 200 OK\n",
            "Length: 3425 (3.3K) [text/plain]\n",
            "Saving to: ‘line.py’\n",
            "\n",
            "line.py             100%[===================>]   3.34K  --.-KB/s    in 0s      \n",
            "\n",
            "2023-03-24 09:53:25 (65.1 MB/s) - ‘line.py’ saved [3425/3425]\n",
            "\n",
            "--2023-03-24 09:53:25--  https://raw.githubusercontent.com/YorkJong/news-digest/main/api/op.py\n",
            "Resolving raw.githubusercontent.com (raw.githubusercontent.com)... 185.199.108.133, 185.199.109.133, 185.199.110.133, ...\n",
            "Connecting to raw.githubusercontent.com (raw.githubusercontent.com)|185.199.108.133|:443... connected.\n",
            "HTTP request sent, awaiting response... 200 OK\n",
            "Length: 4389 (4.3K) [text/plain]\n",
            "Saving to: ‘op.py’\n",
            "\n",
            "op.py               100%[===================>]   4.29K  --.-KB/s    in 0s      \n",
            "\n",
            "2023-03-24 09:53:25 (55.2 MB/s) - ‘op.py’ saved [4389/4389]\n",
            "\n"
          ]
        }
      ]
    },
    {
      "cell_type": "markdown",
      "source": [
        "### Select Categories with the Colab Forms"
      ],
      "metadata": {
        "id": "jcbcKHfqSzyQ"
      }
    },
    {
      "cell_type": "code",
      "source": [
        "#@title Single Selection { run: \"auto\" }\n",
        "category = \"AI\" #@param [\"Tesla & SpaceX; Vehicle\", \"Tech Titans\", \"Finance\", \"Taiwan\", \"Crypto\", \"Technology\", \"AI\"] {allow-input: true}\n",
        "with_hashtags = False #@param {type:\"boolean\"}\n",
        "with_headers = False #@param {type:\"boolean\"}\n",
        "\n",
        "content = clip.get_latest_journal()\n",
        "lines = clip.get_lines_of_categories([category], content, with_hashtags, with_headers)\n",
        "text = '\\n'.join(lines)\n",
        "print(text)"
      ],
      "metadata": {
        "colab": {
          "base_uri": "https://localhost:8080/"
        },
        "cellView": "form",
        "id": "tGXYiHdUOgRp",
        "outputId": "487c2492-4cac-4be3-c9e2-c853ef0ff01f"
      },
      "execution_count": 2,
      "outputs": [
        {
          "output_type": "stream",
          "name": "stdout",
          "text": [
            "- [ChatGPT 增插件功能，提供更即時的資訊，不再是 2021 年的舊數據了](https://chinese.engadget.com/chatgpts-new-plugins-will-deliver-real-time-stats-045740720.html)\n",
            "- [GPT-4掀起AI界高潮，ChatGPT之父卻怕了：我設了一個終止開關](https://www.bnext.com.tw/article/74515/chatgpt-openai-samaltman-miramurati)\n",
            "- [ChatGPT 嚴重衝擊 19% 工作，OpenAI：收入越高影響越大](https://technews.tw/2023/03/24/openai-chatgpt-could-disrupt-19-percent-of-us-jobs/)\n",
            "- [比爾蓋茲看AI：我人生中第2次科技革命！AI怎麼影響人類？如何消除不平等？](https://www.bnext.com.tw/article/74558/bill-gates-age-of-ai)\n",
            "-\n"
          ]
        }
      ]
    },
    {
      "cell_type": "code",
      "source": [
        "#@title Multiple Selections { run: \"auto\" }\n",
        "first_category = \"Tesla & SpaceX; Vehicle\" #@param [\"Tesla & SpaceX; Vehicle\", \"Tech Titans\", \"Finance\", \"Taiwan\", \"Crypto\", \"Technology\", \"AI\"] {allow-input: true}\n",
        "last_category = \"Finance\" #@param [\"Tesla & SpaceX; Vehicle\", \"Tech Titans\", \"Finance\", \"Taiwan\", \"Crypto\", \"Technology\", \"AI\"] {allow-input: true}\n",
        "with_hashtags = False #@param {type:\"boolean\"}\n",
        "with_headers = True #@param {type:\"boolean\"}\n",
        "\n",
        "content = clip.get_latest_journal()\n",
        "categories = clip.get_categories(content)\n",
        "categories = clip.get_sublist(categories, first_category, last_category)\n",
        "lines = clip.get_lines_of_categories(categories, content, with_hashtags, with_headers)\n",
        "text = '\\n'.join(lines)\n",
        "print(text)\n"
      ],
      "metadata": {
        "cellView": "form",
        "id": "QRwq2sNpi8c3",
        "colab": {
          "base_uri": "https://localhost:8080/"
        },
        "outputId": "bed6dc91-acdb-4268-bf13-34f0be2932e0"
      },
      "execution_count": 3,
      "outputs": [
        {
          "output_type": "stream",
          "name": "stdout",
          "text": [
            "### Tesla & SpaceX; Vehicle\n",
            "- [Tesla汽車引發價格戰 恐令大陸汽車市場大洗牌](https://www.chinatimes.com/realtimenews/20230323005342-260409)\n",
            "- [太狂了！Tesla 特斯拉車主拆了 Model 3 ，用零件打造「CyberRoadster」跑車](https://today.line.me/tw/v2/article/0MOeanp)\n",
            "- [BTCC特斯拉通證化合約 交易量超越狗狗幣](https://news.cnyes.com/news/id/5125754)\n",
            "- [馬斯克新金主？中東國家也想投資SpaceX - 自由財經](https://ec.ltn.com.tw/article/breakingnews/4248893)\n",
            "- [豐田艱難路（4）繼續挑戰氫能車  日經中文網](https://zh.cn.nikkei.com/industry/icar/51809-2023-03-24-05-03-00.html)\n",
            "-\n",
            "### Tech Titans\n",
            "- [NVIDIA CEO：延續摩爾定律優勢得靠AI人工智慧編寫軟體](https://www.4gamers.com.tw/news/detail/57402/nvidia-ceo-jensen-huang-talk-about-moore-s-law-after-gtc-2023-march)\n",
            "- [NVIDIA CEO 黃仁勳 希望繼續領導3或4個10年](https://www.coolaler.com/index/nvidia-ceo-黃仁勳-希望繼續領導3或4個10年/)\n",
            "- [NVIDIA、ASML、台積電與 Synopsys 攜手合力運算式微影技術挑戰物理極限](https://news.xfastest.com/nvidia/125744/nvidia-asml-tsmc-synopsys-culitho/)\n",
            "- [微軟高層 ：Bard 跟 Bing 還落後很多！](https://www.newmobilelife.com/2023/03/24/mikhail-parakhin-to-comment-bard/)\n",
            "- [醫療行政負荷大解放！微軟子公司推出整合 GPT-4 的門診內容自動轉寫技術](https://technews.tw/2023/03/24/openai-powered-app-from-microsoft-will-instantly-transcribe-patient-notes-during-doctor-visits/)\n",
            "- [微軟 Loop 專案協作頁面實測，「元件」協作和 Notion 的差異比較](https://www.playpcesor.com/2023/03/loop-notion.html)\n",
            "- [看來微軟還是執意要在 Windows 11 開始功能表放廣告…](https://www.kocpc.com.tw/archives/485470)\n",
            "- [團隊協作新想像，微軟推出激似 Notion 新工具](https://technews.tw/2023/03/23/new-microsoft-loop-app-is-built-for-modern-co-creation/)\n",
            "- [好用到讓你脫離不了小圈圈的 Microsoft Loop 協作服務來了](https://www.kocpc.com.tw/archives/485408)\n",
            "- [蘋果再度出手打擊遠距工作，追蹤員工出勤紀錄](https://technews.tw/2023/03/23/apple-employee-can-not-work-from-home/)\n",
            "- [跟隨推特！Meta也推訂閱制，想做什麼？對創作者有什麼好處？](https://www.bnext.com.tw/article/74518/meta-verified)\n",
            "-\n",
            "### Finance\n",
            "- [原来差点救不加息了！著名做空机构开炮！对冲基金仓位变化！](https://www.youtube.com/watch?v=iqDRzSpx4Nw)\n",
            "-\n"
          ]
        }
      ]
    },
    {
      "cell_type": "markdown",
      "source": [
        "### Select multiple categories with Jupyter Widgets"
      ],
      "metadata": {
        "id": "bHZpE5gJsacz"
      }
    },
    {
      "cell_type": "markdown",
      "source": [
        "#### Layout Widges"
      ],
      "metadata": {
        "id": "gbBeXRwHm8gn"
      }
    },
    {
      "cell_type": "code",
      "source": [
        "import ipywidgets as widgets\n",
        "\n",
        "content = clip.get_latest_journal()\n",
        "options = clip.get_categories(content)\n",
        "\n",
        "categories = widgets.SelectMultiple(\n",
        "    options=options,\n",
        "    value=[options[0]],\n",
        "    rows=len(options),\n",
        "    description='Categories',\n",
        "    disabled=False\n",
        ")\n",
        "\n",
        "with_hashtags = widgets.Checkbox(\n",
        "    value=True,\n",
        "    description='with hashtags',\n",
        "    disabled=False\n",
        ")\n",
        "\n",
        "with_headers = widgets.Checkbox(\n",
        "    value=True,\n",
        "    description='with headers',\n",
        "    disabled=False\n",
        ")\n",
        "\n",
        "flags = widgets.VBox([with_hashtags, with_headers])\n",
        "ui = widgets.HBox([categories, flags])"
      ],
      "metadata": {
        "id": "z--kb0R3m6XF"
      },
      "execution_count": 4,
      "outputs": []
    },
    {
      "cell_type": "markdown",
      "source": [
        "#### Show Widgets UI"
      ],
      "metadata": {
        "id": "CglrrPRrnrWg"
      }
    },
    {
      "cell_type": "code",
      "source": [
        "ui"
      ],
      "metadata": {
        "colab": {
          "base_uri": "https://localhost:8080/",
          "height": 144,
          "referenced_widgets": [
            "48671018fda64f53958ebfb77f88e237",
            "91d1a2a31c454a16840c0784c52e81f9",
            "2e3caf22e60241f2b588fa8d25844707",
            "729c6cbcab05416ca5bda2045a8e9bb1",
            "b466fd75567f4209a7975682fdc0f0c9",
            "9833689396184b7a9399842a07c3f899",
            "0eb4029619b149369114857255f97a64",
            "8ac019d485ab48499a524e251ac13be2",
            "22ab762afbf549b09b831b4205f380d3",
            "4bd98377959a4a8b98e4793db56ed3db",
            "0730edc634d3475188c077d5f66bb629",
            "e57d822dcc134b4fbdede2e4ca0f05c6",
            "f041743ff9164ed5af6411d4cff1a2d7"
          ]
        },
        "id": "g-Q0ReLBmyPy",
        "outputId": "f2841319-a5ae-411e-e31b-c688fed7b577"
      },
      "execution_count": 5,
      "outputs": [
        {
          "output_type": "display_data",
          "data": {
            "text/plain": [
              "HBox(children=(SelectMultiple(description='Categories', index=(0,), options=('Tesla & SpaceX; Vehicle', 'Tech …"
            ],
            "application/vnd.jupyter.widget-view+json": {
              "version_major": 2,
              "version_minor": 0,
              "model_id": "48671018fda64f53958ebfb77f88e237"
            }
          },
          "metadata": {}
        }
      ]
    },
    {
      "cell_type": "code",
      "source": [
        "lines = clip.get_lines_of_categories(categories.value, content, with_hashtags.value, with_headers.value)\n",
        "text = '\\n'.join(lines) \n",
        "print(text)"
      ],
      "metadata": {
        "id": "xczHHjuqp16i",
        "colab": {
          "base_uri": "https://localhost:8080/"
        },
        "outputId": "aca644d8-97e3-4d78-d542-86053ae44194"
      },
      "execution_count": 6,
      "outputs": [
        {
          "output_type": "stream",
          "name": "stdout",
          "text": [
            "### Tesla & SpaceX; Vehicle\n",
            "- [Tesla汽車引發價格戰 恐令大陸汽車市場大洗牌](https://www.chinatimes.com/realtimenews/20230323005342-260409) #TSLA #EV\n",
            "- [太狂了！Tesla 特斯拉車主拆了 Model 3 ，用零件打造「CyberRoadster」跑車](https://today.line.me/tw/v2/article/0MOeanp) #TSLA #EV\n",
            "- [BTCC特斯拉通證化合約 交易量超越狗狗幣](https://news.cnyes.com/news/id/5125754) #TSLA #DOGE #Crypto #BTCC\n",
            "- [馬斯克新金主？中東國家也想投資SpaceX - 自由財經](https://ec.ltn.com.tw/article/breakingnews/4248893) #SpaceX\n",
            "- [豐田艱難路（4）繼續挑戰氫能車  日經中文網](https://zh.cn.nikkei.com/industry/icar/51809-2023-03-24-05-03-00.html) #EV #FCEV\n",
            "-\n"
          ]
        }
      ]
    },
    {
      "cell_type": "markdown",
      "source": [
        "### Line Notify"
      ],
      "metadata": {
        "id": "nee6Or5sdfsB"
      }
    },
    {
      "cell_type": "code",
      "source": [
        "tok_tbl = {\n",
        "    '阿寬': 'ACCESS TOKEN 1',\n",
        "    '區塊鏈': 'ACCESS TOKEN 2',\n",
        "    '股之呼吸': 'ACCESS TOKEN 3',\n",
        "    'MiniGroup': 'ACCESS TOKEN 4',\n",
        "}"
      ],
      "metadata": {
        "id": "1CNz3wlfR_Dy"
      },
      "execution_count": 8,
      "outputs": []
    },
    {
      "cell_type": "code",
      "source": [
        "#@title Send message\n",
        "receiver = \"\\u963F\\u5BEC\" #@param [\"阿寬\", \"區塊鏈\", \"股之呼吸\", \"MiniGroup\"]\n",
        "\n",
        "message = f'\\n\\n{text}'\n",
        "token = tok_tbl[receiver]\n",
        "line.notify_message(message, token)"
      ],
      "metadata": {
        "id": "Jtw7QfKuprt1",
        "cellView": "form"
      },
      "execution_count": 9,
      "outputs": []
    },
    {
      "cell_type": "markdown",
      "source": [
        "### References\n",
        "* [news_clip.ipynb (from GitHub)](https://colab.research.google.com/github/YorkJong/news-digest/blob/main/notebooks/news_clip.ipynb)\n",
        "* [LINE Notify ::My page](https://notify-bot.line.me/my/)"
      ],
      "metadata": {
        "id": "l9kvYn67Zue4"
      }
    }
  ]
}