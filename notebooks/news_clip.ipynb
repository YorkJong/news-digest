{
  "nbformat": 4,
  "nbformat_minor": 0,
  "metadata": {
    "colab": {
      "provenance": [],
      "collapsed_sections": [
        "lGmIv-dHZnVz"
      ],
      "authorship_tag": "ABX9TyN88B1jNy53nTrZvMTQHJiy",
      "include_colab_link": true
    },
    "kernelspec": {
      "name": "python3",
      "display_name": "Python 3"
    },
    "language_info": {
      "name": "python"
    },
    "widgets": {
      "application/vnd.jupyter.widget-state+json": {
        "da2420313ef14112a9fc81b5b98aa2b4": {
          "model_module": "@jupyter-widgets/controls",
          "model_name": "HBoxModel",
          "model_module_version": "1.5.0",
          "state": {
            "_dom_classes": [],
            "_model_module": "@jupyter-widgets/controls",
            "_model_module_version": "1.5.0",
            "_model_name": "HBoxModel",
            "_view_count": null,
            "_view_module": "@jupyter-widgets/controls",
            "_view_module_version": "1.5.0",
            "_view_name": "HBoxView",
            "box_style": "",
            "children": [
              "IPY_MODEL_1b97a25bef384845aefdd085ef2c57ba",
              "IPY_MODEL_292ee0291f5a45b2b258c53587b3db9d"
            ],
            "layout": "IPY_MODEL_e9691791b8644519bcf00e6f95d1d406"
          }
        },
        "1b97a25bef384845aefdd085ef2c57ba": {
          "model_module": "@jupyter-widgets/controls",
          "model_name": "SelectMultipleModel",
          "model_module_version": "1.5.0",
          "state": {
            "_dom_classes": [],
            "_model_module": "@jupyter-widgets/controls",
            "_model_module_version": "1.5.0",
            "_model_name": "SelectMultipleModel",
            "_options_labels": [
              "Tesla & SpaceX; Vehicle",
              "Tech Titans",
              "Finance",
              "Taiwan",
              "Crypto",
              "Technology",
              "AI"
            ],
            "_view_count": null,
            "_view_module": "@jupyter-widgets/controls",
            "_view_module_version": "1.5.0",
            "_view_name": "SelectMultipleView",
            "description": "Categories",
            "description_tooltip": null,
            "disabled": false,
            "index": [
              0
            ],
            "layout": "IPY_MODEL_d3bdf8f17e024631b575d1052f1f7b53",
            "rows": 7,
            "style": "IPY_MODEL_6c04fe0a10ae49b3b4bfce9db4066ebe"
          }
        },
        "292ee0291f5a45b2b258c53587b3db9d": {
          "model_module": "@jupyter-widgets/controls",
          "model_name": "VBoxModel",
          "model_module_version": "1.5.0",
          "state": {
            "_dom_classes": [],
            "_model_module": "@jupyter-widgets/controls",
            "_model_module_version": "1.5.0",
            "_model_name": "VBoxModel",
            "_view_count": null,
            "_view_module": "@jupyter-widgets/controls",
            "_view_module_version": "1.5.0",
            "_view_name": "VBoxView",
            "box_style": "",
            "children": [
              "IPY_MODEL_f268fe12c146449489bc5e57b30e1453",
              "IPY_MODEL_a8ddd2bb82774d2795296566428f71ec"
            ],
            "layout": "IPY_MODEL_05da1aaf26fd4e99b71c0435f6e9ff38"
          }
        },
        "e9691791b8644519bcf00e6f95d1d406": {
          "model_module": "@jupyter-widgets/base",
          "model_name": "LayoutModel",
          "model_module_version": "1.2.0",
          "state": {
            "_model_module": "@jupyter-widgets/base",
            "_model_module_version": "1.2.0",
            "_model_name": "LayoutModel",
            "_view_count": null,
            "_view_module": "@jupyter-widgets/base",
            "_view_module_version": "1.2.0",
            "_view_name": "LayoutView",
            "align_content": null,
            "align_items": null,
            "align_self": null,
            "border": null,
            "bottom": null,
            "display": null,
            "flex": null,
            "flex_flow": null,
            "grid_area": null,
            "grid_auto_columns": null,
            "grid_auto_flow": null,
            "grid_auto_rows": null,
            "grid_column": null,
            "grid_gap": null,
            "grid_row": null,
            "grid_template_areas": null,
            "grid_template_columns": null,
            "grid_template_rows": null,
            "height": null,
            "justify_content": null,
            "justify_items": null,
            "left": null,
            "margin": null,
            "max_height": null,
            "max_width": null,
            "min_height": null,
            "min_width": null,
            "object_fit": null,
            "object_position": null,
            "order": null,
            "overflow": null,
            "overflow_x": null,
            "overflow_y": null,
            "padding": null,
            "right": null,
            "top": null,
            "visibility": null,
            "width": null
          }
        },
        "d3bdf8f17e024631b575d1052f1f7b53": {
          "model_module": "@jupyter-widgets/base",
          "model_name": "LayoutModel",
          "model_module_version": "1.2.0",
          "state": {
            "_model_module": "@jupyter-widgets/base",
            "_model_module_version": "1.2.0",
            "_model_name": "LayoutModel",
            "_view_count": null,
            "_view_module": "@jupyter-widgets/base",
            "_view_module_version": "1.2.0",
            "_view_name": "LayoutView",
            "align_content": null,
            "align_items": null,
            "align_self": null,
            "border": null,
            "bottom": null,
            "display": null,
            "flex": null,
            "flex_flow": null,
            "grid_area": null,
            "grid_auto_columns": null,
            "grid_auto_flow": null,
            "grid_auto_rows": null,
            "grid_column": null,
            "grid_gap": null,
            "grid_row": null,
            "grid_template_areas": null,
            "grid_template_columns": null,
            "grid_template_rows": null,
            "height": null,
            "justify_content": null,
            "justify_items": null,
            "left": null,
            "margin": null,
            "max_height": null,
            "max_width": null,
            "min_height": null,
            "min_width": null,
            "object_fit": null,
            "object_position": null,
            "order": null,
            "overflow": null,
            "overflow_x": null,
            "overflow_y": null,
            "padding": null,
            "right": null,
            "top": null,
            "visibility": null,
            "width": null
          }
        },
        "6c04fe0a10ae49b3b4bfce9db4066ebe": {
          "model_module": "@jupyter-widgets/controls",
          "model_name": "DescriptionStyleModel",
          "model_module_version": "1.5.0",
          "state": {
            "_model_module": "@jupyter-widgets/controls",
            "_model_module_version": "1.5.0",
            "_model_name": "DescriptionStyleModel",
            "_view_count": null,
            "_view_module": "@jupyter-widgets/base",
            "_view_module_version": "1.2.0",
            "_view_name": "StyleView",
            "description_width": ""
          }
        },
        "f268fe12c146449489bc5e57b30e1453": {
          "model_module": "@jupyter-widgets/controls",
          "model_name": "CheckboxModel",
          "model_module_version": "1.5.0",
          "state": {
            "_dom_classes": [],
            "_model_module": "@jupyter-widgets/controls",
            "_model_module_version": "1.5.0",
            "_model_name": "CheckboxModel",
            "_view_count": null,
            "_view_module": "@jupyter-widgets/controls",
            "_view_module_version": "1.5.0",
            "_view_name": "CheckboxView",
            "description": "with hashtags",
            "description_tooltip": null,
            "disabled": false,
            "indent": true,
            "layout": "IPY_MODEL_59efdf1af108405ab35b88cf708eba78",
            "style": "IPY_MODEL_955d2269575f4c6dbc96603a1939a1f3",
            "value": true
          }
        },
        "a8ddd2bb82774d2795296566428f71ec": {
          "model_module": "@jupyter-widgets/controls",
          "model_name": "CheckboxModel",
          "model_module_version": "1.5.0",
          "state": {
            "_dom_classes": [],
            "_model_module": "@jupyter-widgets/controls",
            "_model_module_version": "1.5.0",
            "_model_name": "CheckboxModel",
            "_view_count": null,
            "_view_module": "@jupyter-widgets/controls",
            "_view_module_version": "1.5.0",
            "_view_name": "CheckboxView",
            "description": "with headers",
            "description_tooltip": null,
            "disabled": false,
            "indent": true,
            "layout": "IPY_MODEL_846e84a6ea4c4ab194f667c5f3f4d2df",
            "style": "IPY_MODEL_ab9291166dde4da6be5b969f7505935f",
            "value": true
          }
        },
        "05da1aaf26fd4e99b71c0435f6e9ff38": {
          "model_module": "@jupyter-widgets/base",
          "model_name": "LayoutModel",
          "model_module_version": "1.2.0",
          "state": {
            "_model_module": "@jupyter-widgets/base",
            "_model_module_version": "1.2.0",
            "_model_name": "LayoutModel",
            "_view_count": null,
            "_view_module": "@jupyter-widgets/base",
            "_view_module_version": "1.2.0",
            "_view_name": "LayoutView",
            "align_content": null,
            "align_items": null,
            "align_self": null,
            "border": null,
            "bottom": null,
            "display": null,
            "flex": null,
            "flex_flow": null,
            "grid_area": null,
            "grid_auto_columns": null,
            "grid_auto_flow": null,
            "grid_auto_rows": null,
            "grid_column": null,
            "grid_gap": null,
            "grid_row": null,
            "grid_template_areas": null,
            "grid_template_columns": null,
            "grid_template_rows": null,
            "height": null,
            "justify_content": null,
            "justify_items": null,
            "left": null,
            "margin": null,
            "max_height": null,
            "max_width": null,
            "min_height": null,
            "min_width": null,
            "object_fit": null,
            "object_position": null,
            "order": null,
            "overflow": null,
            "overflow_x": null,
            "overflow_y": null,
            "padding": null,
            "right": null,
            "top": null,
            "visibility": null,
            "width": null
          }
        },
        "59efdf1af108405ab35b88cf708eba78": {
          "model_module": "@jupyter-widgets/base",
          "model_name": "LayoutModel",
          "model_module_version": "1.2.0",
          "state": {
            "_model_module": "@jupyter-widgets/base",
            "_model_module_version": "1.2.0",
            "_model_name": "LayoutModel",
            "_view_count": null,
            "_view_module": "@jupyter-widgets/base",
            "_view_module_version": "1.2.0",
            "_view_name": "LayoutView",
            "align_content": null,
            "align_items": null,
            "align_self": null,
            "border": null,
            "bottom": null,
            "display": null,
            "flex": null,
            "flex_flow": null,
            "grid_area": null,
            "grid_auto_columns": null,
            "grid_auto_flow": null,
            "grid_auto_rows": null,
            "grid_column": null,
            "grid_gap": null,
            "grid_row": null,
            "grid_template_areas": null,
            "grid_template_columns": null,
            "grid_template_rows": null,
            "height": null,
            "justify_content": null,
            "justify_items": null,
            "left": null,
            "margin": null,
            "max_height": null,
            "max_width": null,
            "min_height": null,
            "min_width": null,
            "object_fit": null,
            "object_position": null,
            "order": null,
            "overflow": null,
            "overflow_x": null,
            "overflow_y": null,
            "padding": null,
            "right": null,
            "top": null,
            "visibility": null,
            "width": null
          }
        },
        "955d2269575f4c6dbc96603a1939a1f3": {
          "model_module": "@jupyter-widgets/controls",
          "model_name": "DescriptionStyleModel",
          "model_module_version": "1.5.0",
          "state": {
            "_model_module": "@jupyter-widgets/controls",
            "_model_module_version": "1.5.0",
            "_model_name": "DescriptionStyleModel",
            "_view_count": null,
            "_view_module": "@jupyter-widgets/base",
            "_view_module_version": "1.2.0",
            "_view_name": "StyleView",
            "description_width": ""
          }
        },
        "846e84a6ea4c4ab194f667c5f3f4d2df": {
          "model_module": "@jupyter-widgets/base",
          "model_name": "LayoutModel",
          "model_module_version": "1.2.0",
          "state": {
            "_model_module": "@jupyter-widgets/base",
            "_model_module_version": "1.2.0",
            "_model_name": "LayoutModel",
            "_view_count": null,
            "_view_module": "@jupyter-widgets/base",
            "_view_module_version": "1.2.0",
            "_view_name": "LayoutView",
            "align_content": null,
            "align_items": null,
            "align_self": null,
            "border": null,
            "bottom": null,
            "display": null,
            "flex": null,
            "flex_flow": null,
            "grid_area": null,
            "grid_auto_columns": null,
            "grid_auto_flow": null,
            "grid_auto_rows": null,
            "grid_column": null,
            "grid_gap": null,
            "grid_row": null,
            "grid_template_areas": null,
            "grid_template_columns": null,
            "grid_template_rows": null,
            "height": null,
            "justify_content": null,
            "justify_items": null,
            "left": null,
            "margin": null,
            "max_height": null,
            "max_width": null,
            "min_height": null,
            "min_width": null,
            "object_fit": null,
            "object_position": null,
            "order": null,
            "overflow": null,
            "overflow_x": null,
            "overflow_y": null,
            "padding": null,
            "right": null,
            "top": null,
            "visibility": null,
            "width": null
          }
        },
        "ab9291166dde4da6be5b969f7505935f": {
          "model_module": "@jupyter-widgets/controls",
          "model_name": "DescriptionStyleModel",
          "model_module_version": "1.5.0",
          "state": {
            "_model_module": "@jupyter-widgets/controls",
            "_model_module_version": "1.5.0",
            "_model_name": "DescriptionStyleModel",
            "_view_count": null,
            "_view_module": "@jupyter-widgets/base",
            "_view_module_version": "1.2.0",
            "_view_name": "StyleView",
            "description_width": ""
          }
        }
      }
    }
  },
  "cells": [
    {
      "cell_type": "markdown",
      "metadata": {
        "id": "view-in-github",
        "colab_type": "text"
      },
      "source": [
        "<a href=\"https://colab.research.google.com/github/YorkJong/news-digest/blob/main/notebooks/news_clip.ipynb\" target=\"_parent\"><img src=\"https://colab.research.google.com/assets/colab-badge.svg\" alt=\"Open In Colab\"/></a>"
      ]
    },
    {
      "cell_type": "markdown",
      "source": [
        "這支 notebook 是為了選取剪輯 news-digest 的部分新聞分類，以利後續轉貼\n",
        "執行步驟如下：\n",
        "1. 按下 Install 下那個 code cell 前面的 ► 按鈕來安裝 clip 模組.\n",
        "2. 根據需要，填表執行後面的 Forms 或 Widgets UI"
      ],
      "metadata": {
        "id": "qdoacSllvdm2"
      }
    },
    {
      "cell_type": "markdown",
      "source": [
        "### Install "
      ],
      "metadata": {
        "id": "74XGrOopRPIi"
      }
    },
    {
      "cell_type": "code",
      "source": [
        "!curl -o clip.py https://raw.githubusercontent.com/YorkJong/news-digest/main/src/clip.py\n",
        "from clip import *"
      ],
      "metadata": {
        "colab": {
          "base_uri": "https://localhost:8080/"
        },
        "id": "HhPa1e1tse76",
        "outputId": "1c350016-5b58-4a04-824c-b32ef4f23128"
      },
      "execution_count": 31,
      "outputs": [
        {
          "output_type": "stream",
          "name": "stdout",
          "text": [
            "  % Total    % Received % Xferd  Average Speed   Time    Time     Time  Current\n",
            "                                 Dload  Upload   Total   Spent    Left  Speed\n",
            "\r  0     0    0     0    0     0      0      0 --:--:-- --:--:-- --:--:--     0\r100  4967  100  4967    0     0  24835      0 --:--:-- --:--:-- --:--:-- 24835\n"
          ]
        }
      ]
    },
    {
      "cell_type": "markdown",
      "source": [
        "### Select Categories with the Colab Forms"
      ],
      "metadata": {
        "id": "jcbcKHfqSzyQ"
      }
    },
    {
      "cell_type": "code",
      "source": [
        "#@title Single Selection { run: \"auto\" }\n",
        "category = \"Taiwan\" #@param [\"Tesla & SpaceX; Vehicle\", \"Tech Titans\", \"Finance\", \"Taiwan\", \"Crypto\", \"Technology\", \"AI\"] {allow-input: true}\n",
        "with_hashtags = False #@param {type:\"boolean\"}\n",
        "with_headers = True #@param {type:\"boolean\"}\n",
        "\n",
        "fn = get_latest_fn(\"journals\")\n",
        "content = get_file(fn)\n",
        "lines = get_lines_of_categories([category], content, with_hashtags, with_headers)\n",
        "print('\\n'.join(lines))\n",
        "\n",
        "# Copy text to clipboard in Python using pandas module\n",
        "#import pandas as pd\n",
        "#df=pd.DataFrame(['Text to copy'])\n",
        "#df.to_clipboard(index=False, header=False)"
      ],
      "metadata": {
        "colab": {
          "base_uri": "https://localhost:8080/"
        },
        "cellView": "form",
        "id": "tGXYiHdUOgRp",
        "outputId": "77f5ead6-671e-481c-d58c-45b69dd108e1"
      },
      "execution_count": 36,
      "outputs": [
        {
          "output_type": "stream",
          "name": "stdout",
          "text": [
            "### Taiwan\n",
            "- [跟上特斯拉腳步 和碩增資墨西哥廠逾15億元](https://ec.ltn.com.tw/article/breakingnews/4246868)\n",
            "- [momo 併 MyBook 電子書，總座證實將推全新閱讀器](https://technews.tw/2023/03/21/president-jeff-ku-looking-forward-to-momo-this-year/)\n",
            "- [光一台EUV，每天就耗掉3萬度電！工業用電大漲17％，會衝擊台積電嗎？](https://www.bnext.com.tw/article/74507/tssmc-euv-pg-cost-impact)\n",
            "- [童子賢「吃誠實豆沙包」：外商來台設資料中心，只是在用台灣低廉電價⋯](https://www.bnext.com.tw/article/74504/tongtzuhs-tw-elec-price-cheap)\n",
            "- [經濟部加速軍用商規無人機國產化 與7家廠商簽約](https://m.cnyes.com/news/id/5117623)\n",
            "- [【國內新訊】氫燃料動力在台首賣？Toyota宣布將專案引進Mirai電動車！ (第3頁)](https://m.mobile01.com/topicdetail.php?f=264&p=3&t=6758523)\n",
            "- [緯創搭上AI熱潮，砸62億元進軍數位內容！硬體起家，為何頻頻跨界做軟體？](https://www.bnext.com.tw/article/74493/wistron-bot)\n",
            "-\n"
          ]
        }
      ]
    },
    {
      "cell_type": "code",
      "source": [
        "#@title Multiple Selections { run: \"auto\" }\n",
        "first_category = \"Tesla & SpaceX; Vehicle\" #@param [\"Tesla & SpaceX; Vehicle\", \"Tech Titans\", \"Finance\", \"Taiwan\", \"Crypto\", \"Technology\", \"AI\"] {allow-input: true}\n",
        "last_category = \"Finance\" #@param [\"Tesla & SpaceX; Vehicle\", \"Tech Titans\", \"Finance\", \"Taiwan\", \"Crypto\", \"Technology\", \"AI\"] {allow-input: true}\n",
        "with_hashtags = False #@param {type:\"boolean\"}\n",
        "with_headers = True #@param {type:\"boolean\"}\n",
        "\n",
        "fn = get_latest_fn(\"journals\")\n",
        "content = get_file(fn)\n",
        "categories = get_categories(content)\n",
        "categories = get_sublist(categories, first_category, last_category)\n",
        "lines = get_lines_of_categories(categories, content, with_hashtags, with_headers)\n",
        "print('\\n'.join(lines))\n"
      ],
      "metadata": {
        "cellView": "form",
        "id": "QRwq2sNpi8c3"
      },
      "execution_count": null,
      "outputs": []
    },
    {
      "cell_type": "markdown",
      "source": [
        "### Select multiple categories with Jupyter Widgets"
      ],
      "metadata": {
        "id": "bHZpE5gJsacz"
      }
    },
    {
      "cell_type": "code",
      "source": [
        "import ipywidgets as widgets\n",
        "\n",
        "fn = get_latest_fn(\"journals\")\n",
        "content = get_file(fn)\n",
        "options = get_categories(content)\n",
        "\n",
        "categories = widgets.SelectMultiple(\n",
        "    options=options,\n",
        "    value=[options[0]],\n",
        "    rows=len(options),\n",
        "    description='Categories',\n",
        "    disabled=False\n",
        ")\n",
        "\n",
        "with_hashtags = widgets.Checkbox(\n",
        "    value=True,\n",
        "    description='with hashtags',\n",
        "    disabled=False\n",
        ")\n",
        "\n",
        "with_headers = widgets.Checkbox(\n",
        "    value=True,\n",
        "    description='with headers',\n",
        "    disabled=False\n",
        ")\n",
        "\n",
        "flags = widgets.VBox([with_hashtags, with_headers])\n",
        "widgets.HBox([categories, flags])"
      ],
      "metadata": {
        "colab": {
          "base_uri": "https://localhost:8080/",
          "height": 144,
          "referenced_widgets": [
            "da2420313ef14112a9fc81b5b98aa2b4",
            "1b97a25bef384845aefdd085ef2c57ba",
            "292ee0291f5a45b2b258c53587b3db9d",
            "e9691791b8644519bcf00e6f95d1d406",
            "d3bdf8f17e024631b575d1052f1f7b53",
            "6c04fe0a10ae49b3b4bfce9db4066ebe",
            "f268fe12c146449489bc5e57b30e1453",
            "a8ddd2bb82774d2795296566428f71ec",
            "05da1aaf26fd4e99b71c0435f6e9ff38",
            "59efdf1af108405ab35b88cf708eba78",
            "955d2269575f4c6dbc96603a1939a1f3",
            "846e84a6ea4c4ab194f667c5f3f4d2df",
            "ab9291166dde4da6be5b969f7505935f"
          ]
        },
        "id": "g-Q0ReLBmyPy",
        "outputId": "2e66ba2b-3e7a-49c4-a609-87a440d62428"
      },
      "execution_count": 38,
      "outputs": [
        {
          "output_type": "display_data",
          "data": {
            "text/plain": [
              "HBox(children=(SelectMultiple(description='Categories', index=(0,), options=('Tesla & SpaceX; Vehicle', 'Tech …"
            ],
            "application/vnd.jupyter.widget-view+json": {
              "version_major": 2,
              "version_minor": 0,
              "model_id": "da2420313ef14112a9fc81b5b98aa2b4"
            }
          },
          "metadata": {}
        }
      ]
    },
    {
      "cell_type": "code",
      "source": [
        "lines = get_lines_of_categories(categories.value, content, with_hashtags.value, with_headers.value)\n",
        "print('\\n'.join(lines))"
      ],
      "metadata": {
        "id": "xczHHjuqp16i"
      },
      "execution_count": null,
      "outputs": []
    }
  ]
}