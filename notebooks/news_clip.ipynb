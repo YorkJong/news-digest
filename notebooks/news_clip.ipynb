{
  "nbformat": 4,
  "nbformat_minor": 0,
  "metadata": {
    "colab": {
      "provenance": [],
      "collapsed_sections": [
        "74XGrOopRPIi",
        "gbBeXRwHm8gn"
      ],
      "authorship_tag": "ABX9TyPSdwwfalId+wmAPp2my3Ns",
      "include_colab_link": true
    },
    "kernelspec": {
      "name": "python3",
      "display_name": "Python 3"
    },
    "language_info": {
      "name": "python"
    },
    "widgets": {
      "application/vnd.jupyter.widget-state+json": {
        "ead3d6462fa64b23918cafefabd68fb4": {
          "model_module": "@jupyter-widgets/controls",
          "model_name": "HBoxModel",
          "model_module_version": "1.5.0",
          "state": {
            "_dom_classes": [],
            "_model_module": "@jupyter-widgets/controls",
            "_model_module_version": "1.5.0",
            "_model_name": "HBoxModel",
            "_view_count": null,
            "_view_module": "@jupyter-widgets/controls",
            "_view_module_version": "1.5.0",
            "_view_name": "HBoxView",
            "box_style": "",
            "children": [
              "IPY_MODEL_88acdb5216f14c9aa19423d93410c7c2",
              "IPY_MODEL_f4e8966e8b53403388243265e8cd13f8"
            ],
            "layout": "IPY_MODEL_258867cdde17402da674eaf46699f79b"
          }
        },
        "88acdb5216f14c9aa19423d93410c7c2": {
          "model_module": "@jupyter-widgets/controls",
          "model_name": "VBoxModel",
          "model_module_version": "1.5.0",
          "state": {
            "_dom_classes": [],
            "_model_module": "@jupyter-widgets/controls",
            "_model_module_version": "1.5.0",
            "_model_name": "VBoxModel",
            "_view_count": null,
            "_view_module": "@jupyter-widgets/controls",
            "_view_module_version": "1.5.0",
            "_view_name": "VBoxView",
            "box_style": "",
            "children": [
              "IPY_MODEL_21476bacb9e04f3bbc5a8bb12ef149ee",
              "IPY_MODEL_af6e8d45e87c446fb78701197f1345c7"
            ],
            "layout": "IPY_MODEL_e3de919b7e3c4e5ebc60b897c9f84926"
          }
        },
        "f4e8966e8b53403388243265e8cd13f8": {
          "model_module": "@jupyter-widgets/controls",
          "model_name": "VBoxModel",
          "model_module_version": "1.5.0",
          "state": {
            "_dom_classes": [],
            "_model_module": "@jupyter-widgets/controls",
            "_model_module_version": "1.5.0",
            "_model_name": "VBoxModel",
            "_view_count": null,
            "_view_module": "@jupyter-widgets/controls",
            "_view_module_version": "1.5.0",
            "_view_name": "VBoxView",
            "box_style": "",
            "children": [
              "IPY_MODEL_d639e31cd39b4eaab6abb35d486b2207",
              "IPY_MODEL_c143249a729b4ebc946c70580e092a38"
            ],
            "layout": "IPY_MODEL_b69f33b77c714371b20d687b1e85a28f"
          }
        },
        "258867cdde17402da674eaf46699f79b": {
          "model_module": "@jupyter-widgets/base",
          "model_name": "LayoutModel",
          "model_module_version": "1.2.0",
          "state": {
            "_model_module": "@jupyter-widgets/base",
            "_model_module_version": "1.2.0",
            "_model_name": "LayoutModel",
            "_view_count": null,
            "_view_module": "@jupyter-widgets/base",
            "_view_module_version": "1.2.0",
            "_view_name": "LayoutView",
            "align_content": null,
            "align_items": null,
            "align_self": null,
            "border": null,
            "bottom": null,
            "display": null,
            "flex": null,
            "flex_flow": null,
            "grid_area": null,
            "grid_auto_columns": null,
            "grid_auto_flow": null,
            "grid_auto_rows": null,
            "grid_column": null,
            "grid_gap": null,
            "grid_row": null,
            "grid_template_areas": null,
            "grid_template_columns": null,
            "grid_template_rows": null,
            "height": null,
            "justify_content": null,
            "justify_items": null,
            "left": null,
            "margin": null,
            "max_height": null,
            "max_width": null,
            "min_height": null,
            "min_width": null,
            "object_fit": null,
            "object_position": null,
            "order": null,
            "overflow": null,
            "overflow_x": null,
            "overflow_y": null,
            "padding": null,
            "right": null,
            "top": null,
            "visibility": null,
            "width": null
          }
        },
        "21476bacb9e04f3bbc5a8bb12ef149ee": {
          "model_module": "@jupyter-widgets/controls",
          "model_name": "DropdownModel",
          "model_module_version": "1.5.0",
          "state": {
            "_dom_classes": [],
            "_model_module": "@jupyter-widgets/controls",
            "_model_module_version": "1.5.0",
            "_model_name": "DropdownModel",
            "_options_labels": [
              "2023_03_29",
              "2023_03_28",
              "2023_03_27",
              "2023_03_26",
              "2023_03_25",
              "2023_03_24",
              "2023_03_23",
              "2023_03_22",
              "2023_03_21",
              "2023_03_20",
              "2023_03_19",
              "2023_03_18",
              "2023_03_17",
              "2023_03_16"
            ],
            "_view_count": null,
            "_view_module": "@jupyter-widgets/controls",
            "_view_module_version": "1.5.0",
            "_view_name": "DropdownView",
            "description": "Date",
            "description_tooltip": null,
            "disabled": false,
            "index": 0,
            "layout": "IPY_MODEL_a186354bcb094bf3a3dde101119fbe13",
            "style": "IPY_MODEL_e0cb5be0538447069e82288c5be67356"
          }
        },
        "af6e8d45e87c446fb78701197f1345c7": {
          "model_module": "@jupyter-widgets/controls",
          "model_name": "SelectMultipleModel",
          "model_module_version": "1.5.0",
          "state": {
            "_dom_classes": [],
            "_model_module": "@jupyter-widgets/controls",
            "_model_module_version": "1.5.0",
            "_model_name": "SelectMultipleModel",
            "_options_labels": [
              "Tesla & SpaceX; Vehicle",
              "Tech Titans",
              "Finance",
              "Taiwan",
              "Crypto",
              "Science & Technology",
              "IT"
            ],
            "_view_count": null,
            "_view_module": "@jupyter-widgets/controls",
            "_view_module_version": "1.5.0",
            "_view_name": "SelectMultipleView",
            "description": "Categories",
            "description_tooltip": null,
            "disabled": false,
            "index": [],
            "layout": "IPY_MODEL_0490d29c58d94500bf0d8ee08d58efed",
            "rows": 7,
            "style": "IPY_MODEL_6cefb418cc9140ce81d001a8a219ee06"
          }
        },
        "e3de919b7e3c4e5ebc60b897c9f84926": {
          "model_module": "@jupyter-widgets/base",
          "model_name": "LayoutModel",
          "model_module_version": "1.2.0",
          "state": {
            "_model_module": "@jupyter-widgets/base",
            "_model_module_version": "1.2.0",
            "_model_name": "LayoutModel",
            "_view_count": null,
            "_view_module": "@jupyter-widgets/base",
            "_view_module_version": "1.2.0",
            "_view_name": "LayoutView",
            "align_content": null,
            "align_items": null,
            "align_self": null,
            "border": null,
            "bottom": null,
            "display": null,
            "flex": null,
            "flex_flow": null,
            "grid_area": null,
            "grid_auto_columns": null,
            "grid_auto_flow": null,
            "grid_auto_rows": null,
            "grid_column": null,
            "grid_gap": null,
            "grid_row": null,
            "grid_template_areas": null,
            "grid_template_columns": null,
            "grid_template_rows": null,
            "height": null,
            "justify_content": null,
            "justify_items": null,
            "left": null,
            "margin": null,
            "max_height": null,
            "max_width": null,
            "min_height": null,
            "min_width": null,
            "object_fit": null,
            "object_position": null,
            "order": null,
            "overflow": null,
            "overflow_x": null,
            "overflow_y": null,
            "padding": null,
            "right": null,
            "top": null,
            "visibility": null,
            "width": null
          }
        },
        "d639e31cd39b4eaab6abb35d486b2207": {
          "model_module": "@jupyter-widgets/controls",
          "model_name": "CheckboxModel",
          "model_module_version": "1.5.0",
          "state": {
            "_dom_classes": [],
            "_model_module": "@jupyter-widgets/controls",
            "_model_module_version": "1.5.0",
            "_model_name": "CheckboxModel",
            "_view_count": null,
            "_view_module": "@jupyter-widgets/controls",
            "_view_module_version": "1.5.0",
            "_view_name": "CheckboxView",
            "description": "show hashtags",
            "description_tooltip": null,
            "disabled": false,
            "indent": true,
            "layout": "IPY_MODEL_2901201234df4f94a044684675ff268e",
            "style": "IPY_MODEL_f657a9069b9e466196cd3b1fc805cf34",
            "value": true
          }
        },
        "c143249a729b4ebc946c70580e092a38": {
          "model_module": "@jupyter-widgets/controls",
          "model_name": "CheckboxModel",
          "model_module_version": "1.5.0",
          "state": {
            "_dom_classes": [],
            "_model_module": "@jupyter-widgets/controls",
            "_model_module_version": "1.5.0",
            "_model_name": "CheckboxModel",
            "_view_count": null,
            "_view_module": "@jupyter-widgets/controls",
            "_view_module_version": "1.5.0",
            "_view_name": "CheckboxView",
            "description": "show headers",
            "description_tooltip": null,
            "disabled": false,
            "indent": true,
            "layout": "IPY_MODEL_3e6155b96d544552b8703a2256511d5f",
            "style": "IPY_MODEL_935dfbdae9bd47c99b312e5ebaa8ef10",
            "value": true
          }
        },
        "b69f33b77c714371b20d687b1e85a28f": {
          "model_module": "@jupyter-widgets/base",
          "model_name": "LayoutModel",
          "model_module_version": "1.2.0",
          "state": {
            "_model_module": "@jupyter-widgets/base",
            "_model_module_version": "1.2.0",
            "_model_name": "LayoutModel",
            "_view_count": null,
            "_view_module": "@jupyter-widgets/base",
            "_view_module_version": "1.2.0",
            "_view_name": "LayoutView",
            "align_content": null,
            "align_items": null,
            "align_self": null,
            "border": null,
            "bottom": null,
            "display": null,
            "flex": null,
            "flex_flow": null,
            "grid_area": null,
            "grid_auto_columns": null,
            "grid_auto_flow": null,
            "grid_auto_rows": null,
            "grid_column": null,
            "grid_gap": null,
            "grid_row": null,
            "grid_template_areas": null,
            "grid_template_columns": null,
            "grid_template_rows": null,
            "height": null,
            "justify_content": null,
            "justify_items": null,
            "left": null,
            "margin": null,
            "max_height": null,
            "max_width": null,
            "min_height": null,
            "min_width": null,
            "object_fit": null,
            "object_position": null,
            "order": null,
            "overflow": null,
            "overflow_x": null,
            "overflow_y": null,
            "padding": null,
            "right": null,
            "top": null,
            "visibility": null,
            "width": null
          }
        },
        "a186354bcb094bf3a3dde101119fbe13": {
          "model_module": "@jupyter-widgets/base",
          "model_name": "LayoutModel",
          "model_module_version": "1.2.0",
          "state": {
            "_model_module": "@jupyter-widgets/base",
            "_model_module_version": "1.2.0",
            "_model_name": "LayoutModel",
            "_view_count": null,
            "_view_module": "@jupyter-widgets/base",
            "_view_module_version": "1.2.0",
            "_view_name": "LayoutView",
            "align_content": null,
            "align_items": null,
            "align_self": null,
            "border": null,
            "bottom": null,
            "display": null,
            "flex": null,
            "flex_flow": null,
            "grid_area": null,
            "grid_auto_columns": null,
            "grid_auto_flow": null,
            "grid_auto_rows": null,
            "grid_column": null,
            "grid_gap": null,
            "grid_row": null,
            "grid_template_areas": null,
            "grid_template_columns": null,
            "grid_template_rows": null,
            "height": null,
            "justify_content": null,
            "justify_items": null,
            "left": null,
            "margin": null,
            "max_height": null,
            "max_width": null,
            "min_height": null,
            "min_width": null,
            "object_fit": null,
            "object_position": null,
            "order": null,
            "overflow": null,
            "overflow_x": null,
            "overflow_y": null,
            "padding": null,
            "right": null,
            "top": null,
            "visibility": null,
            "width": null
          }
        },
        "e0cb5be0538447069e82288c5be67356": {
          "model_module": "@jupyter-widgets/controls",
          "model_name": "DescriptionStyleModel",
          "model_module_version": "1.5.0",
          "state": {
            "_model_module": "@jupyter-widgets/controls",
            "_model_module_version": "1.5.0",
            "_model_name": "DescriptionStyleModel",
            "_view_count": null,
            "_view_module": "@jupyter-widgets/base",
            "_view_module_version": "1.2.0",
            "_view_name": "StyleView",
            "description_width": ""
          }
        },
        "0490d29c58d94500bf0d8ee08d58efed": {
          "model_module": "@jupyter-widgets/base",
          "model_name": "LayoutModel",
          "model_module_version": "1.2.0",
          "state": {
            "_model_module": "@jupyter-widgets/base",
            "_model_module_version": "1.2.0",
            "_model_name": "LayoutModel",
            "_view_count": null,
            "_view_module": "@jupyter-widgets/base",
            "_view_module_version": "1.2.0",
            "_view_name": "LayoutView",
            "align_content": null,
            "align_items": null,
            "align_self": null,
            "border": null,
            "bottom": null,
            "display": null,
            "flex": null,
            "flex_flow": null,
            "grid_area": null,
            "grid_auto_columns": null,
            "grid_auto_flow": null,
            "grid_auto_rows": null,
            "grid_column": null,
            "grid_gap": null,
            "grid_row": null,
            "grid_template_areas": null,
            "grid_template_columns": null,
            "grid_template_rows": null,
            "height": null,
            "justify_content": null,
            "justify_items": null,
            "left": null,
            "margin": null,
            "max_height": null,
            "max_width": null,
            "min_height": null,
            "min_width": null,
            "object_fit": null,
            "object_position": null,
            "order": null,
            "overflow": null,
            "overflow_x": null,
            "overflow_y": null,
            "padding": null,
            "right": null,
            "top": null,
            "visibility": null,
            "width": null
          }
        },
        "6cefb418cc9140ce81d001a8a219ee06": {
          "model_module": "@jupyter-widgets/controls",
          "model_name": "DescriptionStyleModel",
          "model_module_version": "1.5.0",
          "state": {
            "_model_module": "@jupyter-widgets/controls",
            "_model_module_version": "1.5.0",
            "_model_name": "DescriptionStyleModel",
            "_view_count": null,
            "_view_module": "@jupyter-widgets/base",
            "_view_module_version": "1.2.0",
            "_view_name": "StyleView",
            "description_width": ""
          }
        },
        "2901201234df4f94a044684675ff268e": {
          "model_module": "@jupyter-widgets/base",
          "model_name": "LayoutModel",
          "model_module_version": "1.2.0",
          "state": {
            "_model_module": "@jupyter-widgets/base",
            "_model_module_version": "1.2.0",
            "_model_name": "LayoutModel",
            "_view_count": null,
            "_view_module": "@jupyter-widgets/base",
            "_view_module_version": "1.2.0",
            "_view_name": "LayoutView",
            "align_content": null,
            "align_items": null,
            "align_self": null,
            "border": null,
            "bottom": null,
            "display": null,
            "flex": null,
            "flex_flow": null,
            "grid_area": null,
            "grid_auto_columns": null,
            "grid_auto_flow": null,
            "grid_auto_rows": null,
            "grid_column": null,
            "grid_gap": null,
            "grid_row": null,
            "grid_template_areas": null,
            "grid_template_columns": null,
            "grid_template_rows": null,
            "height": null,
            "justify_content": null,
            "justify_items": null,
            "left": null,
            "margin": null,
            "max_height": null,
            "max_width": null,
            "min_height": null,
            "min_width": null,
            "object_fit": null,
            "object_position": null,
            "order": null,
            "overflow": null,
            "overflow_x": null,
            "overflow_y": null,
            "padding": null,
            "right": null,
            "top": null,
            "visibility": null,
            "width": null
          }
        },
        "f657a9069b9e466196cd3b1fc805cf34": {
          "model_module": "@jupyter-widgets/controls",
          "model_name": "DescriptionStyleModel",
          "model_module_version": "1.5.0",
          "state": {
            "_model_module": "@jupyter-widgets/controls",
            "_model_module_version": "1.5.0",
            "_model_name": "DescriptionStyleModel",
            "_view_count": null,
            "_view_module": "@jupyter-widgets/base",
            "_view_module_version": "1.2.0",
            "_view_name": "StyleView",
            "description_width": ""
          }
        },
        "3e6155b96d544552b8703a2256511d5f": {
          "model_module": "@jupyter-widgets/base",
          "model_name": "LayoutModel",
          "model_module_version": "1.2.0",
          "state": {
            "_model_module": "@jupyter-widgets/base",
            "_model_module_version": "1.2.0",
            "_model_name": "LayoutModel",
            "_view_count": null,
            "_view_module": "@jupyter-widgets/base",
            "_view_module_version": "1.2.0",
            "_view_name": "LayoutView",
            "align_content": null,
            "align_items": null,
            "align_self": null,
            "border": null,
            "bottom": null,
            "display": null,
            "flex": null,
            "flex_flow": null,
            "grid_area": null,
            "grid_auto_columns": null,
            "grid_auto_flow": null,
            "grid_auto_rows": null,
            "grid_column": null,
            "grid_gap": null,
            "grid_row": null,
            "grid_template_areas": null,
            "grid_template_columns": null,
            "grid_template_rows": null,
            "height": null,
            "justify_content": null,
            "justify_items": null,
            "left": null,
            "margin": null,
            "max_height": null,
            "max_width": null,
            "min_height": null,
            "min_width": null,
            "object_fit": null,
            "object_position": null,
            "order": null,
            "overflow": null,
            "overflow_x": null,
            "overflow_y": null,
            "padding": null,
            "right": null,
            "top": null,
            "visibility": null,
            "width": null
          }
        },
        "935dfbdae9bd47c99b312e5ebaa8ef10": {
          "model_module": "@jupyter-widgets/controls",
          "model_name": "DescriptionStyleModel",
          "model_module_version": "1.5.0",
          "state": {
            "_model_module": "@jupyter-widgets/controls",
            "_model_module_version": "1.5.0",
            "_model_name": "DescriptionStyleModel",
            "_view_count": null,
            "_view_module": "@jupyter-widgets/base",
            "_view_module_version": "1.2.0",
            "_view_name": "StyleView",
            "description_width": ""
          }
        },
        "683f9909f2bf4ee19fd3053800a51e21": {
          "model_module": "@jupyter-widgets/output",
          "model_name": "OutputModel",
          "model_module_version": "1.0.0",
          "state": {
            "_dom_classes": [],
            "_model_module": "@jupyter-widgets/output",
            "_model_module_version": "1.0.0",
            "_model_name": "OutputModel",
            "_view_count": null,
            "_view_module": "@jupyter-widgets/output",
            "_view_module_version": "1.0.0",
            "_view_name": "OutputView",
            "layout": "IPY_MODEL_ef8d0311b18b43d7ae3e69c3d4585406",
            "msg_id": "",
            "outputs": []
          }
        },
        "ef8d0311b18b43d7ae3e69c3d4585406": {
          "model_module": "@jupyter-widgets/base",
          "model_name": "LayoutModel",
          "model_module_version": "1.2.0",
          "state": {
            "_model_module": "@jupyter-widgets/base",
            "_model_module_version": "1.2.0",
            "_model_name": "LayoutModel",
            "_view_count": null,
            "_view_module": "@jupyter-widgets/base",
            "_view_module_version": "1.2.0",
            "_view_name": "LayoutView",
            "align_content": null,
            "align_items": null,
            "align_self": null,
            "border": null,
            "bottom": null,
            "display": null,
            "flex": null,
            "flex_flow": null,
            "grid_area": null,
            "grid_auto_columns": null,
            "grid_auto_flow": null,
            "grid_auto_rows": null,
            "grid_column": null,
            "grid_gap": null,
            "grid_row": null,
            "grid_template_areas": null,
            "grid_template_columns": null,
            "grid_template_rows": null,
            "height": null,
            "justify_content": null,
            "justify_items": null,
            "left": null,
            "margin": null,
            "max_height": null,
            "max_width": null,
            "min_height": null,
            "min_width": null,
            "object_fit": null,
            "object_position": null,
            "order": null,
            "overflow": null,
            "overflow_x": null,
            "overflow_y": null,
            "padding": null,
            "right": null,
            "top": null,
            "visibility": null,
            "width": null
          }
        }
      }
    }
  },
  "cells": [
    {
      "cell_type": "markdown",
      "metadata": {
        "id": "view-in-github",
        "colab_type": "text"
      },
      "source": [
        "<a href=\"https://colab.research.google.com/github/YorkJong/news-digest/blob/main/notebooks/news_clip.ipynb\" target=\"_parent\"><img src=\"https://colab.research.google.com/assets/colab-badge.svg\" alt=\"Open In Colab\"/></a>"
      ]
    },
    {
      "cell_type": "markdown",
      "source": [
        "這支 colab notebook 主要功能是\n",
        "- 剪輯 [news-digest](https://news-digest.vercel.app/) 網站當天（或選取日期）的新聞。\n",
        "- 只能根據新聞分類 (catetories) 剪輯。\n",
        "\n",
        "執行步驟如下：\n",
        "1. 按下 Install 下那個 code cell 前面的 ► 按鈕來安裝用到的模組\n",
        "2. 根據喜好，填表執行後面的 Jupyter Widgets UI 或 Colab Forms\n",
        "\n",
        "需要更細的檢索查詢，有如下兩個選擇\n",
        "- 直接在 [news-digest 網站](https://news-digest.vercel.app/)上搜尋或點選 hash-tags\n",
        "- 或者點擊 [news_query.ipynb](https://colab.research.google.com/github/YorkJong/news-digest/blob/main/notebooks/news_query.ipynb) 執行多條件檢索\n"
      ],
      "metadata": {
        "id": "qdoacSllvdm2"
      }
    },
    {
      "cell_type": "markdown",
      "source": [
        "### Install "
      ],
      "metadata": {
        "id": "74XGrOopRPIi"
      }
    },
    {
      "cell_type": "code",
      "source": [
        "import os\n",
        "\n",
        "fns = ['clip.py', 'op.py']\n",
        "\n",
        "for fn in fns:\n",
        "    if os.path.exists(fn):\n",
        "        os.remove(fn)\n",
        "for fn in fns:\n",
        "    url = f'https://raw.githubusercontent.com/YorkJong/news-digest/main/api/{fn}'\n",
        "    !wget $url\n",
        "\n",
        "import clip\n",
        "\n",
        "#-------------------------------------------------------------------------------\n",
        "\n",
        "import ipywidgets as widgets\n",
        "\n",
        "def create_ui():\n",
        "    fns = sorted(clip.get_recent_journal_filenames(14), reverse=True)\n",
        "    options = [f[:-3] for f in fns]\n",
        "    dates = widgets.Dropdown(\n",
        "        options=options,\n",
        "        value=options[0],\n",
        "        description='Date',\n",
        "        disabled=False,\n",
        "    )\n",
        " \n",
        "    content = clip.get_latest_journal()\n",
        "    options = clip.get_categories(content)\n",
        "    categories = widgets.SelectMultiple(\n",
        "        options=options,\n",
        "        #value=[options[0]],\n",
        "        rows=len(options),\n",
        "        description='Categories',\n",
        "        disabled=False,\n",
        "    )\n",
        "\n",
        "    with_hashtags = widgets.Checkbox(\n",
        "        value=True,\n",
        "        description='show hashtags',\n",
        "        disabled=False,\n",
        "    )\n",
        "\n",
        "    with_headers = widgets.Checkbox(\n",
        "        value=True,\n",
        "        description='show headers',\n",
        "        disabled=False,\n",
        "    )\n",
        "\n",
        "    vbox1 = widgets.VBox([dates, categories])\n",
        "    vbox2 = widgets.VBox([with_hashtags, with_headers])\n",
        "    output = widgets.Output()\n",
        "    display(widgets.HBox([vbox1, vbox2]), output)\n",
        "\n",
        "    def on_date_change(change):\n",
        "        nonlocal content\n",
        "        content = clip.get_journal(f'{dates.value}.md')\n",
        "        categories.options = clip.get_categories(content)\n",
        "\n",
        "    def on_value_change(change):\n",
        "        lines = clip.get_lines_of_categories(categories.value, content, with_hashtags.value, with_headers.value)\n",
        "        with output:\n",
        "            #print(change['new'])\n",
        "            output.clear_output()\n",
        "            print('\\n'.join(lines))\n",
        "\n",
        "    dates.observe(on_date_change, names='value')\n",
        "    categories.observe(on_value_change, names='value')\n",
        "    with_hashtags.observe(on_value_change, names='value')\n",
        "    with_headers.observe(on_value_change, names='value')"
      ],
      "metadata": {
        "id": "HhPa1e1tse76"
      },
      "execution_count": null,
      "outputs": []
    },
    {
      "cell_type": "markdown",
      "source": [
        "### Select categories with Jupyter Widgets\n",
        "- 按下面那個 code cell 前面的 ► 按鈕，以列出完整的分類(Catetories)選單\n",
        "- macOS 下操作可按Cmd後用滑鼠複選（Windows 系統則按下Ctrl鍵後以滑鼠複選）\n",
        "  - 全選可按 Cmd+A (macOS) 或者 Ctrl+A (Windows)"
      ],
      "metadata": {
        "id": "bHZpE5gJsacz"
      }
    },
    {
      "cell_type": "code",
      "source": [
        "create_ui()"
      ],
      "metadata": {
        "id": "z--kb0R3m6XF",
        "outputId": "15d1189b-711a-4d59-9144-0677d607aeb3",
        "colab": {
          "base_uri": "https://localhost:8080/",
          "height": 176,
          "referenced_widgets": [
            "ead3d6462fa64b23918cafefabd68fb4",
            "88acdb5216f14c9aa19423d93410c7c2",
            "f4e8966e8b53403388243265e8cd13f8",
            "258867cdde17402da674eaf46699f79b",
            "21476bacb9e04f3bbc5a8bb12ef149ee",
            "af6e8d45e87c446fb78701197f1345c7",
            "e3de919b7e3c4e5ebc60b897c9f84926",
            "d639e31cd39b4eaab6abb35d486b2207",
            "c143249a729b4ebc946c70580e092a38",
            "b69f33b77c714371b20d687b1e85a28f",
            "a186354bcb094bf3a3dde101119fbe13",
            "e0cb5be0538447069e82288c5be67356",
            "0490d29c58d94500bf0d8ee08d58efed",
            "6cefb418cc9140ce81d001a8a219ee06",
            "2901201234df4f94a044684675ff268e",
            "f657a9069b9e466196cd3b1fc805cf34",
            "3e6155b96d544552b8703a2256511d5f",
            "935dfbdae9bd47c99b312e5ebaa8ef10",
            "683f9909f2bf4ee19fd3053800a51e21",
            "ef8d0311b18b43d7ae3e69c3d4585406"
          ]
        }
      },
      "execution_count": 6,
      "outputs": [
        {
          "output_type": "display_data",
          "data": {
            "text/plain": [
              "HBox(children=(VBox(children=(Dropdown(description='Date', options=('2023_03_29', '2023_03_28', '2023_03_27', …"
            ],
            "application/vnd.jupyter.widget-view+json": {
              "version_major": 2,
              "version_minor": 0,
              "model_id": "ead3d6462fa64b23918cafefabd68fb4"
            }
          },
          "metadata": {}
        },
        {
          "output_type": "display_data",
          "data": {
            "text/plain": [
              "Output()"
            ],
            "application/vnd.jupyter.widget-view+json": {
              "version_major": 2,
              "version_minor": 0,
              "model_id": "683f9909f2bf4ee19fd3053800a51e21"
            }
          },
          "metadata": {}
        }
      ]
    },
    {
      "cell_type": "markdown",
      "source": [
        "### Select Categories with the Colab Forms"
      ],
      "metadata": {
        "id": "jcbcKHfqSzyQ"
      }
    },
    {
      "cell_type": "code",
      "source": [
        "#@title Single Selection { run: \"auto\", display-mode: \"form\" }\n",
        "category = \"AI\" #@param [\"Tesla & SpaceX; Vehicle\", \"Tech Titans\", \"Finance\", \"Taiwan\", \"Crypto\", \"Technology\", \"AI\"] {allow-input: true}\n",
        "show_hashtags = True #@param {type:\"boolean\"}\n",
        "show_headers = True #@param {type:\"boolean\"}\n",
        "\n",
        "content = clip.get_latest_journal()\n",
        "lines = clip.get_lines_of_categories([category], content, show_hashtags, show_headers)\n",
        "text = '\\n'.join(lines)\n",
        "print(text)"
      ],
      "metadata": {
        "id": "tGXYiHdUOgRp"
      },
      "execution_count": null,
      "outputs": []
    },
    {
      "cell_type": "code",
      "source": [
        "#@title Multiple Selections { run: \"auto\", display-mode: \"form\" }\n",
        "first_category = \"Tesla & SpaceX; Vehicle\" #@param [\"Tesla & SpaceX; Vehicle\", \"Tech Titans\", \"Finance\", \"Taiwan\", \"Crypto\", \"Technology\", \"AI\"] {allow-input: true}\n",
        "last_category = \"Finance\" #@param [\"Tesla & SpaceX; Vehicle\", \"Tech Titans\", \"Finance\", \"Taiwan\", \"Crypto\", \"Technology\", \"AI\"] {allow-input: true}\n",
        "show_hashtags = False #@param {type:\"boolean\"}\n",
        "show_headers = False #@param {type:\"boolean\"}\n",
        "\n",
        "content = clip.get_latest_journal()\n",
        "categories = clip.get_categories(content)\n",
        "categories = clip.get_sublist(categories, first_category, last_category)\n",
        "lines = clip.get_lines_of_categories(categories, content, show_hashtags, show_headers)\n",
        "text = '\\n'.join(lines)\n",
        "print(text)\n"
      ],
      "metadata": {
        "id": "QRwq2sNpi8c3"
      },
      "execution_count": null,
      "outputs": []
    },
    {
      "cell_type": "markdown",
      "source": [
        "### See Also\n",
        "- [news_query.ipynb (from GitHub)](https://colab.research.google.com/github/YorkJong/news-digest/blob/main/notebooks/news_query.ipynb)"
      ],
      "metadata": {
        "id": "l9kvYn67Zue4"
      }
    }
  ]
}