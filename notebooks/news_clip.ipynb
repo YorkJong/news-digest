{
  "nbformat": 4,
  "nbformat_minor": 0,
  "metadata": {
    "colab": {
      "provenance": [],
      "collapsed_sections": [
        "lGmIv-dHZnVz"
      ],
      "authorship_tag": "ABX9TyN88B1jNy53nTrZvMTQHJiy",
      "include_colab_link": true
    },
    "kernelspec": {
      "name": "python3",
      "display_name": "Python 3"
    },
    "language_info": {
      "name": "python"
    }
  },
  "cells": [
    {
      "cell_type": "markdown",
      "metadata": {
        "id": "view-in-github",
        "colab_type": "text"
      },
      "source": [
        "<a href=\"https://colab.research.google.com/github/YorkJong/news-digest/blob/main/notebooks/news_clip.ipynb\" target=\"_parent\"><img src=\"https://colab.research.google.com/assets/colab-badge.svg\" alt=\"Open In Colab\"/></a>"
      ]
    },
    {
      "cell_type": "markdown",
      "source": [
        "這支 notebook 是為了選取剪輯 news-digest 的部分新聞分類，以利後續轉貼\n",
        "執行步驟如下：\n",
        "1. 按下 Install 下那個 code cell 前面的 ► 按鈕來安裝 clip 模組.\n",
        "2. 根據需要，填表執行後面的 Forms 或 Widgets UI"
      ],
      "metadata": {
        "id": "qdoacSllvdm2"
      }
    },
    {
      "cell_type": "markdown",
      "source": [
        "### Install "
      ],
      "metadata": {
        "id": "74XGrOopRPIi"
      }
    },
    {
      "cell_type": "code",
      "source": [
        "!curl -o clip.py https://raw.githubusercontent.com/YorkJong/news-digest/main/src/clip.py\n",
        "from clip import *"
      ],
      "metadata": {
        "colab": {
          "base_uri": "https://localhost:8080/"
        },
        "id": "HhPa1e1tse76",
        "outputId": "1c350016-5b58-4a04-824c-b32ef4f23128"
      },
      "execution_count": 31,
      "outputs": [
        {
          "output_type": "stream",
          "name": "stdout",
          "text": [
            "  % Total    % Received % Xferd  Average Speed   Time    Time     Time  Current\n",
            "                                 Dload  Upload   Total   Spent    Left  Speed\n",
            "\r  0     0    0     0    0     0      0      0 --:--:-- --:--:-- --:--:--     0\r100  4967  100  4967    0     0  24835      0 --:--:-- --:--:-- --:--:-- 24835\n"
          ]
        }
      ]
    },
    {
      "cell_type": "markdown",
      "source": [
        "### Select Categories with the Colab Forms"
      ],
      "metadata": {
        "id": "jcbcKHfqSzyQ"
      }
    },
    {
      "cell_type": "code",
      "source": [
        "#@title Single Selection { run: \"auto\" }\n",
        "category = \"Taiwan\" #@param [\"Tesla & SpaceX; Vehicle\", \"Tech Titans\", \"Finance\", \"Taiwan\", \"Crypto\", \"Technology\", \"AI\"] {allow-input: true}\n",
        "with_hashtags = False #@param {type:\"boolean\"}\n",
        "with_headers = True #@param {type:\"boolean\"}\n",
        "\n",
        "fn = get_latest_fn(\"journals\")\n",
        "content = get_file(fn)\n",
        "lines = get_lines_of_categories([category], content, with_hashtags, with_headers)\n",
        "print('\\n'.join(lines))\n",
        "\n",
        "# Copy text to clipboard in Python using pandas module\n",
        "#import pandas as pd\n",
        "#df=pd.DataFrame(['Text to copy'])\n",
        "#df.to_clipboard(index=False, header=False)"
      ],
      "metadata": {
        "colab": {
          "base_uri": "https://localhost:8080/"
        },
        "cellView": "form",
        "id": "tGXYiHdUOgRp",
        "outputId": "77f5ead6-671e-481c-d58c-45b69dd108e1"
      },
      "execution_count": 36,
      "outputs": [
        {
          "output_type": "stream",
          "name": "stdout",
          "text": [
            "### Taiwan\n",
            "- [跟上特斯拉腳步 和碩增資墨西哥廠逾15億元](https://ec.ltn.com.tw/article/breakingnews/4246868)\n",
            "- [momo 併 MyBook 電子書，總座證實將推全新閱讀器](https://technews.tw/2023/03/21/president-jeff-ku-looking-forward-to-momo-this-year/)\n",
            "- [光一台EUV，每天就耗掉3萬度電！工業用電大漲17％，會衝擊台積電嗎？](https://www.bnext.com.tw/article/74507/tssmc-euv-pg-cost-impact)\n",
            "- [童子賢「吃誠實豆沙包」：外商來台設資料中心，只是在用台灣低廉電價⋯](https://www.bnext.com.tw/article/74504/tongtzuhs-tw-elec-price-cheap)\n",
            "- [經濟部加速軍用商規無人機國產化 與7家廠商簽約](https://m.cnyes.com/news/id/5117623)\n",
            "- [【國內新訊】氫燃料動力在台首賣？Toyota宣布將專案引進Mirai電動車！ (第3頁)](https://m.mobile01.com/topicdetail.php?f=264&p=3&t=6758523)\n",
            "- [緯創搭上AI熱潮，砸62億元進軍數位內容！硬體起家，為何頻頻跨界做軟體？](https://www.bnext.com.tw/article/74493/wistron-bot)\n",
            "-\n"
          ]
        }
      ]
    },
    {
      "cell_type": "code",
      "source": [
        "#@title Multiple Selections { run: \"auto\" }\n",
        "first_category = \"Tesla & SpaceX; Vehicle\" #@param [\"Tesla & SpaceX; Vehicle\", \"Tech Titans\", \"Finance\", \"Taiwan\", \"Crypto\", \"Technology\", \"AI\"] {allow-input: true}\n",
        "last_category = \"Finance\" #@param [\"Tesla & SpaceX; Vehicle\", \"Tech Titans\", \"Finance\", \"Taiwan\", \"Crypto\", \"Technology\", \"AI\"] {allow-input: true}\n",
        "with_hashtags = False #@param {type:\"boolean\"}\n",
        "with_headers = True #@param {type:\"boolean\"}\n",
        "\n",
        "fn = get_latest_fn(\"journals\")\n",
        "content = get_file(fn)\n",
        "categories = get_categories(content)\n",
        "categories = get_sublist(categories, first_category, last_category)\n",
        "lines = get_lines_of_categories(categories, content, with_hashtags, with_headers)\n",
        "print('\\n'.join(lines))\n"
      ],
      "metadata": {
        "cellView": "form",
        "id": "QRwq2sNpi8c3"
      },
      "execution_count": null,
      "outputs": []
    },
    {
      "cell_type": "markdown",
      "source": [
        "### Select multiple categories with Jupyter Widgets"
      ],
      "metadata": {
        "id": "bHZpE5gJsacz"
      }
    },
    {
      "cell_type": "code",
      "source": [
        "import ipywidgets as widgets\n",
        "\n",
        "fn = get_latest_fn(\"journals\")\n",
        "content = get_file(fn)\n",
        "options = get_categories(content)\n",
        "\n",
        "categories = widgets.SelectMultiple(\n",
        "    options=options,\n",
        "    value=[options[0]],\n",
        "    rows=len(options),\n",
        "    description='Categories',\n",
        "    disabled=False\n",
        ")\n",
        "\n",
        "with_hashtags = widgets.Checkbox(\n",
        "    value=True,\n",
        "    description='with hashtags',\n",
        "    disabled=False\n",
        ")\n",
        "\n",
        "with_headers = widgets.Checkbox(\n",
        "    value=True,\n",
        "    description='with headers',\n",
        "    disabled=False\n",
        ")\n",
        "\n",
        "flags = widgets.VBox([with_hashtags, with_headers])\n",
        "widgets.HBox([categories, flags])"
      ],
      "metadata": {
        "id": "g-Q0ReLBmyPy"
      },
      "execution_count": null,
      "outputs": []
    },
    {
      "cell_type": "code",
      "source": [
        "lines = get_lines_of_categories(categories.value, content, with_hashtags.value, with_headers.value)\n",
        "print('\\n'.join(lines))"
      ],
      "metadata": {
        "id": "xczHHjuqp16i"
      },
      "execution_count": null,
      "outputs": []
    }
  ]
}