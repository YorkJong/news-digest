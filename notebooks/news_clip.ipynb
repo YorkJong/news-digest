{
  "nbformat": 4,
  "nbformat_minor": 0,
  "metadata": {
    "colab": {
      "provenance": [],
      "collapsed_sections": [
        "lGmIv-dHZnVz"
      ],
      "authorship_tag": "ABX9TyPjSK/4AEfVsrHml4RGc+g8",
      "include_colab_link": true
    },
    "kernelspec": {
      "name": "python3",
      "display_name": "Python 3"
    },
    "language_info": {
      "name": "python"
    },
    "widgets": {
      "application/vnd.jupyter.widget-state+json": {
        "0c230dcf9ad0483c9adec79fa656a729": {
          "model_module": "@jupyter-widgets/controls",
          "model_name": "HBoxModel",
          "model_module_version": "1.5.0",
          "state": {
            "_dom_classes": [],
            "_model_module": "@jupyter-widgets/controls",
            "_model_module_version": "1.5.0",
            "_model_name": "HBoxModel",
            "_view_count": null,
            "_view_module": "@jupyter-widgets/controls",
            "_view_module_version": "1.5.0",
            "_view_name": "HBoxView",
            "box_style": "",
            "children": [
              "IPY_MODEL_cc5d1dfc772643e7a128076bcc211011",
              "IPY_MODEL_7eba432c715745239f859d3ce4f9494b"
            ],
            "layout": "IPY_MODEL_bbd5dfd2c22d49418f63cbc6d22eeb94"
          }
        },
        "cc5d1dfc772643e7a128076bcc211011": {
          "model_module": "@jupyter-widgets/controls",
          "model_name": "SelectMultipleModel",
          "model_module_version": "1.5.0",
          "state": {
            "_dom_classes": [],
            "_model_module": "@jupyter-widgets/controls",
            "_model_module_version": "1.5.0",
            "_model_name": "SelectMultipleModel",
            "_options_labels": [
              "Tesla & SpaceX; Vehicle",
              "Tech Titans",
              "Finance",
              "Taiwan",
              "Crypto",
              "Technology",
              "AI"
            ],
            "_view_count": null,
            "_view_module": "@jupyter-widgets/controls",
            "_view_module_version": "1.5.0",
            "_view_name": "SelectMultipleView",
            "description": "Categories",
            "description_tooltip": null,
            "disabled": false,
            "index": [
              2
            ],
            "layout": "IPY_MODEL_04b96b4097d149ad95cbd542b1ee9588",
            "rows": 7,
            "style": "IPY_MODEL_1b8df4b82dfc4bd5a18981db00655f9e"
          }
        },
        "7eba432c715745239f859d3ce4f9494b": {
          "model_module": "@jupyter-widgets/controls",
          "model_name": "VBoxModel",
          "model_module_version": "1.5.0",
          "state": {
            "_dom_classes": [],
            "_model_module": "@jupyter-widgets/controls",
            "_model_module_version": "1.5.0",
            "_model_name": "VBoxModel",
            "_view_count": null,
            "_view_module": "@jupyter-widgets/controls",
            "_view_module_version": "1.5.0",
            "_view_name": "VBoxView",
            "box_style": "",
            "children": [
              "IPY_MODEL_1d7709d0098548dba8bc42419016c64b",
              "IPY_MODEL_ddd59c592e5c4132abd79a05d1b703a6"
            ],
            "layout": "IPY_MODEL_30fadf6ef56b4a01a575b23109cb11d3"
          }
        },
        "bbd5dfd2c22d49418f63cbc6d22eeb94": {
          "model_module": "@jupyter-widgets/base",
          "model_name": "LayoutModel",
          "model_module_version": "1.2.0",
          "state": {
            "_model_module": "@jupyter-widgets/base",
            "_model_module_version": "1.2.0",
            "_model_name": "LayoutModel",
            "_view_count": null,
            "_view_module": "@jupyter-widgets/base",
            "_view_module_version": "1.2.0",
            "_view_name": "LayoutView",
            "align_content": null,
            "align_items": null,
            "align_self": null,
            "border": null,
            "bottom": null,
            "display": null,
            "flex": null,
            "flex_flow": null,
            "grid_area": null,
            "grid_auto_columns": null,
            "grid_auto_flow": null,
            "grid_auto_rows": null,
            "grid_column": null,
            "grid_gap": null,
            "grid_row": null,
            "grid_template_areas": null,
            "grid_template_columns": null,
            "grid_template_rows": null,
            "height": null,
            "justify_content": null,
            "justify_items": null,
            "left": null,
            "margin": null,
            "max_height": null,
            "max_width": null,
            "min_height": null,
            "min_width": null,
            "object_fit": null,
            "object_position": null,
            "order": null,
            "overflow": null,
            "overflow_x": null,
            "overflow_y": null,
            "padding": null,
            "right": null,
            "top": null,
            "visibility": null,
            "width": null
          }
        },
        "04b96b4097d149ad95cbd542b1ee9588": {
          "model_module": "@jupyter-widgets/base",
          "model_name": "LayoutModel",
          "model_module_version": "1.2.0",
          "state": {
            "_model_module": "@jupyter-widgets/base",
            "_model_module_version": "1.2.0",
            "_model_name": "LayoutModel",
            "_view_count": null,
            "_view_module": "@jupyter-widgets/base",
            "_view_module_version": "1.2.0",
            "_view_name": "LayoutView",
            "align_content": null,
            "align_items": null,
            "align_self": null,
            "border": null,
            "bottom": null,
            "display": null,
            "flex": null,
            "flex_flow": null,
            "grid_area": null,
            "grid_auto_columns": null,
            "grid_auto_flow": null,
            "grid_auto_rows": null,
            "grid_column": null,
            "grid_gap": null,
            "grid_row": null,
            "grid_template_areas": null,
            "grid_template_columns": null,
            "grid_template_rows": null,
            "height": null,
            "justify_content": null,
            "justify_items": null,
            "left": null,
            "margin": null,
            "max_height": null,
            "max_width": null,
            "min_height": null,
            "min_width": null,
            "object_fit": null,
            "object_position": null,
            "order": null,
            "overflow": null,
            "overflow_x": null,
            "overflow_y": null,
            "padding": null,
            "right": null,
            "top": null,
            "visibility": null,
            "width": null
          }
        },
        "1b8df4b82dfc4bd5a18981db00655f9e": {
          "model_module": "@jupyter-widgets/controls",
          "model_name": "DescriptionStyleModel",
          "model_module_version": "1.5.0",
          "state": {
            "_model_module": "@jupyter-widgets/controls",
            "_model_module_version": "1.5.0",
            "_model_name": "DescriptionStyleModel",
            "_view_count": null,
            "_view_module": "@jupyter-widgets/base",
            "_view_module_version": "1.2.0",
            "_view_name": "StyleView",
            "description_width": ""
          }
        },
        "1d7709d0098548dba8bc42419016c64b": {
          "model_module": "@jupyter-widgets/controls",
          "model_name": "CheckboxModel",
          "model_module_version": "1.5.0",
          "state": {
            "_dom_classes": [],
            "_model_module": "@jupyter-widgets/controls",
            "_model_module_version": "1.5.0",
            "_model_name": "CheckboxModel",
            "_view_count": null,
            "_view_module": "@jupyter-widgets/controls",
            "_view_module_version": "1.5.0",
            "_view_name": "CheckboxView",
            "description": "with hashtags",
            "description_tooltip": null,
            "disabled": false,
            "indent": true,
            "layout": "IPY_MODEL_0d21f1bf6e224a7397b55dd14734f460",
            "style": "IPY_MODEL_f8478b72413f42f096db871b6918ab87",
            "value": false
          }
        },
        "ddd59c592e5c4132abd79a05d1b703a6": {
          "model_module": "@jupyter-widgets/controls",
          "model_name": "CheckboxModel",
          "model_module_version": "1.5.0",
          "state": {
            "_dom_classes": [],
            "_model_module": "@jupyter-widgets/controls",
            "_model_module_version": "1.5.0",
            "_model_name": "CheckboxModel",
            "_view_count": null,
            "_view_module": "@jupyter-widgets/controls",
            "_view_module_version": "1.5.0",
            "_view_name": "CheckboxView",
            "description": "with headers",
            "description_tooltip": null,
            "disabled": false,
            "indent": true,
            "layout": "IPY_MODEL_e9a5b1790b214800914d4bd91f2cdccd",
            "style": "IPY_MODEL_471eaea85c674a5992a23bcacdeb3b15",
            "value": true
          }
        },
        "30fadf6ef56b4a01a575b23109cb11d3": {
          "model_module": "@jupyter-widgets/base",
          "model_name": "LayoutModel",
          "model_module_version": "1.2.0",
          "state": {
            "_model_module": "@jupyter-widgets/base",
            "_model_module_version": "1.2.0",
            "_model_name": "LayoutModel",
            "_view_count": null,
            "_view_module": "@jupyter-widgets/base",
            "_view_module_version": "1.2.0",
            "_view_name": "LayoutView",
            "align_content": null,
            "align_items": null,
            "align_self": null,
            "border": null,
            "bottom": null,
            "display": null,
            "flex": null,
            "flex_flow": null,
            "grid_area": null,
            "grid_auto_columns": null,
            "grid_auto_flow": null,
            "grid_auto_rows": null,
            "grid_column": null,
            "grid_gap": null,
            "grid_row": null,
            "grid_template_areas": null,
            "grid_template_columns": null,
            "grid_template_rows": null,
            "height": null,
            "justify_content": null,
            "justify_items": null,
            "left": null,
            "margin": null,
            "max_height": null,
            "max_width": null,
            "min_height": null,
            "min_width": null,
            "object_fit": null,
            "object_position": null,
            "order": null,
            "overflow": null,
            "overflow_x": null,
            "overflow_y": null,
            "padding": null,
            "right": null,
            "top": null,
            "visibility": null,
            "width": null
          }
        },
        "0d21f1bf6e224a7397b55dd14734f460": {
          "model_module": "@jupyter-widgets/base",
          "model_name": "LayoutModel",
          "model_module_version": "1.2.0",
          "state": {
            "_model_module": "@jupyter-widgets/base",
            "_model_module_version": "1.2.0",
            "_model_name": "LayoutModel",
            "_view_count": null,
            "_view_module": "@jupyter-widgets/base",
            "_view_module_version": "1.2.0",
            "_view_name": "LayoutView",
            "align_content": null,
            "align_items": null,
            "align_self": null,
            "border": null,
            "bottom": null,
            "display": null,
            "flex": null,
            "flex_flow": null,
            "grid_area": null,
            "grid_auto_columns": null,
            "grid_auto_flow": null,
            "grid_auto_rows": null,
            "grid_column": null,
            "grid_gap": null,
            "grid_row": null,
            "grid_template_areas": null,
            "grid_template_columns": null,
            "grid_template_rows": null,
            "height": null,
            "justify_content": null,
            "justify_items": null,
            "left": null,
            "margin": null,
            "max_height": null,
            "max_width": null,
            "min_height": null,
            "min_width": null,
            "object_fit": null,
            "object_position": null,
            "order": null,
            "overflow": null,
            "overflow_x": null,
            "overflow_y": null,
            "padding": null,
            "right": null,
            "top": null,
            "visibility": null,
            "width": null
          }
        },
        "f8478b72413f42f096db871b6918ab87": {
          "model_module": "@jupyter-widgets/controls",
          "model_name": "DescriptionStyleModel",
          "model_module_version": "1.5.0",
          "state": {
            "_model_module": "@jupyter-widgets/controls",
            "_model_module_version": "1.5.0",
            "_model_name": "DescriptionStyleModel",
            "_view_count": null,
            "_view_module": "@jupyter-widgets/base",
            "_view_module_version": "1.2.0",
            "_view_name": "StyleView",
            "description_width": ""
          }
        },
        "e9a5b1790b214800914d4bd91f2cdccd": {
          "model_module": "@jupyter-widgets/base",
          "model_name": "LayoutModel",
          "model_module_version": "1.2.0",
          "state": {
            "_model_module": "@jupyter-widgets/base",
            "_model_module_version": "1.2.0",
            "_model_name": "LayoutModel",
            "_view_count": null,
            "_view_module": "@jupyter-widgets/base",
            "_view_module_version": "1.2.0",
            "_view_name": "LayoutView",
            "align_content": null,
            "align_items": null,
            "align_self": null,
            "border": null,
            "bottom": null,
            "display": null,
            "flex": null,
            "flex_flow": null,
            "grid_area": null,
            "grid_auto_columns": null,
            "grid_auto_flow": null,
            "grid_auto_rows": null,
            "grid_column": null,
            "grid_gap": null,
            "grid_row": null,
            "grid_template_areas": null,
            "grid_template_columns": null,
            "grid_template_rows": null,
            "height": null,
            "justify_content": null,
            "justify_items": null,
            "left": null,
            "margin": null,
            "max_height": null,
            "max_width": null,
            "min_height": null,
            "min_width": null,
            "object_fit": null,
            "object_position": null,
            "order": null,
            "overflow": null,
            "overflow_x": null,
            "overflow_y": null,
            "padding": null,
            "right": null,
            "top": null,
            "visibility": null,
            "width": null
          }
        },
        "471eaea85c674a5992a23bcacdeb3b15": {
          "model_module": "@jupyter-widgets/controls",
          "model_name": "DescriptionStyleModel",
          "model_module_version": "1.5.0",
          "state": {
            "_model_module": "@jupyter-widgets/controls",
            "_model_module_version": "1.5.0",
            "_model_name": "DescriptionStyleModel",
            "_view_count": null,
            "_view_module": "@jupyter-widgets/base",
            "_view_module_version": "1.2.0",
            "_view_name": "StyleView",
            "description_width": ""
          }
        }
      }
    }
  },
  "cells": [
    {
      "cell_type": "markdown",
      "metadata": {
        "id": "view-in-github",
        "colab_type": "text"
      },
      "source": [
        "<a href=\"https://colab.research.google.com/github/YorkJong/news-digest/blob/main/notebooks/news_clip.ipynb\" target=\"_parent\"><img src=\"https://colab.research.google.com/assets/colab-badge.svg\" alt=\"Open In Colab\"/></a>"
      ]
    },
    {
      "cell_type": "markdown",
      "source": [
        "這支 notebook 是為了選取剪輯 news-digest 的部分新聞分類，以利後續轉貼\n",
        "執行步驟如下：\n",
        "1. 按下 Install cell 前面的 ► 按鈕來安裝 clip 模組.\n",
        "2. 根據需要，填表執行後面的 Forms 或 Widgets UI"
      ],
      "metadata": {
        "id": "qdoacSllvdm2"
      }
    },
    {
      "cell_type": "markdown",
      "source": [
        "### Install "
      ],
      "metadata": {
        "id": "74XGrOopRPIi"
      }
    },
    {
      "cell_type": "code",
      "source": [
        "!curl -o clip.py https://raw.githubusercontent.com/YorkJong/news-digest/main/src/clip.py\n",
        "from clip import *"
      ],
      "metadata": {
        "id": "HhPa1e1tse76",
        "outputId": "fc198d53-4e25-4c44-9c37-a4c45e4e081b",
        "colab": {
          "base_uri": "https://localhost:8080/"
        }
      },
      "execution_count": 11,
      "outputs": [
        {
          "output_type": "stream",
          "name": "stdout",
          "text": [
            "  % Total    % Received % Xferd  Average Speed   Time    Time     Time  Current\n",
            "                                 Dload  Upload   Total   Spent    Left  Speed\n",
            "\r  0     0    0     0    0     0      0      0 --:--:-- --:--:-- --:--:--     0\r100  4967  100  4967    0     0  26561      0 --:--:-- --:--:-- --:--:-- 26561\n"
          ]
        }
      ]
    },
    {
      "cell_type": "markdown",
      "source": [
        "### Select Categories with the Colab Forms"
      ],
      "metadata": {
        "id": "jcbcKHfqSzyQ"
      }
    },
    {
      "cell_type": "code",
      "source": [
        "#@title Single Selection { run: \"auto\" }\n",
        "category = \"Finance\" #@param [\"Tesla & SpaceX; Vehicle\", \"Tech Titans\", \"Finance\", \"Taiwan\", \"Crypto\", \"Technology\", \"AI\"] {allow-input: true}\n",
        "with_hashtags = False #@param {type:\"boolean\"}\n",
        "with_headers = True #@param {type:\"boolean\"}\n",
        "\n",
        "fn = get_latest_fn(\"journals\")\n",
        "content = get_file(fn)\n",
        "lines = get_lines_of_categories([category], content, with_hashtags, with_headers)\n",
        "print('\\n'.join(lines))\n",
        "\n",
        "# Copy text to clipboard in Python using pandas module\n",
        "#import pandas as pd\n",
        "#df=pd.DataFrame(['Text to copy'])\n",
        "#df.to_clipboard(index=False, header=False)"
      ],
      "metadata": {
        "colab": {
          "base_uri": "https://localhost:8080/"
        },
        "cellView": "form",
        "id": "tGXYiHdUOgRp",
        "outputId": "f4969a9e-2299-478e-c149-9613de8cd36c"
      },
      "execution_count": 15,
      "outputs": [
        {
          "output_type": "stream",
          "name": "stdout",
          "text": [
            "### Finance\n",
            "- [麥可貝瑞分析銀行暴雷：瑞銀快落入 SVB 所在象限](https://finance.technews.tw/2023/03/21/michael-burry-svb-ubs-group-ag/)\n",
            "- [美國金融業吵著要糖！中小銀行聯盟要FDIC「給全部存款保險2年」避免擠兌爆發](https://www.blocktempo.com/us-midsize-banks-seek-fdic-insurance/)\n",
            "- [一夜崩盤 多次熔斷 股價腰斬 下一家破產的美國銀行？](https://news.cnyes.com/news/id/5117564)\n",
            "- [富爸爸預言全中！瑞信被收購、黃金突破2000鎂…再砲轟聯準會「通膨大騙子」](https://www.blocktempo.com/kiyosaki-warns-u-s-inflation-is-now-systemic/)\n",
            "- [銀行體系承壓 高盛：Fed本周將暫停升息](https://news.cnyes.com/news/id/5117507)\n",
            "- [FDIC將分拆矽谷銀行 尋求個別拍賣其私人銀行部門](https://news.cnyes.com/news/id/5117513)\n",
            "- [FT：中國改變支持晶片產業方式 讓大咖更易獲補貼](https://news.cnyes.com/news/id/5117643)\n",
            "-\n"
          ]
        }
      ]
    },
    {
      "cell_type": "code",
      "source": [
        "#@title Multiple Selections { run: \"auto\" }\n",
        "first_category = \"Tesla & SpaceX; Vehicle\" #@param [\"Tesla & SpaceX; Vehicle\", \"Tech Titans\", \"Finance\", \"Taiwan\", \"Crypto\", \"Technology\", \"AI\"] {allow-input: true}\n",
        "last_category = \"Finance\" #@param [\"Tesla & SpaceX; Vehicle\", \"Tech Titans\", \"Finance\", \"Taiwan\", \"Crypto\", \"Technology\", \"AI\"] {allow-input: true}\n",
        "with_hashtags = False #@param {type:\"boolean\"}\n",
        "with_headers = True #@param {type:\"boolean\"}\n",
        "\n",
        "fn = get_latest_fn(\"journals\")\n",
        "content = get_file(fn)\n",
        "categories = get_categories(content)\n",
        "categories = get_sublist(categories, first_category, last_category)\n",
        "lines = get_lines_of_categories(categories, content, with_hashtags, with_headers)\n",
        "print('\\n'.join(lines))\n"
      ],
      "metadata": {
        "colab": {
          "base_uri": "https://localhost:8080/"
        },
        "cellView": "form",
        "id": "QRwq2sNpi8c3",
        "outputId": "e284b03a-9f6b-42bc-87b1-cfab2f89f42c"
      },
      "execution_count": 5,
      "outputs": [
        {
          "output_type": "stream",
          "name": "stdout",
          "text": [
            "### Tesla & SpaceX; Vehicle\n",
            "- [[U-EV]Tesla率先在瑞典設立無人遠端試駕中心，無接觸試駕體驗擴展至歐洲](https://news.u-car.com.tw/news/article/74334)\n",
            "- [英皇國際與Tesla合作,旗下5商場增設V3超級充電站](https://news.cnyes.com/news/id/5119852)\n",
            "- [英皇國際及Tesla簽署「綠色運輸合作備忘錄」共建智慧未來](https://today.line.me/hk/v2/article/BEP8jOQ)\n",
            "- [特斯拉信評脫離垃圾級進入投資級 穆迪跟進標普之後調升](https://udn.com/news/story/6811/7045090)\n",
            "- [特斯拉申請將德國超級工廠年產能翻倍至100萬輛](https://news.cnyes.com/news/id/5120152)\n",
            "- [通膨削減法案刺激北美製電動車銷量大增，特斯拉週一股價漲1.73%](https://tw.stock.yahoo.com/news/通膨削減法案刺激北美製電動車銷量大增-特斯拉週-股價漲1-73-004514463.html)\n",
            "- [FOMC會議今晚登場、穆迪調升特斯拉信評！](https://news.cnyes.com/news/id/5121144)\n",
            "- [豐田宣布引進Mirai氫能車！預告現身台灣智慧移動展-國內車訊|8891汽車](https://c.8891.com.tw/news/16578)\n",
            "- [賓士將砸數十億美元，投資電動車廠](https://technews.tw/2023/03/20/benz-to-spend-billions-investing-in-electric-car-factory/)\n",
            "- [麥拉倫切入電動車產業，但不是靠車子](https://finance.technews.tw/2023/03/20/mclaren-inverter-ev-industry/)\n",
            "-\n",
            "### Tech Titans\n",
            "- [NVIDIA成功不靠幸運黃仁勳喊話：AI時代快買A100顯卡](https://news.xfastest.com/nvidia/125576/nvidia-43/)\n",
            "- [微軟子公司Nuance要以GPT-4來產生病患臨床筆記草稿](https://www.ithome.com.tw/news/156015)\n",
            "- [內建加密貨幣交易功能，傳 Microsoft Edge 祕密測試加密錢包](https://technews.tw/2023/03/20/testing-a-built-in-crypto-wallet-in-microsoft-edge/)\n",
            "- [路透：微軟給歐盟的反壟斷補救措施僅針對雲端串流媒體競爭對手](https://m.cnyes.com/news/id/5117533)\n",
            "- [微軟砸下數億美元為ChatGPT打造專用超級電腦，由上萬張NVIDIA A100打造！](https://www.techbang.com/posts/104657-microsoft-spent-hundreds-of-millions-of-dollars-to-build-a)\n",
            "- [PC銷售回春 AMD、英特爾業務將撥雲見日](https://news.cnyes.com/news/id/5117549)\n",
            "- [GIGABYTE：NVIDIA GeForce RTX 4060 將配置 8GB 記憶體](https://benchlife.info/gigabyte-confirm-geforce-rtx-4060-with-8gb-vram/)\n",
            "- [傳蘋果開發大型語言模型提升 Siri 體驗](https://technews.tw/2023/03/21/apple-is-reportedly-experimenting-with-language-generating-ai/)\n",
            "- [蘋果 CarPlay 危機將至？Google 布局已成](https://technews.tw/2023/03/21/apple-carplay-vs-google-android-automotive/)\n",
            "- [最新的 iOS、iPadOS、tvOS 和 macOS 已支援多款 8BitDo 手把](https://chinese.engadget.com/8bitdo-controllers-now-work-with-apple-devices-070036681.html)\n",
            "- [ChatGPT有多強？對手Google實測可以當「年薪500萬」工程師，Bard怎麼比拼？](https://www.bnext.com.tw/article/74494/google-testing-acing-new-nthe-pntl)\n",
            "- [Google 母公司員工連署五點訴求，要執行長妥善處理裁員問題](https://today.line.me/tw/v2/article/7N08wNm)\n",
            "- [Google 將不會為裁退員工追溯育兒假和病假](https://chinese.engadget.com/google-將不會為裁退員工追溯育兒假和病假-063054064.html)\n",
            "- [提升效率？祖克柏要公司高層轉個人貢獻者，不然就滾蛋](https://technews.tw/2023/03/21/mark-zuckerberg-3/)\n",
            "- [ChatGPT 尚未帶動需求？調查：資料中心續降溫](https://technews.tw/2023/03/21/chatgpt-data-center/)\n",
            "- [「文心一言」口碑逆轉，駕馭5大場景驚艷市場！百度股價反飆漲](https://www.bnext.com.tw/article/74490/ernie-bot-cn-min-turn-plus-)\n",
            "- [果不其然，百度「文心一言」不能談習近平、不能生六四圖片](https://www.inside.com.tw/article/31066-ChatGPT-AI-China)\n",
            "- [美國科技業裁員裁上癮，亞馬遜宣布二度裁員 9,000 人](https://technews.tw/2023/03/21/amazon-announces-9000-layoffs-in-2nd-degree/)\n",
            "-\n",
            "### Finance\n",
            "- [麥可貝瑞分析銀行暴雷：瑞銀快落入 SVB 所在象限](https://finance.technews.tw/2023/03/21/michael-burry-svb-ubs-group-ag/)\n",
            "- [美國金融業吵著要糖！中小銀行聯盟要FDIC「給全部存款保險2年」避免擠兌爆發](https://www.blocktempo.com/us-midsize-banks-seek-fdic-insurance/)\n",
            "- [一夜崩盤 多次熔斷 股價腰斬 下一家破產的美國銀行？](https://news.cnyes.com/news/id/5117564)\n",
            "- [富爸爸預言全中！瑞信被收購、黃金突破2000鎂…再砲轟聯準會「通膨大騙子」](https://www.blocktempo.com/kiyosaki-warns-u-s-inflation-is-now-systemic/)\n",
            "- [銀行體系承壓 高盛：Fed本周將暫停升息](https://news.cnyes.com/news/id/5117507)\n",
            "- [FDIC將分拆矽谷銀行 尋求個別拍賣其私人銀行部門](https://news.cnyes.com/news/id/5117513)\n",
            "- [FT：中國改變支持晶片產業方式 讓大咖更易獲補貼](https://news.cnyes.com/news/id/5117643)\n",
            "-\n"
          ]
        }
      ]
    },
    {
      "cell_type": "markdown",
      "source": [
        "### Select multiple categories with Jupyter Widgets"
      ],
      "metadata": {
        "id": "bHZpE5gJsacz"
      }
    },
    {
      "cell_type": "code",
      "source": [
        "import ipywidgets as widgets\n",
        "\n",
        "fn = get_latest_fn(\"journals\")\n",
        "content = get_file(fn)\n",
        "options = get_categories(content)\n",
        "\n",
        "categories = widgets.SelectMultiple(\n",
        "    options=options,\n",
        "    value=[options[0]],\n",
        "    rows=len(options),\n",
        "    description='Categories',\n",
        "    disabled=False\n",
        ")\n",
        "\n",
        "with_hashtags = widgets.Checkbox(\n",
        "    value=True,\n",
        "    description='with hashtags',\n",
        "    disabled=False\n",
        ")\n",
        "\n",
        "with_headers = widgets.Checkbox(\n",
        "    value=True,\n",
        "    description='with headers',\n",
        "    disabled=False\n",
        ")\n",
        "\n",
        "flags = widgets.VBox([with_hashtags, with_headers])\n",
        "widgets.HBox([categories, flags])"
      ],
      "metadata": {
        "colab": {
          "base_uri": "https://localhost:8080/",
          "height": 144,
          "referenced_widgets": [
            "0c230dcf9ad0483c9adec79fa656a729",
            "cc5d1dfc772643e7a128076bcc211011",
            "7eba432c715745239f859d3ce4f9494b",
            "bbd5dfd2c22d49418f63cbc6d22eeb94",
            "04b96b4097d149ad95cbd542b1ee9588",
            "1b8df4b82dfc4bd5a18981db00655f9e",
            "1d7709d0098548dba8bc42419016c64b",
            "ddd59c592e5c4132abd79a05d1b703a6",
            "30fadf6ef56b4a01a575b23109cb11d3",
            "0d21f1bf6e224a7397b55dd14734f460",
            "f8478b72413f42f096db871b6918ab87",
            "e9a5b1790b214800914d4bd91f2cdccd",
            "471eaea85c674a5992a23bcacdeb3b15"
          ]
        },
        "id": "g-Q0ReLBmyPy",
        "outputId": "1d9bac41-270a-4a8d-94ac-fb24813b8ee7"
      },
      "execution_count": 6,
      "outputs": [
        {
          "output_type": "display_data",
          "data": {
            "text/plain": [
              "HBox(children=(SelectMultiple(description='Categories', index=(0,), options=('Tesla & SpaceX; Vehicle', 'Tech …"
            ],
            "application/vnd.jupyter.widget-view+json": {
              "version_major": 2,
              "version_minor": 0,
              "model_id": "0c230dcf9ad0483c9adec79fa656a729"
            }
          },
          "metadata": {}
        }
      ]
    },
    {
      "cell_type": "code",
      "source": [
        "lines = get_lines_of_categories(categories.value, content, with_hashtags.value, with_headers.value)\n",
        "print('\\n'.join(lines))"
      ],
      "metadata": {
        "colab": {
          "base_uri": "https://localhost:8080/"
        },
        "id": "xczHHjuqp16i",
        "outputId": "65e3e6fc-4c61-4b9d-ca77-9de8643e3dca"
      },
      "execution_count": 13,
      "outputs": [
        {
          "output_type": "stream",
          "name": "stdout",
          "text": [
            "### Finance\n",
            "- [麥可貝瑞分析銀行暴雷：瑞銀快落入 SVB 所在象限](https://finance.technews.tw/2023/03/21/michael-burry-svb-ubs-group-ag/)\n",
            "- [美國金融業吵著要糖！中小銀行聯盟要FDIC「給全部存款保險2年」避免擠兌爆發](https://www.blocktempo.com/us-midsize-banks-seek-fdic-insurance/)\n",
            "- [一夜崩盤 多次熔斷 股價腰斬 下一家破產的美國銀行？](https://news.cnyes.com/news/id/5117564)\n",
            "- [富爸爸預言全中！瑞信被收購、黃金突破2000鎂…再砲轟聯準會「通膨大騙子」](https://www.blocktempo.com/kiyosaki-warns-u-s-inflation-is-now-systemic/)\n",
            "- [銀行體系承壓 高盛：Fed本周將暫停升息](https://news.cnyes.com/news/id/5117507)\n",
            "- [FDIC將分拆矽谷銀行 尋求個別拍賣其私人銀行部門](https://news.cnyes.com/news/id/5117513)\n",
            "- [FT：中國改變支持晶片產業方式 讓大咖更易獲補貼](https://news.cnyes.com/news/id/5117643)\n",
            "-\n"
          ]
        }
      ]
    }
  ]
}