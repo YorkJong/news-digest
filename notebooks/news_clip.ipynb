{
  "nbformat": 4,
  "nbformat_minor": 0,
  "metadata": {
    "colab": {
      "provenance": [],
      "collapsed_sections": [
        "lGmIv-dHZnVz"
      ],
      "authorship_tag": "ABX9TyOqZwtuE2X+ENyf1Z52TXY+",
      "include_colab_link": true
    },
    "kernelspec": {
      "name": "python3",
      "display_name": "Python 3"
    },
    "language_info": {
      "name": "python"
    }
  },
  "cells": [
    {
      "cell_type": "markdown",
      "metadata": {
        "id": "view-in-github",
        "colab_type": "text"
      },
      "source": [
        "<a href=\"https://colab.research.google.com/github/YorkJong/news-digest/blob/main/notebooks/news_clip.ipynb\" target=\"_parent\"><img src=\"https://colab.research.google.com/assets/colab-badge.svg\" alt=\"Open In Colab\"/></a>"
      ]
    },
    {
      "cell_type": "markdown",
      "source": [
        "這支 notebook 是為了選取剪輯 news-digest 的部分新聞分類，以利後續轉貼\n",
        "執行步驟如下：\n",
        "1. 執行 Functions\n",
        "2. 根據需要，填表執行後面的兩個 Forms"
      ],
      "metadata": {
        "id": "qdoacSllvdm2"
      }
    },
    {
      "cell_type": "markdown",
      "source": [
        "### Functions"
      ],
      "metadata": {
        "id": "74XGrOopRPIi"
      }
    },
    {
      "cell_type": "code",
      "execution_count": 104,
      "metadata": {
        "id": "J8HfaDLDOAS0"
      },
      "outputs": [],
      "source": [
        "import requests\n",
        "import re\n",
        "\n",
        "\n",
        "# Assign GitHub repository and path of \"journals\" folder\n",
        "repo = \"YorkJong/news-digest\"\n",
        "path = \"journals\"\n",
        "\n",
        "def get_latest_fn(path):\n",
        "    '''Returns the filename of latest date.\n",
        "    '''\n",
        "    api_url = f\"https://api.github.com/repos/{repo}/contents/{path}\"\n",
        "\n",
        "    # Request to the GitHub API to get all the archives under the journal folder\n",
        "    response = requests.get(api_url)\n",
        "    if response.status_code == 200:\n",
        "        content = response.json()\n",
        "        pattern = r'^\\d{4}_\\d{2}_\\d{2}\\.md$'\n",
        "        date_list = [f['name'] for f in content if re.match(pattern, f['name'])]\n",
        "    \n",
        "        # Find the filename with the latest date\n",
        "        latest_date = max(date_list)\n",
        "        #latest_date = sorted(date_list)[-1]\n",
        "        return latest_date\n",
        "    else:\n",
        "        print(f\"Error {response.status_code}: {response.reason}\")\n",
        "        return \"\"\n",
        "\n",
        "\n",
        "def get_file(fn):\n",
        "    '''Returns a file content of the news-digest site.\n",
        "    '''\n",
        "    file_url = f\"https://raw.githubusercontent.com/{repo}/main/{path}/{fn}\"\n",
        "\n",
        "    response = requests.get(file_url)\n",
        "    if response.status_code == 200:\n",
        "        return response.content.decode('utf-8')\n",
        "    else:\n",
        "        print(f\"Error {response.status_code}: {response.reason}\")\n",
        "    return \"\"\n",
        "\n",
        "\n",
        "def get_categories(content):\n",
        "    '''Returns category names of the content of news-digest.\n",
        "    '''\n",
        "    lines = content.split('\\n')\n",
        "    categorys = []\n",
        "    tag = '### '\n",
        "    for line in lines:\n",
        "        if line.startswith(tag):\n",
        "            categorys += [line[len(tag):]]\n",
        "    return categorys\n",
        "\n",
        "\n",
        "def get_links_of_category(kind_name, content, remove_hashtags=True):\n",
        "    '''Returns links of given kind.\n",
        "    '''\n",
        "    text = content\n",
        "\n",
        "    header = kind_name\n",
        "    if not header.startswith(\"### \"):\n",
        "        header = f'### {header}'\n",
        "\n",
        "    # Remove hashtags after each link\n",
        "    if remove_hashtags:\n",
        "        text = '\\n'.join(\n",
        "            [re.sub(r'#[\\w/]+', '', line) for line in text.split('\\n')])\n",
        "        \n",
        "    trigger = False\n",
        "    lines = []\n",
        "    for line in text.split('\\n'):\n",
        "        if header in line:\n",
        "            trigger = True\n",
        "            continue\n",
        "        if line.startswith(\"###\"):\n",
        "            if trigger:\n",
        "                break\n",
        "        if trigger:\n",
        "            lines += [line]\n",
        "    return '\\n'.join(lines)\n",
        "\n",
        "\n",
        "def get_sublist(all, first, last):\n",
        "    '''Get a subset of a list of given range.\n",
        "    '''\n",
        "    ret = []\n",
        "    trigger = False\n",
        "    for item in all: \n",
        "        if item == first:\n",
        "            trigger = True\n",
        "        if trigger:\n",
        "            ret += [item]\n",
        "        if item == last:\n",
        "            break\n",
        "    return ret"
      ]
    },
    {
      "cell_type": "markdown",
      "source": [
        "### Form to list links of given category"
      ],
      "metadata": {
        "id": "jcbcKHfqSzyQ"
      }
    },
    {
      "cell_type": "code",
      "source": [
        "#@title  { run: \"auto\" }\n",
        "#@title  { run: \"auto\", vertical-output: true }\n",
        "#@title\n",
        "category = \"Tech Titans\" #@param [\"Tesla & SpaceX; Vehicle\", \"Tech Titans\", \"Finance\", \"Taiwan\", \"Crypto\", \"Technology\", \"AI\"] {allow-input: true}\n",
        "remove_hashtags = True #@param {type:\"boolean\"}\n",
        "\n",
        "fn = get_latest_fn(path)\n",
        "content = get_file(fn)\n",
        "\n",
        "lines = get_links_of_category(category, content, remove_hashtags)\n",
        "print(f'### {category}') \n",
        "print(lines)\n",
        "\n",
        "# Copy text to clipboard in Python using pandas module\n",
        "#import pandas as pd\n",
        "#df=pd.DataFrame(['Text to copy'])\n",
        "#df.to_clipboard(index=False, header=False)"
      ],
      "metadata": {
        "colab": {
          "base_uri": "https://localhost:8080/"
        },
        "cellView": "form",
        "id": "tGXYiHdUOgRp",
        "outputId": "f55fc1b8-01c1-482e-c097-1db15d440d30"
      },
      "execution_count": 107,
      "outputs": [
        {
          "output_type": "stream",
          "name": "stdout",
          "text": [
            "### Tech Titans\n",
            "- [Google Glass 停售 但 Project Iris 虛擬視覺項目仍進行中](https://www.cool3c.com/article/190829) \n",
            "- [外電報導指出微軟計畫 2024 年推出手機遊戲商店 與 Apple、Google 競爭市場](https://gnn.gamer.com.tw/detail.php?sn=246899)   \n",
            "- [GPT-4 讓微軟 Office 也有了「iPhone 時刻」](https://technews.tw/2023/03/20/microsoft-365-copilot/)  \n",
            "- [AI搶走了元宇宙的熱度？祖克柏所期待的元宇宙還有更多挑戰](https://www.techbang.com/posts/104627-metaverse-dead)   \n",
            "- [輝達GTC登場 黃仁勳點名4大AI最夯](https://ctee.com.tw/news/tech/828010.html)   \n",
            "- [AMD市佔漲不動了 分析師稱Intel的麻煩已結束](https://news.xfastest.com/intel/125467/analyst-intel/)   \n",
            "-\n"
          ]
        }
      ]
    },
    {
      "cell_type": "code",
      "source": [
        "#@title  { run: \"auto\" }\n",
        "#@title  { run: \"auto\", vertical-output: true }\n",
        "#@title\n",
        "first_category = \"Tesla & SpaceX; Vehicle\" #@param [\"Tesla & SpaceX; Vehicle\", \"Tech Titans\", \"Finance\", \"Taiwan\", \"Crypto\", \"Technology\", \"AI\"] {allow-input: true}\n",
        "last_category = \"Finance\" #@param [\"Tesla & SpaceX; Vehicle\", \"Tech Titans\", \"Finance\", \"Taiwan\", \"Crypto\", \"Technology\", \"AI\"] {allow-input: true}\n",
        "remove_hashtags = True #@param {type:\"boolean\"}\n",
        "\n",
        "fn = get_latest_fn(path)\n",
        "content = get_file(fn)\n",
        "categories = get_categories(content)\n",
        "categories = get_sublist(categories, first_category, last_category)\n",
        "\n",
        "for category in categories:\n",
        "    lines = get_links_of_category(category, content, remove_hashtags)\n",
        "    print(f'### {category}') \n",
        "    print(lines)\n"
      ],
      "metadata": {
        "colab": {
          "base_uri": "https://localhost:8080/"
        },
        "cellView": "form",
        "id": "QRwq2sNpi8c3",
        "outputId": "1180ed8a-e3fe-4ae3-a0b6-ba55cd65c1db"
      },
      "execution_count": 105,
      "outputs": [
        {
          "output_type": "stream",
          "name": "stdout",
          "text": [
            "### Tesla & SpaceX; Vehicle\n",
            "- [特斯拉視覺測距機能來了！會顯示障礙物距離也有聲音警示，但台灣車主還要再等等](https://www.ddcar.com.tw/article/34663)    \n",
            "- [小鵬飛行汽車外形專利曝光　四螺旋槳加四輪體積龐大](https://unwire.hk/2023/03/18/xpeng-flying-car/life-tech/auto/)  \n",
            "-\n",
            "- ### Tech Titans\n",
            "- [Google Glass 停售 但 Project Iris 虛擬視覺項目仍進行中](https://www.cool3c.com/article/190829) \n",
            "- [外電報導指出微軟計畫 2024 年推出手機遊戲商店 與 Apple、Google 競爭市場](https://gnn.gamer.com.tw/detail.php?sn=246899)   \n",
            "- [GPT-4 讓微軟 Office 也有了「iPhone 時刻」](https://technews.tw/2023/03/20/microsoft-365-copilot/)  \n",
            "- [AI搶走了元宇宙的熱度？祖克柏所期待的元宇宙還有更多挑戰](https://www.techbang.com/posts/104627-metaverse-dead)   \n",
            "- [輝達GTC登場 黃仁勳點名4大AI最夯](https://ctee.com.tw/news/tech/828010.html)   \n",
            "- [AMD市佔漲不動了 分析師稱Intel的麻煩已結束](https://news.xfastest.com/intel/125467/analyst-intel/)   \n",
            "-\n",
            "### Finance\n",
            "- [美國金融業吵著要糖！中小銀行聯盟要FDIC「給全部存款保險2年」避免擠兌爆發](https://www.blocktempo.com/us-midsize-banks-seek-fdic-insurance/) \n",
            "- [本週財經大事彙整 週四FOMC利率決議即將登場](https://news.cnyes.com/news/id/5117411) \n",
            "- [美元展望∶銀行業危機後聯準會將審慎加息?美元或看跌](https://www.dailyfxasia.com/cn/outlook/20230320-4692.html)  \n",
            "- [繼美2銀行倒閉 首家知名避險基金不堪債市動盪虧損關閉](https://news.ebc.net.tw/news/business/359443)  \n",
            "- [美元展望∶銀行業危機後聯準會將審慎加息?美元或看跌](https://www.dailyfxasia.com/cn/outlook/20230320-4692.html)  \n",
            "- [Signature Bank大部分業務將由紐約社區銀行收購 加密貨幣存款直接歸還存戶](https://news.cnyes.com/news/id/5117373) \n",
            "- [銀行業危機未完 第一共和成為新的壓力點 Fed本周會議是關鍵](https://m.cnyes.com/news/id/5117360)  \n",
            "- [瑞信旗下5千億債券變廢紙 關鍵內幕曝](https://ctee.com.tw/news/global/828260.html)  \n",
            "- [四大外銀：Fed 3月升1碼 全年降息無望](https://ctee.com.tw/news/finance/827787.html)  \n",
            "- [本週操盤筆記：Fed 3月會議、全球央行超級星期四、美歐銀行業風暴](https://m.cnyes.com/news/id/5117232)       \n",
            "-\n"
          ]
        }
      ]
    },
    {
      "cell_type": "markdown",
      "source": [
        "### Test"
      ],
      "metadata": {
        "id": "lGmIv-dHZnVz"
      }
    },
    {
      "cell_type": "code",
      "source": [
        "get_sublist(list('abcdefg'), 'b', 'd')"
      ],
      "metadata": {
        "colab": {
          "base_uri": "https://localhost:8080/"
        },
        "id": "NHXLaDrynnMX",
        "outputId": "ca3b94c4-f4be-4ea6-e307-c67f6c3d3cc8"
      },
      "execution_count": 83,
      "outputs": [
        {
          "output_type": "execute_result",
          "data": {
            "text/plain": [
              "['b', 'c', 'd']"
            ]
          },
          "metadata": {},
          "execution_count": 83
        }
      ]
    },
    {
      "cell_type": "code",
      "source": [
        "fn = get_latest_fn(path)\n",
        "content = get_file(fn)\n",
        "print(get_categories(content)) "
      ],
      "metadata": {
        "colab": {
          "base_uri": "https://localhost:8080/"
        },
        "id": "I9Zrlfo9Zrim",
        "outputId": "41db9dad-05c4-4e7d-95ef-6bb4c56bf0ff"
      },
      "execution_count": 74,
      "outputs": [
        {
          "output_type": "stream",
          "name": "stdout",
          "text": [
            "['Tesla & SpaceX; Vehicle', ' Tech Titans', 'Finance', 'Taiwan', 'Crypto', 'Technology', 'AI']\n"
          ]
        }
      ]
    },
    {
      "cell_type": "code",
      "source": [
        "fn = get_latest_fn(path)\n",
        "print(fn)\n",
        "\n",
        "content = get_file(fn)\n",
        "print(content)"
      ],
      "metadata": {
        "colab": {
          "base_uri": "https://localhost:8080/"
        },
        "id": "quRNN-5sOYit",
        "outputId": "0313a6d5-ab70-4845-93de-327960373d02"
      },
      "execution_count": 103,
      "outputs": [
        {
          "output_type": "stream",
          "name": "stdout",
          "text": [
            "2023_03_20.md\n",
            "### Tesla & SpaceX; Vehicle\n",
            "- [特斯拉視覺測距機能來了！會顯示障礙物距離也有聲音警示，但台灣車主還要再等等](https://www.ddcar.com.tw/article/34663) #TSLA #FSD #AI #EV\n",
            "- [小鵬飛行汽車外形專利曝光　四螺旋槳加四輪體積龐大](https://unwire.hk/2023/03/18/xpeng-flying-car/life-tech/auto/) #XPEV #EV\n",
            "-\n",
            "- ### Tech Titans\n",
            "- [Google Glass 停售 但 Project Iris 虛擬視覺項目仍進行中](https://www.cool3c.com/article/190829) #GOOG\n",
            "- [外電報導指出微軟計畫 2024 年推出手機遊戲商店 與 Apple、Google 競爭市場](https://gnn.gamer.com.tw/detail.php?sn=246899) #MSFT #AAPL #GOOG\n",
            "- [GPT-4 讓微軟 Office 也有了「iPhone 時刻」](https://technews.tw/2023/03/20/microsoft-365-copilot/) #GPT4 #MSFT\n",
            "- [AI搶走了元宇宙的熱度？祖克柏所期待的元宇宙還有更多挑戰](https://www.techbang.com/posts/104627-metaverse-dead) #AI #AR/VR #META\n",
            "- [輝達GTC登場 黃仁勳點名4大AI最夯](https://ctee.com.tw/news/tech/828010.html) #AI #NVDA #GTC\n",
            "- [AMD市佔漲不動了 分析師稱Intel的麻煩已結束](https://news.xfastest.com/intel/125467/analyst-intel/) #AMD #INTC #semicon\n",
            "-\n",
            "### Finance\n",
            "- [美國金融業吵著要糖！中小銀行聯盟要FDIC「給全部存款保險2年」避免擠兌爆發](https://www.blocktempo.com/us-midsize-banks-seek-fdic-insurance/) #FDIC\n",
            "- [本週財經大事彙整 週四FOMC利率決議即將登場](https://news.cnyes.com/news/id/5117411) #FOMC\n",
            "- [美元展望∶銀行業危機後聯準會將審慎加息?美元或看跌](https://www.dailyfxasia.com/cn/outlook/20230320-4692.html) #USD #Fed\n",
            "- [繼美2銀行倒閉 首家知名避險基金不堪債市動盪虧損關閉](https://news.ebc.net.tw/news/business/359443) #SIVB #SI\n",
            "- [美元展望∶銀行業危機後聯準會將審慎加息?美元或看跌](https://www.dailyfxasia.com/cn/outlook/20230320-4692.html) #USD #Fed\n",
            "- [Signature Bank大部分業務將由紐約社區銀行收購 加密貨幣存款直接歸還存戶](https://news.cnyes.com/news/id/5117373) #SI\n",
            "- [銀行業危機未完 第一共和成為新的壓力點 Fed本周會議是關鍵](https://m.cnyes.com/news/id/5117360) #FRB #FED\n",
            "- [瑞信旗下5千億債券變廢紙 關鍵內幕曝](https://ctee.com.tw/news/global/828260.html) #CSGN #Europ\n",
            "- [四大外銀：Fed 3月升1碼 全年降息無望](https://ctee.com.tw/news/finance/827787.html) #Fed #QT\n",
            "- [本週操盤筆記：Fed 3月會議、全球央行超級星期四、美歐銀行業風暴](https://m.cnyes.com/news/id/5117232) #Fed #BOE #SNB #QT #BTFP #SIVB #FRC\n",
            "-\n",
            "### Taiwan\n",
            "- [〈緯創內湖總部動土〉斥資超過62.5億元 預計2026年完工啟用](https://news.cnyes.com/news/id/5117378) #TW #緯創\n",
            "- [虛擬貨幣拍板由金管會監管 只管支付交易面 NFT非管轄範圍](https://m.cnyes.com/news/id/5117376) #Crypto #NFT #TW\n",
            "- [瑞信AT1債券變廢紙 黃天牧曝台金融業曝險](https://ctee.com.tw/news/finance/828269.html) #TW #CSGN\n",
            "- [和泰車氫能電動車TOYOTA MIRAI將亮相 明年初試運行](https://news.cnyes.com/news/id/5117416) #EV #Toyota #TW\n",
            "- [美台聯手 台廠O-RAN商機旺 概念股有戲](https://ctee.com.tw/news/stocks/828028.html) #TW\n",
            "- [【麻雀祕密】麻雀真的變少了？「害鳥」其實是誤會？成群結隊卻是啃老族？](https://www.newsmarket.com.tw/blog/183723/) #biology #TW\n",
            "-\n",
            "### Crypto\n",
            "- [【狂人說趨勢】FOMO 情緒高亢，小心被市場潑冷水](https://blockcast.it/2023/03/20/madman-column-2023-mar-20/) #Crypto #BTC\n",
            "- [DeFiLlama 創辦人想發幣！核心開發者怒分叉新協議；Andre Cronje：沒代幣將財務困難](https://www.blocktempo.com/defillama-internal-war-about-release-tokens/) #Crypto\n",
            "- [【MICA RESEARCH】穩定幣資金回流，比特幣衝破 28,000 美元](https://blockcast.it/2023/03/20/mica-research-weekly-analysis-0320/) #Crypto #BTC\n",
            "- [域名服務 Space ID 公布空投規則，社群怒喊白做工、被項目反撸](https://www.blocktempo.com/web3-domain-name-service-platform-space-id-airdrop/) #Crypto\n",
            "- [紐約社區銀行買下 Signature Bank！唯獨不買單「加密貨幣存款」](https://www.blocktempo.com/new-york-community-bancorp-buying-signature-bank/) #SI #Crypto\n",
            "- [急打造TVL護城河，Uniswap佈署至雪崩協議提案高票通過](https://abmedia.io/急打造tvl護城河，uniswap佈署至雪崩協議提案高票通過) #Crypto #Uniswqp\n",
            "- [世紀賭盤：惡性通膨正在發生？比特幣將在90天內站上百萬美元](https://abmedia.io/20230319-balaji-bet-hyperinflation-letd-btc-to-1million) #Crypto #BTC\n",
            "-\n",
            "### Technology\n",
            "- [3 天賣破 500 萬元！語音助理＋3D 投影＋ChatGPT＝召喚 AI 妹子？](https://www.inside.com.tw/article/31049-Gatebox%20ChatGPT%20AI%20bride) #ChatGPT #AI\n",
            "- [芝加哥大學研究出一套能夠反制 AI 平台藉由「讀圖」模擬畫風的保護工具](https://www.kocpc.com.tw/archives/484712) #AI #tech\n",
            "- [世界最小 3D 列印機只有 4.1 公分，模型細節毫不馬虎](https://technews.tw/2023/02/13/worlds-smallest-3d-printer/) #tech #3DPrint\n",
            "- [人類準備好了嗎？AI 改變世界影響力大過電力和網路](https://technews.tw/2023/03/20/ai-will-change-the-world-more-than-electricity-and-the-internet/) #AI #tech\n",
            "- [孩子為何都不理人？原來是\"共同式注意力發展\"有問題！](https://www.leaderkid.com.tw/2023/03/16/joint-attention/) #education #health\n",
            "-\n",
            "### AI\n",
            "- [靠 ChatGPT 也能練外文聽力甚至是口說！免費 Chrome 擴充功能就能實現](https://www.kocpc.com.tw/archives/484937) #ChatGPT #Chrome #AI #Software\n",
            "- [李開復籌組AI公司，「不只做中文版ChatGPT」！AI 2.0更賺錢？怎麼賺？](https://www.bnext.com.tw/article/74489/leekaifu-ai-evolu-zone-a) #AI #ChatGPT\n",
            "- [連佛祖都要配備ChatGPT！超正能量的「佛系AI」來了，怎麼指點你人生大小事？](https://www.bnext.com.tw/article/74495/chatgpt-hotoke-ai-enenlineok) #ChatGPT #AI\n",
            "-\n"
          ]
        }
      ]
    }
  ]
}