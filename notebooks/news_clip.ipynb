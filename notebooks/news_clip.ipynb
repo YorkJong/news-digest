{
  "nbformat": 4,
  "nbformat_minor": 0,
  "metadata": {
    "colab": {
      "provenance": [],
      "collapsed_sections": [
        "74XGrOopRPIi",
        "gbBeXRwHm8gn"
      ],
      "authorship_tag": "ABX9TyPwJO4eF/owsVyElqtg5jnA",
      "include_colab_link": true
    },
    "kernelspec": {
      "name": "python3",
      "display_name": "Python 3"
    },
    "language_info": {
      "name": "python"
    },
    "widgets": {
      "application/vnd.jupyter.widget-state+json": {
        "d67cb64b87d042bb91c37acac6cd898d": {
          "model_module": "@jupyter-widgets/controls",
          "model_name": "HBoxModel",
          "model_module_version": "1.5.0",
          "state": {
            "_dom_classes": [],
            "_model_module": "@jupyter-widgets/controls",
            "_model_module_version": "1.5.0",
            "_model_name": "HBoxModel",
            "_view_count": null,
            "_view_module": "@jupyter-widgets/controls",
            "_view_module_version": "1.5.0",
            "_view_name": "HBoxView",
            "box_style": "",
            "children": [
              "IPY_MODEL_f13b29c2698f4c428fbf295e34f29d52",
              "IPY_MODEL_4dbd81da589a4ae4bebf925c86eca8e2"
            ],
            "layout": "IPY_MODEL_16f3bcc780084e9f80f5b6bf1b37840b"
          }
        },
        "f13b29c2698f4c428fbf295e34f29d52": {
          "model_module": "@jupyter-widgets/controls",
          "model_name": "VBoxModel",
          "model_module_version": "1.5.0",
          "state": {
            "_dom_classes": [],
            "_model_module": "@jupyter-widgets/controls",
            "_model_module_version": "1.5.0",
            "_model_name": "VBoxModel",
            "_view_count": null,
            "_view_module": "@jupyter-widgets/controls",
            "_view_module_version": "1.5.0",
            "_view_name": "VBoxView",
            "box_style": "",
            "children": [
              "IPY_MODEL_9dcecbcc86a447e8896696be1b049191",
              "IPY_MODEL_68781d2193ca460ca785a7e1c9b5fa73"
            ],
            "layout": "IPY_MODEL_c0da912966b94bb69d7dd243f06fa01d"
          }
        },
        "4dbd81da589a4ae4bebf925c86eca8e2": {
          "model_module": "@jupyter-widgets/controls",
          "model_name": "VBoxModel",
          "model_module_version": "1.5.0",
          "state": {
            "_dom_classes": [],
            "_model_module": "@jupyter-widgets/controls",
            "_model_module_version": "1.5.0",
            "_model_name": "VBoxModel",
            "_view_count": null,
            "_view_module": "@jupyter-widgets/controls",
            "_view_module_version": "1.5.0",
            "_view_name": "VBoxView",
            "box_style": "",
            "children": [
              "IPY_MODEL_4d37233031464bc09dda6dabf5daf3f1",
              "IPY_MODEL_b14486056e374dda913a43f9b8c3b3a4"
            ],
            "layout": "IPY_MODEL_0d982a3254cc4e6fbcd55114f32b055e"
          }
        },
        "16f3bcc780084e9f80f5b6bf1b37840b": {
          "model_module": "@jupyter-widgets/base",
          "model_name": "LayoutModel",
          "model_module_version": "1.2.0",
          "state": {
            "_model_module": "@jupyter-widgets/base",
            "_model_module_version": "1.2.0",
            "_model_name": "LayoutModel",
            "_view_count": null,
            "_view_module": "@jupyter-widgets/base",
            "_view_module_version": "1.2.0",
            "_view_name": "LayoutView",
            "align_content": null,
            "align_items": null,
            "align_self": null,
            "border": null,
            "bottom": null,
            "display": null,
            "flex": null,
            "flex_flow": null,
            "grid_area": null,
            "grid_auto_columns": null,
            "grid_auto_flow": null,
            "grid_auto_rows": null,
            "grid_column": null,
            "grid_gap": null,
            "grid_row": null,
            "grid_template_areas": null,
            "grid_template_columns": null,
            "grid_template_rows": null,
            "height": null,
            "justify_content": null,
            "justify_items": null,
            "left": null,
            "margin": null,
            "max_height": null,
            "max_width": null,
            "min_height": null,
            "min_width": null,
            "object_fit": null,
            "object_position": null,
            "order": null,
            "overflow": null,
            "overflow_x": null,
            "overflow_y": null,
            "padding": null,
            "right": null,
            "top": null,
            "visibility": null,
            "width": null
          }
        },
        "9dcecbcc86a447e8896696be1b049191": {
          "model_module": "@jupyter-widgets/controls",
          "model_name": "DropdownModel",
          "model_module_version": "1.5.0",
          "state": {
            "_dom_classes": [],
            "_model_module": "@jupyter-widgets/controls",
            "_model_module_version": "1.5.0",
            "_model_name": "DropdownModel",
            "_options_labels": [
              "2023_04_08",
              "2023_04_07",
              "2023_04_06",
              "2023_04_05",
              "2023_04_04",
              "2023_04_03",
              "2023_04_01",
              "2023_03_31",
              "2023_03_30",
              "2023_03_29",
              "2023_03_28",
              "2023_03_27",
              "2023_03_26",
              "2023_03_25"
            ],
            "_view_count": null,
            "_view_module": "@jupyter-widgets/controls",
            "_view_module_version": "1.5.0",
            "_view_name": "DropdownView",
            "description": "Date",
            "description_tooltip": null,
            "disabled": false,
            "index": 0,
            "layout": "IPY_MODEL_cfb07757e5504b47a7e6e90376406bea",
            "style": "IPY_MODEL_74fc2683f65949c0a677313e97c2c35b"
          }
        },
        "68781d2193ca460ca785a7e1c9b5fa73": {
          "model_module": "@jupyter-widgets/controls",
          "model_name": "SelectMultipleModel",
          "model_module_version": "1.5.0",
          "state": {
            "_dom_classes": [],
            "_model_module": "@jupyter-widgets/controls",
            "_model_module_version": "1.5.0",
            "_model_name": "SelectMultipleModel",
            "_options_labels": [
              "Tesla & SpaceX; Vehicle",
              "Tech Titans",
              "Finance",
              "Taiwan",
              "Crypto",
              "Science & Technology",
              "IT"
            ],
            "_view_count": null,
            "_view_module": "@jupyter-widgets/controls",
            "_view_module_version": "1.5.0",
            "_view_name": "SelectMultipleView",
            "description": "Categories",
            "description_tooltip": null,
            "disabled": false,
            "index": [],
            "layout": "IPY_MODEL_40824acd57b3413aa16e30d1c43730fd",
            "rows": 7,
            "style": "IPY_MODEL_c528a58000ff4c0da53cd505d998de09"
          }
        },
        "c0da912966b94bb69d7dd243f06fa01d": {
          "model_module": "@jupyter-widgets/base",
          "model_name": "LayoutModel",
          "model_module_version": "1.2.0",
          "state": {
            "_model_module": "@jupyter-widgets/base",
            "_model_module_version": "1.2.0",
            "_model_name": "LayoutModel",
            "_view_count": null,
            "_view_module": "@jupyter-widgets/base",
            "_view_module_version": "1.2.0",
            "_view_name": "LayoutView",
            "align_content": null,
            "align_items": null,
            "align_self": null,
            "border": null,
            "bottom": null,
            "display": null,
            "flex": null,
            "flex_flow": null,
            "grid_area": null,
            "grid_auto_columns": null,
            "grid_auto_flow": null,
            "grid_auto_rows": null,
            "grid_column": null,
            "grid_gap": null,
            "grid_row": null,
            "grid_template_areas": null,
            "grid_template_columns": null,
            "grid_template_rows": null,
            "height": null,
            "justify_content": null,
            "justify_items": null,
            "left": null,
            "margin": null,
            "max_height": null,
            "max_width": null,
            "min_height": null,
            "min_width": null,
            "object_fit": null,
            "object_position": null,
            "order": null,
            "overflow": null,
            "overflow_x": null,
            "overflow_y": null,
            "padding": null,
            "right": null,
            "top": null,
            "visibility": null,
            "width": null
          }
        },
        "4d37233031464bc09dda6dabf5daf3f1": {
          "model_module": "@jupyter-widgets/controls",
          "model_name": "CheckboxModel",
          "model_module_version": "1.5.0",
          "state": {
            "_dom_classes": [],
            "_model_module": "@jupyter-widgets/controls",
            "_model_module_version": "1.5.0",
            "_model_name": "CheckboxModel",
            "_view_count": null,
            "_view_module": "@jupyter-widgets/controls",
            "_view_module_version": "1.5.0",
            "_view_name": "CheckboxView",
            "description": "show hashtags",
            "description_tooltip": null,
            "disabled": false,
            "indent": true,
            "layout": "IPY_MODEL_2a78d6e3beed41bc83dd65aa6ddec8a4",
            "style": "IPY_MODEL_abe493caf70047a580c184b207832312",
            "value": true
          }
        },
        "b14486056e374dda913a43f9b8c3b3a4": {
          "model_module": "@jupyter-widgets/controls",
          "model_name": "CheckboxModel",
          "model_module_version": "1.5.0",
          "state": {
            "_dom_classes": [],
            "_model_module": "@jupyter-widgets/controls",
            "_model_module_version": "1.5.0",
            "_model_name": "CheckboxModel",
            "_view_count": null,
            "_view_module": "@jupyter-widgets/controls",
            "_view_module_version": "1.5.0",
            "_view_name": "CheckboxView",
            "description": "show headings",
            "description_tooltip": null,
            "disabled": false,
            "indent": true,
            "layout": "IPY_MODEL_469c6815f87f498ebad921a77c048a71",
            "style": "IPY_MODEL_44fc28130a524646a865e4cc3c9cfef6",
            "value": true
          }
        },
        "0d982a3254cc4e6fbcd55114f32b055e": {
          "model_module": "@jupyter-widgets/base",
          "model_name": "LayoutModel",
          "model_module_version": "1.2.0",
          "state": {
            "_model_module": "@jupyter-widgets/base",
            "_model_module_version": "1.2.0",
            "_model_name": "LayoutModel",
            "_view_count": null,
            "_view_module": "@jupyter-widgets/base",
            "_view_module_version": "1.2.0",
            "_view_name": "LayoutView",
            "align_content": null,
            "align_items": null,
            "align_self": null,
            "border": null,
            "bottom": null,
            "display": null,
            "flex": null,
            "flex_flow": null,
            "grid_area": null,
            "grid_auto_columns": null,
            "grid_auto_flow": null,
            "grid_auto_rows": null,
            "grid_column": null,
            "grid_gap": null,
            "grid_row": null,
            "grid_template_areas": null,
            "grid_template_columns": null,
            "grid_template_rows": null,
            "height": null,
            "justify_content": null,
            "justify_items": null,
            "left": null,
            "margin": null,
            "max_height": null,
            "max_width": null,
            "min_height": null,
            "min_width": null,
            "object_fit": null,
            "object_position": null,
            "order": null,
            "overflow": null,
            "overflow_x": null,
            "overflow_y": null,
            "padding": null,
            "right": null,
            "top": null,
            "visibility": null,
            "width": null
          }
        },
        "cfb07757e5504b47a7e6e90376406bea": {
          "model_module": "@jupyter-widgets/base",
          "model_name": "LayoutModel",
          "model_module_version": "1.2.0",
          "state": {
            "_model_module": "@jupyter-widgets/base",
            "_model_module_version": "1.2.0",
            "_model_name": "LayoutModel",
            "_view_count": null,
            "_view_module": "@jupyter-widgets/base",
            "_view_module_version": "1.2.0",
            "_view_name": "LayoutView",
            "align_content": null,
            "align_items": null,
            "align_self": null,
            "border": null,
            "bottom": null,
            "display": null,
            "flex": null,
            "flex_flow": null,
            "grid_area": null,
            "grid_auto_columns": null,
            "grid_auto_flow": null,
            "grid_auto_rows": null,
            "grid_column": null,
            "grid_gap": null,
            "grid_row": null,
            "grid_template_areas": null,
            "grid_template_columns": null,
            "grid_template_rows": null,
            "height": null,
            "justify_content": null,
            "justify_items": null,
            "left": null,
            "margin": null,
            "max_height": null,
            "max_width": null,
            "min_height": null,
            "min_width": null,
            "object_fit": null,
            "object_position": null,
            "order": null,
            "overflow": null,
            "overflow_x": null,
            "overflow_y": null,
            "padding": null,
            "right": null,
            "top": null,
            "visibility": null,
            "width": null
          }
        },
        "74fc2683f65949c0a677313e97c2c35b": {
          "model_module": "@jupyter-widgets/controls",
          "model_name": "DescriptionStyleModel",
          "model_module_version": "1.5.0",
          "state": {
            "_model_module": "@jupyter-widgets/controls",
            "_model_module_version": "1.5.0",
            "_model_name": "DescriptionStyleModel",
            "_view_count": null,
            "_view_module": "@jupyter-widgets/base",
            "_view_module_version": "1.2.0",
            "_view_name": "StyleView",
            "description_width": ""
          }
        },
        "40824acd57b3413aa16e30d1c43730fd": {
          "model_module": "@jupyter-widgets/base",
          "model_name": "LayoutModel",
          "model_module_version": "1.2.0",
          "state": {
            "_model_module": "@jupyter-widgets/base",
            "_model_module_version": "1.2.0",
            "_model_name": "LayoutModel",
            "_view_count": null,
            "_view_module": "@jupyter-widgets/base",
            "_view_module_version": "1.2.0",
            "_view_name": "LayoutView",
            "align_content": null,
            "align_items": null,
            "align_self": null,
            "border": null,
            "bottom": null,
            "display": null,
            "flex": null,
            "flex_flow": null,
            "grid_area": null,
            "grid_auto_columns": null,
            "grid_auto_flow": null,
            "grid_auto_rows": null,
            "grid_column": null,
            "grid_gap": null,
            "grid_row": null,
            "grid_template_areas": null,
            "grid_template_columns": null,
            "grid_template_rows": null,
            "height": null,
            "justify_content": null,
            "justify_items": null,
            "left": null,
            "margin": null,
            "max_height": null,
            "max_width": null,
            "min_height": null,
            "min_width": null,
            "object_fit": null,
            "object_position": null,
            "order": null,
            "overflow": null,
            "overflow_x": null,
            "overflow_y": null,
            "padding": null,
            "right": null,
            "top": null,
            "visibility": null,
            "width": null
          }
        },
        "c528a58000ff4c0da53cd505d998de09": {
          "model_module": "@jupyter-widgets/controls",
          "model_name": "DescriptionStyleModel",
          "model_module_version": "1.5.0",
          "state": {
            "_model_module": "@jupyter-widgets/controls",
            "_model_module_version": "1.5.0",
            "_model_name": "DescriptionStyleModel",
            "_view_count": null,
            "_view_module": "@jupyter-widgets/base",
            "_view_module_version": "1.2.0",
            "_view_name": "StyleView",
            "description_width": ""
          }
        },
        "2a78d6e3beed41bc83dd65aa6ddec8a4": {
          "model_module": "@jupyter-widgets/base",
          "model_name": "LayoutModel",
          "model_module_version": "1.2.0",
          "state": {
            "_model_module": "@jupyter-widgets/base",
            "_model_module_version": "1.2.0",
            "_model_name": "LayoutModel",
            "_view_count": null,
            "_view_module": "@jupyter-widgets/base",
            "_view_module_version": "1.2.0",
            "_view_name": "LayoutView",
            "align_content": null,
            "align_items": null,
            "align_self": null,
            "border": null,
            "bottom": null,
            "display": null,
            "flex": null,
            "flex_flow": null,
            "grid_area": null,
            "grid_auto_columns": null,
            "grid_auto_flow": null,
            "grid_auto_rows": null,
            "grid_column": null,
            "grid_gap": null,
            "grid_row": null,
            "grid_template_areas": null,
            "grid_template_columns": null,
            "grid_template_rows": null,
            "height": null,
            "justify_content": null,
            "justify_items": null,
            "left": null,
            "margin": null,
            "max_height": null,
            "max_width": null,
            "min_height": null,
            "min_width": null,
            "object_fit": null,
            "object_position": null,
            "order": null,
            "overflow": null,
            "overflow_x": null,
            "overflow_y": null,
            "padding": null,
            "right": null,
            "top": null,
            "visibility": null,
            "width": null
          }
        },
        "abe493caf70047a580c184b207832312": {
          "model_module": "@jupyter-widgets/controls",
          "model_name": "DescriptionStyleModel",
          "model_module_version": "1.5.0",
          "state": {
            "_model_module": "@jupyter-widgets/controls",
            "_model_module_version": "1.5.0",
            "_model_name": "DescriptionStyleModel",
            "_view_count": null,
            "_view_module": "@jupyter-widgets/base",
            "_view_module_version": "1.2.0",
            "_view_name": "StyleView",
            "description_width": ""
          }
        },
        "469c6815f87f498ebad921a77c048a71": {
          "model_module": "@jupyter-widgets/base",
          "model_name": "LayoutModel",
          "model_module_version": "1.2.0",
          "state": {
            "_model_module": "@jupyter-widgets/base",
            "_model_module_version": "1.2.0",
            "_model_name": "LayoutModel",
            "_view_count": null,
            "_view_module": "@jupyter-widgets/base",
            "_view_module_version": "1.2.0",
            "_view_name": "LayoutView",
            "align_content": null,
            "align_items": null,
            "align_self": null,
            "border": null,
            "bottom": null,
            "display": null,
            "flex": null,
            "flex_flow": null,
            "grid_area": null,
            "grid_auto_columns": null,
            "grid_auto_flow": null,
            "grid_auto_rows": null,
            "grid_column": null,
            "grid_gap": null,
            "grid_row": null,
            "grid_template_areas": null,
            "grid_template_columns": null,
            "grid_template_rows": null,
            "height": null,
            "justify_content": null,
            "justify_items": null,
            "left": null,
            "margin": null,
            "max_height": null,
            "max_width": null,
            "min_height": null,
            "min_width": null,
            "object_fit": null,
            "object_position": null,
            "order": null,
            "overflow": null,
            "overflow_x": null,
            "overflow_y": null,
            "padding": null,
            "right": null,
            "top": null,
            "visibility": null,
            "width": null
          }
        },
        "44fc28130a524646a865e4cc3c9cfef6": {
          "model_module": "@jupyter-widgets/controls",
          "model_name": "DescriptionStyleModel",
          "model_module_version": "1.5.0",
          "state": {
            "_model_module": "@jupyter-widgets/controls",
            "_model_module_version": "1.5.0",
            "_model_name": "DescriptionStyleModel",
            "_view_count": null,
            "_view_module": "@jupyter-widgets/base",
            "_view_module_version": "1.2.0",
            "_view_name": "StyleView",
            "description_width": ""
          }
        },
        "d00a92740dac4b2cb39caff9478d9f2f": {
          "model_module": "@jupyter-widgets/output",
          "model_name": "OutputModel",
          "model_module_version": "1.0.0",
          "state": {
            "_dom_classes": [],
            "_model_module": "@jupyter-widgets/output",
            "_model_module_version": "1.0.0",
            "_model_name": "OutputModel",
            "_view_count": null,
            "_view_module": "@jupyter-widgets/output",
            "_view_module_version": "1.0.0",
            "_view_name": "OutputView",
            "layout": "IPY_MODEL_37e7d34aa3944540918bf24f57a0dfbc",
            "msg_id": "",
            "outputs": []
          }
        },
        "37e7d34aa3944540918bf24f57a0dfbc": {
          "model_module": "@jupyter-widgets/base",
          "model_name": "LayoutModel",
          "model_module_version": "1.2.0",
          "state": {
            "_model_module": "@jupyter-widgets/base",
            "_model_module_version": "1.2.0",
            "_model_name": "LayoutModel",
            "_view_count": null,
            "_view_module": "@jupyter-widgets/base",
            "_view_module_version": "1.2.0",
            "_view_name": "LayoutView",
            "align_content": null,
            "align_items": null,
            "align_self": null,
            "border": null,
            "bottom": null,
            "display": null,
            "flex": null,
            "flex_flow": null,
            "grid_area": null,
            "grid_auto_columns": null,
            "grid_auto_flow": null,
            "grid_auto_rows": null,
            "grid_column": null,
            "grid_gap": null,
            "grid_row": null,
            "grid_template_areas": null,
            "grid_template_columns": null,
            "grid_template_rows": null,
            "height": null,
            "justify_content": null,
            "justify_items": null,
            "left": null,
            "margin": null,
            "max_height": null,
            "max_width": null,
            "min_height": null,
            "min_width": null,
            "object_fit": null,
            "object_position": null,
            "order": null,
            "overflow": null,
            "overflow_x": null,
            "overflow_y": null,
            "padding": null,
            "right": null,
            "top": null,
            "visibility": null,
            "width": null
          }
        }
      }
    }
  },
  "cells": [
    {
      "cell_type": "markdown",
      "metadata": {
        "id": "view-in-github",
        "colab_type": "text"
      },
      "source": [
        "<a href=\"https://colab.research.google.com/github/YorkJong/news-digest/blob/main/notebooks/news_clip.ipynb\" target=\"_parent\"><img src=\"https://colab.research.google.com/assets/colab-badge.svg\" alt=\"Open In Colab\"/></a>"
      ]
    },
    {
      "cell_type": "markdown",
      "source": [
        "這支 colab notebook 主要功能是\n",
        "- 剪輯 [news-digest](https://news-digest.vercel.app/) 網站當天（或選取日期）的新聞。\n",
        "- 只能根據新聞分類 (catetories) 剪輯。\n",
        "\n",
        "執行步驟如下：\n",
        "1. 按下 Install 下那個 code cell 前面的 ► 按鈕來安裝用到的模組\n",
        "2. 根據喜好，填表執行後面的 Jupyter Widgets UI 或 Colab Forms\n",
        "\n",
        "需要更細的檢索查詢，有如下兩個選擇\n",
        "- 直接在 [news-digest 網站](https://news-digest.vercel.app/)上搜尋或點選 hash-tags\n",
        "- 或者點擊 [news_query.ipynb](https://colab.research.google.com/github/YorkJong/news-digest/blob/main/notebooks/news_query.ipynb) 執行多條件檢索\n"
      ],
      "metadata": {
        "id": "qdoacSllvdm2"
      }
    },
    {
      "cell_type": "markdown",
      "source": [
        "### Install "
      ],
      "metadata": {
        "id": "74XGrOopRPIi"
      }
    },
    {
      "cell_type": "code",
      "source": [
        "import os\n",
        "\n",
        "fns = ['clip.py', 'op.py']\n",
        "\n",
        "for fn in fns:\n",
        "    if os.path.exists(fn):\n",
        "        os.remove(fn)\n",
        "for fn in fns:\n",
        "    url = f'https://raw.githubusercontent.com/YorkJong/news-digest/main/api/{fn}'\n",
        "    !wget $url\n",
        "\n",
        "import clip\n",
        "\n",
        "#-------------------------------------------------------------------------------\n",
        "\n",
        "import ipywidgets as widgets\n",
        "\n",
        "def create_ui():\n",
        "    fns = sorted(clip.get_recent_journal_filenames(14), reverse=True)\n",
        "    options = [f[:-3] for f in fns]\n",
        "    dates = widgets.Dropdown(\n",
        "        options=options,\n",
        "        value=options[0],\n",
        "        description='Date',\n",
        "        disabled=False,\n",
        "    )\n",
        " \n",
        "    content = clip.get_latest_journal()\n",
        "    options = clip.get_categories(content)\n",
        "    categories = widgets.SelectMultiple(\n",
        "        options=options,\n",
        "        #value=[options[0]],\n",
        "        rows=len(options),\n",
        "        description='Categories',\n",
        "        disabled=False,\n",
        "    )\n",
        "\n",
        "    with_hashtags = widgets.Checkbox(\n",
        "        value=True,\n",
        "        description='show hashtags',\n",
        "        disabled=False,\n",
        "    )\n",
        "\n",
        "    with_headings = widgets.Checkbox(\n",
        "        value=True,\n",
        "        description='show headings',\n",
        "        disabled=False,\n",
        "    )\n",
        "\n",
        "    vbox1 = widgets.VBox([dates, categories])\n",
        "    vbox2 = widgets.VBox([with_hashtags, with_headings])\n",
        "    output = widgets.Output()\n",
        "    display(widgets.HBox([vbox1, vbox2]), output)\n",
        "\n",
        "    def on_date_change(change):\n",
        "        nonlocal content\n",
        "        content = clip.get_journal(f'{dates.value}.md')\n",
        "        categories.options = clip.get_categories(content)\n",
        "\n",
        "    def on_value_change(change):\n",
        "        lines = clip.get_lines_of_categories(categories.value, content, with_hashtags.value, with_headings.value)\n",
        "        with output:\n",
        "            #print(change['new'])\n",
        "            output.clear_output()\n",
        "            print('\\n'.join(lines))\n",
        "\n",
        "    dates.observe(on_date_change, names='value')\n",
        "    categories.observe(on_value_change, names='value')\n",
        "    with_hashtags.observe(on_value_change, names='value')\n",
        "    with_headings.observe(on_value_change, names='value')"
      ],
      "metadata": {
        "id": "HhPa1e1tse76",
        "outputId": "3ae3371f-a4d9-4ea4-f6b0-0e506c700626",
        "colab": {
          "base_uri": "https://localhost:8080/"
        }
      },
      "execution_count": 1,
      "outputs": [
        {
          "output_type": "stream",
          "name": "stdout",
          "text": [
            "--2023-04-09 03:32:23--  https://raw.githubusercontent.com/YorkJong/news-digest/main/api/clip.py\n",
            "Resolving raw.githubusercontent.com (raw.githubusercontent.com)... 185.199.111.133, 185.199.110.133, 185.199.109.133, ...\n",
            "Connecting to raw.githubusercontent.com (raw.githubusercontent.com)|185.199.111.133|:443... connected.\n",
            "HTTP request sent, awaiting response... 200 OK\n",
            "Length: 7522 (7.3K) [text/plain]\n",
            "Saving to: ‘clip.py’\n",
            "\n",
            "\rclip.py               0%[                    ]       0  --.-KB/s               \rclip.py             100%[===================>]   7.35K  --.-KB/s    in 0s      \n",
            "\n",
            "2023-04-09 03:32:23 (58.0 MB/s) - ‘clip.py’ saved [7522/7522]\n",
            "\n",
            "--2023-04-09 03:32:23--  https://raw.githubusercontent.com/YorkJong/news-digest/main/api/op.py\n",
            "Resolving raw.githubusercontent.com (raw.githubusercontent.com)... 185.199.108.133, 185.199.109.133, 185.199.110.133, ...\n",
            "Connecting to raw.githubusercontent.com (raw.githubusercontent.com)|185.199.108.133|:443... connected.\n",
            "HTTP request sent, awaiting response... 200 OK\n",
            "Length: 5171 (5.0K) [text/plain]\n",
            "Saving to: ‘op.py’\n",
            "\n",
            "op.py               100%[===================>]   5.05K  --.-KB/s    in 0s      \n",
            "\n",
            "2023-04-09 03:32:24 (54.1 MB/s) - ‘op.py’ saved [5171/5171]\n",
            "\n"
          ]
        }
      ]
    },
    {
      "cell_type": "markdown",
      "source": [
        "### Select categories with Jupyter Widgets\n",
        "- 按下面那個 code cell 前面的 ► 按鈕，以列出完整的分類(Catetories)選單\n",
        "- macOS 下操作可按Cmd後用滑鼠複選（Windows 系統則按下Ctrl鍵後以滑鼠複選）\n",
        "  - 全選可按 Cmd+A (macOS) 或者 Ctrl+A (Windows)"
      ],
      "metadata": {
        "id": "bHZpE5gJsacz"
      }
    },
    {
      "cell_type": "code",
      "source": [
        "create_ui()"
      ],
      "metadata": {
        "id": "z--kb0R3m6XF",
        "outputId": "f5c010b1-814f-4a2a-f5a5-6e121bb278ac",
        "colab": {
          "base_uri": "https://localhost:8080/",
          "height": 176,
          "referenced_widgets": [
            "d67cb64b87d042bb91c37acac6cd898d",
            "f13b29c2698f4c428fbf295e34f29d52",
            "4dbd81da589a4ae4bebf925c86eca8e2",
            "16f3bcc780084e9f80f5b6bf1b37840b",
            "9dcecbcc86a447e8896696be1b049191",
            "68781d2193ca460ca785a7e1c9b5fa73",
            "c0da912966b94bb69d7dd243f06fa01d",
            "4d37233031464bc09dda6dabf5daf3f1",
            "b14486056e374dda913a43f9b8c3b3a4",
            "0d982a3254cc4e6fbcd55114f32b055e",
            "cfb07757e5504b47a7e6e90376406bea",
            "74fc2683f65949c0a677313e97c2c35b",
            "40824acd57b3413aa16e30d1c43730fd",
            "c528a58000ff4c0da53cd505d998de09",
            "2a78d6e3beed41bc83dd65aa6ddec8a4",
            "abe493caf70047a580c184b207832312",
            "469c6815f87f498ebad921a77c048a71",
            "44fc28130a524646a865e4cc3c9cfef6",
            "d00a92740dac4b2cb39caff9478d9f2f",
            "37e7d34aa3944540918bf24f57a0dfbc"
          ]
        }
      },
      "execution_count": 7,
      "outputs": [
        {
          "output_type": "display_data",
          "data": {
            "text/plain": [
              "HBox(children=(VBox(children=(Dropdown(description='Date', options=('2023_04_08', '2023_04_07', '2023_04_06', …"
            ],
            "application/vnd.jupyter.widget-view+json": {
              "version_major": 2,
              "version_minor": 0,
              "model_id": "d67cb64b87d042bb91c37acac6cd898d"
            }
          },
          "metadata": {}
        },
        {
          "output_type": "display_data",
          "data": {
            "text/plain": [
              "Output()"
            ],
            "application/vnd.jupyter.widget-view+json": {
              "version_major": 2,
              "version_minor": 0,
              "model_id": "d00a92740dac4b2cb39caff9478d9f2f"
            }
          },
          "metadata": {}
        }
      ]
    },
    {
      "cell_type": "markdown",
      "source": [
        "### Select Categories with the Colab Forms"
      ],
      "metadata": {
        "id": "jcbcKHfqSzyQ"
      }
    },
    {
      "cell_type": "code",
      "source": [
        "#@title Single Selection { run: \"auto\", display-mode: \"form\" }\n",
        "category = \"IT\" #@param [\"Tesla & SpaceX; Vehicle\", \"Tech Titans\", \"Finance\", \"Taiwan\", \"Crypto\", \"Technology\", \"IT\"] {allow-input: true}\n",
        "show_hashtags = True #@param {type:\"boolean\"}\n",
        "show_headings = True #@param {type:\"boolean\"}\n",
        "\n",
        "content = clip.get_latest_journal()\n",
        "lines = clip.get_lines_of_categories([category], content, show_hashtags, show_headings)\n",
        "text = '\\n'.join(lines)\n",
        "print(text)"
      ],
      "metadata": {
        "id": "tGXYiHdUOgRp"
      },
      "execution_count": null,
      "outputs": []
    },
    {
      "cell_type": "code",
      "source": [
        "#@title Multiple Selections { run: \"auto\", display-mode: \"form\" }\n",
        "first_category = \"Tesla & SpaceX; Vehicle\" #@param [\"Tesla & SpaceX; Vehicle\", \"Tech Titans\", \"Finance\", \"Taiwan\", \"Crypto\", \"Technology\", \"IT\"] {allow-input: true}\n",
        "last_category = \"Finance\" #@param [\"Tesla & SpaceX; Vehicle\", \"Tech Titans\", \"Finance\", \"Taiwan\", \"Crypto\", \"Technology\", \"IT\"] {allow-input: true}\n",
        "show_hashtags = False #@param {type:\"boolean\"}\n",
        "show_headings = False #@param {type:\"boolean\"}\n",
        "\n",
        "content = clip.get_latest_journal()\n",
        "categories = clip.get_categories(content)\n",
        "categories = clip.get_sublist(categories, first_category, last_category)\n",
        "lines = clip.get_lines_of_categories(categories, content, show_hashtags, show_headings)\n",
        "text = '\\n'.join(lines)\n",
        "print(text)\n"
      ],
      "metadata": {
        "id": "QRwq2sNpi8c3"
      },
      "execution_count": null,
      "outputs": []
    },
    {
      "cell_type": "markdown",
      "source": [
        "### See Also\n",
        "- [news_query.ipynb (from GitHub)](https://colab.research.google.com/github/YorkJong/news-digest/blob/main/notebooks/news_query.ipynb)"
      ],
      "metadata": {
        "id": "l9kvYn67Zue4"
      }
    }
  ]
}